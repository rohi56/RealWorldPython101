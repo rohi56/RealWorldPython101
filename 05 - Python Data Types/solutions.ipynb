{
  "nbformat": 4,
  "nbformat_minor": 0,
  "metadata": {
    "colab": {
      "provenance": [],
      "authorship_tag": "ABX9TyPS/7AygerA85t4rAAXNzI4",
      "include_colab_link": true
    },
    "kernelspec": {
      "name": "python3",
      "display_name": "Python 3"
    },
    "language_info": {
      "name": "python"
    }
  },
  "cells": [
    {
      "cell_type": "markdown",
      "metadata": {
        "id": "view-in-github",
        "colab_type": "text"
      },
      "source": [
        "<a href=\"https://colab.research.google.com/github/rohi56/RealWorldPython101/blob/main/05%20-%20Python%20Data%20Types/solutions.ipynb\" target=\"_parent\"><img src=\"https://colab.research.google.com/assets/colab-badge.svg\" alt=\"Open In Colab\"/></a>"
      ]
    },
    {
      "cell_type": "markdown",
      "source": [
        "**Real-Time Problem Statements Solutions**"
      ],
      "metadata": {
        "id": "xRo_YmNs0J23"
      }
    },
    {
      "cell_type": "markdown",
      "source": [
        "1.Store your name, age, and whether you're a student. Print each with its data type."
      ],
      "metadata": {
        "id": "d8EWU7650LtE"
      }
    },
    {
      "cell_type": "code",
      "source": [
        "name = \"Rohit\"\n",
        "age = 25\n",
        "is_student = True\n",
        "\n",
        "print(name, type(name))\n",
        "print(age, type(age))\n",
        "print(is_student, type(is_student))"
      ],
      "metadata": {
        "colab": {
          "base_uri": "https://localhost:8080/"
        },
        "id": "q6FOFgmS0QSc",
        "outputId": "d8fef0e1-8f23-4160-e455-20ee4435ce52"
      },
      "execution_count": 1,
      "outputs": [
        {
          "output_type": "stream",
          "name": "stdout",
          "text": [
            "Rohit <class 'str'>\n",
            "25 <class 'int'>\n",
            "True <class 'bool'>\n"
          ]
        }
      ]
    },
    {
      "cell_type": "markdown",
      "source": [
        "2. Ask the user to input their birth year and calculate their age. Make sure to cast the input correctly."
      ],
      "metadata": {
        "id": "6V9enIc30hAZ"
      }
    },
    {
      "cell_type": "code",
      "source": [
        "dob = int(input(\"Enter your date of birth year: \"))\n",
        "age = 2025 - dob\n",
        "print(age)\n",
        "print(type(age))"
      ],
      "metadata": {
        "colab": {
          "base_uri": "https://localhost:8080/"
        },
        "id": "-e8J2cHB0oH2",
        "outputId": "c108e14f-66c8-41ab-a801-0b15d11e6aef"
      },
      "execution_count": 2,
      "outputs": [
        {
          "output_type": "stream",
          "name": "stdout",
          "text": [
            "Enter your date of birth year: 1992\n",
            "33\n",
            "<class 'int'>\n"
          ]
        }
      ]
    },
    {
      "cell_type": "markdown",
      "source": [
        "3.Create a list of 5 favorite movies. Print the type and contents."
      ],
      "metadata": {
        "id": "WAyWusIO06uR"
      }
    },
    {
      "cell_type": "code",
      "source": [
        "movies = [\"Avengers\", \"Spider-Man\", \"Hulk\", \"Thor\", \"Loki\"]\n",
        "print(movies)\n",
        "print(type(movies))"
      ],
      "metadata": {
        "colab": {
          "base_uri": "https://localhost:8080/"
        },
        "id": "KqcZI1U41C6F",
        "outputId": "e463515a-e798-456e-cea8-56a09ee6acef"
      },
      "execution_count": 4,
      "outputs": [
        {
          "output_type": "stream",
          "name": "stdout",
          "text": [
            "['Avengers', 'Spider-Man', 'Hulk', 'Thor', 'Loki']\n",
            "<class 'list'>\n"
          ]
        }
      ]
    },
    {
      "cell_type": "markdown",
      "source": [
        "4.Create a tuple of your 3 top skills. Print it and show its type."
      ],
      "metadata": {
        "id": "blxs9Cow1-Db"
      }
    },
    {
      "cell_type": "code",
      "source": [
        "skills = (\"Python\", \"Machine Learning\", \"Deep Learning\")\n",
        "print(skills)\n",
        "print(type(skills))\n"
      ],
      "metadata": {
        "colab": {
          "base_uri": "https://localhost:8080/"
        },
        "id": "ET32hFDR1_nj",
        "outputId": "e0177580-db8d-4235-f5f9-26a52a468c86"
      },
      "execution_count": 5,
      "outputs": [
        {
          "output_type": "stream",
          "name": "stdout",
          "text": [
            "('Python', 'Machine Learning', 'Deep Learning')\n",
            "<class 'tuple'>\n"
          ]
        }
      ]
    },
    {
      "cell_type": "markdown",
      "source": [
        "5.Use a dictionary to store a user's profile (name, age, city). Print the dictionary and its type."
      ],
      "metadata": {
        "id": "0P9rBiOG2FUV"
      }
    },
    {
      "cell_type": "code",
      "source": [
        "user = {\"name\": \"Rajesh\", \"age\": 25, \"city\": \"Mumbai\"}\n",
        "print(user)\n",
        "print(type(user))"
      ],
      "metadata": {
        "colab": {
          "base_uri": "https://localhost:8080/"
        },
        "id": "0Ep7qQ3K2HGK",
        "outputId": "ce276929-ebe0-4fa8-ca83-64ae74a1510f"
      },
      "execution_count": 6,
      "outputs": [
        {
          "output_type": "stream",
          "name": "stdout",
          "text": [
            "{'name': 'Rajesh', 'age': 25, 'city': 'Mumbai'}\n",
            "<class 'dict'>\n"
          ]
        }
      ]
    },
    {
      "cell_type": "markdown",
      "source": [
        "6.Create a set of unique numbers from a list with duplicates."
      ],
      "metadata": {
        "id": "D3Wh0M9F2Quq"
      }
    },
    {
      "cell_type": "code",
      "source": [
        "# List with duplicate numbers\n",
        "numbers = [4, 5, 6, 4, 7, 5, 6, 8, 9, 4]\n",
        "\n",
        "# Convert the list to a set to remove duplicates\n",
        "unique_numbers = set(numbers)\n",
        "\n",
        "# Output the result\n",
        "print(\"Original List:\", numbers)\n",
        "print(\"Unique Numbers (Set):\", unique_numbers)\n",
        "print(\"Data Type:\", type(unique_numbers))\n"
      ],
      "metadata": {
        "colab": {
          "base_uri": "https://localhost:8080/"
        },
        "id": "RM_Jf6hv2S_E",
        "outputId": "a78afc6a-0edb-4ce2-aaf0-2b48541be693"
      },
      "execution_count": 7,
      "outputs": [
        {
          "output_type": "stream",
          "name": "stdout",
          "text": [
            "Original List: [4, 5, 6, 4, 7, 5, 6, 8, 9, 4]\n",
            "Unique Numbers (Set): {4, 5, 6, 7, 8, 9}\n",
            "Data Type: <class 'set'>\n"
          ]
        }
      ]
    },
    {
      "cell_type": "markdown",
      "source": [
        "7.Check and print the type of a variable that has the value None."
      ],
      "metadata": {
        "id": "9T1e4yv42yhO"
      }
    },
    {
      "cell_type": "code",
      "source": [
        "val = None\n",
        "print(type(val))"
      ],
      "metadata": {
        "colab": {
          "base_uri": "https://localhost:8080/"
        },
        "id": "lqkWcpXr2z2u",
        "outputId": "c2a29ce2-8109-4892-dd31-39d1a7680155"
      },
      "execution_count": 8,
      "outputs": [
        {
          "output_type": "stream",
          "name": "stdout",
          "text": [
            "<class 'NoneType'>\n"
          ]
        }
      ]
    },
    {
      "cell_type": "markdown",
      "source": [
        "8. Convert an integer to a float, then to a string. Print the final result and its type."
      ],
      "metadata": {
        "id": "0QhDVgOS2_nc"
      }
    },
    {
      "cell_type": "code",
      "source": [
        "value = 23\n",
        "print(value)\n",
        "print(type(value))\n",
        "\n",
        "value = float(value)\n",
        "print(value)\n",
        "print(type(value))\n",
        "\n",
        "value = str(value)\n",
        "print(value)\n",
        "print(type(value))"
      ],
      "metadata": {
        "colab": {
          "base_uri": "https://localhost:8080/"
        },
        "id": "TcSjeMQf3OYf",
        "outputId": "7da6d79b-6604-4743-b79d-9dece4532e61"
      },
      "execution_count": 10,
      "outputs": [
        {
          "output_type": "stream",
          "name": "stdout",
          "text": [
            "23\n",
            "<class 'int'>\n",
            "23.0\n",
            "<class 'float'>\n",
            "23.0\n",
            "<class 'str'>\n"
          ]
        }
      ]
    },
    {
      "cell_type": "markdown",
      "source": [
        "9.Ask the user if they are employed (yes/no) and store it as a boolean."
      ],
      "metadata": {
        "id": "RiBTjbex3Wm8"
      }
    },
    {
      "cell_type": "code",
      "source": [
        "user_input = input(\"Are you employed? (yes/no): \")\n",
        "\n",
        "is_employed = True if user_input == \"yes\" else False\n",
        "\n",
        "\n",
        "print(\"Employment Status (Boolean):\", is_employed)\n",
        "print(\"Data Type:\", type(is_employed))\n"
      ],
      "metadata": {
        "colab": {
          "base_uri": "https://localhost:8080/"
        },
        "id": "olnCdJRv3YgA",
        "outputId": "46903ecf-b5a9-474d-d80f-298a9e25b660"
      },
      "execution_count": 16,
      "outputs": [
        {
          "output_type": "stream",
          "name": "stdout",
          "text": [
            "Are you employed? (yes/no): no\n",
            "Employment Status (Boolean): False\n",
            "Data Type: <class 'bool'>\n"
          ]
        }
      ]
    },
    {
      "cell_type": "markdown",
      "source": [
        "10. Make a simple data summary program that prints the types of all stored information."
      ],
      "metadata": {
        "id": "mePJuHna4IZX"
      }
    },
    {
      "cell_type": "code",
      "source": [
        "# Sample stored data\n",
        "name = \"Ajay\"             # str\n",
        "age = 28                   # int\n",
        "height = 5.6               # float\n",
        "is_student = False         # bool\n",
        "skills = [\"Python\", \"SQL\"] # list\n",
        "profile = {\"city\": \"Pune\", \"country\": \"India\"}  # dict\n",
        "grades = (85, 90, 95)      # tuple\n",
        "unique_ids = {101, 102, 103} # set\n",
        "misc = None                # NoneType\n",
        "\n",
        "# Print a summary\n",
        "print(\"=== Data Summary ===\")\n",
        "print(f\"name: {name} - Type: {type(name)}\")\n",
        "print(f\"age: {age} - Type: {type(age)}\")\n",
        "print(f\"height: {height} - Type: {type(height)}\")\n",
        "print(f\"is_student: {is_student} - Type: {type(is_student)}\")\n",
        "print(f\"skills: {skills} - Type: {type(skills)}\")\n",
        "print(f\"profile: {profile} - Type: {type(profile)}\")\n",
        "print(f\"grades: {grades} - Type: {type(grades)}\")\n",
        "print(f\"unique_ids: {unique_ids} - Type: {type(unique_ids)}\")\n",
        "print(f\"misc: {misc} - Type: {type(misc)}\")\n"
      ],
      "metadata": {
        "colab": {
          "base_uri": "https://localhost:8080/"
        },
        "id": "gjYImXrX4Sex",
        "outputId": "6b39a95d-2ee9-49fd-b2e2-371f31f4258f"
      },
      "execution_count": 17,
      "outputs": [
        {
          "output_type": "stream",
          "name": "stdout",
          "text": [
            "=== Data Summary ===\n",
            "name: Ajay - Type: <class 'str'>\n",
            "age: 28 - Type: <class 'int'>\n",
            "height: 5.6 - Type: <class 'float'>\n",
            "is_student: False - Type: <class 'bool'>\n",
            "skills: ['Python', 'SQL'] - Type: <class 'list'>\n",
            "profile: {'city': 'Pune', 'country': 'India'} - Type: <class 'dict'>\n",
            "grades: (85, 90, 95) - Type: <class 'tuple'>\n",
            "unique_ids: {101, 102, 103} - Type: <class 'set'>\n",
            "misc: None - Type: <class 'NoneType'>\n"
          ]
        }
      ]
    }
  ]
}