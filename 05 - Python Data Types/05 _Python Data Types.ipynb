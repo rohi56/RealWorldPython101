{
  "nbformat": 4,
  "nbformat_minor": 0,
  "metadata": {
    "colab": {
      "provenance": []
    },
    "kernelspec": {
      "name": "python3",
      "display_name": "Python 3"
    },
    "language_info": {
      "name": "python"
    }
  },
  "cells": [
    {
      "cell_type": "markdown",
      "source": [
        "**06 - Python Data Types**"
      ],
      "metadata": {
        "id": "67eDKhDBx_if"
      }
    },
    {
      "cell_type": "markdown",
      "source": [
        "In Python, data types are used to define what kind of value a variable holds. For example, it can be a number, text, list, etc. Understanding data types is essential because different types of data behave differently in Python."
      ],
      "metadata": {
        "id": "LI181XANyFSK"
      }
    },
    {
      "cell_type": "markdown",
      "source": [
        "**1. Built-in Data Types**\n",
        "Python has several built-in data types. Here are the most commonly used:"
      ],
      "metadata": {
        "id": "LuoVl-kayMjY"
      }
    },
    {
      "cell_type": "markdown",
      "source": [
        "| Data Type  | Example            | Description                      |\n",
        "| ---------- | ------------------ | -------------------------------- |\n",
        "| `str`      | `\"Hello\"`          | Text / String                    |\n",
        "| `int`      | `10`               | Integer numbers                  |\n",
        "| `float`    | `10.5`             | Decimal numbers                  |\n",
        "| `bool`     | `True`, `False`    | Boolean values                   |\n",
        "| `list`     | `[1, 2, 3]`        | Ordered, changeable collection   |\n",
        "| `tuple`    | `(1, 2, 3)`        | Ordered, unchangeable collection |\n",
        "| `dict`     | `{\"name\": \"John\"}` | Key-value pairs                  |\n",
        "| `set`      | `{1, 2, 3}`        | Unordered, unique elements       |\n",
        "| `NoneType` | `None`             | Represents absence of value      |\n"
      ],
      "metadata": {
        "id": "to8k7TzoyWjH"
      }
    },
    {
      "cell_type": "code",
      "source": [
        "name = \"Alice\"        # str\n",
        "age = 30              # int\n",
        "height = 5.5          # float\n",
        "is_active = True      # bool\n",
        "skills = [\"Python\", \"SQL\"]  # list\n"
      ],
      "metadata": {
        "id": "AU88BcLtybkh"
      },
      "execution_count": 1,
      "outputs": []
    },
    {
      "cell_type": "markdown",
      "source": [
        "**2. Getting the Data Type**\n",
        "You can check the type of any variable using the type() function."
      ],
      "metadata": {
        "id": "6Ni3RpOlyg7s"
      }
    },
    {
      "cell_type": "code",
      "source": [
        "x = 5\n",
        "print(type(x))   # Output: <class 'int'>\n",
        "\n",
        "y = \"Hello\"\n",
        "print(type(y))   # Output: <class 'str'>\n"
      ],
      "metadata": {
        "id": "Hul9U1ERyj8x"
      },
      "execution_count": null,
      "outputs": []
    },
    {
      "cell_type": "markdown",
      "source": [
        "**3. Setting the Data Type**\n",
        "You can set the data type of a variable by using type casting (conversion):"
      ],
      "metadata": {
        "id": "WanNyZtfynAM"
      }
    },
    {
      "cell_type": "code",
      "source": [
        "x = str(5)    # x will be '5' (str)\n",
        "y = int(\"10\") # y will be 10 (int)\n",
        "z = float(\"3.14\")  # z will be 3.14 (float)\n"
      ],
      "metadata": {
        "id": "f7wTU-8PyppZ"
      },
      "execution_count": null,
      "outputs": []
    },
    {
      "cell_type": "markdown",
      "source": [
        "**Real-Time Problem Statements**\n",
        "\n",
        "Here are real-life examples to practice and understand data types:\n",
        "\n",
        "1.Store your name, age, and whether you're a student. Print each with its data type.\n",
        "\n",
        "2.Ask the user to input their birth year and calculate their age. Make sure to cast the input correctly.\n",
        "\n",
        "3.Create a list of 5 favorite movies. Print the type and contents.\n",
        "\n",
        "4.Create a tuple of your 3 top skills. Print it and show its type.\n",
        "\n",
        "5.Use a dictionary to store a user's profile (name, age, city). Print the dictionary and its type.\n",
        "\n",
        "6.Create a set of unique numbers from a list with duplicates.\n",
        "\n",
        "7.Check and print the type of a variable that has the value None.\n",
        "\n",
        "8.Convert an integer to a float, then to a string. Print the final result and its type.\n",
        "\n",
        "9.Ask the user if they are employed (yes/no) and store it as a boolean.\n",
        "\n",
        "10.Make a simple data summary program that prints the types of all stored information.\n"
      ],
      "metadata": {
        "id": "LtQXnYgtysG2"
      }
    }
  ]
}