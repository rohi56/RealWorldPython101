{
  "nbformat": 4,
  "nbformat_minor": 0,
  "metadata": {
    "colab": {
      "provenance": []
    },
    "kernelspec": {
      "name": "python3",
      "display_name": "Python 3"
    },
    "language_info": {
      "name": "python"
    }
  },
  "cells": [
    {
      "cell_type": "markdown",
      "source": [
        "**Python Try Except**"
      ],
      "metadata": {
        "id": "oqT_-QJ3xW62"
      }
    },
    {
      "cell_type": "markdown",
      "source": [
        "**Define try-except-else-finally**\n",
        "\n",
        "Handles exceptions to avoid runtime crashes."
      ],
      "metadata": {
        "id": "_qF2T_vsxk-X"
      }
    },
    {
      "cell_type": "code",
      "source": [
        "try:\n",
        "    x = 10 / 0\n",
        "except ZeroDivisionError:\n",
        "    print(\"Can't divide by zero!\")\n",
        "else:\n",
        "    print(\"No errors!\")\n",
        "finally:\n",
        "    print(\"This will always execute.\")\n"
      ],
      "metadata": {
        "colab": {
          "base_uri": "https://localhost:8080/"
        },
        "id": "nAcCqH7AxoPn",
        "outputId": "d8cdbf66-bd8d-4242-9c01-8d3300b8e418"
      },
      "execution_count": 1,
      "outputs": [
        {
          "output_type": "stream",
          "name": "stdout",
          "text": [
            "Can't divide by zero!\n",
            "This will always execute.\n"
          ]
        }
      ]
    },
    {
      "cell_type": "markdown",
      "source": [
        "**Exception Handling**\n",
        "\n",
        "Catch and handle specific errors."
      ],
      "metadata": {
        "id": "h3vSncGyxrMM"
      }
    },
    {
      "cell_type": "code",
      "source": [
        "try:\n",
        "    num = int(\"abc\")\n",
        "except ValueError:\n",
        "    print(\"Invalid input! Not a number.\")\n"
      ],
      "metadata": {
        "colab": {
          "base_uri": "https://localhost:8080/"
        },
        "id": "vTm2aXnbxtdR",
        "outputId": "5b6fde52-acdf-4dff-a0bf-f1a32a668806"
      },
      "execution_count": 2,
      "outputs": [
        {
          "output_type": "stream",
          "name": "stdout",
          "text": [
            "Invalid input! Not a number.\n"
          ]
        }
      ]
    },
    {
      "cell_type": "markdown",
      "source": [
        "**Many Exceptions**\n",
        "\n",
        "Multiple except blocks for different errors."
      ],
      "metadata": {
        "id": "0jrDtZiFxwCV"
      }
    },
    {
      "cell_type": "code",
      "source": [
        "try:\n",
        "    x = int(input())\n",
        "    y = 10 / x\n",
        "except ValueError:\n",
        "    print(\"Input must be a number.\")\n",
        "except ZeroDivisionError:\n",
        "    print(\"Cannot divide by zero.\")\n"
      ],
      "metadata": {
        "colab": {
          "base_uri": "https://localhost:8080/"
        },
        "id": "nkniHby8xyaw",
        "outputId": "52d6afe5-a30e-4e18-c55c-82ad835b9a1d"
      },
      "execution_count": 4,
      "outputs": [
        {
          "output_type": "stream",
          "name": "stdout",
          "text": [
            "p\n",
            "Input must be a number.\n"
          ]
        }
      ]
    },
    {
      "cell_type": "markdown",
      "source": [
        "**Else**\n",
        "\n",
        "Runs if no error occurs."
      ],
      "metadata": {
        "id": "RLi9j0iFx4ii"
      }
    },
    {
      "cell_type": "code",
      "source": [
        "try:\n",
        "    x = 5\n",
        "except:\n",
        "    print(\"Error\")\n",
        "else:\n",
        "    print(\"Everything is fine.\")\n"
      ],
      "metadata": {
        "colab": {
          "base_uri": "https://localhost:8080/"
        },
        "id": "iToRwlVax66D",
        "outputId": "55f5d6f1-2fd9-4804-b86b-d61288db1bbc"
      },
      "execution_count": 5,
      "outputs": [
        {
          "output_type": "stream",
          "name": "stdout",
          "text": [
            "Everything is fine.\n"
          ]
        }
      ]
    },
    {
      "cell_type": "markdown",
      "source": [
        "**Finally**\n",
        "\n",
        "Always executes regardless of error."
      ],
      "metadata": {
        "id": "69XsQuUKx_ZC"
      }
    },
    {
      "cell_type": "code",
      "source": [
        "try:\n",
        "    x = 10 / 2\n",
        "finally:\n",
        "    print(\"Cleaning up.\")\n"
      ],
      "metadata": {
        "colab": {
          "base_uri": "https://localhost:8080/"
        },
        "id": "KTCREwQnyB0D",
        "outputId": "b5e3e393-10df-4fa1-bc46-8658e922aa46"
      },
      "execution_count": 6,
      "outputs": [
        {
          "output_type": "stream",
          "name": "stdout",
          "text": [
            "Cleaning up.\n"
          ]
        }
      ]
    },
    {
      "cell_type": "markdown",
      "source": [
        "**Raise an Exception**\n",
        "\n",
        "Manually trigger an error."
      ],
      "metadata": {
        "id": "bkbZvBGCyEZd"
      }
    },
    {
      "cell_type": "code",
      "source": [
        "age = -5\n",
        "if age < 0:\n",
        "    raise ValueError(\"Age can't be negative.\")\n"
      ],
      "metadata": {
        "colab": {
          "base_uri": "https://localhost:8080/",
          "height": 176
        },
        "id": "FSzmMgcZyGxt",
        "outputId": "2516566a-42e8-48ea-d2a3-8a6d56ef7237"
      },
      "execution_count": 7,
      "outputs": [
        {
          "output_type": "error",
          "ename": "ValueError",
          "evalue": "Age can't be negative.",
          "traceback": [
            "\u001b[0;31m---------------------------------------------------------------------------\u001b[0m",
            "\u001b[0;31mValueError\u001b[0m                                Traceback (most recent call last)",
            "\u001b[0;32m<ipython-input-7-409fab5097f4>\u001b[0m in \u001b[0;36m<cell line: 0>\u001b[0;34m()\u001b[0m\n\u001b[1;32m      1\u001b[0m \u001b[0mage\u001b[0m \u001b[0;34m=\u001b[0m \u001b[0;34m-\u001b[0m\u001b[0;36m5\u001b[0m\u001b[0;34m\u001b[0m\u001b[0;34m\u001b[0m\u001b[0m\n\u001b[1;32m      2\u001b[0m \u001b[0;32mif\u001b[0m \u001b[0mage\u001b[0m \u001b[0;34m<\u001b[0m \u001b[0;36m0\u001b[0m\u001b[0;34m:\u001b[0m\u001b[0;34m\u001b[0m\u001b[0;34m\u001b[0m\u001b[0m\n\u001b[0;32m----> 3\u001b[0;31m     \u001b[0;32mraise\u001b[0m \u001b[0mValueError\u001b[0m\u001b[0;34m(\u001b[0m\u001b[0;34m\"Age can't be negative.\"\u001b[0m\u001b[0;34m)\u001b[0m\u001b[0;34m\u001b[0m\u001b[0;34m\u001b[0m\u001b[0m\n\u001b[0m",
            "\u001b[0;31mValueError\u001b[0m: Age can't be negative."
          ]
        }
      ]
    },
    {
      "cell_type": "markdown",
      "source": [
        "**Python Built-in Exceptions**\n",
        "\n",
        "\n",
        "| Exception             | Description                                        | Example                                      |\n",
        "|-----------------------|----------------------------------------------------|----------------------------------------------|\n",
        "| ArithmeticError       | Numeric calculation error                         | `10/0`                                        |\n",
        "| AssertionError        | assert statement fails                            | `assert 2+2 == 5`                             |\n",
        "| AttributeError        | Attribute not found                               | `\"abc\".fakeMethod()`                         |\n",
        "| Exception             | Base for all exceptions                           | `raise Exception(\"Custom error\")`            |\n",
        "| EOFError              | input() hits end-of-file                          | `input()` on empty file                      |\n",
        "| FloatingPointError    | Float operation error                             | `math.fsum([1e308]*2)`                       |\n",
        "| GeneratorExit         | Generator closed                                  | `gen.close()`                                |\n",
        "| ImportError           | Import fails                                      | `import non_existing_module`                 |\n",
        "| IndentationError      | Bad indentation                                   | `def x():\\nprint(\"hi\")`                      |\n",
        "| IndexError            | List index out of range                           | `mylist[10]`                                 |\n",
        "| KeyError              | Key not found in dict                             | `mydict[\"missing\"]`                          |\n",
        "| KeyboardInterrupt     | User interruption (Ctrl+C)                        | During long-running input()                  |\n",
        "| LookupError           | Lookup errors                                     | Base for IndexError and KeyError             |\n",
        "| MemoryError           | Program uses too much memory                      | Infinite list generation                     |\n",
        "| NameError             | Variable not defined                              | `print(x)`                                   |\n",
        "| NotImplementedError   | Abstract methods                                  | `raise NotImplementedError()`                |\n",
        "| OSError               | OS-related error                                  | `open(\"file.txt\")` with bad path             |\n",
        "| OverflowError         | Number too large                                  | `math.exp(1000)`                             |\n",
        "| ReferenceError        | Weak reference issue                              | `weakref.ref(obj)` after `del obj`           |\n",
        "| RuntimeError          | Unexpected runtime error                          | Infinite recursion                           |\n",
        "| StopIteration         | No next element in iterator                       | `next(iterator)` after exhaustion            |\n",
        "| SyntaxError           | Invalid syntax                                    | `def = 5`                                    |\n",
        "| TabError              | Tab/space mix-up                                  | Bad mixed indentation                        |\n",
        "| SystemError           | Internal error                                    | Rare system-level bug                        |\n",
        "| SystemExit            | Exit requested                                    | `sys.exit()`                                 |\n",
        "| TypeError             | Invalid type operation                            | `1 + \"a\"`                                    |\n",
        "| UnboundLocalError     | Referencing before assignment                     | Use local var before defining                |\n",
        "| UnicodeError          | Unicode problem                                   | Non-UTF8 decoding                            |\n",
        "| UnicodeEncodeError    | Encoding issue                                    | `u\"£\".encode('ascii')`                       |\n",
        "| UnicodeDecodeError    | Decoding issue                                    | `b'\\xff'.decode('utf8')`                     |\n",
        "| UnicodeTranslateError | Translation issue                                 | Custom codecs                                |\n",
        "| ValueError            | Wrong value type                                  | `int(\"abc\")`                                 |\n",
        "| ZeroDivisionError     | Divide by zero                                    | `10 / 0`                                     |\n"
      ],
      "metadata": {
        "id": "wZ5Q8tMTyOYP"
      }
    },
    {
      "cell_type": "markdown",
      "source": [
        "**Real-Time Problem Statements Using Python Try Except**\n",
        "\n",
        "\n",
        "**1.User Registration Validator**\n",
        "\n",
        "Catch missing or incorrect inputs during sign-up.\n",
        "\n",
        "**2.Banking Transaction Simulator**\n",
        "\n",
        "Catch division by zero or invalid balance inputs.\n",
        "\n",
        "**3.Web Scraper**\n",
        "\n",
        "Handle network errors, bad URLs, or parsing issues.\n",
        "\n",
        "**4.File Uploader**\n",
        "\n",
        "Catch file not found, permission, or format errors.\n",
        "\n",
        "**5.Quiz App**\n",
        "\n",
        "Handle invalid user inputs or empty answers gracefully.\n",
        "\n",
        "**6.Online Calculator**\n",
        "\n",
        "Prevent crashes on invalid math operations.\n",
        "\n",
        "**7.Data Cleaner**\n",
        "\n",
        "Skip or log corrupted entries during data parsing.\n",
        "\n",
        "**8.Invoice Generator**\n",
        "\n",
        "Catch errors in total calculation or formatting.\n",
        "\n",
        "**9.Chatbot Input Handler**\n",
        "\n",
        "Respond properly to unexpected or empty user inputs.\n",
        "\n",
        "**10.Sensor Data Logger**\n",
        "\n",
        "Log exceptions for failed readings or missing values."
      ],
      "metadata": {
        "id": "2hqtgvYFyWxG"
      }
    }
  ]
}