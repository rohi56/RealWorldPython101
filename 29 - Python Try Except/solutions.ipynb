{
  "nbformat": 4,
  "nbformat_minor": 0,
  "metadata": {
    "colab": {
      "provenance": []
    },
    "kernelspec": {
      "name": "python3",
      "display_name": "Python 3"
    },
    "language_info": {
      "name": "python"
    }
  },
  "cells": [
    {
      "cell_type": "markdown",
      "source": [
        "**Real-Time Problem Statements Using Python Try Except**\n",
        "\n"
      ],
      "metadata": {
        "id": "DLX7UjtdzXLs"
      }
    },
    {
      "cell_type": "markdown",
      "source": [
        "\n",
        "**1.User Registration Validator**\n",
        "\n",
        "Catch missing or incorrect inputs during sign-up.\n",
        "\n"
      ],
      "metadata": {
        "id": "igRuqZtGzY6A"
      }
    },
    {
      "cell_type": "code",
      "source": [
        "def register_user(name, age):\n",
        "    try:\n",
        "        if not name or not age:\n",
        "            raise ValueError(\"Name or age missing.\")\n",
        "        age = int(age)\n",
        "        print(f\"User {name} registered successfully at age {age}.\")\n",
        "    except ValueError as e:\n",
        "        print(f\"Registration failed: {e}\")\n",
        "\n",
        "register_user(\"Alice\", \"25\")\n",
        "register_user(\"\", \"\")\n"
      ],
      "metadata": {
        "colab": {
          "base_uri": "https://localhost:8080/"
        },
        "id": "7C-Gg_aqzptM",
        "outputId": "a0103613-c16d-484e-ca9d-a113031ea8e3"
      },
      "execution_count": 1,
      "outputs": [
        {
          "output_type": "stream",
          "name": "stdout",
          "text": [
            "User Alice registered successfully at age 25.\n",
            "Registration failed: Name or age missing.\n"
          ]
        }
      ]
    },
    {
      "cell_type": "markdown",
      "source": [
        "**2.Banking Transaction Simulator**\n",
        "\n",
        "Catch division by zero or invalid balance inputs.\n",
        "\n"
      ],
      "metadata": {
        "id": "dGFC4Mn6zabi"
      }
    },
    {
      "cell_type": "code",
      "source": [
        "def simulate_transaction(balance, withdraw):\n",
        "    try:\n",
        "        balance = float(balance)\n",
        "        withdraw = float(withdraw)\n",
        "        if withdraw > balance:\n",
        "            raise ValueError(\"Insufficient funds.\")\n",
        "        result = balance - withdraw\n",
        "        print(f\"Transaction successful. Remaining balance: ₹{result}\")\n",
        "    except ValueError as e:\n",
        "        print(f\"Transaction failed: {e}\")\n",
        "\n",
        "simulate_transaction(1000, 200)\n",
        "simulate_transaction(100, 200)\n"
      ],
      "metadata": {
        "colab": {
          "base_uri": "https://localhost:8080/"
        },
        "id": "X85ehTRoz0y3",
        "outputId": "99cf1b45-561b-4bd3-def0-366e39cd2cd5"
      },
      "execution_count": 2,
      "outputs": [
        {
          "output_type": "stream",
          "name": "stdout",
          "text": [
            "Transaction successful. Remaining balance: ₹800.0\n",
            "Transaction failed: Insufficient funds.\n"
          ]
        }
      ]
    },
    {
      "cell_type": "markdown",
      "source": [
        "**3.Web Scraper**\n",
        "\n",
        "Handle network errors, bad URLs, or parsing issues.\n",
        "\n"
      ],
      "metadata": {
        "id": "ouJZZa4rzb8s"
      }
    },
    {
      "cell_type": "code",
      "source": [
        "import requests\n",
        "\n",
        "def fetch_page(url):\n",
        "    try:\n",
        "        response = requests.get(url)\n",
        "        response.raise_for_status()\n",
        "        print(\"Page fetched successfully.\")\n",
        "    except requests.exceptions.RequestException as e:\n",
        "        print(f\"Error fetching page: {e}\")\n",
        "\n",
        "fetch_page(\"https://example.com\")\n",
        "fetch_page(\"https://bad-url-404.com\")\n"
      ],
      "metadata": {
        "colab": {
          "base_uri": "https://localhost:8080/"
        },
        "id": "Ybe5-g3bz3EN",
        "outputId": "30d6da1d-3b99-4dd1-b1bf-e056c12703c5"
      },
      "execution_count": 3,
      "outputs": [
        {
          "output_type": "stream",
          "name": "stdout",
          "text": [
            "Page fetched successfully.\n",
            "Error fetching page: HTTPSConnectionPool(host='bad-url-404.com', port=443): Max retries exceeded with url: / (Caused by NameResolutionError(\"<urllib3.connection.HTTPSConnection object at 0x7daf42c66750>: Failed to resolve 'bad-url-404.com' ([Errno -2] Name or service not known)\"))\n"
          ]
        }
      ]
    },
    {
      "cell_type": "markdown",
      "source": [
        "**4.File Uploader**\n",
        "\n",
        "Catch file not found, permission, or format errors.\n",
        "\n"
      ],
      "metadata": {
        "id": "Hcvx2XHWzePg"
      }
    },
    {
      "cell_type": "code",
      "source": [
        "def upload_file(filepath):\n",
        "    try:\n",
        "        with open(filepath, 'r') as file:\n",
        "            data = file.read()\n",
        "            print(\"File uploaded successfully.\")\n",
        "    except FileNotFoundError:\n",
        "        print(\"Error: File not found.\")\n",
        "    except PermissionError:\n",
        "        print(\"Error: Permission denied.\")\n",
        "    except Exception as e:\n",
        "        print(f\"Unexpected error: {e}\")\n",
        "\n",
        "upload_file(\"valid_file.txt\")\n",
        "upload_file(\"non_existent.txt\")\n"
      ],
      "metadata": {
        "colab": {
          "base_uri": "https://localhost:8080/"
        },
        "id": "ex4ZJboLz71g",
        "outputId": "cce20040-49e1-4f55-cae6-5d2a7d177869"
      },
      "execution_count": 4,
      "outputs": [
        {
          "output_type": "stream",
          "name": "stdout",
          "text": [
            "Error: File not found.\n",
            "Error: File not found.\n"
          ]
        }
      ]
    },
    {
      "cell_type": "markdown",
      "source": [
        "**5.Quiz App**\n",
        "\n",
        "Handle invalid user inputs or empty answers gracefully.\n",
        "\n"
      ],
      "metadata": {
        "id": "L2GJBWzEzf0r"
      }
    },
    {
      "cell_type": "code",
      "source": [
        "def ask_question():\n",
        "    try:\n",
        "        answer = input(\"What is 5 + 3? \")\n",
        "        if not answer:\n",
        "            raise ValueError(\"No answer provided.\")\n",
        "        if int(answer) == 8:\n",
        "            print(\"Correct!\")\n",
        "        else:\n",
        "            print(\"Wrong answer.\")\n",
        "    except ValueError as e:\n",
        "        print(f\"Error: {e}\")\n",
        "\n",
        "ask_question()\n"
      ],
      "metadata": {
        "colab": {
          "base_uri": "https://localhost:8080/"
        },
        "id": "WS_pIK5iz-Jz",
        "outputId": "07841abe-5e6d-48af-b70f-c887ab00c64a"
      },
      "execution_count": 5,
      "outputs": [
        {
          "output_type": "stream",
          "name": "stdout",
          "text": [
            "What is 5 + 3? 9\n",
            "Wrong answer.\n"
          ]
        }
      ]
    },
    {
      "cell_type": "markdown",
      "source": [
        "**6.Online Calculator**\n",
        "\n",
        "Prevent crashes on invalid math operations.\n",
        "\n"
      ],
      "metadata": {
        "id": "lDzmzmSIzhlu"
      }
    },
    {
      "cell_type": "code",
      "source": [
        "def calculator(a, b, op):\n",
        "    try:\n",
        "        a, b = float(a), float(b)\n",
        "        if op == \"+\":\n",
        "            print(a + b)\n",
        "        elif op == \"-\":\n",
        "            print(a - b)\n",
        "        elif op == \"*\":\n",
        "            print(a * b)\n",
        "        elif op == \"/\":\n",
        "            print(a / b)\n",
        "        else:\n",
        "            raise ValueError(\"Invalid operation.\")\n",
        "    except ZeroDivisionError:\n",
        "        print(\"Error: Cannot divide by zero.\")\n",
        "    except ValueError as e:\n",
        "        print(f\"Calculation error: {e}\")\n",
        "\n",
        "calculator(10, 2, \"/\")\n",
        "calculator(10, 0, \"/\")\n",
        "calculator(10, 5, \"x\")\n"
      ],
      "metadata": {
        "colab": {
          "base_uri": "https://localhost:8080/"
        },
        "id": "KsGa4kOS0B0c",
        "outputId": "ee4bcdd6-7bdc-4824-ba88-2d0abf9a4793"
      },
      "execution_count": 6,
      "outputs": [
        {
          "output_type": "stream",
          "name": "stdout",
          "text": [
            "5.0\n",
            "Error: Cannot divide by zero.\n",
            "Calculation error: Invalid operation.\n"
          ]
        }
      ]
    },
    {
      "cell_type": "markdown",
      "source": [
        "**7.Data Cleaner**\n",
        "\n",
        "Skip or log corrupted entries during data parsing.\n",
        "\n"
      ],
      "metadata": {
        "id": "j-Kq698Nzi_f"
      }
    },
    {
      "cell_type": "code",
      "source": [
        "data = [\"123\", \"456\", \"abc\", \"789\"]\n",
        "\n",
        "cleaned_data = []\n",
        "for item in data:\n",
        "    try:\n",
        "        cleaned_data.append(int(item))\n",
        "    except ValueError:\n",
        "        print(f\"Skipping corrupted entry: {item}\")\n",
        "\n",
        "print(\"Cleaned Data:\", cleaned_data)\n"
      ],
      "metadata": {
        "colab": {
          "base_uri": "https://localhost:8080/"
        },
        "id": "rbX6nf0p0En3",
        "outputId": "bdc0a48f-03e6-48d6-f965-2036c5c75af3"
      },
      "execution_count": 7,
      "outputs": [
        {
          "output_type": "stream",
          "name": "stdout",
          "text": [
            "Skipping corrupted entry: abc\n",
            "Cleaned Data: [123, 456, 789]\n"
          ]
        }
      ]
    },
    {
      "cell_type": "markdown",
      "source": [
        "**8.Invoice Generator**\n",
        "\n",
        "Catch errors in total calculation or formatting.\n",
        "\n"
      ],
      "metadata": {
        "id": "8I3JJO-uzkpP"
      }
    },
    {
      "cell_type": "code",
      "source": [
        "def generate_invoice(quantity, price):\n",
        "    try:\n",
        "        total = float(quantity) * float(price)\n",
        "        print(f\"Total invoice amount: ₹{total:.2f}\")\n",
        "    except Exception as e:\n",
        "        print(f\"Invoice error: {e}\")\n",
        "\n",
        "generate_invoice(\"5\", \"200\")\n",
        "generate_invoice(\"five\", \"200\")\n"
      ],
      "metadata": {
        "colab": {
          "base_uri": "https://localhost:8080/"
        },
        "id": "bbz38uYY0HPA",
        "outputId": "e8134d06-5e7d-47eb-8787-cf829e3c42b5"
      },
      "execution_count": 8,
      "outputs": [
        {
          "output_type": "stream",
          "name": "stdout",
          "text": [
            "Total invoice amount: ₹1000.00\n",
            "Invoice error: could not convert string to float: 'five'\n"
          ]
        }
      ]
    },
    {
      "cell_type": "markdown",
      "source": [
        "**9.Chatbot Input Handler**\n",
        "\n",
        "Respond properly to unexpected or empty user inputs.\n",
        "\n"
      ],
      "metadata": {
        "id": "63_0LfxqzmQH"
      }
    },
    {
      "cell_type": "code",
      "source": [
        "def chatbot_input():\n",
        "    try:\n",
        "        user_input = input(\"Say something: \")\n",
        "        if not user_input.strip():\n",
        "            raise ValueError(\"Empty input received.\")\n",
        "        print(f\"Chatbot: You said '{user_input}'\")\n",
        "    except ValueError as e:\n",
        "        print(f\"Chatbot error: {e}\")\n",
        "\n",
        "chatbot_input()\n"
      ],
      "metadata": {
        "colab": {
          "base_uri": "https://localhost:8080/"
        },
        "id": "qn-Os9Z90Jj7",
        "outputId": "b96c3240-aaef-4a2b-cfe4-5ed6821c3a11"
      },
      "execution_count": 9,
      "outputs": [
        {
          "output_type": "stream",
          "name": "stdout",
          "text": [
            "Say something: \n",
            "Chatbot error: Empty input received.\n"
          ]
        }
      ]
    },
    {
      "cell_type": "markdown",
      "source": [
        "**10.Sensor Data Logger**\n",
        "\n",
        "Log exceptions for failed readings or missing values."
      ],
      "metadata": {
        "id": "iZ0UV9bOzn8K"
      }
    },
    {
      "cell_type": "code",
      "source": [
        "def log_sensor_data(readings):\n",
        "    for i, reading in enumerate(readings):\n",
        "        try:\n",
        "            if reading is None:\n",
        "                raise ValueError(\"Missing sensor data\")\n",
        "            print(f\"Reading {i+1}: {float(reading)}\")\n",
        "        except ValueError as e:\n",
        "            print(f\"Error at reading {i+1}: {e}\")\n",
        "\n",
        "log_sensor_data([23.5, 25.6, None, 27.8])\n"
      ],
      "metadata": {
        "colab": {
          "base_uri": "https://localhost:8080/"
        },
        "id": "yJVmEjmc0NYP",
        "outputId": "21daf744-4198-4010-f3e4-be2ccd069d95"
      },
      "execution_count": 10,
      "outputs": [
        {
          "output_type": "stream",
          "name": "stdout",
          "text": [
            "Reading 1: 23.5\n",
            "Reading 2: 25.6\n",
            "Error at reading 3: Missing sensor data\n",
            "Reading 4: 27.8\n"
          ]
        }
      ]
    }
  ]
}