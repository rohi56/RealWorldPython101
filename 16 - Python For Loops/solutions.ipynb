{
  "nbformat": 4,
  "nbformat_minor": 0,
  "metadata": {
    "colab": {
      "provenance": []
    },
    "kernelspec": {
      "name": "python3",
      "display_name": "Python 3"
    },
    "language_info": {
      "name": "python"
    }
  },
  "cells": [
    {
      "cell_type": "markdown",
      "source": [
        "**Real-Time Problem Statements Using For Loops Solutions**\n",
        "\n",
        "\n"
      ],
      "metadata": {
        "id": "XxU1-6DGVlAm"
      }
    },
    {
      "cell_type": "markdown",
      "source": [
        "**1.Email Campaign Sender**\n",
        "\n",
        "Loop through a list of email addresses and send personalized emails.\n",
        "\n"
      ],
      "metadata": {
        "id": "3N8GmxS8VqSp"
      }
    },
    {
      "cell_type": "code",
      "source": [
        "emails = [\"user1@example.com\", \"user2@example.com\"]\n",
        "for email in emails:\n",
        "    print(f\"Sending email to {email}\")\n"
      ],
      "metadata": {
        "colab": {
          "base_uri": "https://localhost:8080/"
        },
        "id": "RFW_q-HYb0hT",
        "outputId": "f25b390c-61f7-46a4-c918-12d568e05e19"
      },
      "execution_count": 15,
      "outputs": [
        {
          "output_type": "stream",
          "name": "stdout",
          "text": [
            "Sending email to user1@example.com\n",
            "Sending email to user2@example.com\n"
          ]
        }
      ]
    },
    {
      "cell_type": "markdown",
      "source": [
        "**2.Password Strength Checker**\n",
        "\n",
        "Loop through characters in a password and validate strength criteria.\n",
        "\n"
      ],
      "metadata": {
        "id": "2eA51IXrVry8"
      }
    },
    {
      "cell_type": "code",
      "source": [
        "password = \"P@ssw0rd123\"\n",
        "has_upper = has_digit = has_special = False\n",
        "\n",
        "for char in password:\n",
        "    if char.isupper():\n",
        "        has_upper = True\n",
        "    elif char.isdigit():\n",
        "        has_digit = True\n",
        "    elif not char.isalnum():\n",
        "        has_special = True\n",
        "\n",
        "if has_upper and has_digit and has_special:\n",
        "    print(\"Strong password\")\n",
        "else:\n",
        "    print(\"Weak password\")\n"
      ],
      "metadata": {
        "colab": {
          "base_uri": "https://localhost:8080/"
        },
        "id": "PlO_Xa__buQK",
        "outputId": "471bbfec-d972-479d-e83c-41882715f154"
      },
      "execution_count": 14,
      "outputs": [
        {
          "output_type": "stream",
          "name": "stdout",
          "text": [
            "Strong password\n"
          ]
        }
      ]
    },
    {
      "cell_type": "markdown",
      "source": [
        "**3.Class Attendance Tracker**\n",
        "\n",
        "Loop through a list of students and mark attendance.\n",
        "\n"
      ],
      "metadata": {
        "id": "dEc9W0QrVtRc"
      }
    },
    {
      "cell_type": "code",
      "source": [
        "students = [\"Amit\", \"Sara\", \"John\"]\n",
        "for student in students:\n",
        "    print(f\"{student}: Present\")\n"
      ],
      "metadata": {
        "colab": {
          "base_uri": "https://localhost:8080/"
        },
        "id": "LDCWuSCpbq5H",
        "outputId": "7fd41b77-3db5-4334-c5e1-16b05b89875b"
      },
      "execution_count": 13,
      "outputs": [
        {
          "output_type": "stream",
          "name": "stdout",
          "text": [
            "Amit: Present\n",
            "Sara: Present\n",
            "John: Present\n"
          ]
        }
      ]
    },
    {
      "cell_type": "markdown",
      "source": [
        "**4.Leaderboard Generator**\n",
        "\n",
        "Loop through a score list and rank players accordingly.\n",
        "\n"
      ],
      "metadata": {
        "id": "cgUI_NBYVu6M"
      }
    },
    {
      "cell_type": "code",
      "source": [
        "scores = [(\"Akshay\", 95), (\"Rohit\", 88), (\"Swapnil\", 92)]\n",
        "sorted_scores = sorted(scores, key=lambda x: x[1], reverse=True)\n",
        "\n",
        "for rank, (name, score) in enumerate(sorted_scores, start=1):\n",
        "    print(f\"{rank}. {name} - {score}\")\n"
      ],
      "metadata": {
        "colab": {
          "base_uri": "https://localhost:8080/"
        },
        "id": "0QK3MxXqbci7",
        "outputId": "2a341d9f-7494-4f4d-9f47-ad5b859bf140"
      },
      "execution_count": 12,
      "outputs": [
        {
          "output_type": "stream",
          "name": "stdout",
          "text": [
            "1. Akshay - 95\n",
            "2. Swapnil - 92\n",
            "3. Rohit - 88\n"
          ]
        }
      ]
    },
    {
      "cell_type": "markdown",
      "source": [
        "**5.Weekly Schedule Creator**\n",
        "\n",
        "Combine days and subjects using nested loops.\n",
        "\n"
      ],
      "metadata": {
        "id": "o2zrQot4Vwec"
      }
    },
    {
      "cell_type": "code",
      "source": [
        "days = [\"Monday\", \"Tuesday\"]\n",
        "subjects = [\"Math\", \"Science\"]\n",
        "\n",
        "for day in days:\n",
        "    for subject in subjects:\n",
        "        print(f\"{day}: {subject}\")\n"
      ],
      "metadata": {
        "colab": {
          "base_uri": "https://localhost:8080/"
        },
        "id": "xx9LtBerbZYv",
        "outputId": "8dbbaf5a-9b92-49c6-ec79-0bce5ab3d577"
      },
      "execution_count": 11,
      "outputs": [
        {
          "output_type": "stream",
          "name": "stdout",
          "text": [
            "Monday: Math\n",
            "Monday: Science\n",
            "Tuesday: Math\n",
            "Tuesday: Science\n"
          ]
        }
      ]
    },
    {
      "cell_type": "markdown",
      "source": [
        "**6.Survey Data Analyzer**\n",
        "\n",
        "Loop through responses and tally results.\n",
        "\n"
      ],
      "metadata": {
        "id": "bQLD_1GmVyGH"
      }
    },
    {
      "cell_type": "code",
      "source": [
        "responses = [\"Yes\", \"No\", \"Yes\", \"Yes\", \"No\"]\n",
        "tally = {\"Yes\": 0, \"No\": 0}\n",
        "\n",
        "for response in responses:\n",
        "    tally[response] += 1\n",
        "\n",
        "print(tally)\n"
      ],
      "metadata": {
        "colab": {
          "base_uri": "https://localhost:8080/"
        },
        "id": "PHQw63epbO8R",
        "outputId": "df57e81a-d99f-4ccc-dd49-095a86b965ac"
      },
      "execution_count": 10,
      "outputs": [
        {
          "output_type": "stream",
          "name": "stdout",
          "text": [
            "{'Yes': 3, 'No': 2}\n"
          ]
        }
      ]
    },
    {
      "cell_type": "markdown",
      "source": [
        "**7.Shopping Cart Summary**\n",
        "\n",
        "Loop through cart items to calculate totals.\n",
        "\n"
      ],
      "metadata": {
        "id": "k1FvbdQJVzej"
      }
    },
    {
      "cell_type": "code",
      "source": [
        "cart = [(\"Apple\", 2, 30), (\"Milk\", 1, 50)]  # (Item, Quantity, Price)\n",
        "total = 0\n",
        "\n",
        "for item, qty, price in cart:\n",
        "    total += qty * price\n",
        "    print(f\"{item}: {qty} x ₹{price} = ₹{qty * price}\")\n",
        "\n",
        "print(f\"Total: ₹{total}\")\n"
      ],
      "metadata": {
        "colab": {
          "base_uri": "https://localhost:8080/"
        },
        "id": "yhfiCJBOanoT",
        "outputId": "3b9f763c-ba72-4f4b-bb01-5d3f5cc17099"
      },
      "execution_count": 9,
      "outputs": [
        {
          "output_type": "stream",
          "name": "stdout",
          "text": [
            "Apple: 2 x ₹30 = ₹60\n",
            "Milk: 1 x ₹50 = ₹50\n",
            "Total: ₹110\n"
          ]
        }
      ]
    },
    {
      "cell_type": "markdown",
      "source": [
        "**8.Customer Greeting Bot**\n",
        "\n",
        "Loop through customer names and print greetings.\n",
        "\n"
      ],
      "metadata": {
        "id": "D5YC88_1V1OH"
      }
    },
    {
      "cell_type": "code",
      "source": [
        "cust =[\"rohit\", \"akshay\", \"swapnil\",\"shubham\"]\n",
        "for i in cust:\n",
        "  print(f\"Welcome {i}\")"
      ],
      "metadata": {
        "colab": {
          "base_uri": "https://localhost:8080/"
        },
        "id": "hSBQIVa2Yywr",
        "outputId": "f341523b-903c-4083-98c1-ae7f1b2b1804"
      },
      "execution_count": 8,
      "outputs": [
        {
          "output_type": "stream",
          "name": "stdout",
          "text": [
            "Welcome rohit\n",
            "Welcome akshay\n",
            "Welcome swapnil\n",
            "Welcome shubham\n"
          ]
        }
      ]
    },
    {
      "cell_type": "markdown",
      "source": [
        "**9.Weather Logger**\n",
        "\n",
        "Loop through daily temperatures to find highest and lowest values.\n",
        "\n"
      ],
      "metadata": {
        "id": "cudUazWbV3Eb"
      }
    },
    {
      "cell_type": "code",
      "source": [
        "temp=[]\n",
        "print(\"Enter the last seven days temperature\")\n",
        "for i in range(1,7):\n",
        "  temp.append(float(input(f\"Enter the temperature of {i} day :\")))\n",
        "high = max(temp)\n",
        "low = min(temp)\n",
        "print(f\"The highest temperature is {high}\\nThe lowest temperature is {low}\")\n",
        "\n"
      ],
      "metadata": {
        "colab": {
          "base_uri": "https://localhost:8080/"
        },
        "id": "SozjajW_XH0w",
        "outputId": "216b4b61-420a-45de-ed82-f99a7345c590"
      },
      "execution_count": 4,
      "outputs": [
        {
          "output_type": "stream",
          "name": "stdout",
          "text": [
            "Enter the last seven days temperature\n",
            "Enter the temperature of 1 day :33\n",
            "Enter the temperature of 2 day :28\n",
            "Enter the temperature of 3 day :31\n",
            "Enter the temperature of 4 day :34\n",
            "Enter the temperature of 5 day :35\n",
            "Enter the temperature of 6 day :36\n",
            "The highest temperature is 36.0\n",
            "The lowest temperature is 28.0\n"
          ]
        }
      ]
    },
    {
      "cell_type": "markdown",
      "source": [
        "**10.Multiplication Table Generator**\n",
        "\n",
        "Use nested loops to print full multiplication tables."
      ],
      "metadata": {
        "id": "iNVZQ8EjV5F-"
      }
    },
    {
      "cell_type": "code",
      "source": [
        "num = int(input(\"Enter the number you have you generate multiplication table for : \"))\n",
        "for i in range(1,11):\n",
        "  print(f\"{num} * {i} = {num*i}\")"
      ],
      "metadata": {
        "colab": {
          "base_uri": "https://localhost:8080/"
        },
        "id": "bl2whOerWF6p",
        "outputId": "1726ce1e-94d0-45b0-a0f6-5975999e5cd7"
      },
      "execution_count": 2,
      "outputs": [
        {
          "output_type": "stream",
          "name": "stdout",
          "text": [
            "Enter the number you have you generate multiplication table for : 5\n",
            "5 * 1 = 5\n",
            "5 * 2 = 10\n",
            "5 * 3 = 15\n",
            "5 * 4 = 20\n",
            "5 * 5 = 25\n",
            "5 * 6 = 30\n",
            "5 * 7 = 35\n",
            "5 * 8 = 40\n",
            "5 * 9 = 45\n",
            "5 * 10 = 50\n"
          ]
        }
      ]
    }
  ]
}