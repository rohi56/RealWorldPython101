{
  "nbformat": 4,
  "nbformat_minor": 0,
  "metadata": {
    "colab": {
      "provenance": []
    },
    "kernelspec": {
      "name": "python3",
      "display_name": "Python 3"
    },
    "language_info": {
      "name": "python"
    }
  },
  "cells": [
    {
      "cell_type": "markdown",
      "source": [
        "**Python User Input**"
      ],
      "metadata": {
        "id": "lnZja-2V6IFN"
      }
    },
    {
      "cell_type": "markdown",
      "source": [
        "**User Input**\n",
        "\n",
        "In Python, the `input()` function allows users to enter data during program execution."
      ],
      "metadata": {
        "id": "LmMMU6Px6U4H"
      }
    },
    {
      "cell_type": "code",
      "source": [
        "name = input(\"Enter your name: \")\n",
        "print(\"Hello,\", name)\n"
      ],
      "metadata": {
        "colab": {
          "base_uri": "https://localhost:8080/"
        },
        "id": "vhTXclkj6ZW7",
        "outputId": "bac6891a-7c5d-4a17-c6f6-c7355b1690c9"
      },
      "execution_count": 1,
      "outputs": [
        {
          "output_type": "stream",
          "name": "stdout",
          "text": [
            "Enter your name: rohit\n",
            "Hello, rohit\n"
          ]
        }
      ]
    },
    {
      "cell_type": "markdown",
      "source": [
        "**Using Prompt**\n",
        "\n",
        "The prompt string passed to input() is displayed before waiting for the user’s input."
      ],
      "metadata": {
        "id": "AyAHoZ6l6ezr"
      }
    },
    {
      "cell_type": "code",
      "source": [
        "email = input(\"Please enter your email: \")\n",
        "print(\"You entered:\", email)\n"
      ],
      "metadata": {
        "colab": {
          "base_uri": "https://localhost:8080/"
        },
        "id": "DEmrgC3t6hOD",
        "outputId": "7fec16c2-2689-47bc-b0fc-cc8ee4935e31"
      },
      "execution_count": 2,
      "outputs": [
        {
          "output_type": "stream",
          "name": "stdout",
          "text": [
            "Please enter your email: xzy@zyz.com\n",
            "You entered: xzy@zyz.com\n"
          ]
        }
      ]
    },
    {
      "cell_type": "markdown",
      "source": [
        "**Multiple Inputs**\n",
        "\n",
        "Use split() to capture multiple values at once."
      ],
      "metadata": {
        "id": "2KWDyZpk6pRW"
      }
    },
    {
      "cell_type": "code",
      "source": [
        "x, y = input(\"Enter two numbers separated by space: \").split()\n",
        "print(\"You entered:\", x, \"and\", y)\n"
      ],
      "metadata": {
        "colab": {
          "base_uri": "https://localhost:8080/"
        },
        "id": "zEa_IQ0i6sXs",
        "outputId": "c449b8e8-0210-4066-8e2a-6f346a80f179"
      },
      "execution_count": 3,
      "outputs": [
        {
          "output_type": "stream",
          "name": "stdout",
          "text": [
            "Enter two numbers separated by space: 5 6\n",
            "You entered: 5 and 6\n"
          ]
        }
      ]
    },
    {
      "cell_type": "markdown",
      "source": [
        "**Input Numbers**\n",
        "\n",
        "Convert input strings into numeric types."
      ],
      "metadata": {
        "id": "sAf5W6eD6y0T"
      }
    },
    {
      "cell_type": "code",
      "source": [
        "age = int(input(\"Enter your age: \"))\n",
        "height = float(input(\"Enter your height in meters: \"))\n"
      ],
      "metadata": {
        "colab": {
          "base_uri": "https://localhost:8080/"
        },
        "id": "yCfg6LhZ61bh",
        "outputId": "51e84b8a-3687-434b-a34b-dad8949a35d9"
      },
      "execution_count": 4,
      "outputs": [
        {
          "name": "stdout",
          "output_type": "stream",
          "text": [
            "Enter your age: 52\n",
            "Enter your height in meters: 175\n"
          ]
        }
      ]
    },
    {
      "cell_type": "markdown",
      "source": [
        "**Validate Input**\n",
        "\n",
        "Use try-except to handle incorrect inputs gracefully."
      ],
      "metadata": {
        "id": "rFmj0_hc7O5V"
      }
    },
    {
      "cell_type": "code",
      "source": [
        "try:\n",
        "    marks = int(input(\"Enter your marks: \"))\n",
        "    print(\"Your marks:\", marks)\n",
        "except ValueError:\n",
        "    print(\"Invalid input. Please enter a number.\")\n"
      ],
      "metadata": {
        "colab": {
          "base_uri": "https://localhost:8080/"
        },
        "id": "I0-4aKCk7RZz",
        "outputId": "be3ffceb-fcac-4633-840a-e6b2f61ba889"
      },
      "execution_count": 5,
      "outputs": [
        {
          "output_type": "stream",
          "name": "stdout",
          "text": [
            "Enter your marks: 54\n",
            "Your marks: 54\n"
          ]
        }
      ]
    },
    {
      "cell_type": "markdown",
      "source": [
        "**Real-Time Problem Statements Using User Input**\n",
        "\n",
        "**1.Student Registration Form** – Capture student name, email, course.\n",
        "\n",
        "**2.BMI Calculator** – Ask for height and weight, calculate BMI.\n",
        "\n",
        "**3.Quiz App** – Take user answers and check correctness.\n",
        "\n",
        "**4.ATM Simulator** – Ask for PIN and withdrawal amount.\n",
        "\n",
        "**5.To-Do List App** – Add tasks based on user input.\n",
        "\n",
        "**6.Unit Converter** – Convert inches to cm or kg to lbs.\n",
        "\n",
        "**7.Feedback Collector** – Ask users to rate and comment.\n",
        "\n",
        "**8.Event RSVP System** – Gather number of attendees.\n",
        "\n",
        "**9.Movie Booking App** – Ask for seat selection, number of tickets.\n",
        "\n",
        "**10.Simple Chatbot** – Interact with user inputs dynamically."
      ],
      "metadata": {
        "id": "92Yt9FD17W2w"
      }
    }
  ]
}