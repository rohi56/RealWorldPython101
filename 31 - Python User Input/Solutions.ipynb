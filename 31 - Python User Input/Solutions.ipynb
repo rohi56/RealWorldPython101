{
  "nbformat": 4,
  "nbformat_minor": 0,
  "metadata": {
    "colab": {
      "provenance": []
    },
    "kernelspec": {
      "name": "python3",
      "display_name": "Python 3"
    },
    "language_info": {
      "name": "python"
    }
  },
  "cells": [
    {
      "cell_type": "markdown",
      "source": [
        "**Real-Time Problem Statements Using User Input**\n",
        "\n",
        "**1.Student Registration Form** – Capture student name, email, course.\n",
        "\n"
      ],
      "metadata": {
        "id": "shymgiNI75dW"
      }
    },
    {
      "cell_type": "code",
      "source": [
        "students = []\n",
        "\n",
        "while True:\n",
        "    try:\n",
        "        stud_name = input(\"Enter your name (or type 'exit' to stop): \")\n",
        "        if stud_name.lower() == 'exit':\n",
        "            break\n",
        "        stud_email = input(\"Enter your email: \")\n",
        "        stud_course = input(\"Enter course: \")\n",
        "        students.append([stud_name, stud_email, stud_course])\n",
        "    except Exception as e:\n",
        "        print(f\"An error occurred: {e}\")\n",
        "        break\n",
        "\n",
        "# Displaying the student information\n",
        "for i, j, k in students:\n",
        "    print(f\"Student name: {i}, Student email: {j}, Student course: {k}\")\n"
      ],
      "metadata": {
        "colab": {
          "base_uri": "https://localhost:8080/"
        },
        "id": "JQlRYoJT8OBM",
        "outputId": "3979e2b8-05d8-460a-ee81-d0b2b5320c03"
      },
      "execution_count": 6,
      "outputs": [
        {
          "output_type": "stream",
          "name": "stdout",
          "text": [
            "Enter your name (or type 'exit' to stop): rohit\n",
            "Enter your email: 123@xyz\n",
            "Enter course: python\n",
            "Enter your name (or type 'exit' to stop): vishal\n",
            "Enter your email: 345@xyz\n",
            "Enter course: salesforce\n",
            "Enter your name (or type 'exit' to stop): akshay\n",
            "Enter your email: 678@xyz\n",
            "Enter course: devops\n",
            "Enter your name (or type 'exit' to stop): exit\n",
            "Student name: rohit, Student email: 123@xyz, Student course: python\n",
            "Student name: vishal, Student email: 345@xyz, Student course: salesforce\n",
            "Student name: akshay, Student email: 678@xyz, Student course: devops\n"
          ]
        }
      ]
    },
    {
      "cell_type": "markdown",
      "source": [
        "**2.BMI Calculator** – Ask for height and weight, calculate BMI.\n",
        "\n"
      ],
      "metadata": {
        "id": "k0PnPNCA7-Lj"
      }
    },
    {
      "cell_type": "code",
      "source": [
        "weight = float(input(\"Enter your weight in kg: \"))\n",
        "height = float(input(\"Enter your height in meters: \"))\n",
        "bmi = weight / (height ** 2)\n",
        "\n",
        "print(f\"Your BMI is: {bmi:.2f}\")\n"
      ],
      "metadata": {
        "colab": {
          "base_uri": "https://localhost:8080/"
        },
        "id": "qwgLAwqCB23R",
        "outputId": "9f8f1532-6690-45e4-ca01-650999a1b545"
      },
      "execution_count": 7,
      "outputs": [
        {
          "output_type": "stream",
          "name": "stdout",
          "text": [
            "Enter your weight in kg: 70\n",
            "Enter your height in meters: 1.75\n",
            "Your BMI is: 22.86\n"
          ]
        }
      ]
    },
    {
      "cell_type": "markdown",
      "source": [
        "**3.Quiz App** – Take user answers and check correctness.\n",
        "\n"
      ],
      "metadata": {
        "id": "zcEL6F_i7_tJ"
      }
    },
    {
      "cell_type": "code",
      "source": [
        "answer = input(\"What is the capital of France? \").lower()\n",
        "if answer == \"paris\":\n",
        "    print(\"Correct!\")\n",
        "else:\n",
        "    print(\"Wrong answer.\")\n"
      ],
      "metadata": {
        "colab": {
          "base_uri": "https://localhost:8080/"
        },
        "id": "hxSKPl4cCFOH",
        "outputId": "a82b782c-0127-426f-9c60-4534ca0d6243"
      },
      "execution_count": 8,
      "outputs": [
        {
          "output_type": "stream",
          "name": "stdout",
          "text": [
            "What is the capital of France? paris\n",
            "Correct!\n"
          ]
        }
      ]
    },
    {
      "cell_type": "markdown",
      "source": [
        "**4.ATM Simulator** – Ask for PIN and withdrawal amount.\n",
        "\n"
      ],
      "metadata": {
        "id": "l4c7Qn5Z8BdP"
      }
    },
    {
      "cell_type": "code",
      "source": [
        "pin = '5432'\n",
        "\n",
        "for attempt in range(3):\n",
        "    user_pin = input(\"Enter your PIN: \")\n",
        "    if user_pin == pin:\n",
        "        print(\"You can withdraw the amount.\")\n",
        "        break\n",
        "    else:\n",
        "        print(\"Invalid PIN.\")\n",
        "else:\n",
        "    print(\"Too many incorrect attempts. Access denied.\")\n"
      ],
      "metadata": {
        "colab": {
          "base_uri": "https://localhost:8080/"
        },
        "id": "3wwVGQ8w-wyC",
        "outputId": "f910661f-edf9-4609-b1fc-1ece57f9a132"
      },
      "execution_count": 5,
      "outputs": [
        {
          "output_type": "stream",
          "name": "stdout",
          "text": [
            "Enter your PIN: 5432\n",
            "You can withdraw the amount.\n"
          ]
        }
      ]
    },
    {
      "cell_type": "markdown",
      "source": [
        "**5.To-Do List App** – Add tasks based on user input.\n",
        "\n"
      ],
      "metadata": {
        "id": "ELLRO1o18C4X"
      }
    },
    {
      "cell_type": "code",
      "source": [
        "tasks = []\n",
        "for i in range(3):\n",
        "    task = input(f\"Enter task #{i+1}: \")\n",
        "    tasks.append(task)\n",
        "\n",
        "print(\"Your To-Do List:\")\n",
        "for t in tasks:\n",
        "    print(\"-\", t)\n"
      ],
      "metadata": {
        "colab": {
          "base_uri": "https://localhost:8080/"
        },
        "id": "1LGI4D11CMXr",
        "outputId": "c8c0021a-fb09-4aec-af72-36149f467369"
      },
      "execution_count": 9,
      "outputs": [
        {
          "output_type": "stream",
          "name": "stdout",
          "text": [
            "Enter task #1: gym\n",
            "Enter task #2: study\n",
            "Enter task #3: office\n",
            "Your To-Do List:\n",
            "- gym\n",
            "- study\n",
            "- office\n"
          ]
        }
      ]
    },
    {
      "cell_type": "markdown",
      "source": [
        "**6.Unit Converter** – Convert inches to cm or kg to lbs.\n",
        "\n"
      ],
      "metadata": {
        "id": "R9QVSS4l8EnY"
      }
    },
    {
      "cell_type": "code",
      "source": [
        "cm = float(input(\"Enter length in cm: \"))\n",
        "inches = cm / 2.54\n",
        "print(f\"{cm} cm = {inches:.2f} inches\")\n"
      ],
      "metadata": {
        "colab": {
          "base_uri": "https://localhost:8080/"
        },
        "id": "y9Ijs0JzCRwb",
        "outputId": "69a8cc3e-695e-445d-b8ce-4687c58a5609"
      },
      "execution_count": 10,
      "outputs": [
        {
          "output_type": "stream",
          "name": "stdout",
          "text": [
            "Enter length in cm: 175\n",
            "175.0 cm = 68.90 inches\n"
          ]
        }
      ]
    },
    {
      "cell_type": "markdown",
      "source": [
        "**7.Feedback Collector** – Ask users to rate and comment.\n",
        "\n"
      ],
      "metadata": {
        "id": "rNaLyR0r8GQ6"
      }
    },
    {
      "cell_type": "code",
      "source": [
        "rating = int(input(\"Rate our service (1 to 5): \"))\n",
        "comment = input(\"Any suggestions? \")\n",
        "\n",
        "print(f\"Thanks for your feedback!\\nRating: {rating}\\nComment: {comment}\")\n"
      ],
      "metadata": {
        "colab": {
          "base_uri": "https://localhost:8080/"
        },
        "id": "k7zzIXIMCVUT",
        "outputId": "f3f59a1a-4bbb-41d0-8c72-8840596a1e43"
      },
      "execution_count": 11,
      "outputs": [
        {
          "output_type": "stream",
          "name": "stdout",
          "text": [
            "Rate our service (1 to 5): 5\n",
            "Any suggestions? it was good\n",
            "Thanks for your feedback!\n",
            "Rating: 5\n",
            "Comment: it was good\n"
          ]
        }
      ]
    },
    {
      "cell_type": "markdown",
      "source": [
        "**8.Event RSVP System** – Gather number of attendees.\n",
        "\n"
      ],
      "metadata": {
        "id": "jD1B0Xn38IKl"
      }
    },
    {
      "cell_type": "code",
      "source": [
        "guests = int(input(\"How many guests will attend? \"))\n",
        "print(f\"Thank you! We'll reserve {guests} seats.\")\n"
      ],
      "metadata": {
        "colab": {
          "base_uri": "https://localhost:8080/"
        },
        "id": "EYObQUd8Cbj9",
        "outputId": "0394ace8-5a6a-4497-ed61-104af553a2ef"
      },
      "execution_count": 12,
      "outputs": [
        {
          "output_type": "stream",
          "name": "stdout",
          "text": [
            "How many guests will attend? 3\n",
            "Thank you! We'll reserve 3 seats.\n"
          ]
        }
      ]
    },
    {
      "cell_type": "markdown",
      "source": [
        "**9.Movie Booking App** – Ask for seat selection, number of tickets.\n",
        "\n"
      ],
      "metadata": {
        "id": "To6VwEdF8KE2"
      }
    },
    {
      "cell_type": "code",
      "source": [
        "movie = input(\"Enter movie name: \")\n",
        "seats = int(input(\"How many seats to book? \"))\n",
        "\n",
        "print(f\"Booking confirmed for '{movie}' with {seats} seats.\")\n"
      ],
      "metadata": {
        "colab": {
          "base_uri": "https://localhost:8080/"
        },
        "id": "KUyMaXRHCf_l",
        "outputId": "85e7c7fd-f94d-4013-8b87-a6eb7144ad22"
      },
      "execution_count": 13,
      "outputs": [
        {
          "output_type": "stream",
          "name": "stdout",
          "text": [
            "Enter movie name: ddlj\n",
            "How many seats to book? 2\n",
            "Booking confirmed for 'ddlj' with 2 seats.\n"
          ]
        }
      ]
    },
    {
      "cell_type": "markdown",
      "source": [
        "**10.Simple Chatbot** – Interact with user inputs dynamically."
      ],
      "metadata": {
        "id": "7nfZJho68Lp7"
      }
    },
    {
      "cell_type": "code",
      "source": [
        "name = input(\"Hello! What's your name? \")\n",
        "print(f\"Nice to meet you, {name}!\")\n",
        "\n",
        "mood = input(\"How are you feeling today? \")\n",
        "print(f\"I'm glad to hear you're feeling {mood}!\")\n"
      ],
      "metadata": {
        "colab": {
          "base_uri": "https://localhost:8080/"
        },
        "id": "ZWUVF1zXCkWn",
        "outputId": "84652c24-f346-4c30-a4b8-2cd6891021e1"
      },
      "execution_count": 14,
      "outputs": [
        {
          "output_type": "stream",
          "name": "stdout",
          "text": [
            "Hello! What's your name? rohit\n",
            "Nice to meet you, rohit!\n",
            "How are you feeling today? amazing\n",
            "I'm glad to hear you're feeling amazing!\n"
          ]
        }
      ]
    }
  ]
}