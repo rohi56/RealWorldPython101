{
  "nbformat": 4,
  "nbformat_minor": 0,
  "metadata": {
    "colab": {
      "provenance": []
    },
    "kernelspec": {
      "name": "python3",
      "display_name": "Python 3"
    },
    "language_info": {
      "name": "python"
    }
  },
  "cells": [
    {
      "cell_type": "markdown",
      "source": [
        "**Real-Time Problem Statements using While Loops**\n",
        "\n",
        "\n",
        "\n"
      ],
      "metadata": {
        "id": "hYgZrXBfufoS"
      }
    },
    {
      "cell_type": "markdown",
      "source": [
        "**1.PIN Verification System**\n",
        "\n",
        "Allow the user 3 attempts to enter the correct PIN using a while loop.\n",
        "\n"
      ],
      "metadata": {
        "id": "pfb7HAcouim_"
      }
    },
    {
      "cell_type": "code",
      "source": [
        "pin = '2582'\n",
        "i = 0\n",
        "\n",
        "while i < 3:\n",
        "    enter_pin = input(\"Enter your pin: \")\n",
        "    if pin == enter_pin:\n",
        "        print(\"PIN MATCHED\")\n",
        "        break\n",
        "    else:\n",
        "        print(\"Wrong PIN\")\n",
        "        i += 1\n",
        "\n",
        "if i == 3:\n",
        "    print(\"Too many incorrect attempts. Access denied.\")\n",
        "\n",
        "\n"
      ],
      "metadata": {
        "colab": {
          "base_uri": "https://localhost:8080/"
        },
        "id": "miXvi4IvvQm7",
        "outputId": "6c9cdf69-9757-486b-8cde-95c10f9ad21b"
      },
      "execution_count": 6,
      "outputs": [
        {
          "output_type": "stream",
          "name": "stdout",
          "text": [
            "Enter your pin: 1234\n",
            "Wrong PIN\n",
            "Enter your pin: 5245\n",
            "Wrong PIN\n",
            "Enter your pin: 6547\n",
            "Wrong PIN\n",
            "Too many incorrect attempts. Access denied.\n"
          ]
        }
      ]
    },
    {
      "cell_type": "markdown",
      "source": [
        "**2.ATM Cash Withdrawal Simulation**\n",
        "\n",
        "Loop until user balance is sufficient or limit is reached.\n",
        "\n"
      ],
      "metadata": {
        "id": "iIfq4WhkulSa"
      }
    },
    {
      "cell_type": "code",
      "source": [
        "amount=500\n",
        "while i<=amount:\n",
        "  withdrawal= float(input(\"Enter the amount: \"))\n",
        "  amount = amount-withdrawal\n",
        "  print(f\"Current balance: {amount}\")\n",
        "  if amount == 0:\n",
        "    print(\"Insufficient amount\")"
      ],
      "metadata": {
        "colab": {
          "base_uri": "https://localhost:8080/"
        },
        "id": "Rh7PrxgA3jTI",
        "outputId": "23fb52d4-0273-42e2-cf18-e186a85659eb"
      },
      "execution_count": 10,
      "outputs": [
        {
          "output_type": "stream",
          "name": "stdout",
          "text": [
            "Enter the amount: 300\n",
            "Current balance: 200.0\n",
            "Enter the amount: 200\n",
            "Current balance: 0.0\n",
            "Insufficient amount\n"
          ]
        }
      ]
    },
    {
      "cell_type": "markdown",
      "source": [
        "**3.Menu-Driven App**\n",
        "\n",
        "Show a menu repeatedly until the user chooses to exit.\n",
        "\n"
      ],
      "metadata": {
        "id": "9n8uWv6uun1S"
      }
    },
    {
      "cell_type": "code",
      "source": [
        "menu=[]\n",
        "while True:\n",
        "  option = input(\"enter the option you want to do:(add/remove/view): \")\n",
        "  if option=='add':\n",
        "    menu.append(input(\"Enter the food you have to order: \"))\n",
        "  elif option =='remove':\n",
        "    menu.remove(input(\"Enter the food you have to remove: \"))\n",
        "  elif option == 'view':\n",
        "    print(menu)\n",
        "  else:\n",
        "    print(\"Invalid option\")\n",
        "    break"
      ],
      "metadata": {
        "colab": {
          "base_uri": "https://localhost:8080/"
        },
        "id": "gY-dqJ045JRg",
        "outputId": "2f18bca7-7e6f-48d5-ee25-a1f97e4c6321"
      },
      "execution_count": 11,
      "outputs": [
        {
          "output_type": "stream",
          "name": "stdout",
          "text": [
            "enter the option you want to do:(add/remove/view): add\n",
            "Enter the food you have to order: dosa\n",
            "enter the option you want to do:(add/remove/view): add\n",
            "Enter the food you have to order: sambhar\n",
            "enter the option you want to do:(add/remove/view): view\n",
            "['dosa', 'sambhar']\n",
            "enter the option you want to do:(add/remove/view): \n",
            "Invalid option\n"
          ]
        }
      ]
    },
    {
      "cell_type": "markdown",
      "source": [
        "**4.Guess the Number Game**\n",
        "\n",
        "Keep prompting the user until the correct number is guessed.\n",
        "\n"
      ],
      "metadata": {
        "id": "_rABPZ4Kur35"
      }
    },
    {
      "cell_type": "code",
      "source": [
        "num = 8234\n",
        "while True:\n",
        "  guess_num = int(input(\"Guess the number: \"))\n",
        "  if num == guess_num:\n",
        "    print(\"Number Matched!\")\n",
        "    break\n",
        "  else:\n",
        "    print(\"Number Mismatched\")\n"
      ],
      "metadata": {
        "colab": {
          "base_uri": "https://localhost:8080/"
        },
        "id": "vHzPVFDx67Gx",
        "outputId": "e06deac7-1dcf-48a7-8afc-1a01c7fbdcee"
      },
      "execution_count": 14,
      "outputs": [
        {
          "output_type": "stream",
          "name": "stdout",
          "text": [
            "Guess the number: 5647\n",
            "Number Mismatched\n",
            "Guess the number: 5444\n",
            "Number Mismatched\n",
            "Guess the number: 8234\n",
            "Number Matched!\n"
          ]
        }
      ]
    },
    {
      "cell_type": "markdown",
      "source": [
        "**5.Retry on API Failure**\n",
        "\n",
        "Try calling an API repeatedly until it succeeds or max retries are reached.\n",
        "\n"
      ],
      "metadata": {
        "id": "k5cRauQiuwD5"
      }
    },
    {
      "cell_type": "code",
      "source": [
        "import random\n",
        "\n",
        "max_retries = 5\n",
        "attempts = 0\n",
        "\n",
        "while attempts < max_retries:\n",
        "    response = random.choice([\"fail\", \"success\"])\n",
        "    print(f\"API call result: {response}\")\n",
        "    if response == \"success\":\n",
        "        print(\"API succeeded.\")\n",
        "        break\n",
        "    attempts += 1\n",
        "else:\n",
        "    print(\"API failed after multiple attempts.\")\n"
      ],
      "metadata": {
        "colab": {
          "base_uri": "https://localhost:8080/"
        },
        "id": "qd_s_vmD8Sq-",
        "outputId": "2a04a26e-5079-4b33-9e29-078639a28b98"
      },
      "execution_count": 15,
      "outputs": [
        {
          "output_type": "stream",
          "name": "stdout",
          "text": [
            "API call result: fail\n",
            "API call result: fail\n",
            "API call result: fail\n",
            "API call result: fail\n",
            "API call result: success\n",
            "API succeeded.\n"
          ]
        }
      ]
    },
    {
      "cell_type": "markdown",
      "source": [
        "**6.Download Progress Tracker**\n",
        "\n",
        "Simulate or monitor file download progress with a loop.\n",
        "\n"
      ],
      "metadata": {
        "id": "hRc4LwOmu0PB"
      }
    },
    {
      "cell_type": "code",
      "source": [
        "progress = 0\n",
        "\n",
        "while progress < 100:\n",
        "    print(f\"Downloading... {progress}%\")\n",
        "    progress += 10\n",
        "print(\"Download complete!\")\n"
      ],
      "metadata": {
        "colab": {
          "base_uri": "https://localhost:8080/"
        },
        "id": "Rua9rn2_8X-H",
        "outputId": "e83e5828-823b-4e89-9c7d-ef23d36198e5"
      },
      "execution_count": 16,
      "outputs": [
        {
          "output_type": "stream",
          "name": "stdout",
          "text": [
            "Downloading... 0%\n",
            "Downloading... 10%\n",
            "Downloading... 20%\n",
            "Downloading... 30%\n",
            "Downloading... 40%\n",
            "Downloading... 50%\n",
            "Downloading... 60%\n",
            "Downloading... 70%\n",
            "Downloading... 80%\n",
            "Downloading... 90%\n",
            "Download complete!\n"
          ]
        }
      ]
    },
    {
      "cell_type": "markdown",
      "source": [
        "**7.Elevator Movement System**\n",
        "\n",
        "Control floor movement logic based on user input.\n",
        "\n"
      ],
      "metadata": {
        "id": "J0ZQyRV8u2rp"
      }
    },
    {
      "cell_type": "code",
      "source": [
        "current_floor = 0\n",
        "\n",
        "while True:\n",
        "    user_input = input(\"Enter floor (or 'exit'): \")\n",
        "    if user_input.lower() == \"exit\":\n",
        "        print(\"Elevator stopped.\")\n",
        "        break\n",
        "    if user_input.isdigit():\n",
        "        destination = int(user_input)\n",
        "        print(f\"Moving from floor {current_floor} to {destination}\")\n",
        "        current_floor = destination\n",
        "    else:\n",
        "        print(\"Invalid input.\")\n"
      ],
      "metadata": {
        "colab": {
          "base_uri": "https://localhost:8080/"
        },
        "id": "zZwibM6C8bTj",
        "outputId": "4bc02c15-26c5-49f7-d29d-c9d8998c29ba"
      },
      "execution_count": 17,
      "outputs": [
        {
          "output_type": "stream",
          "name": "stdout",
          "text": [
            "Enter floor (or 'exit'): 3\n",
            "Moving from floor 0 to 3\n",
            "Enter floor (or 'exit'): exit\n",
            "Elevator stopped.\n"
          ]
        }
      ]
    },
    {
      "cell_type": "markdown",
      "source": [
        "**8.Inventory Monitor**\n",
        "\n",
        "Continuously check and alert if stock goes below threshold.\n",
        "\n"
      ],
      "metadata": {
        "id": "11de8rBdu5O7"
      }
    },
    {
      "cell_type": "code",
      "source": [
        "stock = 10\n",
        "\n",
        "while stock > 0:\n",
        "    print(f\"Stock level: {stock}\")\n",
        "    stock -= 1\n",
        "    if stock < 3:\n",
        "        print(\"Warning: Low stock!\")\n"
      ],
      "metadata": {
        "colab": {
          "base_uri": "https://localhost:8080/"
        },
        "id": "rkmk_7J78vmH",
        "outputId": "ccc74f59-5924-4d16-d55d-47b55bcd3aa8"
      },
      "execution_count": 18,
      "outputs": [
        {
          "output_type": "stream",
          "name": "stdout",
          "text": [
            "Stock level: 10\n",
            "Stock level: 9\n",
            "Stock level: 8\n",
            "Stock level: 7\n",
            "Stock level: 6\n",
            "Stock level: 5\n",
            "Stock level: 4\n",
            "Stock level: 3\n",
            "Warning: Low stock!\n",
            "Stock level: 2\n",
            "Warning: Low stock!\n",
            "Stock level: 1\n",
            "Warning: Low stock!\n"
          ]
        }
      ]
    },
    {
      "cell_type": "markdown",
      "source": [
        "**9.Typing Practice App**\n",
        "\n",
        "Keep asking user to type a sentence until it's correct.\n",
        "\n"
      ],
      "metadata": {
        "id": "4nd3u1JEu7y6"
      }
    },
    {
      "cell_type": "code",
      "source": [
        "target = \"Python is fun!\"\n",
        "\n",
        "while True:\n",
        "    user_input = input(f\"Type this exactly: '{target}': \")\n",
        "    if user_input == target:\n",
        "        print(\"Correct!\")\n",
        "        break\n",
        "    else:\n",
        "        print(\"Try again.\")\n"
      ],
      "metadata": {
        "colab": {
          "base_uri": "https://localhost:8080/"
        },
        "id": "rxD_ShSU80Jf",
        "outputId": "d7c70fe7-896b-4726-dfc6-2df507129c21"
      },
      "execution_count": 20,
      "outputs": [
        {
          "output_type": "stream",
          "name": "stdout",
          "text": [
            "Type this exactly: 'Python is fun!': python is fun\n",
            "Try again.\n",
            "Type this exactly: 'Python is fun!': python is fub\n",
            "Try again.\n",
            "Type this exactly: 'Python is fun!': Python is fun!\n",
            "Correct!\n"
          ]
        }
      ]
    },
    {
      "cell_type": "markdown",
      "source": [
        "**10.Form Input Validator**\n",
        "\n",
        "Keep asking for valid input until proper data is entered."
      ],
      "metadata": {
        "id": "hGYl4ovFu-qn"
      }
    },
    {
      "cell_type": "code",
      "source": [
        "while True:\n",
        "    age = input(\"Enter your age: \")\n",
        "    if age.isdigit() and int(age) > 0:\n",
        "        print(f\"Age entered: {age}\")\n",
        "        break\n",
        "    else:\n",
        "        print(\"Invalid input. Please enter a positive number.\")\n"
      ],
      "metadata": {
        "colab": {
          "base_uri": "https://localhost:8080/"
        },
        "id": "B19azIEe9Gbr",
        "outputId": "d1e9ffa5-ca28-4b67-ecd7-154f65d7a7b2"
      },
      "execution_count": 21,
      "outputs": [
        {
          "output_type": "stream",
          "name": "stdout",
          "text": [
            "Enter your age: 5\n",
            "Age entered: 5\n"
          ]
        }
      ]
    }
  ]
}