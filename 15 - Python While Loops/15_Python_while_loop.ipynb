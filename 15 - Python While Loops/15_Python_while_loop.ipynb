{
  "nbformat": 4,
  "nbformat_minor": 0,
  "metadata": {
    "colab": {
      "provenance": []
    },
    "kernelspec": {
      "name": "python3",
      "display_name": "Python 3"
    },
    "language_info": {
      "name": "python"
    }
  },
  "cells": [
    {
      "cell_type": "markdown",
      "source": [
        "**Python While Loops**"
      ],
      "metadata": {
        "id": "yWaneblqs2XA"
      }
    },
    {
      "cell_type": "markdown",
      "source": [
        "**1. The while Loop**\n",
        "\n",
        "The while loop repeatedly executes a block of code as long as a condition is True. It’s useful when the number of iterations is unknown."
      ],
      "metadata": {
        "id": "JCX2I4_cs7Ar"
      }
    },
    {
      "cell_type": "code",
      "source": [
        "count = 1\n",
        "while count <= 5:\n",
        "    print(count)\n",
        "    count += 1\n"
      ],
      "metadata": {
        "colab": {
          "base_uri": "https://localhost:8080/"
        },
        "id": "0H_75zG1tBCa",
        "outputId": "4dfabec0-b537-4fd8-cdb0-7e7c97203447"
      },
      "execution_count": 1,
      "outputs": [
        {
          "output_type": "stream",
          "name": "stdout",
          "text": [
            "1\n",
            "2\n",
            "3\n",
            "4\n",
            "5\n"
          ]
        }
      ]
    },
    {
      "cell_type": "markdown",
      "source": [
        "**2. The break Statement**\n",
        "\n",
        "`break` is used to exit the loop prematurely when a specific condition is met.\n",
        "\n"
      ],
      "metadata": {
        "id": "EnevwC5wtFRd"
      }
    },
    {
      "cell_type": "code",
      "source": [
        "i = 1\n",
        "while i < 10:\n",
        "    if i == 5:\n",
        "        break\n",
        "    print(i)\n",
        "    i += 1\n"
      ],
      "metadata": {
        "colab": {
          "base_uri": "https://localhost:8080/"
        },
        "id": "d4tRZOV6tNCS",
        "outputId": "885927d9-cafc-4eda-aa81-5e2a8f685e48"
      },
      "execution_count": 2,
      "outputs": [
        {
          "output_type": "stream",
          "name": "stdout",
          "text": [
            "1\n",
            "2\n",
            "3\n",
            "4\n"
          ]
        }
      ]
    },
    {
      "cell_type": "markdown",
      "source": [
        "**3. The continue Statement**\n",
        "\n",
        "continue skips the current iteration and proceeds to the next one."
      ],
      "metadata": {
        "id": "tROFYZwqtRLt"
      }
    },
    {
      "cell_type": "code",
      "source": [
        "i = 0\n",
        "while i < 5:\n",
        "    i += 1\n",
        "    if i == 3:\n",
        "        continue\n",
        "    print(i)\n"
      ],
      "metadata": {
        "colab": {
          "base_uri": "https://localhost:8080/"
        },
        "id": "1yqd57RTtVF8",
        "outputId": "61534486-12dd-4d51-db63-c4138fe71b21"
      },
      "execution_count": 3,
      "outputs": [
        {
          "output_type": "stream",
          "name": "stdout",
          "text": [
            "1\n",
            "2\n",
            "4\n",
            "5\n"
          ]
        }
      ]
    },
    {
      "cell_type": "markdown",
      "source": [
        "**4. The else Statement**\n",
        "\n",
        "The else block after a while loop executes once when the condition becomes False (unless a break is hit)."
      ],
      "metadata": {
        "id": "3w0baBCEtZbE"
      }
    },
    {
      "cell_type": "code",
      "source": [
        "i = 1\n",
        "while i <= 3:\n",
        "    print(i)\n",
        "    i += 1\n",
        "else:\n",
        "    print(\"Loop completed\")\n"
      ],
      "metadata": {
        "colab": {
          "base_uri": "https://localhost:8080/"
        },
        "id": "TxKMx39OtczW",
        "outputId": "5412fdb7-369f-406f-96c7-bb74bb287020"
      },
      "execution_count": 4,
      "outputs": [
        {
          "output_type": "stream",
          "name": "stdout",
          "text": [
            "1\n",
            "2\n",
            "3\n",
            "Loop completed\n"
          ]
        }
      ]
    },
    {
      "cell_type": "markdown",
      "source": [
        "**Real-Time Problem Statements using While Loops**\n",
        "\n",
        "**1.PIN Verification System**\n",
        "\n",
        "Allow the user 3 attempts to enter the correct PIN using a while loop.\n",
        "\n",
        "**2.ATM Cash Withdrawal Simulation**\n",
        "\n",
        "Loop until user balance is sufficient or limit is reached.\n",
        "\n",
        "**3.Menu-Driven App**\n",
        "\n",
        "Show a menu repeatedly until the user chooses to exit.\n",
        "\n",
        "**4.Guess the Number Game**\n",
        "\n",
        "Keep prompting the user until the correct number is guessed.\n",
        "\n",
        "**5.Retry on API Failure**\n",
        "\n",
        "Try calling an API repeatedly until it succeeds or max retries are reached.\n",
        "\n",
        "**6.Download Progress Tracker**\n",
        "\n",
        "Simulate or monitor file download progress with a loop.\n",
        "\n",
        "**7.Elevator Movement System**\n",
        "\n",
        "Control floor movement logic based on user input.\n",
        "\n",
        "**8.Inventory Monitor**\n",
        "\n",
        "Continuously check and alert if stock goes below threshold.\n",
        "\n",
        "**9.Typing Practice App**\n",
        "\n",
        "Keep asking user to type a sentence until it's correct.\n",
        "\n",
        "**10.Form Input Validator**\n",
        "\n",
        "Keep asking for valid input until proper data is entered.\n",
        "\n"
      ],
      "metadata": {
        "id": "-Ia8V8f9tmYv"
      }
    }
  ]
}