{
  "nbformat": 4,
  "nbformat_minor": 0,
  "metadata": {
    "colab": {
      "provenance": []
    },
    "kernelspec": {
      "name": "python3",
      "display_name": "Python 3"
    },
    "language_info": {
      "name": "python"
    }
  },
  "cells": [
    {
      "cell_type": "markdown",
      "source": [
        "**Real-Time Problem Statements Solutions**\n",
        "\n"
      ],
      "metadata": {
        "id": "J14EYOzF73yP"
      }
    },
    {
      "cell_type": "markdown",
      "source": [
        "**1.Grade Evaluator**  Print grades based on score.\n",
        "\n"
      ],
      "metadata": {
        "id": "9NdY9eBU75k7"
      }
    },
    {
      "cell_type": "code",
      "source": [
        "score = float(input(\"Enter your score: \"))\n",
        "if score >=75:\n",
        "  print(\"You have scored Distinction\")\n",
        "elif score >=60:\n",
        "  print(\"You have scored First Class\")\n",
        "elif score >=50:\n",
        "  print(\"You have scored Second Class\")\n",
        "elif score >=35:\n",
        "  print(\"You have scored Third Class\")\n",
        "elif score< 35:\n",
        "  print(\"You Failed\")"
      ],
      "metadata": {
        "colab": {
          "base_uri": "https://localhost:8080/"
        },
        "id": "hbOZIEbt8Njd",
        "outputId": "5658e4f2-1697-4d36-f627-5b30f344c110"
      },
      "execution_count": 1,
      "outputs": [
        {
          "output_type": "stream",
          "name": "stdout",
          "text": [
            "Enter your score: 65\n",
            "You have scored First Class\n"
          ]
        }
      ]
    },
    {
      "cell_type": "markdown",
      "source": [
        "**2.Access Control System**  Restrict access based on roles.\n",
        "\n"
      ],
      "metadata": {
        "id": "1Q82hA3t77CY"
      }
    },
    {
      "cell_type": "code",
      "source": [
        "role = input(\"Enter your role (admin/editor/viewer): \")\n",
        "\n",
        "if role == \"admin\":\n",
        "    print(\"Full access\")\n",
        "elif role == \"editor\":\n",
        "    print(\"Edit access\")\n",
        "elif role == \"viewer\":\n",
        "    print(\"Read-only access\")\n",
        "else:\n",
        "    print(\"Access denied\")\n"
      ],
      "metadata": {
        "colab": {
          "base_uri": "https://localhost:8080/"
        },
        "id": "AIVcqZrA-Ylt",
        "outputId": "0183dcbb-cfb6-4a5a-9ae9-d97d45e2ada8"
      },
      "execution_count": 2,
      "outputs": [
        {
          "output_type": "stream",
          "name": "stdout",
          "text": [
            "Enter your role (admin/editor/viewer): admin\n",
            "Full access\n"
          ]
        }
      ]
    },
    {
      "cell_type": "markdown",
      "source": [
        "**3.Temperature Alert**  Send alerts if temperature is too high.\n",
        "\n"
      ],
      "metadata": {
        "id": "mTKq2CIi7-mY"
      }
    },
    {
      "cell_type": "code",
      "source": [
        "temperature = int(input(\"Enter the temperature: \"))\n",
        "\n",
        "if temperature > 40:\n",
        "    print(\"Alert: High temperature! Stay hydrated.\")\n",
        "elif temperature > 30:\n",
        "    print(\"Warm day ahead.\")\n",
        "else:\n",
        "    print(\"Temperature is normal.\")\n"
      ],
      "metadata": {
        "colab": {
          "base_uri": "https://localhost:8080/"
        },
        "id": "AFA1B51K-ueV",
        "outputId": "52310309-d146-4d02-969b-563727d9d43a"
      },
      "execution_count": 4,
      "outputs": [
        {
          "output_type": "stream",
          "name": "stdout",
          "text": [
            "Enter the temperature: 35\n",
            "Warm day ahead.\n"
          ]
        }
      ]
    },
    {
      "cell_type": "markdown",
      "source": [
        "**4.Discount Calculator**  Apply discounts based on purchase amount.\n",
        "\n"
      ],
      "metadata": {
        "id": "Sic-HVPr8AQM"
      }
    },
    {
      "cell_type": "code",
      "source": [
        "amount = float(input(\"Enter the purchase amount: \"))\n",
        "\n",
        "if amount > 1000:\n",
        "    print(\"Discount: 20%\")\n",
        "elif amount > 500:\n",
        "    print(\"Discount: 10%\")\n",
        "else:\n",
        "    print(\"No discount\")\n"
      ],
      "metadata": {
        "colab": {
          "base_uri": "https://localhost:8080/"
        },
        "id": "5TDqQhP0-_RY",
        "outputId": "618041a2-3e34-4f89-85e5-ac09d01121e1"
      },
      "execution_count": 5,
      "outputs": [
        {
          "output_type": "stream",
          "name": "stdout",
          "text": [
            "Enter the purchase amount: 2000\n",
            "Discount: 20%\n"
          ]
        }
      ]
    },
    {
      "cell_type": "markdown",
      "source": [
        "**5.Traffic Signal Response**  Determine action from light color.\n",
        "\n"
      ],
      "metadata": {
        "id": "AI1SZtoo8BqQ"
      }
    },
    {
      "cell_type": "code",
      "source": [
        "signal = input(\"Enter the signal color: \")\n",
        "\n",
        "if signal == \"red\":\n",
        "    print(\"Stop\")\n",
        "elif signal == \"yellow\":\n",
        "    print(\"Get ready\")\n",
        "elif signal == \"green\":\n",
        "    print(\"Go\")\n",
        "else:\n",
        "    print(\"Invalid signal\")\n"
      ],
      "metadata": {
        "colab": {
          "base_uri": "https://localhost:8080/"
        },
        "id": "MVyBfDVp_NZv",
        "outputId": "201d4592-a9b6-4a3f-c849-d7ab7beb4362"
      },
      "execution_count": 6,
      "outputs": [
        {
          "output_type": "stream",
          "name": "stdout",
          "text": [
            "Enter the signal color: green\n",
            "Go\n"
          ]
        }
      ]
    },
    {
      "cell_type": "markdown",
      "source": [
        "**6.Simple Authentication System**  Check username and password.\n",
        "\n"
      ],
      "metadata": {
        "id": "lKU76Kcl8DKg"
      }
    },
    {
      "cell_type": "code",
      "source": [
        "username = \"admin\"\n",
        "password = \"1234\"\n",
        "\n",
        "if username == \"admin\" and password == \"1234\":\n",
        "    print(\"Login successful\")\n",
        "else:\n",
        "    print(\"Invalid credentials\")\n"
      ],
      "metadata": {
        "colab": {
          "base_uri": "https://localhost:8080/"
        },
        "id": "uYLEHmpi_XqU",
        "outputId": "9c3e01ab-e3a0-47dc-fb0a-4d1cf00a41a1"
      },
      "execution_count": 7,
      "outputs": [
        {
          "output_type": "stream",
          "name": "stdout",
          "text": [
            "Login successful\n"
          ]
        }
      ]
    },
    {
      "cell_type": "markdown",
      "source": [
        "**7.Voting Eligibility Checker**  Validate voting rights.\n",
        "\n"
      ],
      "metadata": {
        "id": "b3BvJ7Y-8Eou"
      }
    },
    {
      "cell_type": "code",
      "source": [
        "age = 17\n",
        "\n",
        "if age >= 18:\n",
        "    print(\"Eligible to vote\")\n",
        "else:\n",
        "    print(\"Not eligible to vote\")\n"
      ],
      "metadata": {
        "colab": {
          "base_uri": "https://localhost:8080/"
        },
        "id": "_mhf3N9l_amy",
        "outputId": "102cbf7c-8d9f-48b6-cb5a-eabdecd27469"
      },
      "execution_count": 8,
      "outputs": [
        {
          "output_type": "stream",
          "name": "stdout",
          "text": [
            "Not eligible to vote\n"
          ]
        }
      ]
    },
    {
      "cell_type": "markdown",
      "source": [
        "**8.Nested Login Checks**  Validate username then password.\n",
        "\n"
      ],
      "metadata": {
        "id": "JHinj5F_8GOa"
      }
    },
    {
      "cell_type": "code",
      "source": [
        "username = \"user1\"\n",
        "password = \"pass123\"\n",
        "\n",
        "if username == \"user1\":\n",
        "    if password == \"pass123\":\n",
        "        print(\"Access granted\")\n",
        "    else:\n",
        "        print(\"Incorrect password\")\n",
        "else:\n",
        "    print(\"User not found\")\n"
      ],
      "metadata": {
        "colab": {
          "base_uri": "https://localhost:8080/"
        },
        "id": "Gd0Vov5R_c-5",
        "outputId": "2295dc5a-8921-4286-92da-18c83edffe0b"
      },
      "execution_count": 9,
      "outputs": [
        {
          "output_type": "stream",
          "name": "stdout",
          "text": [
            "Access granted\n"
          ]
        }
      ]
    },
    {
      "cell_type": "markdown",
      "source": [
        "**9.Even or Odd Checker**  Determine number parity.\n",
        "\n"
      ],
      "metadata": {
        "id": "edydTEyz8Hn8"
      }
    },
    {
      "cell_type": "code",
      "source": [
        "number = int(input(\"Enter the number: \"))\n",
        "\n",
        "if number % 2 == 0:\n",
        "    print(\"Even number\")\n",
        "else:\n",
        "    print(\"Odd number\")\n"
      ],
      "metadata": {
        "colab": {
          "base_uri": "https://localhost:8080/"
        },
        "id": "VU5TOum9_eh5",
        "outputId": "1bcaba5f-cdfa-4dac-e204-03a4b64caa6f"
      },
      "execution_count": 10,
      "outputs": [
        {
          "output_type": "stream",
          "name": "stdout",
          "text": [
            "Enter the number: 5\n",
            "Odd number\n"
          ]
        }
      ]
    },
    {
      "cell_type": "markdown",
      "source": [
        "**10.Weather Advice Bot**  Suggest outfit based on weather."
      ],
      "metadata": {
        "id": "58ae0HCb8JKD"
      }
    },
    {
      "cell_type": "code",
      "source": [
        "weather = input(\"Enter the weather type (sunny/rainy/cold): \").lower()\n",
        "\n",
        "if weather == \"sunny\":\n",
        "    print(\"Wear sunglasses and light clothes\")\n",
        "elif weather == \"rainy\":\n",
        "    print(\"Carry an umbrella\")\n",
        "elif weather == \"cold\":\n",
        "    print(\"Wear a jacket\")\n",
        "else:\n",
        "    print(\"Check weather forecast\")\n"
      ],
      "metadata": {
        "colab": {
          "base_uri": "https://localhost:8080/"
        },
        "id": "BmdBB01N_nuT",
        "outputId": "cd6d731c-1480-40d7-d66a-899d8cdda356"
      },
      "execution_count": 12,
      "outputs": [
        {
          "output_type": "stream",
          "name": "stdout",
          "text": [
            "Enter the weather type (sunny/rainy/cold): Rainy\n",
            "Carry an umbrella\n"
          ]
        }
      ]
    }
  ]
}