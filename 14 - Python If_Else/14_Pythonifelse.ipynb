{
  "nbformat": 4,
  "nbformat_minor": 0,
  "metadata": {
    "colab": {
      "provenance": []
    },
    "kernelspec": {
      "name": "python3",
      "display_name": "Python 3"
    },
    "language_info": {
      "name": "python"
    }
  },
  "cells": [
    {
      "cell_type": "markdown",
      "source": [
        "**Python If...Else**"
      ],
      "metadata": {
        "id": "bQJNDQ5O53Dd"
      }
    },
    {
      "cell_type": "markdown",
      "source": [
        "**Python Conditions and If Statements**\n",
        "\n",
        "Conditions let you execute code based on whether a statement is true or false."
      ],
      "metadata": {
        "id": "--swevxl55r4"
      }
    },
    {
      "cell_type": "code",
      "source": [
        "x = 10\n",
        "if x > 5:\n",
        "    print(\"x is greater than 5\")\n"
      ],
      "metadata": {
        "colab": {
          "base_uri": "https://localhost:8080/"
        },
        "id": "lX6bdBS56AzX",
        "outputId": "324414b4-ce6a-4504-d156-4976c14ab545"
      },
      "execution_count": 1,
      "outputs": [
        {
          "output_type": "stream",
          "name": "stdout",
          "text": [
            "x is greater than 5\n"
          ]
        }
      ]
    },
    {
      "cell_type": "markdown",
      "source": [
        "**Indentation**\n",
        "\n",
        "Python uses indentation to define blocks of code inside conditions."
      ],
      "metadata": {
        "id": "sVW3Ne2c6DMY"
      }
    },
    {
      "cell_type": "code",
      "source": [
        "if True:\n",
        "    print(\"This is indented correctly\")\n"
      ],
      "metadata": {
        "colab": {
          "base_uri": "https://localhost:8080/"
        },
        "id": "GpCNMkVK6HH5",
        "outputId": "b3abf1f5-0199-4e08-9849-389d43b918bb"
      },
      "execution_count": 2,
      "outputs": [
        {
          "output_type": "stream",
          "name": "stdout",
          "text": [
            "This is indented correctly\n"
          ]
        }
      ]
    },
    {
      "cell_type": "markdown",
      "source": [
        "**Elif**\n",
        "\n",
        "elif lets you check multiple conditions."
      ],
      "metadata": {
        "id": "f1obljnW6J3-"
      }
    },
    {
      "cell_type": "code",
      "source": [
        "x = 20\n",
        "if x == 10:\n",
        "    print(\"Ten\")\n",
        "elif x == 20:\n",
        "    print(\"Twenty\")\n"
      ],
      "metadata": {
        "colab": {
          "base_uri": "https://localhost:8080/"
        },
        "id": "IuI1tAEA6MLS",
        "outputId": "4016fe5c-ebc5-47d7-d89f-a4f3a6ca413c"
      },
      "execution_count": 3,
      "outputs": [
        {
          "output_type": "stream",
          "name": "stdout",
          "text": [
            "Twenty\n"
          ]
        }
      ]
    },
    {
      "cell_type": "markdown",
      "source": [
        "**Else**\n",
        "\n",
        "else runs if no previous condition is true."
      ],
      "metadata": {
        "id": "L2gwGN_D6P9w"
      }
    },
    {
      "cell_type": "code",
      "source": [
        "x = 5\n",
        "if x > 10:\n",
        "    print(\"More than 10\")\n",
        "else:\n",
        "    print(\"10 or less\")\n"
      ],
      "metadata": {
        "colab": {
          "base_uri": "https://localhost:8080/"
        },
        "id": "LUXz1oiR6Syi",
        "outputId": "c81cd289-b530-47e3-96ab-3f5b6c2b857f"
      },
      "execution_count": 4,
      "outputs": [
        {
          "output_type": "stream",
          "name": "stdout",
          "text": [
            "10 or less\n"
          ]
        }
      ]
    },
    {
      "cell_type": "markdown",
      "source": [
        "**Short Hand If**\n",
        "\n",
        "A compact version of if for one-liners."
      ],
      "metadata": {
        "id": "gyVizhVF6XT5"
      }
    },
    {
      "cell_type": "code",
      "source": [
        "x = 5\n",
        "if x > 3: print(\"x is greater than 3\")\n"
      ],
      "metadata": {
        "colab": {
          "base_uri": "https://localhost:8080/"
        },
        "id": "dQAUBmKl6aIj",
        "outputId": "ed204f65-5dc0-4548-a716-7dec4bc0ea25"
      },
      "execution_count": 5,
      "outputs": [
        {
          "output_type": "stream",
          "name": "stdout",
          "text": [
            "x is greater than 3\n"
          ]
        }
      ]
    },
    {
      "cell_type": "markdown",
      "source": [
        "**Short Hand If...Else**\n",
        "\n",
        "Compact version of if...else in one line."
      ],
      "metadata": {
        "id": "7J8kGxb96d6E"
      }
    },
    {
      "cell_type": "code",
      "source": [
        "x = 5\n",
        "y = 10\n",
        "print(\"x\" if x > y else \"y\")\n"
      ],
      "metadata": {
        "colab": {
          "base_uri": "https://localhost:8080/"
        },
        "id": "nf5Ol5TT6gBT",
        "outputId": "2a342483-99e1-4f87-98a8-67ca86f04106"
      },
      "execution_count": 6,
      "outputs": [
        {
          "output_type": "stream",
          "name": "stdout",
          "text": [
            "y\n"
          ]
        }
      ]
    },
    {
      "cell_type": "markdown",
      "source": [
        "**And**\n",
        "\n",
        "Combines conditions; both must be true."
      ],
      "metadata": {
        "id": "Sf3EL6tH6jdy"
      }
    },
    {
      "cell_type": "code",
      "source": [
        "x = 10\n",
        "y = 20\n",
        "if x < y and y > 15:\n",
        "    print(\"Both conditions are true\")\n"
      ],
      "metadata": {
        "colab": {
          "base_uri": "https://localhost:8080/"
        },
        "id": "pxLNvJFO6mZo",
        "outputId": "4dcd0745-11f0-4f63-b955-9740057f1f36"
      },
      "execution_count": 7,
      "outputs": [
        {
          "output_type": "stream",
          "name": "stdout",
          "text": [
            "Both conditions are true\n"
          ]
        }
      ]
    },
    {
      "cell_type": "markdown",
      "source": [
        "**Or**\n",
        "\n",
        "Only one condition must be true."
      ],
      "metadata": {
        "id": "lnE8aeIk6p2y"
      }
    },
    {
      "cell_type": "code",
      "source": [
        "x = 10\n",
        "y = 5\n",
        "if x > 5 or y > 10:\n",
        "    print(\"At least one condition is true\")\n"
      ],
      "metadata": {
        "colab": {
          "base_uri": "https://localhost:8080/"
        },
        "id": "bgVsmcxR6tC1",
        "outputId": "e3d03f36-e8de-4cf0-f397-74636458c5b3"
      },
      "execution_count": 8,
      "outputs": [
        {
          "output_type": "stream",
          "name": "stdout",
          "text": [
            "At least one condition is true\n"
          ]
        }
      ]
    },
    {
      "cell_type": "markdown",
      "source": [
        "**Not**\n",
        "\n",
        "Inverts the result of a condition."
      ],
      "metadata": {
        "id": "wTkdNZ4w6yZf"
      }
    },
    {
      "cell_type": "code",
      "source": [
        "x = False\n",
        "if not x:\n",
        "    print(\"x is False\")\n"
      ],
      "metadata": {
        "colab": {
          "base_uri": "https://localhost:8080/"
        },
        "id": "PIrkDis760uA",
        "outputId": "72a3ae84-36fc-4fd6-c3ea-a4c0f32144d8"
      },
      "execution_count": 9,
      "outputs": [
        {
          "output_type": "stream",
          "name": "stdout",
          "text": [
            "x is False\n"
          ]
        }
      ]
    },
    {
      "cell_type": "markdown",
      "source": [
        "**Nested If**\n",
        "\n",
        "if inside another if for layered conditions."
      ],
      "metadata": {
        "id": "CHEClwAR65GE"
      }
    },
    {
      "cell_type": "code",
      "source": [
        "x = 15\n",
        "if x > 10:\n",
        "    if x < 20:\n",
        "        print(\"x is between 10 and 20\")\n"
      ],
      "metadata": {
        "colab": {
          "base_uri": "https://localhost:8080/"
        },
        "id": "vPmpvbo_67HK",
        "outputId": "8603e0cd-a223-481d-aeaf-10de8e369f26"
      },
      "execution_count": 10,
      "outputs": [
        {
          "output_type": "stream",
          "name": "stdout",
          "text": [
            "x is between 10 and 20\n"
          ]
        }
      ]
    },
    {
      "cell_type": "markdown",
      "source": [
        "**The pass Statement**\n",
        "\n",
        "Used when no action is needed."
      ],
      "metadata": {
        "id": "PnjRtpov69e6"
      }
    },
    {
      "cell_type": "code",
      "source": [
        "x = 10\n",
        "if x > 5:\n",
        "    pass  # Placeholder\n"
      ],
      "metadata": {
        "id": "B24AkOnx7AD-"
      },
      "execution_count": 11,
      "outputs": []
    },
    {
      "cell_type": "markdown",
      "source": [
        "**Real-Time Problem Statements**\n",
        "\n",
        "**1.Grade Evaluator**  Print grades based on score.\n",
        "\n",
        "**2.Access Control System**  Restrict access based on roles.\n",
        "\n",
        "**3.Temperature Alert**  Send alerts if temperature is too high.\n",
        "\n",
        "**4.Discount Calculator**  Apply discounts based on purchase amount.\n",
        "\n",
        "**5.Traffic Signal Response**  Determine action from light color.\n",
        "\n",
        "**6.Simple Authentication System**  Check username and password.\n",
        "\n",
        "**7.Voting Eligibility Checker**  Validate voting rights.\n",
        "\n",
        "**8.Nested Login Checks**  Validate username then password.\n",
        "\n",
        "**9.Even or Odd Checker**  Determine number parity.\n",
        "\n",
        "**10.Weather Advice Bot**  Suggest outfit based on weather."
      ],
      "metadata": {
        "id": "UgM4QgGB7E5l"
      }
    }
  ]
}