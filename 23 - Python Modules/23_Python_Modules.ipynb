{
  "nbformat": 4,
  "nbformat_minor": 0,
  "metadata": {
    "colab": {
      "provenance": []
    },
    "kernelspec": {
      "name": "python3",
      "display_name": "Python 3"
    },
    "language_info": {
      "name": "python"
    }
  },
  "cells": [
    {
      "cell_type": "markdown",
      "source": [
        "**Python Modules**"
      ],
      "metadata": {
        "id": "2oOMM-3UNo0d"
      }
    },
    {
      "cell_type": "markdown",
      "source": [
        "**1. What is a Module?**\n",
        "\n",
        "A module is a file containing Python definitions and statements. It allows you to organize your code logically and reuse it across projects."
      ],
      "metadata": {
        "id": "5uguyb2iNqzT"
      }
    },
    {
      "cell_type": "code",
      "source": [
        "# math is a built-in module\n",
        "import math\n",
        "print(math.sqrt(25))  # Output: 5.0\n"
      ],
      "metadata": {
        "id": "xlBhQsGLNyAS"
      },
      "execution_count": null,
      "outputs": []
    },
    {
      "cell_type": "markdown",
      "source": [
        "**2. Create a Module**\n",
        "\n",
        "You can create a module by saving Python code in a .py file.\n",
        "\n",
        "Example (my_module.py):"
      ],
      "metadata": {
        "id": "SnBld93hN1Ny"
      }
    },
    {
      "cell_type": "code",
      "source": [
        "def greet(name):\n",
        "    return f\"Hello, {name}!\"\n"
      ],
      "metadata": {
        "id": "_E98QP8PN6Yv"
      },
      "execution_count": null,
      "outputs": []
    },
    {
      "cell_type": "markdown",
      "source": [
        "**3. Use a Module**\n",
        "\n",
        "To use your module, import it into another Python script."
      ],
      "metadata": {
        "id": "vKeOh3XQN-h-"
      }
    },
    {
      "cell_type": "code",
      "source": [
        "import my_module\n",
        "print(my_module.greet(\"Ravi\"))\n"
      ],
      "metadata": {
        "id": "f469q7fVOBEQ"
      },
      "execution_count": null,
      "outputs": []
    },
    {
      "cell_type": "markdown",
      "source": [
        "**4. Variables in Module**\n",
        "\n",
        "Modules can contain variables that are accessible when imported.\n",
        "\n",
        "config.py"
      ],
      "metadata": {
        "id": "xOltzDf0OFSQ"
      }
    },
    {
      "cell_type": "code",
      "source": [
        "version = \"1.0\"\n"
      ],
      "metadata": {
        "id": "EXpZg-skOIoo"
      },
      "execution_count": null,
      "outputs": []
    },
    {
      "cell_type": "markdown",
      "source": [
        "Usage:"
      ],
      "metadata": {
        "id": "p7J_p3-fOU-y"
      }
    },
    {
      "cell_type": "code",
      "source": [
        "import config\n",
        "print(config.version)\n"
      ],
      "metadata": {
        "id": "RdTlyZC6OXah"
      },
      "execution_count": null,
      "outputs": []
    },
    {
      "cell_type": "markdown",
      "source": [
        "**5. Naming a Module**\n",
        "\n",
        "Modules should follow standard Python naming conventions: lowercase letters and underscores.\n",
        "\n",
        "Valid names: my_module.py, user_data.py"
      ],
      "metadata": {
        "id": "U74tdLqGOaLi"
      }
    },
    {
      "cell_type": "markdown",
      "source": [
        " **6. Re-naming a Module**\n",
        "\n",
        "Use the as keyword to rename a module during import.\n",
        "\n",
        "Example:"
      ],
      "metadata": {
        "id": "0XQb1ERxOgoQ"
      }
    },
    {
      "cell_type": "code",
      "source": [
        "import math as m\n",
        "print(m.pi)\n"
      ],
      "metadata": {
        "id": "5K0j25IHOksg"
      },
      "execution_count": null,
      "outputs": []
    },
    {
      "cell_type": "markdown",
      "source": [
        "**7. Built-in Modules**\n",
        "\n",
        "Python comes with many built-in modules like random, math, datetime, etc."
      ],
      "metadata": {
        "id": "VntO2ELgOnts"
      }
    },
    {
      "cell_type": "code",
      "source": [
        "import random\n",
        "print(random.randint(1, 10))\n"
      ],
      "metadata": {
        "id": "xhdj1DqFOqKT"
      },
      "execution_count": null,
      "outputs": []
    },
    {
      "cell_type": "markdown",
      "source": [
        "**8. Using the dir() Function**\n",
        "\n",
        "The dir() function lists all the functions, classes, and variables in a module.\n",
        "\n",
        "Example:"
      ],
      "metadata": {
        "id": "dW3wSdMbOtye"
      }
    },
    {
      "cell_type": "code",
      "source": [
        "import math\n",
        "print(dir(math))\n"
      ],
      "metadata": {
        "id": "p3OoMNKqOxcW"
      },
      "execution_count": null,
      "outputs": []
    },
    {
      "cell_type": "markdown",
      "source": [
        "**9. Import From Module**\n",
        "\n",
        "You can import specific functions or variables from a module.\n",
        "\n",
        "Example:"
      ],
      "metadata": {
        "id": "Ov4i1uLsO0W_"
      }
    },
    {
      "cell_type": "code",
      "source": [
        "from math import sqrt, pi\n",
        "print(sqrt(16))  # 4.0\n",
        "print(pi)        # 3.14159...\n"
      ],
      "metadata": {
        "id": "NrtdQr6dO31u"
      },
      "execution_count": null,
      "outputs": []
    }
  ]
}