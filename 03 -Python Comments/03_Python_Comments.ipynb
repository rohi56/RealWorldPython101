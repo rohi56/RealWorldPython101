{
  "cells": [
    {
      "cell_type": "markdown",
      "metadata": {
        "id": "eqWfUFVEBUPv"
      },
      "source": [
        "# 💬 03 - Python Comments\n",
        "\n",
        "Comments in Python are used to explain code and make it more readable. They are ignored by the Python interpreter."
      ]
    },
    {
      "cell_type": "markdown",
      "metadata": {
        "id": "Pz0XnC2OBUPx"
      },
      "source": [
        "## 📝 Creating a Comment\n",
        "\n",
        "A comment in Python starts with the `#` symbol. Anything following `#` on the same line is ignored."
      ]
    },
    {
      "cell_type": "code",
      "execution_count": null,
      "metadata": {
        "id": "wwQXY-b-BUPy"
      },
      "outputs": [],
      "source": [
        "# This is a comment\n",
        "print(\"Hello, World!\")  # This prints a greeting"
      ]
    },
    {
      "cell_type": "markdown",
      "metadata": {
        "id": "nR9xY2ABBUPz"
      },
      "source": [
        "## 📝 Multiline Comments\n",
        "\n",
        "There is no official multiline comment feature in Python like in some other languages. However, you can achieve similar behavior in two ways:"
      ]
    },
    {
      "cell_type": "markdown",
      "metadata": {
        "id": "ErVW_VwwBUPz"
      },
      "source": [
        "### ✅ Method 1: Using `#` on each line"
      ]
    },
    {
      "cell_type": "code",
      "execution_count": null,
      "metadata": {
        "id": "FVhxihMDBUPz"
      },
      "outputs": [],
      "source": [
        "# This is a comment\n",
        "# that spans multiple lines\n",
        "# using the hash symbol."
      ]
    },
    {
      "cell_type": "markdown",
      "metadata": {
        "id": "DHGR2pUTBUPz"
      },
      "source": [
        "### ✅ Method 2: Using a multi-line string (not recommended as a comment)\n",
        "\n",
        "Triple quotes can be used to write multiline text that looks like a comment. But Python treats it as a string, not a comment, unless it's used in documentation."
      ]
    },
    {
      "cell_type": "code",
      "execution_count": null,
      "metadata": {
        "id": "-Kq5uyIFBUPz"
      },
      "outputs": [],
      "source": [
        "\"\"\"\n",
        "This is a multi-line string.\n",
        "Used sometimes as a comment block.\n",
        "\"\"\""
      ]
    },
    {
      "cell_type": "markdown",
      "metadata": {
        "id": "VNg2SwXcBUP0"
      },
      "source": [
        "✅ Best practice: Use `#` for real comments and triple quotes for docstrings."
      ]
    },
    {
      "cell_type": "markdown",
      "metadata": {
        "id": "7_P7r1QSBUP0"
      },
      "source": [
        "## ✅ Docstrings (used for documentation)\n",
        "You can use triple quotes to document functions, classes, or modules. These are called *docstrings*."
      ]
    },
    {
      "cell_type": "code",
      "execution_count": null,
      "metadata": {
        "id": "GWLk_19nBUP0"
      },
      "outputs": [],
      "source": [
        "def greet(name):\n",
        "    \"\"\"This function greets the user by name.\"\"\"\n",
        "    print(f\"Hello, {name}!\")\n",
        "\n",
        "greet(\"Python\")"
      ]
    }
  ],
  "metadata": {
    "kernelspec": {
      "display_name": "Python 3",
      "language": "python",
      "name": "python3"
    },
    "language_info": {
      "name": "python"
    },
    "colab": {
      "provenance": []
    }
  },
  "nbformat": 4,
  "nbformat_minor": 0
}