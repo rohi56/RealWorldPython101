{
  "cells": [
    {
      "cell_type": "markdown",
      "metadata": {
        "id": "oEpDStY68sTg"
      },
      "source": [
        "# 🚀 01 - Python Getting Started\n",
        "Now that you know what Python is, let's get your environment ready to write and run Python code."
      ]
    },
    {
      "cell_type": "markdown",
      "metadata": {
        "id": "dbyjLgnP8sTi"
      },
      "source": [
        "## 🛠️ Python Installation\n",
        "### 🔹 Windows / macOS / Linux\n",
        "1. Visit the official site: [https://www.python.org/downloads](https://www.python.org/downloads)\n",
        "2. Download the latest version (Python 3.x)\n",
        "3. Run the installer\n",
        "4. ✅ **Important**: Check the box that says `Add Python to PATH` before clicking \"Install Now\"\n",
        "To verify the installation, open your terminal (Command Prompt or Terminal) and type:"
      ]
    },
    {
      "cell_type": "code",
      "execution_count": null,
      "metadata": {
        "id": "rY5_oB-Y8sTj"
      },
      "outputs": [],
      "source": [
        "!python --version"
      ]
    },
    {
      "cell_type": "markdown",
      "metadata": {
        "id": "Q1EpmOHo8sTk"
      },
      "source": [
        "## ⚡ Python Quickstart\n",
        "After installing Python, you can run Python in two main ways:"
      ]
    },
    {
      "cell_type": "markdown",
      "metadata": {
        "id": "8YjUQN4N8sTk"
      },
      "source": [
        "### ✅ Method 1: Using a `.py` file\n",
        "1. Open any text editor (like VS Code, Notepad++, Sublime Text)\n",
        "2. Write this code and save it as `hello.py`:"
      ]
    },
    {
      "cell_type": "code",
      "execution_count": null,
      "metadata": {
        "id": "foEhIC-O8sTk"
      },
      "outputs": [],
      "source": [
        "print(\"Hello, Python!\")"
      ]
    },
    {
      "cell_type": "markdown",
      "metadata": {
        "id": "EKPDpaXo8sTl"
      },
      "source": [
        "3. Open the terminal and run:"
      ]
    },
    {
      "cell_type": "code",
      "execution_count": null,
      "metadata": {
        "id": "_EXYg9nF8sTl"
      },
      "outputs": [],
      "source": [
        "!python hello.py"
      ]
    },
    {
      "cell_type": "markdown",
      "metadata": {
        "id": "75eQqDHQ8sTl"
      },
      "source": [
        "### ✅ Method 2: Using the Python Shell (Interactive Mode)\n",
        "1. Open your terminal\n",
        "2. Type `python` and press Enter\n",
        "3. You’ll see something like:\n",
        "```\n",
        "Python 3.x.x (default, ...)\n",
        ">>>\n",
        "```\n",
        "4. You can now type code directly:"
      ]
    },
    {
      "cell_type": "code",
      "execution_count": null,
      "metadata": {
        "id": "aQlN2Thq8sTl"
      },
      "outputs": [],
      "source": [
        "print(\"Hello Python\")"
      ]
    },
    {
      "cell_type": "markdown",
      "metadata": {
        "id": "NFyyFMW68sTl"
      },
      "source": [
        "To exit:\n",
        "- On Windows: `Ctrl + Z`, then Enter\n",
        "- On Mac/Linux: `Ctrl + D`"
      ]
    },
    {
      "cell_type": "markdown",
      "metadata": {
        "id": "0fgQsi7o8sTm"
      },
      "source": [
        "## 🔍 Checking Python Version\n",
        "To confirm which Python version is installed, run:"
      ]
    },
    {
      "cell_type": "code",
      "execution_count": null,
      "metadata": {
        "id": "H6-YT2W88sTm"
      },
      "outputs": [],
      "source": [
        "!python --version"
      ]
    },
    {
      "cell_type": "markdown",
      "metadata": {
        "id": "qlm21y668sTm"
      },
      "source": [
        "If you're using both Python 2 and 3 on your system, you might need to use:"
      ]
    },
    {
      "cell_type": "code",
      "execution_count": null,
      "metadata": {
        "id": "2ywrKVVF8sTm"
      },
      "outputs": [],
      "source": [
        "!python3 --version"
      ]
    },
    {
      "cell_type": "markdown",
      "metadata": {
        "id": "Ycv9IYsw8sTm"
      },
      "source": [
        "## 🧪 The Python Command Line\n",
        "The **Python command line interface** (also called the **REPL**) allows you to test small pieces of code quickly.\n",
        "### Example:"
      ]
    },
    {
      "cell_type": "code",
      "execution_count": null,
      "metadata": {
        "id": "nyRpwn4P8sTm"
      },
      "outputs": [],
      "source": [
        "a = 10\n",
        "b = 5\n",
        "a + b"
      ]
    },
    {
      "cell_type": "markdown",
      "metadata": {
        "id": "Vrs6hycx8sTm"
      },
      "source": [
        "This is useful for learning, debugging, or quick calculations."
      ]
    },
    {
      "cell_type": "markdown",
      "metadata": {
        "id": "sJHpbDm08sTm"
      },
      "source": [
        "## 🛑 Common Errors\n",
        "- `'python' is not recognized`: You may have forgotten to add Python to your system PATH.\n",
        "- Typing errors like `Print()` (Python is case-sensitive; it should be `print()`)."
      ]
    }
  ],
  "metadata": {
    "kernelspec": {
      "display_name": "Python 3",
      "language": "python",
      "name": "python3"
    },
    "language_info": {
      "name": "python"
    },
    "colab": {
      "provenance": []
    }
  },
  "nbformat": 4,
  "nbformat_minor": 0
}