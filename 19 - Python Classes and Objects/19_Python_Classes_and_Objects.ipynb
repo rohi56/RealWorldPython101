{
  "nbformat": 4,
  "nbformat_minor": 0,
  "metadata": {
    "colab": {
      "provenance": []
    },
    "kernelspec": {
      "name": "python3",
      "display_name": "Python 3"
    },
    "language_info": {
      "name": "python"
    }
  },
  "cells": [
    {
      "cell_type": "markdown",
      "source": [
        "**Python Classes and Objects**"
      ],
      "metadata": {
        "id": "a71xebnyKgPQ"
      }
    },
    {
      "cell_type": "markdown",
      "source": [
        "Python is an object-oriented programming language. Everything in Python is an object, and classes allow us to define the blueprint for creating those objects. Objects are instances of classes and hold both data (attributes) and behavior (methods)."
      ],
      "metadata": {
        "id": "VF9fZ4LVKjh6"
      }
    },
    {
      "cell_type": "markdown",
      "source": [
        "**1. Python Classes/Objects**\n",
        "\n",
        "A class is a blueprint for creating objects."
      ],
      "metadata": {
        "id": "-U4pAb1HKmte"
      }
    },
    {
      "cell_type": "code",
      "source": [
        "class Person:\n",
        "    name = \"John\"\n"
      ],
      "metadata": {
        "id": "k2GKB20cKqHY"
      },
      "execution_count": 2,
      "outputs": []
    },
    {
      "cell_type": "markdown",
      "source": [
        "**2. Create a Class**\n",
        "\n",
        "Use the class keyword to define a class."
      ],
      "metadata": {
        "id": "WN7_7BqPKtSr"
      }
    },
    {
      "cell_type": "code",
      "source": [
        "class Car:\n",
        "    brand = \"Toyota\"\n",
        "    year = 2022\n"
      ],
      "metadata": {
        "id": "oXmeGagoKwPA"
      },
      "execution_count": 1,
      "outputs": []
    },
    {
      "cell_type": "markdown",
      "source": [
        "**3. Create Object**\n",
        "\n",
        "Instantiate an object by calling the class name."
      ],
      "metadata": {
        "id": "Iv20TjOmK3wY"
      }
    },
    {
      "cell_type": "code",
      "source": [
        "mycar = Car()\n",
        "print(mycar.brand)\n"
      ],
      "metadata": {
        "colab": {
          "base_uri": "https://localhost:8080/"
        },
        "id": "TOxiPsm0K618",
        "outputId": "25d6a682-cd07-4196-d15e-cf7d5b6caa68"
      },
      "execution_count": 3,
      "outputs": [
        {
          "output_type": "stream",
          "name": "stdout",
          "text": [
            "Toyota\n"
          ]
        }
      ]
    },
    {
      "cell_type": "markdown",
      "source": [
        "**4. The __init__() Function**\n",
        "\n",
        "A special method called when the object is created (constructor)."
      ],
      "metadata": {
        "id": "3PHVqbylK_B0"
      }
    },
    {
      "cell_type": "code",
      "source": [
        "class Person:\n",
        "    def __init__(self, name):\n",
        "        self.name = name\n",
        "\n",
        "p = Person(\"Alice\")\n",
        "print(p.name)\n"
      ],
      "metadata": {
        "colab": {
          "base_uri": "https://localhost:8080/"
        },
        "id": "eiO8HqRLLDYB",
        "outputId": "8a86d474-551a-41e6-c565-d6aaaca20543"
      },
      "execution_count": 4,
      "outputs": [
        {
          "output_type": "stream",
          "name": "stdout",
          "text": [
            "Alice\n"
          ]
        }
      ]
    },
    {
      "cell_type": "markdown",
      "source": [
        "**5. The __str__() Function**\n",
        "\n",
        "Defines the string representation of the object."
      ],
      "metadata": {
        "id": "bCEm8PzLLGk3"
      }
    },
    {
      "cell_type": "code",
      "source": [
        "class Fruit:\n",
        "    def __init__(self, name):\n",
        "        self.name = name\n",
        "    def __str__(self):\n",
        "        return f\"Fruit name is {self.name}\"\n",
        "\n",
        "f = Fruit(\"Apple\")\n",
        "print(f)\n"
      ],
      "metadata": {
        "colab": {
          "base_uri": "https://localhost:8080/"
        },
        "id": "D6krERJVLJsP",
        "outputId": "47149947-fb7e-4d07-aa9c-55fda4ac9f40"
      },
      "execution_count": 5,
      "outputs": [
        {
          "output_type": "stream",
          "name": "stdout",
          "text": [
            "Fruit name is Apple\n"
          ]
        }
      ]
    },
    {
      "cell_type": "markdown",
      "source": [
        "**6. Object Methods**\n",
        "\n",
        "Functions defined inside a class that work with object data."
      ],
      "metadata": {
        "id": "36bR50JZLNO9"
      }
    },
    {
      "cell_type": "code",
      "source": [
        "class Person:\n",
        "    def __init__(self, name):\n",
        "        self.name = name\n",
        "    def greet(self):\n",
        "        print(f\"Hi, I’m {self.name}\")\n",
        "\n",
        "p = Person(\"Alex\")\n",
        "p.greet()\n"
      ],
      "metadata": {
        "colab": {
          "base_uri": "https://localhost:8080/"
        },
        "id": "bGI2piftLQTn",
        "outputId": "868a1ef2-0260-4b97-f469-38131cbb4cbc"
      },
      "execution_count": 6,
      "outputs": [
        {
          "output_type": "stream",
          "name": "stdout",
          "text": [
            "Hi, I’m Alex\n"
          ]
        }
      ]
    },
    {
      "cell_type": "markdown",
      "source": [
        "**7. The self Parameter**\n",
        "\n",
        "Refers to the current instance of the class."
      ],
      "metadata": {
        "id": "s9tozr2eLUXp"
      }
    },
    {
      "cell_type": "code",
      "source": [
        "class Animal:\n",
        "    def __init__(self, species):\n",
        "        self.species = species\n"
      ],
      "metadata": {
        "id": "Ze9OTRXCLY0P"
      },
      "execution_count": 7,
      "outputs": []
    },
    {
      "cell_type": "markdown",
      "source": [
        "**8. Modify Object Properties**\n",
        "\n",
        "You can change properties using the object reference."
      ],
      "metadata": {
        "id": "pkdNSk5pLcDf"
      }
    },
    {
      "cell_type": "code",
      "source": [
        "p.name = \"David\"\n",
        "print(p.name)\n"
      ],
      "metadata": {
        "colab": {
          "base_uri": "https://localhost:8080/"
        },
        "id": "-bKV7On3LfLz",
        "outputId": "f34806c2-7b0e-4fed-f8f5-97d0016717db"
      },
      "execution_count": 8,
      "outputs": [
        {
          "output_type": "stream",
          "name": "stdout",
          "text": [
            "David\n"
          ]
        }
      ]
    },
    {
      "cell_type": "markdown",
      "source": [
        "**9. Delete Object Properties**\n",
        "\n",
        "Use del to remove attributes."
      ],
      "metadata": {
        "id": "HYiPbn2SLjLr"
      }
    },
    {
      "cell_type": "code",
      "source": [
        "del p.name\n"
      ],
      "metadata": {
        "id": "ssfR619pLm3W"
      },
      "execution_count": 9,
      "outputs": []
    },
    {
      "cell_type": "markdown",
      "source": [
        "**10. Delete Objects**\n",
        "\n",
        "You can delete an entire object using del."
      ],
      "metadata": {
        "id": "tRYM8RitLqLT"
      }
    },
    {
      "cell_type": "code",
      "source": [
        "del p\n"
      ],
      "metadata": {
        "id": "ojDUThlRLtea"
      },
      "execution_count": 10,
      "outputs": []
    },
    {
      "cell_type": "markdown",
      "source": [
        "**11. The pass Statement**\n",
        "\n",
        "Useful as a placeholder when no code is needed yet."
      ],
      "metadata": {
        "id": "tS3yr06rLwwx"
      }
    },
    {
      "cell_type": "code",
      "source": [
        "class Empty:\n",
        "    pass\n"
      ],
      "metadata": {
        "id": "nkkjgYf_Lzk5"
      },
      "execution_count": 11,
      "outputs": []
    },
    {
      "cell_type": "markdown",
      "source": [
        "**Real-Time Problem Statements Using Python Classes and Objects**\n",
        "\n",
        "**1.Bank Account Manager**\n",
        "\n",
        "Create a class to handle account creation, deposit, withdrawal, and balance check.\n",
        "\n",
        "**2.Student Report Card System**\n",
        "\n",
        "Define a Student class with attributes like name, grades, and methods to calculate average and grade.\n",
        "\n",
        "**3.E-Commerce Product Catalog**\n",
        "\n",
        "Design a Product class to store product ID, name, price, and stock quantity.\n",
        "\n",
        "**4.Library Management System**\n",
        "\n",
        "Model a Book class with properties like title, author, and availability, and methods for issuing/returning.\n",
        "\n",
        "**5.Employee Management System**\n",
        "\n",
        "Use an Employee class to track details like name, department, salary, and promotion eligibility.\n",
        "\n",
        "**6.Vehicle Registration System**\n",
        "\n",
        "Create a Vehicle class with number plate, owner, model, and year; include a method to update ownership.\n",
        "\n",
        "**7.Online Course Enrollment**\n",
        "\n",
        "Build a Course class to enroll students, track completions, and assign grades.\n",
        "\n",
        "**8.Inventory Tracker**\n",
        "\n",
        "Maintain stock levels, reorder alerts, and supplier info using an InventoryItem class.\n",
        "\n",
        "**9.Fitness Tracker App**\n",
        "\n",
        "Model a User class with daily workout logs, calorie tracking, and fitness goals.\n",
        "\n",
        "**10.Restaurant Menu Manager**\n",
        "\n",
        "Create a MenuItem class with dish name, price, and category, and methods to update availability."
      ],
      "metadata": {
        "id": "ykZmHInBL6dD"
      }
    }
  ]
}