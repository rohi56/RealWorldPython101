{
  "nbformat": 4,
  "nbformat_minor": 0,
  "metadata": {
    "colab": {
      "provenance": []
    },
    "kernelspec": {
      "name": "python3",
      "display_name": "Python 3"
    },
    "language_info": {
      "name": "python"
    }
  },
  "cells": [
    {
      "cell_type": "markdown",
      "source": [
        "**Real-Time Problem Statements Using Python Classes and Objects**\n",
        "\n"
      ],
      "metadata": {
        "id": "kVRsoFAXMnxh"
      }
    },
    {
      "cell_type": "markdown",
      "source": [
        "**1.Bank Account Manager**\n",
        "\n",
        "Create a class to handle account creation, deposit, withdrawal, and balance check.\n",
        "\n"
      ],
      "metadata": {
        "id": "MMXuDIL_Msr7"
      }
    },
    {
      "cell_type": "code",
      "source": [
        "class bank_account:\n",
        "  def __init__(self, owner, balance =0):\n",
        "    self.owner = owner\n",
        "    self.balance = balance\n",
        "\n",
        "  def deposit(self, amount):\n",
        "    self.balance += amount\n",
        "\n",
        "  def withdrawal(self, amount):\n",
        "    if amount<= self.balance:\n",
        "      self.balance -= amount\n",
        "    else:\n",
        "      print(\"Insufficient amount\")\n",
        "\n",
        "  def balance_check(self):\n",
        "    return f\"{self.owner}'s balance :{self.balance}\"\n",
        "\n",
        "\n"
      ],
      "metadata": {
        "id": "PBLbrXDJObIW"
      },
      "execution_count": 4,
      "outputs": []
    },
    {
      "cell_type": "code",
      "source": [
        "acc = bank_account(\"Akshay\", 100)\n",
        "acc.deposit(1000)\n",
        "acc.withdrawal(200)\n",
        "print(acc.balance_check())"
      ],
      "metadata": {
        "colab": {
          "base_uri": "https://localhost:8080/"
        },
        "id": "G8EizweeQIVN",
        "outputId": "58158e1f-2538-42c4-9103-82b9a1efa716"
      },
      "execution_count": 5,
      "outputs": [
        {
          "output_type": "stream",
          "name": "stdout",
          "text": [
            "Akshay's balance :900\n"
          ]
        }
      ]
    },
    {
      "cell_type": "markdown",
      "source": [
        "**2.Student Report Card System**\n",
        "\n",
        "Define a Student class with attributes like name, grades, and methods to calculate average and grade.\n",
        "\n"
      ],
      "metadata": {
        "id": "WldS4kMBMvQb"
      }
    },
    {
      "cell_type": "code",
      "source": [
        "class Student:\n",
        "  def __init__(self, name, age, grade):\n",
        "    self.name = name\n",
        "    self.age = age\n",
        "    self.grade = grade\n",
        "\n",
        "  def display(self):\n",
        "    return f\"{self.name} age is {self.age} and his grade is {self.grade}\""
      ],
      "metadata": {
        "id": "TU4wnr8URAlr"
      },
      "execution_count": 6,
      "outputs": []
    },
    {
      "cell_type": "code",
      "source": [
        "s1 = Student(\"Kiki\", 5, \"A+\")\n",
        "print(s1.display())"
      ],
      "metadata": {
        "colab": {
          "base_uri": "https://localhost:8080/"
        },
        "id": "gnkvibaNRqsr",
        "outputId": "13ebe336-8760-440f-95de-762905afa894"
      },
      "execution_count": 7,
      "outputs": [
        {
          "output_type": "stream",
          "name": "stdout",
          "text": [
            "Kiki age is 5 and his grade is A+\n"
          ]
        }
      ]
    },
    {
      "cell_type": "markdown",
      "source": [
        "**3.E-Commerce Product Catalog**\n",
        "\n",
        "Design a Product class to store product ID, name, price, and stock quantity.\n",
        "\n"
      ],
      "metadata": {
        "id": "_5RfR4XUMxqf"
      }
    },
    {
      "cell_type": "code",
      "source": [
        "class Product:\n",
        "    def __init__(self):\n",
        "        self.items = {}\n",
        "\n",
        "    def add_product(self, item):\n",
        "        if item in self.items:\n",
        "            self.items[item] += 1\n",
        "        else:\n",
        "            self.items[item] = 1\n",
        "\n",
        "    def remove_product(self, item):\n",
        "        if item in self.items:\n",
        "            self.items[item] -= 1\n",
        "            if self.items[item] == 0:\n",
        "                del self.items[item]\n",
        "        else:\n",
        "            print(f\"{item} not in cart.\")\n",
        "\n",
        "    def show_cart(self):\n",
        "        return f\"Cart Items: {self.items}\"\n",
        "\n",
        "    def show_quantity(self, item):\n",
        "        return self.items.get(item, 0)\n"
      ],
      "metadata": {
        "id": "2yepOH5hckYJ"
      },
      "execution_count": 8,
      "outputs": []
    },
    {
      "cell_type": "code",
      "source": [
        "cart = Product()\n",
        "cart.add_product(\"Apple\")\n",
        "cart.add_product(\"Apple\")\n",
        "cart.add_product(\"Banana\")\n",
        "print(cart.show_cart())          # Cart Items: {'Apple': 2, 'Banana': 1}\n",
        "print(cart.show_quantity(\"Apple\"))  # 2\n",
        "cart.remove_product(\"Apple\")\n",
        "print(cart.show_cart())          # Cart Items: {'Apple': 1, 'Banana': 1}\n"
      ],
      "metadata": {
        "colab": {
          "base_uri": "https://localhost:8080/"
        },
        "id": "UTL5keE3eUBe",
        "outputId": "0979ec3a-da26-42fc-f9be-5d97319ea5cf"
      },
      "execution_count": 9,
      "outputs": [
        {
          "output_type": "stream",
          "name": "stdout",
          "text": [
            "Cart Items: {'Apple': 2, 'Banana': 1}\n",
            "2\n",
            "Cart Items: {'Apple': 1, 'Banana': 1}\n"
          ]
        }
      ]
    },
    {
      "cell_type": "markdown",
      "source": [
        "**4.Library Management System**\n",
        "\n",
        "Model a Book class with properties like title, author, and availability, and methods for issuing/returning.\n",
        "\n"
      ],
      "metadata": {
        "id": "ejc7kx8JMz_l"
      }
    },
    {
      "cell_type": "code",
      "source": [
        "class Book:\n",
        "    def __init__(self, title, author):\n",
        "        self.title = title\n",
        "        self.author = author\n",
        "        self.available = True\n",
        "\n",
        "    def borrow(self):\n",
        "        if self.available:\n",
        "            self.available = False\n",
        "            print(f\"You borrowed '{self.title}'\")\n",
        "        else:\n",
        "            print(\"Not available\")\n",
        "\n",
        "    def return_book(self):\n",
        "        self.available = True\n",
        "        print(f\"'{self.title}' returned\")\n",
        "\n",
        "b1 = Book(\"1984\", \"George Orwell\")\n",
        "b1.borrow()\n",
        "b1.return_book()\n"
      ],
      "metadata": {
        "colab": {
          "base_uri": "https://localhost:8080/"
        },
        "id": "BXLFscdqeeth",
        "outputId": "49a5ac53-dd01-43da-b4c8-b71389d97099"
      },
      "execution_count": 10,
      "outputs": [
        {
          "output_type": "stream",
          "name": "stdout",
          "text": [
            "You borrowed '1984'\n",
            "'1984' returned\n"
          ]
        }
      ]
    },
    {
      "cell_type": "markdown",
      "source": [
        "**5.Employee Management System**\n",
        "\n",
        "Use an Employee class to track details like name, department, salary, and promotion eligibility.\n",
        "\n"
      ],
      "metadata": {
        "id": "4MxXOjQjM2WI"
      }
    },
    {
      "cell_type": "code",
      "source": [
        "class Employee:\n",
        "  def __init__(self, emp_name, department,salary):\n",
        "    self.name = emp_name\n",
        "    self.department = department\n",
        "    self.salary = salary\n",
        "    self.is_eligible_promotion = False\n",
        "\n",
        "  def promotion(self, rating):\n",
        "    if rating>=4.0:\n",
        "      self.is_eligible_promotion = True\n",
        "\n",
        "  def display(self):\n",
        "    status= 'Yes' if self.is_eligible_promotion else \"No\"\n",
        "    print(f\"{self.name} | {self.department} | ₹{self.salary} | Promotion Eligible: {status}\")\n",
        "\n"
      ],
      "metadata": {
        "id": "nlsa0-WvezpC"
      },
      "execution_count": 18,
      "outputs": []
    },
    {
      "cell_type": "code",
      "source": [
        "emp1 = Employee(\"Anjali\", \"HR\", 50000)\n",
        "emp1.promotion(4.5)\n",
        "emp1.display()"
      ],
      "metadata": {
        "colab": {
          "base_uri": "https://localhost:8080/"
        },
        "id": "KZSP0eXRgTET",
        "outputId": "fd5b2ab7-e0ec-4d74-ceec-698ad8389fb3"
      },
      "execution_count": 19,
      "outputs": [
        {
          "output_type": "stream",
          "name": "stdout",
          "text": [
            "Anjali | HR | ₹50000 | Promotion Eligible: Yes\n"
          ]
        }
      ]
    },
    {
      "cell_type": "markdown",
      "source": [
        "**6.Vehicle Registration System**\n",
        "\n",
        "Create a Vehicle class with number plate, owner, model, and year; include a method to update ownership.\n",
        "\n"
      ],
      "metadata": {
        "id": "H6uJSCcdM4pN"
      }
    },
    {
      "cell_type": "code",
      "source": [
        "class Vehicle:\n",
        "    def __init__(self, plate, owner, model, year):\n",
        "        self.plate = plate\n",
        "        self.owner = owner\n",
        "        self.model = model\n",
        "        self.year = year\n",
        "\n",
        "    def update_owner(self, new_owner):\n",
        "        self.owner = new_owner\n",
        "\n",
        "    def display(self):\n",
        "        print(f\"{self.plate} | {self.model} | {self.year} | Owner: {self.owner}\")\n",
        "\n",
        "car = Vehicle(\"MH12AB1234\", \"Ravi\", \"Hyundai i20\", 2020)\n",
        "car.update_owner(\"Sneha\")\n",
        "car.display()\n"
      ],
      "metadata": {
        "colab": {
          "base_uri": "https://localhost:8080/"
        },
        "id": "z5KFSvBFhKoS",
        "outputId": "350f6db7-2ba6-4d19-9bdb-f1d52184646d"
      },
      "execution_count": 20,
      "outputs": [
        {
          "output_type": "stream",
          "name": "stdout",
          "text": [
            "MH12AB1234 | Hyundai i20 | 2020 | Owner: Sneha\n"
          ]
        }
      ]
    },
    {
      "cell_type": "markdown",
      "source": [
        "**7.Online Course Enrollment**\n",
        "\n",
        "Build a Course class to enroll students, track completions, and assign grades.\n",
        "\n"
      ],
      "metadata": {
        "id": "3cs2G4P1M7TJ"
      }
    },
    {
      "cell_type": "code",
      "source": [
        "class Course:\n",
        "    def __init__(self, course_name):\n",
        "        self.course_name = course_name\n",
        "        self.students = {}\n",
        "\n",
        "    def enroll(self, student_name):\n",
        "        self.students[student_name] = {\"completed\": False, \"grade\": None}\n",
        "\n",
        "    def complete_course(self, student_name, grade):\n",
        "        if student_name in self.students:\n",
        "            self.students[student_name][\"completed\"] = True\n",
        "            self.students[student_name][\"grade\"] = grade\n",
        "\n",
        "    def show_students(self):\n",
        "        print(self.students)\n",
        "\n",
        "course = Course(\"Python 101\")\n",
        "course.enroll(\"Amit\")\n",
        "course.complete_course(\"Amit\", \"A\")\n",
        "course.show_students()\n"
      ],
      "metadata": {
        "colab": {
          "base_uri": "https://localhost:8080/"
        },
        "id": "2sU6HWr0hRw7",
        "outputId": "ec3fe93d-e308-46a6-bea8-30a24e60ed50"
      },
      "execution_count": 21,
      "outputs": [
        {
          "output_type": "stream",
          "name": "stdout",
          "text": [
            "{'Amit': {'completed': True, 'grade': 'A'}}\n"
          ]
        }
      ]
    },
    {
      "cell_type": "markdown",
      "source": [
        "**8.Inventory Tracker**\n",
        "\n",
        "Maintain stock levels, reorder alerts, and supplier info using an InventoryItem class.\n",
        "\n"
      ],
      "metadata": {
        "id": "3Uhnv5CSM90H"
      }
    },
    {
      "cell_type": "code",
      "source": [
        "class InventoryItem:\n",
        "    def __init__(self, name, quantity, reorder_level, supplier):\n",
        "        self.name = name\n",
        "        self.quantity = quantity\n",
        "        self.reorder_level = reorder_level\n",
        "        self.supplier = supplier\n",
        "\n",
        "    def check_reorder(self):\n",
        "        return self.quantity <= self.reorder_level\n",
        "\n",
        "    def display(self):\n",
        "        status = \"Reorder Needed\" if self.check_reorder() else \"Sufficient Stock\"\n",
        "        print(f\"{self.name} | Qty: {self.quantity} | Supplier: {self.supplier} | {status}\")\n",
        "\n",
        "item = InventoryItem(\"Laptop\", 5, 10, \"TechStore Inc.\")\n",
        "item.display()\n"
      ],
      "metadata": {
        "colab": {
          "base_uri": "https://localhost:8080/"
        },
        "id": "Eb824lrihYdX",
        "outputId": "32dea2bd-f5e8-409d-dbf8-6660f2dd400e"
      },
      "execution_count": 22,
      "outputs": [
        {
          "output_type": "stream",
          "name": "stdout",
          "text": [
            "Laptop | Qty: 5 | Supplier: TechStore Inc. | Reorder Needed\n"
          ]
        }
      ]
    },
    {
      "cell_type": "markdown",
      "source": [
        "**9.Fitness Tracker App**\n",
        "\n",
        "Model a User class with daily workout logs, calorie tracking, and fitness goals.\n",
        "\n"
      ],
      "metadata": {
        "id": "wz9UBiLZNA3T"
      }
    },
    {
      "cell_type": "code",
      "source": [
        "class User:\n",
        "    def __init__(self, name):\n",
        "        self.name = name\n",
        "        self.logs = []\n",
        "        self.calories = 0\n",
        "        self.goal = 500\n",
        "\n",
        "    def log_workout(self, workout, calories_burned):\n",
        "        self.logs.append(workout)\n",
        "        self.calories += calories_burned\n",
        "\n",
        "    def check_goal(self):\n",
        "        return self.calories >= self.goal\n",
        "\n",
        "    def summary(self):\n",
        "        print(f\"{self.name} | Workouts: {self.logs} | Calories Burned: {self.calories} | Goal Reached: {self.check_goal()}\")\n",
        "\n",
        "user1 = User(\"Sanya\")\n",
        "user1.log_workout(\"Running\", 300)\n",
        "user1.log_workout(\"Cycling\", 250)\n",
        "user1.summary()\n"
      ],
      "metadata": {
        "colab": {
          "base_uri": "https://localhost:8080/"
        },
        "id": "HjFVM5d6hbPP",
        "outputId": "bebad3a3-55ff-4ff8-acee-2069241931fc"
      },
      "execution_count": 23,
      "outputs": [
        {
          "output_type": "stream",
          "name": "stdout",
          "text": [
            "Sanya | Workouts: ['Running', 'Cycling'] | Calories Burned: 550 | Goal Reached: True\n"
          ]
        }
      ]
    },
    {
      "cell_type": "markdown",
      "source": [
        "**10.Restaurant Menu Manager**\n",
        "\n",
        "Create a MenuItem class with dish name, price, and category, and methods to update availability."
      ],
      "metadata": {
        "id": "rG-lEWfjND0O"
      }
    },
    {
      "cell_type": "code",
      "source": [
        "class MenuItem:\n",
        "    def __init__(self, name, price, category):\n",
        "        self.name = name\n",
        "        self.price = price\n",
        "        self.category = category\n",
        "        self.available = True\n",
        "\n",
        "    def update_availability(self, status):\n",
        "        self.available = status\n",
        "\n",
        "    def display(self):\n",
        "        status = \"Available\" if self.available else \"Unavailable\"\n",
        "        print(f\"{self.name} | ₹{self.price} | {self.category} | {status}\")\n",
        "\n",
        "dish = MenuItem(\"Paneer Butter Masala\", 220, \"Main Course\")\n",
        "dish.update_availability(False)\n",
        "dish.display()\n"
      ],
      "metadata": {
        "colab": {
          "base_uri": "https://localhost:8080/"
        },
        "id": "IbXD5u2qhd21",
        "outputId": "b9919864-81e2-4dfc-a515-4e0edc8a13b6"
      },
      "execution_count": 24,
      "outputs": [
        {
          "output_type": "stream",
          "name": "stdout",
          "text": [
            "Paneer Butter Masala | ₹220 | Main Course | Unavailable\n"
          ]
        }
      ]
    }
  ]
}