{
  "nbformat": 4,
  "nbformat_minor": 0,
  "metadata": {
    "colab": {
      "provenance": []
    },
    "kernelspec": {
      "name": "python3",
      "display_name": "Python 3"
    },
    "language_info": {
      "name": "python"
    }
  },
  "cells": [
    {
      "cell_type": "markdown",
      "source": [
        "**Python Datetime**"
      ],
      "metadata": {
        "id": "7utQRUK4Sup9"
      }
    },
    {
      "cell_type": "markdown",
      "source": [
        "The datetime module in Python allows you to work with dates, times, or both, enabling date formatting, arithmetic, comparisons, and timezone operations. It's widely used in logging, time tracking, and scheduling systems."
      ],
      "metadata": {
        "id": "ornrAqNcS0jS"
      }
    },
    {
      "cell_type": "markdown",
      "source": [
        "**Python Dates**\n",
        "\n",
        "Used to work with both date and time."
      ],
      "metadata": {
        "id": "iWcbUFPZS26I"
      }
    },
    {
      "cell_type": "code",
      "source": [
        "import datetime\n",
        "current_date = datetime.datetime.now()\n",
        "print(current_date)\n"
      ],
      "metadata": {
        "colab": {
          "base_uri": "https://localhost:8080/"
        },
        "id": "365MT03PS59_",
        "outputId": "785e1c7a-f224-4e13-91d5-797715a40872"
      },
      "execution_count": 1,
      "outputs": [
        {
          "output_type": "stream",
          "name": "stdout",
          "text": [
            "2025-05-21 00:44:05.538086\n"
          ]
        }
      ]
    },
    {
      "cell_type": "markdown",
      "source": [
        "**Date Output**\n",
        "\n",
        "Print specific parts of a date."
      ],
      "metadata": {
        "id": "55a34YkFS87m"
      }
    },
    {
      "cell_type": "code",
      "source": [
        "now = datetime.datetime.now()\n",
        "print(now.year)\n",
        "print(now.strftime(\"%A\"))  # Day name\n"
      ],
      "metadata": {
        "colab": {
          "base_uri": "https://localhost:8080/"
        },
        "id": "HRgfapLUS_Yo",
        "outputId": "282815c2-d23b-4e1f-8550-c53898207473"
      },
      "execution_count": 2,
      "outputs": [
        {
          "output_type": "stream",
          "name": "stdout",
          "text": [
            "2025\n",
            "Wednesday\n"
          ]
        }
      ]
    },
    {
      "cell_type": "markdown",
      "source": [
        "**Creating Date Objects**\n",
        "\n",
        "Create a date or datetime object manually."
      ],
      "metadata": {
        "id": "PoEiOobFTDVY"
      }
    },
    {
      "cell_type": "code",
      "source": [
        "from datetime import datetime\n",
        "my_birthday = datetime(1990, 5, 21)\n",
        "print(my_birthday)\n"
      ],
      "metadata": {
        "colab": {
          "base_uri": "https://localhost:8080/"
        },
        "id": "XqTOYVOLTPR3",
        "outputId": "f170ac24-8746-49c2-a194-f9a08e8eaa2e"
      },
      "execution_count": 3,
      "outputs": [
        {
          "output_type": "stream",
          "name": "stdout",
          "text": [
            "1990-05-21 00:00:00\n"
          ]
        }
      ]
    },
    {
      "cell_type": "markdown",
      "source": [
        "**The strftime() Method**\n",
        "\n",
        "Format datetime objects into readable strings."
      ],
      "metadata": {
        "id": "gqbIRbR5TUU5"
      }
    },
    {
      "cell_type": "code",
      "source": [
        "now = datetime.now()\n",
        "formatted = now.strftime(\"%Y-%m-%d %H:%M:%S\")\n",
        "print(formatted)\n"
      ],
      "metadata": {
        "colab": {
          "base_uri": "https://localhost:8080/"
        },
        "id": "ycICHEVRTXxi",
        "outputId": "f6a3b461-9789-4043-b51c-05ba89789ec8"
      },
      "execution_count": 4,
      "outputs": [
        {
          "output_type": "stream",
          "name": "stdout",
          "text": [
            "2025-05-21 00:45:31\n"
          ]
        }
      ]
    },
    {
      "cell_type": "markdown",
      "source": [
        "**Reference of All Legal Format Codes**\n",
        "\n",
        "| Directive | Description             | Example   |\n",
        "| --------- | ----------------------- | --------- |\n",
        "| `%a`      | Weekday, short          | Wed       |\n",
        "| `%A`      | Weekday, full           | Wednesday |\n",
        "| `%d`      | Day of month (01-31)    | 07        |\n",
        "| `%b`      | Month name, short       | May       |\n",
        "| `%B`      | Month name, full        | May       |\n",
        "| `%m`      | Month as number (01–12) | 05        |\n",
        "| `%Y`      | Year (full)             | 2025      |\n",
        "| `%H`      | Hour (00–23)            | 14        |\n",
        "| `%M`      | Minute (00–59)          | 45        |\n",
        "| `%S`      | Second (00–59)          | 30        |\n",
        "| `%p`      | AM/PM                   | PM        |\n",
        "| `%%`      | A % character           | %         |\n"
      ],
      "metadata": {
        "id": "TELAb79HTcbE"
      }
    },
    {
      "cell_type": "markdown",
      "source": [
        "**10 Real-Time Problem Statements Using datetime**\n",
        "\n",
        "**1. Age Calculator**\n",
        "\n",
        "*Input*: DOB → Output: Age in years, months, days.\n",
        "\n",
        "**2. Subscription Expiry Checker**\n",
        "\n",
        "Notify users when their subscription is nearing expiry using today() and comparison.\n",
        "\n",
        "**3. Employee Attendance Logger**\n",
        "\n",
        "Track login/logout timestamps and calculate daily working hours.\n",
        "\n",
        "**4. Countdown Timer**\n",
        "\n",
        "Show time remaining to an event like New Year or Product Launch.\n",
        "\n",
        "**5. Daily Backup Scheduler**\n",
        "\n",
        "Run automated scripts only if the last backup was older than 24 hours.\n",
        "\n",
        "**6. Timezone Converter**\n",
        "\n",
        "Convert a timestamp between timezones using pytz or zoneinfo.\n",
        "\n",
        "**7. Invoice Generator**\n",
        "\n",
        "Automatically stamp invoice with the current date and format it nicely using strftime().\n",
        "\n",
        "**8. Blog Publishing Scheduler**\n",
        "\n",
        "Schedule posts using datetime to go live on a specific future date/time.\n",
        "\n",
        "**9. Meeting Reminder System**\n",
        "\n",
        "Show \"X hours left\" using time delta between current time and meeting time.\n",
        "\n",
        "**10. Habit Tracker**\n",
        "\n",
        "Track daily habits and filter them using datetime for weekly/monthly stats."
      ],
      "metadata": {
        "id": "tIlJ0RhJTmlw"
      }
    }
  ]
}