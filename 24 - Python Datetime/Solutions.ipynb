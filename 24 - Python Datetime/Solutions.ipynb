{
  "nbformat": 4,
  "nbformat_minor": 0,
  "metadata": {
    "colab": {
      "provenance": []
    },
    "kernelspec": {
      "name": "python3",
      "display_name": "Python 3"
    },
    "language_info": {
      "name": "python"
    }
  },
  "cells": [
    {
      "cell_type": "markdown",
      "source": [
        "**10 Real-Time Problem Statements Using datetime**\n",
        "\n"
      ],
      "metadata": {
        "id": "2tIQLbHVUaFt"
      }
    },
    {
      "cell_type": "markdown",
      "source": [
        "**1. Age Calculator**\n",
        "\n",
        "*Input*: DOB → Output: Age in years, months, days.\n",
        "\n"
      ],
      "metadata": {
        "id": "LdKHf7SWUcQ5"
      }
    },
    {
      "cell_type": "code",
      "source": [
        "from datetime import datetime\n",
        "\n",
        "def calculate_age(dob_str):\n",
        "    dob = datetime.strptime(dob_str, \"%Y-%m-%d\")\n",
        "    today = datetime.today()\n",
        "    delta = today - dob\n",
        "    years = delta.days // 365\n",
        "    months = (delta.days % 365) // 30\n",
        "    days = (delta.days % 365) % 30\n",
        "    print(f\"Age: {years} years, {months} months, {days} days\")\n",
        "\n",
        "calculate_age(\"1995-06-15\")\n"
      ],
      "metadata": {
        "colab": {
          "base_uri": "https://localhost:8080/"
        },
        "id": "v6C8TNCmVGBv",
        "outputId": "d1804071-aaac-429f-de36-1d70bd086666"
      },
      "execution_count": 1,
      "outputs": [
        {
          "output_type": "stream",
          "name": "stdout",
          "text": [
            "Age: 29 years, 11 months, 18 days\n"
          ]
        }
      ]
    },
    {
      "cell_type": "markdown",
      "source": [
        "**2. Subscription Expiry Checker**\n",
        "\n",
        "Notify users when their subscription is nearing expiry using today() and comparison.\n",
        "\n"
      ],
      "metadata": {
        "id": "ou0IB6-1Ud6A"
      }
    },
    {
      "cell_type": "code",
      "source": [
        "from datetime import datetime, timedelta\n",
        "\n",
        "def check_subscription(expiry_date_str):\n",
        "    expiry = datetime.strptime(expiry_date_str, \"%Y-%m-%d\")\n",
        "    today = datetime.today()\n",
        "    if expiry - today < timedelta(days=5):\n",
        "        print(\" Your subscription is expiring soon!\")\n",
        "    else:\n",
        "        print(\"Your subscription is active.\")\n",
        "\n",
        "check_subscription(\"2025-05-25\")\n"
      ],
      "metadata": {
        "colab": {
          "base_uri": "https://localhost:8080/"
        },
        "id": "YUbzOy4JVJHz",
        "outputId": "0f867022-96d6-4903-cc3d-18556e29b21e"
      },
      "execution_count": 2,
      "outputs": [
        {
          "output_type": "stream",
          "name": "stdout",
          "text": [
            " Your subscription is expiring soon!\n"
          ]
        }
      ]
    },
    {
      "cell_type": "markdown",
      "source": [
        "**3. Employee Attendance Logger**\n",
        "\n",
        "Track login/logout timestamps and calculate daily working hours.\n",
        "\n"
      ],
      "metadata": {
        "id": "CFmnKfgqUflQ"
      }
    },
    {
      "cell_type": "code",
      "source": [
        "from datetime import datetime\n",
        "\n",
        "login = datetime.strptime(\"09:00\", \"%H:%M\")\n",
        "logout = datetime.strptime(\"17:45\", \"%H:%M\")\n",
        "work_duration = logout - login\n",
        "print(f\"Total working hours: {work_duration}\")\n"
      ],
      "metadata": {
        "colab": {
          "base_uri": "https://localhost:8080/"
        },
        "id": "z-PcM8EiVOrJ",
        "outputId": "ca29fd56-d636-4776-992f-a50d864c0d7e"
      },
      "execution_count": 3,
      "outputs": [
        {
          "output_type": "stream",
          "name": "stdout",
          "text": [
            "Total working hours: 8:45:00\n"
          ]
        }
      ]
    },
    {
      "cell_type": "markdown",
      "source": [
        "**4. Countdown Timer**\n",
        "\n",
        "Show time remaining to an event like New Year or Product Launch.\n",
        "\n"
      ],
      "metadata": {
        "id": "6nfx9gy7UhSG"
      }
    },
    {
      "cell_type": "code",
      "source": [
        "from datetime import datetime\n",
        "\n",
        "event = datetime(2025, 12, 31, 23, 59)\n",
        "now = datetime.now()\n",
        "remaining = event - now\n",
        "print(f\"Time left for event: {remaining}\")\n"
      ],
      "metadata": {
        "colab": {
          "base_uri": "https://localhost:8080/"
        },
        "id": "cemRl9oFVRQR",
        "outputId": "b7324940-3761-41e6-f381-bfb79e75bfe4"
      },
      "execution_count": 5,
      "outputs": [
        {
          "output_type": "stream",
          "name": "stdout",
          "text": [
            "Time left for event: 224 days, 23:05:04.034581\n"
          ]
        }
      ]
    },
    {
      "cell_type": "markdown",
      "source": [
        "**5. Daily Backup Scheduler**\n",
        "\n",
        "Run automated scripts only if the last backup was older than 24 hours.\n",
        "\n"
      ],
      "metadata": {
        "id": "oG4_EYsfUi3_"
      }
    },
    {
      "cell_type": "code",
      "source": [
        "from datetime import datetime, timedelta\n",
        "\n",
        "last_backup = datetime(2025, 5, 20, 23, 00)\n",
        "now = datetime.now()\n",
        "if now - last_backup > timedelta(hours=24):\n",
        "    print(\"Run backup now!\")\n",
        "else:\n",
        "    print(\"Backup is up to date.\")\n"
      ],
      "metadata": {
        "colab": {
          "base_uri": "https://localhost:8080/"
        },
        "id": "aJA_trjaVVfY",
        "outputId": "33eea11a-4c05-49dc-9e5a-273f12968e8a"
      },
      "execution_count": 7,
      "outputs": [
        {
          "output_type": "stream",
          "name": "stdout",
          "text": [
            "Backup is up to date.\n"
          ]
        }
      ]
    },
    {
      "cell_type": "markdown",
      "source": [
        "**6. Timezone Converter**\n",
        "\n",
        "Convert a timestamp between timezones using pytz or zoneinfo.\n",
        "\n"
      ],
      "metadata": {
        "id": "-ECzqEzRUk5H"
      }
    },
    {
      "cell_type": "code",
      "source": [
        "from datetime import datetime\n",
        "from zoneinfo import ZoneInfo\n",
        "\n",
        "utc_time = datetime.now(ZoneInfo(\"UTC\"))\n",
        "india_time = utc_time.astimezone(ZoneInfo(\"Asia/Kolkata\"))\n",
        "print(f\"UTC: {utc_time} → IST: {india_time}\")\n"
      ],
      "metadata": {
        "colab": {
          "base_uri": "https://localhost:8080/"
        },
        "id": "E7YtN-ToVbrY",
        "outputId": "421d488a-5b84-4fd9-c7e1-696d467a593b"
      },
      "execution_count": 8,
      "outputs": [
        {
          "output_type": "stream",
          "name": "stdout",
          "text": [
            "UTC: 2025-05-21 00:54:31.957232+00:00 → IST: 2025-05-21 06:24:31.957232+05:30\n"
          ]
        }
      ]
    },
    {
      "cell_type": "markdown",
      "source": [
        "**7. Invoice Generator**\n",
        "\n",
        "Automatically stamp invoice with the current date and format it nicely using strftime().\n",
        "\n"
      ],
      "metadata": {
        "id": "eAwoVvjpUmiD"
      }
    },
    {
      "cell_type": "code",
      "source": [
        "from datetime import datetime\n",
        "\n",
        "def generate_invoice():\n",
        "    date = datetime.now().strftime(\"%d-%b-%Y\")\n",
        "    print(f\" Invoice Date: {date}\")\n",
        "\n",
        "generate_invoice()\n"
      ],
      "metadata": {
        "colab": {
          "base_uri": "https://localhost:8080/"
        },
        "id": "x146lEW7VfTp",
        "outputId": "8d5f0f42-ff4e-44b1-fa06-be477e884c4f"
      },
      "execution_count": 9,
      "outputs": [
        {
          "output_type": "stream",
          "name": "stdout",
          "text": [
            " Invoice Date: 21-May-2025\n"
          ]
        }
      ]
    },
    {
      "cell_type": "markdown",
      "source": [
        "**8. Blog Publishing Scheduler**\n",
        "\n",
        "Schedule posts using datetime to go live on a specific future date/time.\n",
        "\n"
      ],
      "metadata": {
        "id": "qlvnJ8OKUosj"
      }
    },
    {
      "cell_type": "code",
      "source": [
        "from datetime import datetime\n",
        "\n",
        "publish_time = datetime(2025, 5, 22, 14, 00)\n",
        "now = datetime.now()\n",
        "if now >= publish_time:\n",
        "    print(\"Post is LIVE!\")\n",
        "else:\n",
        "    print(\"Scheduled for later.\")\n"
      ],
      "metadata": {
        "colab": {
          "base_uri": "https://localhost:8080/"
        },
        "id": "Iw9ViHhQVjiI",
        "outputId": "4cce82c8-48f0-4507-82f2-c8739b4f9525"
      },
      "execution_count": 11,
      "outputs": [
        {
          "output_type": "stream",
          "name": "stdout",
          "text": [
            "Scheduled for later.\n"
          ]
        }
      ]
    },
    {
      "cell_type": "markdown",
      "source": [
        "**9. Meeting Reminder System**\n",
        "\n",
        "Show \"X hours left\" using time delta between current time and meeting time.\n",
        "\n"
      ],
      "metadata": {
        "id": "Av4XyPw6Uqse"
      }
    },
    {
      "cell_type": "code",
      "source": [
        "from datetime import datetime\n",
        "\n",
        "meeting_time = datetime(2025, 5, 22, 16, 00)\n",
        "now = datetime.now()\n",
        "time_left = meeting_time - now\n",
        "print(f\"Time left for meeting: {time_left}\")\n"
      ],
      "metadata": {
        "colab": {
          "base_uri": "https://localhost:8080/"
        },
        "id": "y3u41B-xVqKG",
        "outputId": "2973e3f7-6f42-4e89-f861-1b1bc19c3e7c"
      },
      "execution_count": 12,
      "outputs": [
        {
          "output_type": "stream",
          "name": "stdout",
          "text": [
            "Time left for meeting: 1 day, 15:04:25.031459\n"
          ]
        }
      ]
    },
    {
      "cell_type": "markdown",
      "source": [
        "**10. Habit Tracker**\n",
        "\n",
        "Track daily habits and filter them using datetime for weekly/monthly stats."
      ],
      "metadata": {
        "id": "AQ9TVwoOUsMu"
      }
    },
    {
      "cell_type": "code",
      "source": [
        "from datetime import datetime\n",
        "\n",
        "habit_logs = [\n",
        "    \"2025-05-21\", \"2025-05-20\", \"2025-05-18\", \"2025-05-15\"\n",
        "]\n",
        "\n",
        "today = datetime.today()\n",
        "this_week = [log for log in habit_logs if (today - datetime.strptime(log, \"%Y-%m-%d\")).days <= 7]\n",
        "\n",
        "print(\"This week's habit logs:\", this_week)\n"
      ],
      "metadata": {
        "colab": {
          "base_uri": "https://localhost:8080/"
        },
        "id": "X5dok6gDVtAG",
        "outputId": "fbe2eaee-84ff-43ba-8bf0-f6819f361129"
      },
      "execution_count": 13,
      "outputs": [
        {
          "output_type": "stream",
          "name": "stdout",
          "text": [
            "This week's habit logs: ['2025-05-21', '2025-05-20', '2025-05-18', '2025-05-15']\n"
          ]
        }
      ]
    }
  ]
}