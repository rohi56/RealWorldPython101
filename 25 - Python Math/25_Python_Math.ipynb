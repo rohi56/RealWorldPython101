{
  "nbformat": 4,
  "nbformat_minor": 0,
  "metadata": {
    "colab": {
      "provenance": []
    },
    "kernelspec": {
      "name": "python3",
      "display_name": "Python 3"
    },
    "language_info": {
      "name": "python"
    }
  },
  "cells": [
    {
      "cell_type": "markdown",
      "source": [
        "**Python Math**"
      ],
      "metadata": {
        "id": "On2CwcongHC8"
      }
    },
    {
      "cell_type": "markdown",
      "source": [
        "**Built-in Math Functions**\n",
        "\n",
        "Python comes with some built-in math functions like `min(), max(), abs(), pow(), round(), etc.,` that work without importing any module."
      ],
      "metadata": {
        "id": "E7vIFp5igOpu"
      }
    },
    {
      "cell_type": "code",
      "source": [
        "print(min(5, 10, 25))    # 5\n",
        "print(max(5, 10, 25))    # 25\n",
        "print(abs(-7.25))        # 7.25\n",
        "print(pow(4, 3))         # 64\n",
        "print(round(3.14159, 2)) # 3.14\n"
      ],
      "metadata": {
        "colab": {
          "base_uri": "https://localhost:8080/"
        },
        "id": "n_O6x1jLgTd_",
        "outputId": "25f66890-d432-4c36-8c55-27fb1a425f3f"
      },
      "execution_count": 1,
      "outputs": [
        {
          "output_type": "stream",
          "name": "stdout",
          "text": [
            "5\n",
            "25\n",
            "7.25\n",
            "64\n",
            "3.14\n"
          ]
        }
      ]
    },
    {
      "cell_type": "markdown",
      "source": [
        "**The Math Module**\n",
        "\n",
        "Python’s math module provides more advanced functions like trigonometry, logarithms, constants, etc."
      ],
      "metadata": {
        "id": "jVtvuG76gWVI"
      }
    },
    {
      "cell_type": "code",
      "source": [
        "import math\n",
        "\n",
        "print(math.sqrt(16))       # 4.0\n",
        "print(math.ceil(1.4))      # 2\n",
        "print(math.floor(1.4))     # 1\n",
        "print(math.pi)             # 3.141592653589793\n"
      ],
      "metadata": {
        "colab": {
          "base_uri": "https://localhost:8080/"
        },
        "id": "b--2FbyHgYt_",
        "outputId": "25f7cf1f-ce9b-4adc-92a3-3be367672577"
      },
      "execution_count": 2,
      "outputs": [
        {
          "output_type": "stream",
          "name": "stdout",
          "text": [
            "4.0\n",
            "2\n",
            "1\n",
            "3.141592653589793\n"
          ]
        }
      ]
    },
    {
      "cell_type": "markdown",
      "source": [
        "**Math Methods**\n",
        "\n",
        "| Function            | Description                                 | Example                     |\n",
        "| ------------------- | ------------------------------------------- | --------------------------- |\n",
        "| `math.ceil(x)`      | Rounds a number up to the nearest integer   | `math.ceil(1.4)` → `2`      |\n",
        "| `math.floor(x)`     | Rounds a number down to the nearest integer | `math.floor(1.4)` → `1`     |\n",
        "| `math.sqrt(x)`      | Returns the square root of x                | `math.sqrt(16)` → `4.0`     |\n",
        "| `math.pow(x, y)`    | Returns x to the power of y                 | `math.pow(2, 3)` → `8.0`    |\n",
        "| `math.fabs(x)`      | Returns absolute value                      | `math.fabs(-5)` → `5.0`     |\n",
        "| `math.factorial(x)` | Returns the factorial of x                  | `math.factorial(5)` → `120` |\n",
        "| `math.gcd(x, y)`    | Returns the greatest common divisor         | `math.gcd(8, 12)` → `4`     |\n",
        "| `math.log(x)`       | Natural logarithm (base e) of x             | `math.log(10)`              |\n",
        "| `math.log10(x)`     | Base-10 logarithm of x                      | `math.log10(100)` → `2.0`   |\n",
        "| `math.sin(x)`       | Returns the sine of x radians               | `math.sin(math.pi/2)` → `1` |\n",
        "| `math.cos(x)`       | Returns the cosine of x radians             | `math.cos(0)` → `1`         |\n",
        "| `math.tan(x)`       | Returns the tangent of x radians            | `math.tan(math.pi/4)` → `1` |\n",
        "| `math.degrees(x)`   | Converts radians to degrees                 | `math.degrees(math.pi)`     |\n",
        "| `math.radians(x)`   | Converts degrees to radians                 | `math.radians(180)`         |\n",
        "| `math.pi`           | Returns the value of PI                     | `3.141592653589793`         |\n",
        "| `math.e`            | Returns Euler’s number                      | `2.718281828459045`         |\n"
      ],
      "metadata": {
        "id": "3vMxmXykgd6s"
      }
    },
    {
      "cell_type": "markdown",
      "source": [
        "**Real-Time Problem Statements Using Python Math**\n",
        "\n",
        "**BMI Calculator**\n",
        "\n",
        "Calculate Body Mass Index using weight and height and classify health status.\n",
        "\n",
        "**Loan EMI Calculator**\n",
        "\n",
        "Use pow() to calculate monthly EMI for given principal, rate, and time.\n",
        "\n",
        "**Grade Statistics Tool**\n",
        "\n",
        "Use min(), max(), sum(), and round() to calculate class average and top scores.\n",
        "\n",
        "**Distance Between Two Points**\n",
        "\n",
        "Use math.sqrt() and Pythagoras to compute Euclidean distance.\n",
        "\n",
        "**Circle Area and Circumference Calculator**\n",
        "\n",
        "Use math.pi to find area and perimeter using radius.\n",
        "\n",
        "**Trigonometric Identity Checker**\n",
        "\n",
        "Validate identities using sin, cos, and tan functions.\n",
        "\n",
        "**Prime Factorization Tool**\n",
        "\n",
        "Use math.gcd() and loops to find common divisors.\n",
        "\n",
        "**Age in Seconds Calculator**\n",
        "\n",
        "Convert years to seconds using math operations.\n",
        "\n",
        "**Scientific Calculator CLI**\n",
        "\n",
        "Build a menu-driven console calculator using multiple math methods.\n",
        "\n",
        "**Physics Formula Evaluator**\n",
        "\n",
        "Compute speed, velocity, and kinetic energy using formulae with square, square roots, and powers."
      ],
      "metadata": {
        "id": "e66pKIoLgjYn"
      }
    }
  ]
}