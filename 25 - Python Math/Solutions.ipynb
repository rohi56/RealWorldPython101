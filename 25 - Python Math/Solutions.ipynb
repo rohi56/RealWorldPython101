{
  "nbformat": 4,
  "nbformat_minor": 0,
  "metadata": {
    "colab": {
      "provenance": []
    },
    "kernelspec": {
      "name": "python3",
      "display_name": "Python 3"
    },
    "language_info": {
      "name": "python"
    }
  },
  "cells": [
    {
      "cell_type": "markdown",
      "source": [
        "**Real-Time Problem Statements Using Python Math Solutions**\n",
        "\n"
      ],
      "metadata": {
        "id": "Nom-DDkCg-rC"
      }
    },
    {
      "cell_type": "markdown",
      "source": [
        "**BMI Calculator**\n",
        "\n",
        "Calculate Body Mass Index using weight and height and classify health status.\n",
        "\n"
      ],
      "metadata": {
        "id": "W7xlVmPthDNO"
      }
    },
    {
      "cell_type": "code",
      "source": [
        "def calculate_bmi(weight, height):\n",
        "    bmi = weight / (height ** 2)\n",
        "    if bmi < 18.5:\n",
        "        status = \"Underweight\"\n",
        "    elif bmi < 25:\n",
        "        status = \"Normal\"\n",
        "    elif bmi < 30:\n",
        "        status = \"Overweight\"\n",
        "    else:\n",
        "        status = \"Obese\"\n",
        "    return round(bmi, 2), status\n",
        "\n",
        "print(calculate_bmi(70, 1.75))  # (22.86, 'Normal')\n"
      ],
      "metadata": {
        "colab": {
          "base_uri": "https://localhost:8080/"
        },
        "id": "90BY1zu0hT5Y",
        "outputId": "97f9c632-bfc5-4891-bf92-024648da1327"
      },
      "execution_count": 1,
      "outputs": [
        {
          "output_type": "stream",
          "name": "stdout",
          "text": [
            "(22.86, 'Normal')\n"
          ]
        }
      ]
    },
    {
      "cell_type": "markdown",
      "source": [
        "**Loan EMI Calculator**\n",
        "\n",
        "Use pow() to calculate monthly EMI for given principal, rate, and time.\n",
        "\n"
      ],
      "metadata": {
        "id": "qfNrwB2KhEj6"
      }
    },
    {
      "cell_type": "code",
      "source": [
        "import math\n",
        "\n",
        "def calculate_emi(principal, rate, time):\n",
        "    r = rate / (12 * 100)\n",
        "    emi = principal * r * pow((1 + r), time) / (pow((1 + r), time) - 1)\n",
        "    return round(emi, 2)\n",
        "\n",
        "print(calculate_emi(500000, 7.5, 60))  # ₹10018.97\n"
      ],
      "metadata": {
        "colab": {
          "base_uri": "https://localhost:8080/"
        },
        "id": "Lib66qqEhWIk",
        "outputId": "1d131380-bca4-43b9-dff3-ee2f69530407"
      },
      "execution_count": 2,
      "outputs": [
        {
          "output_type": "stream",
          "name": "stdout",
          "text": [
            "10018.97\n"
          ]
        }
      ]
    },
    {
      "cell_type": "markdown",
      "source": [
        "**Grade Statistics Tool**\n",
        "\n",
        "Use min(), max(), sum(), and round() to calculate class average and top scores.\n",
        "\n"
      ],
      "metadata": {
        "id": "PwJHdmyfhF-7"
      }
    },
    {
      "cell_type": "code",
      "source": [
        "def grade_stats(marks):\n",
        "    return {\n",
        "        'min': min(marks),\n",
        "        'max': max(marks),\n",
        "        'average': round(sum(marks) / len(marks), 2)\n",
        "    }\n",
        "\n",
        "print(grade_stats([82, 74, 91, 69, 88, 92]))  # {'min': 69, 'max': 92, 'average': 82.67}\n"
      ],
      "metadata": {
        "colab": {
          "base_uri": "https://localhost:8080/"
        },
        "id": "QS3yGc0ShYOO",
        "outputId": "9db9d134-c269-49be-c8fb-fac01d379f2e"
      },
      "execution_count": 3,
      "outputs": [
        {
          "output_type": "stream",
          "name": "stdout",
          "text": [
            "{'min': 69, 'max': 92, 'average': 82.67}\n"
          ]
        }
      ]
    },
    {
      "cell_type": "markdown",
      "source": [
        "**Distance Between Two Points**\n",
        "\n",
        "Use math.sqrt() and Pythagoras to compute Euclidean distance.\n",
        "\n"
      ],
      "metadata": {
        "id": "kKBfY4fGhHjU"
      }
    },
    {
      "cell_type": "code",
      "source": [
        "import math\n",
        "\n",
        "def distance(x1, y1, x2, y2):\n",
        "    return round(math.sqrt((x2 - x1)**2 + (y2 - y1)**2), 2)\n",
        "\n",
        "print(distance(0, 0, 3, 4))  # 5.0\n"
      ],
      "metadata": {
        "colab": {
          "base_uri": "https://localhost:8080/"
        },
        "id": "lZWG_uW2hbXU",
        "outputId": "03dc5e9e-9aaa-4749-abbe-615c57b00ade"
      },
      "execution_count": 4,
      "outputs": [
        {
          "output_type": "stream",
          "name": "stdout",
          "text": [
            "5.0\n"
          ]
        }
      ]
    },
    {
      "cell_type": "markdown",
      "source": [
        "**Circle Area and Circumference Calculator**\n",
        "\n",
        "Use math.pi to find area and perimeter using radius.\n",
        "\n"
      ],
      "metadata": {
        "id": "oLHj4rBYhJFI"
      }
    },
    {
      "cell_type": "code",
      "source": [
        "import math\n",
        "\n",
        "def circle_geometry(radius):\n",
        "    area = round(math.pi * radius**2, 2)\n",
        "    circumference = round(2 * math.pi * radius, 2)\n",
        "    return area, circumference\n",
        "\n",
        "print(circle_geometry(5))  # (78.54, 31.42)\n"
      ],
      "metadata": {
        "colab": {
          "base_uri": "https://localhost:8080/"
        },
        "id": "V_1ks1dFhdcE",
        "outputId": "eef0784e-f06f-4ca6-9980-76e6b182ed07"
      },
      "execution_count": 5,
      "outputs": [
        {
          "output_type": "stream",
          "name": "stdout",
          "text": [
            "(78.54, 31.42)\n"
          ]
        }
      ]
    },
    {
      "cell_type": "markdown",
      "source": [
        "**Trigonometric Identity Checker**\n",
        "\n",
        "Validate identities using sin, cos, and tan functions.\n",
        "\n"
      ],
      "metadata": {
        "id": "y98s1tJqhKkH"
      }
    },
    {
      "cell_type": "code",
      "source": [
        "import math\n",
        "\n",
        "def trig_identity(angle_deg):\n",
        "    angle_rad = math.radians(angle_deg)\n",
        "    result = round(math.sin(angle_rad)**2 + math.cos(angle_rad)**2, 2)\n",
        "    return result  # Should always be close to 1\n",
        "\n",
        "print(trig_identity(45))  # 1.0\n"
      ],
      "metadata": {
        "colab": {
          "base_uri": "https://localhost:8080/"
        },
        "id": "Wt7cxsAPhfrm",
        "outputId": "793a4f66-2511-4e98-c580-6b8b00793aaa"
      },
      "execution_count": 6,
      "outputs": [
        {
          "output_type": "stream",
          "name": "stdout",
          "text": [
            "1.0\n"
          ]
        }
      ]
    },
    {
      "cell_type": "markdown",
      "source": [
        "**Prime Factorization Tool**\n",
        "\n",
        "Use math.gcd() and loops to find common divisors.\n",
        "\n"
      ],
      "metadata": {
        "id": "nzySCdf3hMDR"
      }
    },
    {
      "cell_type": "code",
      "source": [
        "def prime_factors(n):\n",
        "    factors = []\n",
        "    i = 2\n",
        "    while i * i <= n:\n",
        "        while n % i == 0:\n",
        "            factors.append(i)\n",
        "            n //= i\n",
        "        i += 1\n",
        "    if n > 1:\n",
        "        factors.append(n)\n",
        "    return factors\n",
        "\n",
        "print(prime_factors(84))  # [2, 2, 3, 7]\n"
      ],
      "metadata": {
        "colab": {
          "base_uri": "https://localhost:8080/"
        },
        "id": "98ZA0_aEhh_g",
        "outputId": "7ba4ecf3-7073-4b45-eb83-4e85cd824093"
      },
      "execution_count": 7,
      "outputs": [
        {
          "output_type": "stream",
          "name": "stdout",
          "text": [
            "[2, 2, 3, 7]\n"
          ]
        }
      ]
    },
    {
      "cell_type": "markdown",
      "source": [
        "**Age in Seconds Calculator**\n",
        "\n",
        "Convert years to seconds using math operations.\n",
        "\n"
      ],
      "metadata": {
        "id": "_fN7W-kGhNhI"
      }
    },
    {
      "cell_type": "code",
      "source": [
        "def age_in_seconds(years):\n",
        "    return years * 365 * 24 * 60 * 60\n",
        "\n",
        "print(age_in_seconds(25))  # 788400000\n"
      ],
      "metadata": {
        "colab": {
          "base_uri": "https://localhost:8080/"
        },
        "id": "RTNJOjY-hlB1",
        "outputId": "389bfe1c-ada3-47e9-b99a-ee7a1928959b"
      },
      "execution_count": 8,
      "outputs": [
        {
          "output_type": "stream",
          "name": "stdout",
          "text": [
            "788400000\n"
          ]
        }
      ]
    },
    {
      "cell_type": "markdown",
      "source": [
        "**Scientific Calculator CLI**\n",
        "\n",
        "Build a menu-driven console calculator using multiple math methods.\n",
        "\n"
      ],
      "metadata": {
        "id": "0_0rx8YZhPPS"
      }
    },
    {
      "cell_type": "code",
      "source": [
        "import math\n",
        "\n",
        "def calculator():\n",
        "    print(\"1. Square Root\\n2. Power\\n3. Sine\\n4. Cosine\\n5. Log\")\n",
        "    choice = int(input(\"Enter choice (1-5): \"))\n",
        "    if choice == 1:\n",
        "        num = float(input(\"Enter number: \"))\n",
        "        print(\"√ =\", math.sqrt(num))\n",
        "    elif choice == 2:\n",
        "        base = float(input(\"Enter base: \"))\n",
        "        exp = float(input(\"Enter exponent: \"))\n",
        "        print(\"Result =\", pow(base, exp))\n",
        "    elif choice == 3:\n",
        "        deg = float(input(\"Enter degrees: \"))\n",
        "        print(\"Sine =\", math.sin(math.radians(deg)))\n",
        "    elif choice == 4:\n",
        "        deg = float(input(\"Enter degrees: \"))\n",
        "        print(\"Cosine =\", math.cos(math.radians(deg)))\n",
        "    elif choice == 5:\n",
        "        num = float(input(\"Enter number: \"))\n",
        "        print(\"Log =\", math.log(num))\n",
        "\n",
        "# Uncomment below to run:\n",
        "# calculator()\n"
      ],
      "metadata": {
        "id": "hhWmipvJhpno"
      },
      "execution_count": 9,
      "outputs": []
    },
    {
      "cell_type": "markdown",
      "source": [
        "**Physics Formula Evaluator**\n",
        "\n",
        "Compute speed, velocity, and kinetic energy using formulae with square, square roots, and powers."
      ],
      "metadata": {
        "id": "zY6a_gjThQvV"
      }
    },
    {
      "cell_type": "code",
      "source": [
        "import math\n",
        "\n",
        "def physics_formulas(mass, velocity):\n",
        "    speed = abs(velocity)\n",
        "    ke = 0.5 * mass * velocity**2\n",
        "    return round(speed, 2), round(ke, 2)\n",
        "\n",
        "print(physics_formulas(70, 5))  # (5.0, 875.0)\n"
      ],
      "metadata": {
        "colab": {
          "base_uri": "https://localhost:8080/"
        },
        "id": "ILlX9xX1hs34",
        "outputId": "13fd55cd-a248-4b22-f41d-f80168a60821"
      },
      "execution_count": 10,
      "outputs": [
        {
          "output_type": "stream",
          "name": "stdout",
          "text": [
            "(5, 875.0)\n"
          ]
        }
      ]
    }
  ]
}