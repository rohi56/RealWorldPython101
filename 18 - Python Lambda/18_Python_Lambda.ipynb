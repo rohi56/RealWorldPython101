{
  "nbformat": 4,
  "nbformat_minor": 0,
  "metadata": {
    "colab": {
      "provenance": []
    },
    "kernelspec": {
      "name": "python3",
      "display_name": "Python 3"
    },
    "language_info": {
      "name": "python"
    }
  },
  "cells": [
    {
      "cell_type": "markdown",
      "source": [
        "**Python Lambda**"
      ],
      "metadata": {
        "id": "50Hm6V3I43hO"
      }
    },
    {
      "cell_type": "markdown",
      "source": [
        "**Syntax**\n",
        "\n",
        "A lambda function is a small anonymous function defined using the lambda keyword."
      ],
      "metadata": {
        "id": "-Qepo3AN46_M"
      }
    },
    {
      "cell_type": "code",
      "source": [
        "# Syntax: lambda arguments : expression\n",
        "square = lambda x: x * x\n",
        "print(square(5))  # Output: 25\n"
      ],
      "metadata": {
        "colab": {
          "base_uri": "https://localhost:8080/"
        },
        "id": "uGY6YxpA49vm",
        "outputId": "8966640b-9f00-4b18-b648-249f67fac69e"
      },
      "execution_count": 1,
      "outputs": [
        {
          "output_type": "stream",
          "name": "stdout",
          "text": [
            "25\n"
          ]
        }
      ]
    },
    {
      "cell_type": "markdown",
      "source": [
        "*Example 1:* Add Two Numbers"
      ],
      "metadata": {
        "id": "xv533qdw5FPc"
      }
    },
    {
      "cell_type": "code",
      "source": [
        "add = lambda a, b: a + b\n",
        "print(add(3, 5))  # Output: 8\n"
      ],
      "metadata": {
        "colab": {
          "base_uri": "https://localhost:8080/"
        },
        "id": "VONJZq7A5HWr",
        "outputId": "e0923beb-86cc-4e7a-c531-264abadc45d4"
      },
      "execution_count": 2,
      "outputs": [
        {
          "output_type": "stream",
          "name": "stdout",
          "text": [
            "8\n"
          ]
        }
      ]
    },
    {
      "cell_type": "markdown",
      "source": [
        "*Example 2:* Find Maximum of Two Numbers"
      ],
      "metadata": {
        "id": "W7eO7qtY5KhZ"
      }
    },
    {
      "cell_type": "code",
      "source": [
        "maximum = lambda a, b: a if a > b else b\n",
        "print(maximum(10, 15))  # Output: 15\n"
      ],
      "metadata": {
        "colab": {
          "base_uri": "https://localhost:8080/"
        },
        "id": "bB6xBA8J5OZF",
        "outputId": "b3a1b20e-6de5-4111-ce21-0d081fc59459"
      },
      "execution_count": 3,
      "outputs": [
        {
          "output_type": "stream",
          "name": "stdout",
          "text": [
            "15\n"
          ]
        }
      ]
    },
    {
      "cell_type": "markdown",
      "source": [
        "*Example 3:* Convert Celsius to Fahrenheit"
      ],
      "metadata": {
        "id": "uGzcVYb_5RHh"
      }
    },
    {
      "cell_type": "code",
      "source": [
        "to_fahrenheit = lambda c: (c * 9/5) + 32\n",
        "print(to_fahrenheit(0))  # Output: 32.0\n"
      ],
      "metadata": {
        "colab": {
          "base_uri": "https://localhost:8080/"
        },
        "id": "ld4UsKHb5T48",
        "outputId": "cb4e0c90-27e7-4e03-ce79-cde627760ed6"
      },
      "execution_count": 4,
      "outputs": [
        {
          "output_type": "stream",
          "name": "stdout",
          "text": [
            "32.0\n"
          ]
        }
      ]
    },
    {
      "cell_type": "markdown",
      "source": [
        "*Example 4:* Check Even or Odd"
      ],
      "metadata": {
        "id": "TrebO4_M5Wcl"
      }
    },
    {
      "cell_type": "code",
      "source": [
        "even_odd = lambda x: \"Even\" if x % 2 == 0 else \"Odd\"\n",
        "print(even_odd(7))  # Output: Odd\n"
      ],
      "metadata": {
        "colab": {
          "base_uri": "https://localhost:8080/"
        },
        "id": "ipmpXaUW5Ylz",
        "outputId": "44e1a6cc-d261-498b-9991-6cb149e4e045"
      },
      "execution_count": 5,
      "outputs": [
        {
          "output_type": "stream",
          "name": "stdout",
          "text": [
            "Odd\n"
          ]
        }
      ]
    },
    {
      "cell_type": "markdown",
      "source": [
        "*Example 5:* Multiply All Elements in a List"
      ],
      "metadata": {
        "id": "Qvxzhk9p5bIw"
      }
    },
    {
      "cell_type": "code",
      "source": [
        "from functools import reduce\n",
        "nums = [1, 2, 3, 4]\n",
        "product = reduce(lambda x, y: x * y, nums)\n",
        "print(product)  # Output: 24\n"
      ],
      "metadata": {
        "colab": {
          "base_uri": "https://localhost:8080/"
        },
        "id": "ibRIaIH05dl-",
        "outputId": "000b37e1-aa3d-480a-eee0-ee481582c56c"
      },
      "execution_count": 6,
      "outputs": [
        {
          "output_type": "stream",
          "name": "stdout",
          "text": [
            "24\n"
          ]
        }
      ]
    },
    {
      "cell_type": "markdown",
      "source": [
        "**2. Why Use Lambda Functions?**\n",
        "\n",
        "* Useful for short, throwaway functions\n",
        "\n",
        "* Commonly used with functions like `map(), filter(), and sorted()`\n",
        "\n",
        "* Improves code readability for small operations"
      ],
      "metadata": {
        "id": "Mq22eekP5jba"
      }
    },
    {
      "cell_type": "markdown",
      "source": [
        "*Example 1:* Sort List of Tuples by Second Element"
      ],
      "metadata": {
        "id": "muZarkw65xuJ"
      }
    },
    {
      "cell_type": "code",
      "source": [
        "pairs = [(2, 3), (1, 2), (5, 1)]\n",
        "pairs.sort(key=lambda x: x[1])\n",
        "print(pairs)  # Output: [(5, 1), (1, 2), (2, 3)]\n"
      ],
      "metadata": {
        "colab": {
          "base_uri": "https://localhost:8080/"
        },
        "id": "4xRHPwlx52Eb",
        "outputId": "c1a6bad3-e9a5-481f-fe36-24b4ccf6bda4"
      },
      "execution_count": 7,
      "outputs": [
        {
          "output_type": "stream",
          "name": "stdout",
          "text": [
            "[(5, 1), (1, 2), (2, 3)]\n"
          ]
        }
      ]
    },
    {
      "cell_type": "markdown",
      "source": [
        "*Example 2:* Filter Numbers Greater Than 10"
      ],
      "metadata": {
        "id": "6y1QiJMc54s5"
      }
    },
    {
      "cell_type": "code",
      "source": [
        "nums = [5, 12, 17, 3, 8]\n",
        "greater_than_10 = list(filter(lambda x: x > 10, nums))\n",
        "print(greater_than_10)  # Output: [12, 17]\n"
      ],
      "metadata": {
        "colab": {
          "base_uri": "https://localhost:8080/"
        },
        "id": "1OWDKUfm57Kf",
        "outputId": "53987be8-c8e8-4ac2-dede-0acc590aa226"
      },
      "execution_count": 8,
      "outputs": [
        {
          "output_type": "stream",
          "name": "stdout",
          "text": [
            "[12, 17]\n"
          ]
        }
      ]
    },
    {
      "cell_type": "markdown",
      "source": [
        "*Example 3:* Map Strings to Uppercase"
      ],
      "metadata": {
        "id": "zfRnZAWE593E"
      }
    },
    {
      "cell_type": "code",
      "source": [
        "words = ['hello', 'world']\n",
        "uppercase_words = list(map(lambda x: x.upper(), words))\n",
        "print(uppercase_words)  # Output: ['HELLO', 'WORLD']\n"
      ],
      "metadata": {
        "colab": {
          "base_uri": "https://localhost:8080/"
        },
        "id": "kFK31uEw6Aa0",
        "outputId": "1e0e469b-2a4f-4c6b-cb8a-90d26d05622f"
      },
      "execution_count": 9,
      "outputs": [
        {
          "output_type": "stream",
          "name": "stdout",
          "text": [
            "['HELLO', 'WORLD']\n"
          ]
        }
      ]
    },
    {
      "cell_type": "markdown",
      "source": [
        "*Example 4:* Conditional Discount Logic"
      ],
      "metadata": {
        "id": "FGA5BGBd6DJk"
      }
    },
    {
      "cell_type": "code",
      "source": [
        "discount = lambda price: price * 0.9 if price > 100 else price\n",
        "print(discount(150))  # Output: 135.0\n"
      ],
      "metadata": {
        "colab": {
          "base_uri": "https://localhost:8080/"
        },
        "id": "_F58Clco6FFP",
        "outputId": "9fd068dc-cf7f-4733-8904-9c83b7273d8c"
      },
      "execution_count": 10,
      "outputs": [
        {
          "output_type": "stream",
          "name": "stdout",
          "text": [
            "135.0\n"
          ]
        }
      ]
    },
    {
      "cell_type": "markdown",
      "source": [
        "*Example 5:* Sort Dictionary by Values"
      ],
      "metadata": {
        "id": "zrbtYHaC6HUR"
      }
    },
    {
      "cell_type": "code",
      "source": [
        "prices = {'apple': 50, 'banana': 20, 'cherry': 75}\n",
        "sorted_prices = dict(sorted(prices.items(), key=lambda item: item[1]))\n",
        "print(sorted_prices)  # Output: {'banana': 20, 'apple': 50, 'cherry': 75}\n"
      ],
      "metadata": {
        "colab": {
          "base_uri": "https://localhost:8080/"
        },
        "id": "Xe5pVaOa6KIH",
        "outputId": "dcbeb011-bdea-4f58-ed88-06a505dcdaa8"
      },
      "execution_count": 11,
      "outputs": [
        {
          "output_type": "stream",
          "name": "stdout",
          "text": [
            "{'banana': 20, 'apple': 50, 'cherry': 75}\n"
          ]
        }
      ]
    },
    {
      "cell_type": "markdown",
      "source": [
        "**Real-Time Problem Statements**\n",
        "\n",
        "1.Sorting a List of Tuples by Second Value\n",
        "\n",
        "2.Filter Even Numbers\n",
        "\n",
        "3.Map to Square Numbers\n",
        "\n",
        "4.Check Voter Eligibility\n",
        "\n",
        "5.Tip Calculator\n",
        "\n",
        "6.Custom Sorting by String Length\n"
      ],
      "metadata": {
        "id": "7VXkTKEd6XQW"
      }
    }
  ]
}