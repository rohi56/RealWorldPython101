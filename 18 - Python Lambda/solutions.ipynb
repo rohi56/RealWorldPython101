{
  "nbformat": 4,
  "nbformat_minor": 0,
  "metadata": {
    "colab": {
      "provenance": []
    },
    "kernelspec": {
      "name": "python3",
      "display_name": "Python 3"
    },
    "language_info": {
      "name": "python"
    }
  },
  "cells": [
    {
      "cell_type": "markdown",
      "source": [
        "**Real-Time Problem Statements**\n",
        "\n"
      ],
      "metadata": {
        "id": "cMnAsEzw7Ue5"
      }
    },
    {
      "cell_type": "markdown",
      "source": [
        "**1.Sorting a List of Tuples by Second Value**\n",
        "\n"
      ],
      "metadata": {
        "id": "GzjsXJV97WfZ"
      }
    },
    {
      "cell_type": "code",
      "source": [
        "data = [(1, 2), (3, 1), (5, 0)]\n",
        "data.sort(key=lambda x: x[1])\n",
        "print(data)"
      ],
      "metadata": {
        "colab": {
          "base_uri": "https://localhost:8080/"
        },
        "id": "heM4F9dN7nwt",
        "outputId": "c6c80e6a-36dc-4eca-da7d-11e6142d6f55"
      },
      "execution_count": 4,
      "outputs": [
        {
          "output_type": "stream",
          "name": "stdout",
          "text": [
            "[(5, 0), (3, 1), (1, 2)]\n"
          ]
        }
      ]
    },
    {
      "cell_type": "markdown",
      "source": [
        "**2.Filter Even Numbers**\n",
        "\n"
      ],
      "metadata": {
        "id": "ZV5My0Hd7X1b"
      }
    },
    {
      "cell_type": "code",
      "source": [
        "nums = [1, 2, 3, 4, 5, 6]\n",
        "evens = list(filter(lambda x: x%2==0, nums))\n",
        "print(evens)"
      ],
      "metadata": {
        "colab": {
          "base_uri": "https://localhost:8080/"
        },
        "id": "p1wp4ATB8RCv",
        "outputId": "b4efd630-a245-43fc-98b7-6f2fc138e7fe"
      },
      "execution_count": 5,
      "outputs": [
        {
          "output_type": "stream",
          "name": "stdout",
          "text": [
            "[2, 4, 6]\n"
          ]
        }
      ]
    },
    {
      "cell_type": "markdown",
      "source": [
        "**3.Map to Square Numbers**\n",
        "\n"
      ],
      "metadata": {
        "id": "VzMJx6tA7ZT6"
      }
    },
    {
      "cell_type": "code",
      "source": [
        "nums = [1, 2, 3, 4]\n",
        "square = list(map(lambda x: x*x, nums))\n",
        "print(square)"
      ],
      "metadata": {
        "colab": {
          "base_uri": "https://localhost:8080/"
        },
        "id": "x9H9Eko38mII",
        "outputId": "c41464c5-0041-462e-d8e8-3b03ea399f24"
      },
      "execution_count": 6,
      "outputs": [
        {
          "output_type": "stream",
          "name": "stdout",
          "text": [
            "[1, 4, 9, 16]\n"
          ]
        }
      ]
    },
    {
      "cell_type": "markdown",
      "source": [
        "**4.Check Voter Eligibility**\n",
        "\n"
      ],
      "metadata": {
        "id": "qmR4z7pk7asJ"
      }
    },
    {
      "cell_type": "code",
      "source": [
        "check_age = lambda age: \"Eligible\" if age >= 18 else \"Not Eligible\"\n",
        "print(check_age(21))  # Output: Eligible\n"
      ],
      "metadata": {
        "colab": {
          "base_uri": "https://localhost:8080/"
        },
        "id": "S3WWr0sZ9Dsu",
        "outputId": "a8001630-ebcb-45e2-cb10-9bbeef0e2502"
      },
      "execution_count": 7,
      "outputs": [
        {
          "output_type": "stream",
          "name": "stdout",
          "text": [
            "Eligible\n"
          ]
        }
      ]
    },
    {
      "cell_type": "markdown",
      "source": [
        "**5.Tip Calculator**\n",
        "\n"
      ],
      "metadata": {
        "id": "7mjklGfB7cGd"
      }
    },
    {
      "cell_type": "code",
      "source": [
        "tip_cal = lambda bill : bill * 0.01\n",
        "print(tip_cal(1000))"
      ],
      "metadata": {
        "colab": {
          "base_uri": "https://localhost:8080/"
        },
        "id": "7vagGrhK9Jn8",
        "outputId": "9104fc01-b479-46aa-b2f1-ca62aa080f42"
      },
      "execution_count": 8,
      "outputs": [
        {
          "output_type": "stream",
          "name": "stdout",
          "text": [
            "10.0\n"
          ]
        }
      ]
    },
    {
      "cell_type": "markdown",
      "source": [
        "**6.Custom Sorting by String Length**"
      ],
      "metadata": {
        "id": "sI0hCmD87dcS"
      }
    },
    {
      "cell_type": "code",
      "source": [
        "names = [\"Zoe\", \"Alice\", \"Bob\"]\n",
        "names.sort(key = lambda name: len(name))\n",
        "print(names)"
      ],
      "metadata": {
        "colab": {
          "base_uri": "https://localhost:8080/"
        },
        "id": "j-KQIYWW9s2G",
        "outputId": "15153293-d0e1-4ab1-c66a-66d72f050b5c"
      },
      "execution_count": 9,
      "outputs": [
        {
          "output_type": "stream",
          "name": "stdout",
          "text": [
            "['Zoe', 'Bob', 'Alice']\n"
          ]
        }
      ]
    }
  ]
}