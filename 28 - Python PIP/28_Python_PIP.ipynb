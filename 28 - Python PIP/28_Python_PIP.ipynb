{
  "nbformat": 4,
  "nbformat_minor": 0,
  "metadata": {
    "colab": {
      "provenance": []
    },
    "kernelspec": {
      "name": "python3",
      "display_name": "Python 3"
    },
    "language_info": {
      "name": "python"
    }
  },
  "cells": [
    {
      "cell_type": "markdown",
      "source": [
        "**Python PIP**"
      ],
      "metadata": {
        "id": "34UzNMD1tkLB"
      }
    },
    {
      "cell_type": "markdown",
      "source": [
        "**What is PIP?**\n",
        "\n",
        "PIP is the package manager for Python. It allows you to install and manage additional libraries and dependencies that are not part of the standard library."
      ],
      "metadata": {
        "id": "oCs65Np8tsaO"
      }
    },
    {
      "cell_type": "markdown",
      "source": [
        "**What is a Package?**\n",
        "\n",
        "A package is a collection of modules bundled together. For example, numpy, requests, and flask are all popular packages."
      ],
      "metadata": {
        "id": "ELWAL-XktwSm"
      }
    },
    {
      "cell_type": "markdown",
      "source": [
        "**Topic Breakdown with Examples**\n",
        "\n",
        "| Topic                         | Description                                             | Example                           |\n",
        "| ----------------------------- | ------------------------------------------------------- | --------------------------------- |\n",
        "| **Check if PIP is Installed** | Check version to ensure PIP is available                | `pip --version`                   |\n",
        "| **Install PIP**               | Installed by default with Python 3.4+                   | (Built-in)                        |\n",
        "| **Download a Package**        | Install external packages using pip                     | `pip install requests`            |\n",
        "| **Using a Package**           | Import installed packages in your script                | `import requests`                 |\n",
        "| **List Packages**             | View all installed packages                             | `pip list`                        |\n",
        "| **Upgrade a Package**         | Keep your dependencies updated                          | `pip install --upgrade numpy`     |\n",
        "| **Uninstall a Package**       | Remove unused or conflicting packages                   | `pip uninstall flask`             |\n",
        "| **Freeze Requirements**       | Export all dependencies to a requirements file          | `pip freeze > requirements.txt`   |\n",
        "| **Install from Requirements** | Install packages from a list (great for teams/projects) | `pip install -r requirements.txt` |\n",
        "| **Find Package Info**         | Show details about a specific package                   | `pip show pandas`                 |\n"
      ],
      "metadata": {
        "id": "DL6E6qK9tzrO"
      }
    }
  ]
}