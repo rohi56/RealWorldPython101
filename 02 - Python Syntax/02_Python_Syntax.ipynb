{
  "cells": [
    {
      "cell_type": "markdown",
      "metadata": {},
      "source": [
        "# \u270f\ufe0f 02 - Python Syntax\n",
        "\n",
        "In this notebook, you'll learn about the basics of Python syntax, how Python code is executed, and why indentation is so important."
      ]
    },
    {
      "cell_type": "markdown",
      "metadata": {},
      "source": [
        "## \u25b6\ufe0f Execute Python Syntax\n",
        "\n",
        "Python code can be written in files with the `.py` extension and executed via terminal, or written directly in interactive environments like Jupyter notebooks."
      ]
    },
    {
      "cell_type": "code",
      "execution_count": null,
      "metadata": {},
      "outputs": [],
      "source": [
        "print(\"Hello, Python Syntax!\")"
      ]
    },
    {
      "cell_type": "markdown",
      "metadata": {},
      "source": [
        "## \ud83e\uddf1 Python Indentation\n",
        "\n",
        "Unlike many other programming languages, Python uses **indentation** to define blocks of code.\n",
        "This makes Python code cleaner and more readable, but indentation is **not optional**\u2014it\u2019s part of the syntax."
      ]
    },
    {
      "cell_type": "code",
      "execution_count": null,
      "metadata": {},
      "outputs": [],
      "source": [
        "if 5 > 2:\n",
        "    print(\"Five is greater than two!\")"
      ]
    },
    {
      "cell_type": "markdown",
      "metadata": {},
      "source": [
        "## \u26a0\ufe0f Incorrect Indentation Example\n",
        "\n",
        "The following will raise an error because the indentation is missing:"
      ]
    },
    {
      "cell_type": "code",
      "execution_count": null,
      "metadata": {},
      "outputs": [],
      "source": [
        "# Uncommenting this will raise an IndentationError\n",
        "# if 5 > 2:\n",
        "# print(\"This will cause an error\")"
      ]
    },
    {
      "cell_type": "markdown",
      "metadata": {},
      "source": [
        "## \u2705 Multiple Statements in One Line\n",
        "\n",
        "Though not recommended for readability, Python allows multiple statements on a single line using semicolons:"
      ]
    },
    {
      "cell_type": "code",
      "execution_count": null,
      "metadata": {},
      "outputs": [],
      "source": [
        "a = 1; b = 2; print(a + b)"
      ]
    },
    {
      "cell_type": "markdown",
      "metadata": {},
      "source": [
        "## \u2705 Example: Properly Indented Function"
      ]
    },
    {
      "cell_type": "code",
      "execution_count": null,
      "metadata": {},
      "outputs": [],
      "source": [
        "def greet(name):\n",
        "    print(f\"Hello, {name}!\")\n",
        "\n",
        "greet(\"Python Learner\")"
      ]
    }
  ],
  "metadata": {
    "kernelspec": {
      "display_name": "Python 3",
      "language": "python",
      "name": "python3"
    },
    "language_info": {
      "name": "python"
    }
  },
  "nbformat": 4,
  "nbformat_minor": 2
}
