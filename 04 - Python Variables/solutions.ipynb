{
  "nbformat": 4,
  "nbformat_minor": 0,
  "metadata": {
    "colab": {
      "provenance": [],
      "authorship_tag": "ABX9TyNR6AsI0u8LIMUUkXfjLme5"
    },
    "kernelspec": {
      "name": "python3",
      "display_name": "Python 3"
    },
    "language_info": {
      "name": "python"
    }
  },
  "cells": [
    {
      "cell_type": "markdown",
      "source": [
        "**Real-Time Problem Statements Solutions**"
      ],
      "metadata": {
        "id": "mhNwZlw2RZ1h"
      }
    },
    {
      "cell_type": "markdown",
      "source": [
        "1.Store your name and age in variables, then print them."
      ],
      "metadata": {
        "id": "okpS5G9LRd2_"
      }
    },
    {
      "cell_type": "code",
      "source": [
        "name = \"shubham\"\n",
        "age = 25\n",
        "print(name, age)"
      ],
      "metadata": {
        "colab": {
          "base_uri": "https://localhost:8080/"
        },
        "id": "dykNJtuLRg4g",
        "outputId": "ca11059d-690a-4213-9261-595a1845e08c"
      },
      "execution_count": 1,
      "outputs": [
        {
          "output_type": "stream",
          "name": "stdout",
          "text": [
            "shubham 25\n"
          ]
        }
      ]
    },
    {
      "cell_type": "markdown",
      "source": [
        "2. Take three favorite colors and unpack them into variables.\n"
      ],
      "metadata": {
        "id": "zh-DgpWRRyON"
      }
    },
    {
      "cell_type": "code",
      "source": [
        "color1, color2, color3 = \"red\", \"green\", \"blue\"\n",
        "print(color1, color2, color3)\n"
      ],
      "metadata": {
        "colab": {
          "base_uri": "https://localhost:8080/"
        },
        "id": "f5d4pv3VR6RT",
        "outputId": "29f6c44b-d0c3-487b-f247-f98146c7b1db"
      },
      "execution_count": 2,
      "outputs": [
        {
          "output_type": "stream",
          "name": "stdout",
          "text": [
            "red green blue\n"
          ]
        }
      ]
    },
    {
      "cell_type": "markdown",
      "source": [
        "3.Assign the same discount rate to three products and print."
      ],
      "metadata": {
        "id": "GScjaQfySDPn"
      }
    },
    {
      "cell_type": "code",
      "source": [
        "product1 = product2 = product3 = 10\n",
        "print(product1, product2, product3)\n"
      ],
      "metadata": {
        "colab": {
          "base_uri": "https://localhost:8080/"
        },
        "id": "_c-g-oefSIVV",
        "outputId": "ba234c3e-b836-485b-b23a-87b347d41b30"
      },
      "execution_count": 3,
      "outputs": [
        {
          "output_type": "stream",
          "name": "stdout",
          "text": [
            "10 10 10\n"
          ]
        }
      ]
    },
    {
      "cell_type": "markdown",
      "source": [
        "4.Combine first and last names into one variable."
      ],
      "metadata": {
        "id": "hw8AEkHvSaDX"
      }
    },
    {
      "cell_type": "code",
      "source": [
        "first = \"Akshay\"\n",
        "last = \"Rao\"\n",
        "name = first + \" \" + last\n",
        "print(name)"
      ],
      "metadata": {
        "colab": {
          "base_uri": "https://localhost:8080/"
        },
        "id": "cCJXKSsZSbUL",
        "outputId": "f7164932-67ee-4b87-eb06-cc50bf13f84b"
      },
      "execution_count": 4,
      "outputs": [
        {
          "output_type": "stream",
          "name": "stdout",
          "text": [
            "Akshay Rao\n"
          ]
        }
      ]
    },
    {
      "cell_type": "markdown",
      "source": [
        "5.Unpack a list of product prices and print the total."
      ],
      "metadata": {
        "id": "Ly1t26PWSqYS"
      }
    },
    {
      "cell_type": "code",
      "source": [
        "product_prices = [10, 20, 30]\n",
        "prod1, prod2, prod3 = product_prices\n",
        "total = prod1 + prod2 + prod3\n",
        "print(total)"
      ],
      "metadata": {
        "colab": {
          "base_uri": "https://localhost:8080/"
        },
        "id": "Zqb4unaWStiF",
        "outputId": "83f0f194-170d-463a-9ba5-6c381e3d68b5"
      },
      "execution_count": 5,
      "outputs": [
        {
          "output_type": "stream",
          "name": "stdout",
          "text": [
            "60\n"
          ]
        }
      ]
    },
    {
      "cell_type": "markdown",
      "source": [
        "6.Write a function that updates a global counter."
      ],
      "metadata": {
        "id": "RipGvhA8TGYw"
      }
    },
    {
      "cell_type": "code",
      "source": [
        "def fn(n):\n",
        "  global counter\n",
        "  counter = n+1\n",
        "  print(counter)\n",
        "\n",
        "counter = 0\n",
        "fn(3)\n"
      ],
      "metadata": {
        "colab": {
          "base_uri": "https://localhost:8080/"
        },
        "id": "eaOMTcScTHk3",
        "outputId": "70f444df-3e12-4a7c-af31-6929275dcdc1"
      },
      "execution_count": 14,
      "outputs": [
        {
          "output_type": "stream",
          "name": "stdout",
          "text": [
            "4\n"
          ]
        }
      ]
    },
    {
      "cell_type": "markdown",
      "source": [
        "7.Show how + behaves differently with numbers vs strings."
      ],
      "metadata": {
        "id": "VFucah5ET0aw"
      }
    },
    {
      "cell_type": "code",
      "source": [
        "#with numbers\n",
        "print(5+7)\n",
        "print(\"Akshay\"+\"Jana\")"
      ],
      "metadata": {
        "colab": {
          "base_uri": "https://localhost:8080/"
        },
        "id": "oMO69hA8T2Bp",
        "outputId": "b3634d7e-af3c-4143-cf5c-81661acc3e1d"
      },
      "execution_count": 16,
      "outputs": [
        {
          "output_type": "stream",
          "name": "stdout",
          "text": [
            "12\n",
            "AkshayJana\n"
          ]
        }
      ]
    },
    {
      "cell_type": "markdown",
      "source": [
        "8.Simulate a temperature sensor storing values in variables."
      ],
      "metadata": {
        "id": "QcINDikLUXDn"
      }
    },
    {
      "cell_type": "code",
      "source": [
        "temperature1 = 22.5\n",
        "temperature2 = 25.0\n",
        "temperature3 = 21.8\n",
        "average_temperature = (temperature1 + temperature2 + temperature3) / 3\n",
        "print(\"Average Temperature:\", average_temperature)\n"
      ],
      "metadata": {
        "colab": {
          "base_uri": "https://localhost:8080/"
        },
        "id": "EtwmNwnmUWQJ",
        "outputId": "00173224-0fad-4266-d492-751c04cd483a"
      },
      "execution_count": 17,
      "outputs": [
        {
          "output_type": "stream",
          "name": "stdout",
          "text": [
            "Average Temperature: 23.099999999999998\n"
          ]
        }
      ]
    },
    {
      "cell_type": "markdown",
      "source": [
        "9.Store user details and print them together in one message."
      ],
      "metadata": {
        "id": "iVFRW8CAUgLd"
      }
    },
    {
      "cell_type": "code",
      "source": [
        "username = \"Swapnil\"\n",
        "age = 30\n",
        "city = \"Nagpur\"\n",
        "print(f\"User Details: Name: {username}, Age: {age}, City: {city}\")\n"
      ],
      "metadata": {
        "colab": {
          "base_uri": "https://localhost:8080/"
        },
        "id": "rDEkcDcBUeQ2",
        "outputId": "a358c80e-5393-44b6-c48f-d494e20603ab"
      },
      "execution_count": 18,
      "outputs": [
        {
          "output_type": "stream",
          "name": "stdout",
          "text": [
            "User Details: Name: Swapnil, Age: 30, City: Nagpur\n"
          ]
        }
      ]
    },
    {
      "cell_type": "code",
      "source": [
        "10. Build a simple program: Welcome, <name> from <city>!"
      ],
      "metadata": {
        "id": "lHnWyektUr9J"
      },
      "execution_count": null,
      "outputs": []
    },
    {
      "cell_type": "code",
      "source": [
        "name = \"Shiva\"\n",
        "city = \"Mumbai\"\n",
        "print(\"Welcome, \" + name + \" from \" + city + \"!\")\n"
      ],
      "metadata": {
        "colab": {
          "base_uri": "https://localhost:8080/"
        },
        "id": "46V1fP7HUuhv",
        "outputId": "d65463ff-eeef-45f8-92a3-eed421c7fa19"
      },
      "execution_count": 19,
      "outputs": [
        {
          "output_type": "stream",
          "name": "stdout",
          "text": [
            "Welcome, Shiva from Mumbai!\n"
          ]
        }
      ]
    }
  ]
}