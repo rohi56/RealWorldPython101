{
  "nbformat": 4,
  "nbformat_minor": 0,
  "metadata": {
    "colab": {
      "provenance": []
    },
    "kernelspec": {
      "name": "python3",
      "display_name": "Python 3"
    },
    "language_info": {
      "name": "python"
    }
  },
  "cells": [
    {
      "cell_type": "markdown",
      "source": [
        "****🧮 04 - Python Variables****"
      ],
      "metadata": {
        "id": "YQwLYAfTKvkI"
      }
    },
    {
      "cell_type": "markdown",
      "source": [
        "Variables are containers used to store data values in Python. These allow us to store information that can be referenced and manipulated later."
      ],
      "metadata": {
        "id": "Wi0l_hMyLADZ"
      }
    },
    {
      "cell_type": "markdown",
      "source": [
        "**i.Creating Variables**\n",
        "In Python, variables are created when you assign a value to them. You don't need to declare the variable type—Python automatically determines it based on the assigned value."
      ],
      "metadata": {
        "id": "fhTbgZQCLDkA"
      }
    },
    {
      "cell_type": "code",
      "source": [
        "x = 5\n",
        "y = \"Hello\"\n",
        "print(x)\n",
        "print(y)\n"
      ],
      "metadata": {
        "colab": {
          "base_uri": "https://localhost:8080/"
        },
        "id": "wp66eaRuLNhL",
        "outputId": "82628117-7d4f-4272-fd2a-580308c83e05"
      },
      "execution_count": 1,
      "outputs": [
        {
          "output_type": "stream",
          "name": "stdout",
          "text": [
            "5\n",
            "Hello\n"
          ]
        }
      ]
    },
    {
      "cell_type": "markdown",
      "source": [
        "Explanation: In the above code, x stores the integer 5, and y stores the string \"Hello\"."
      ],
      "metadata": {
        "id": "-R0_HjsSLV3g"
      }
    },
    {
      "cell_type": "markdown",
      "source": [
        "**ii. Casting**\n",
        "Casting is the process of converting one data type to another. You can use Python’s built-in functions to cast variables."
      ],
      "metadata": {
        "id": "O6uh5D7zLXW2"
      }
    },
    {
      "cell_type": "code",
      "source": [
        "x = str(3)\n",
        "y = int(3)\n",
        "z = float(3)\n",
        "print(x, y, z)\n"
      ],
      "metadata": {
        "colab": {
          "base_uri": "https://localhost:8080/"
        },
        "id": "FaV284zpLekg",
        "outputId": "8d420117-a75e-485e-aace-f6c013033621"
      },
      "execution_count": 2,
      "outputs": [
        {
          "output_type": "stream",
          "name": "stdout",
          "text": [
            "3 3 3.0\n"
          ]
        }
      ]
    },
    {
      "cell_type": "markdown",
      "source": [
        "Explanation: The value 3 is converted to a string (str), integer (int), and float (float)."
      ],
      "metadata": {
        "id": "HT5j8SDPLkfh"
      }
    },
    {
      "cell_type": "markdown",
      "source": [
        "**iii. Get the Type**\n",
        "To find out the type of a variable, you can use the type() function."
      ],
      "metadata": {
        "id": "dIHMcplmLoeo"
      }
    },
    {
      "cell_type": "code",
      "source": [
        "x = 5\n",
        "print(type(x))\n"
      ],
      "metadata": {
        "colab": {
          "base_uri": "https://localhost:8080/"
        },
        "id": "5Ww_lZKuLrjt",
        "outputId": "0722bfe6-e35b-45ed-dc92-ade32609648c"
      },
      "execution_count": 3,
      "outputs": [
        {
          "output_type": "stream",
          "name": "stdout",
          "text": [
            "<class 'int'>\n"
          ]
        }
      ]
    },
    {
      "cell_type": "markdown",
      "source": [
        "Explanation: The function type(x) returns the type of the variable x, which in this case is int."
      ],
      "metadata": {
        "id": "s7shuuqhNYYo"
      }
    },
    {
      "cell_type": "markdown",
      "source": [
        "**iv. Single or Double Quotes?**\n",
        "In Python, you can use either single (') or double (\") quotes to define strings. Both are perfectly valid."
      ],
      "metadata": {
        "id": "rHnQXsXpNdjs"
      }
    },
    {
      "cell_type": "code",
      "source": [
        "a = 'Hello'\n",
        "b = \"World\"\n",
        "print(a, b)\n"
      ],
      "metadata": {
        "colab": {
          "base_uri": "https://localhost:8080/"
        },
        "id": "I8TFW1kVNhcl",
        "outputId": "667a8a55-b694-4d31-82c5-5b1c6cd06bc7"
      },
      "execution_count": 4,
      "outputs": [
        {
          "output_type": "stream",
          "name": "stdout",
          "text": [
            "Hello World\n"
          ]
        }
      ]
    },
    {
      "cell_type": "markdown",
      "source": [
        "Explanation: Here, both single and double quotes are used to create string variables. They are interchangeable."
      ],
      "metadata": {
        "id": "iOFuBed2NmFw"
      }
    },
    {
      "cell_type": "markdown",
      "source": [
        "**v. Case-Sensitive**\n",
        "Python is case-sensitive, meaning that variable names such as age, Age, and AGE are considered different."
      ],
      "metadata": {
        "id": "6znmGYVTNoJ6"
      }
    },
    {
      "cell_type": "code",
      "source": [
        "age = 10\n",
        "Age = 20\n",
        "print(age, Age)\n"
      ],
      "metadata": {
        "colab": {
          "base_uri": "https://localhost:8080/"
        },
        "id": "jiJ2Gvx6Nrm2",
        "outputId": "9f7ebaa1-867f-4854-ac3d-1bfd9f69dc72"
      },
      "execution_count": 5,
      "outputs": [
        {
          "output_type": "stream",
          "name": "stdout",
          "text": [
            "10 20\n"
          ]
        }
      ]
    },
    {
      "cell_type": "markdown",
      "source": [
        "Explanation: Even though age and Age may look similar, they are treated as two different variables due to their case difference."
      ],
      "metadata": {
        "id": "KWu_98o7NwKD"
      }
    },
    {
      "cell_type": "markdown",
      "source": [
        "**2. Variable Names**\n",
        "\n",
        "**i. Multi Word Variable Names**\n",
        "In Python, variable names cannot have spaces, but you can use different conventions to create multi-word names.\n",
        "\n",
        "**Camel Case**: The first letter of the first word is lowercase, and the first letter of subsequent words is uppercase."
      ],
      "metadata": {
        "id": "7HAFsYMsN2s2"
      }
    },
    {
      "cell_type": "code",
      "source": [
        "myVariableName = \"Camel Case\"\n",
        "myVariableName"
      ],
      "metadata": {
        "colab": {
          "base_uri": "https://localhost:8080/",
          "height": 35
        },
        "id": "r_yHUsjqN-Pv",
        "outputId": "07a2c18b-d87a-4033-c976-0b75a79c5bb5"
      },
      "execution_count": 6,
      "outputs": [
        {
          "output_type": "execute_result",
          "data": {
            "text/plain": [
              "'Camel Case'"
            ],
            "application/vnd.google.colaboratory.intrinsic+json": {
              "type": "string"
            }
          },
          "metadata": {},
          "execution_count": 6
        }
      ]
    },
    {
      "cell_type": "markdown",
      "source": [
        "**Pascal Case:** Similar to Camel Case but the first letter of each word is uppercase."
      ],
      "metadata": {
        "id": "hq0APKTVODHf"
      }
    },
    {
      "cell_type": "code",
      "source": [
        "MyVariableName = \"Pascal Case\"\n",
        "MyVariableName"
      ],
      "metadata": {
        "colab": {
          "base_uri": "https://localhost:8080/",
          "height": 35
        },
        "id": "o77ZYXLNOGXk",
        "outputId": "4016f8d3-7e0e-4511-8502-8201fc96060a"
      },
      "execution_count": 7,
      "outputs": [
        {
          "output_type": "execute_result",
          "data": {
            "text/plain": [
              "'Pascal Case'"
            ],
            "application/vnd.google.colaboratory.intrinsic+json": {
              "type": "string"
            }
          },
          "metadata": {},
          "execution_count": 7
        }
      ]
    },
    {
      "cell_type": "markdown",
      "source": [
        "**Snake Case:** Words are separated by underscores, and all letters are lowercase."
      ],
      "metadata": {
        "id": "pFTNtKR1OLsZ"
      }
    },
    {
      "cell_type": "code",
      "source": [
        "my_variable_name = \"Snake Case\"\n",
        "my_variable_name"
      ],
      "metadata": {
        "colab": {
          "base_uri": "https://localhost:8080/",
          "height": 35
        },
        "id": "DTMk22PlONsA",
        "outputId": "e3d3a0a6-135e-482f-8c3b-7059a009aa3a"
      },
      "execution_count": 8,
      "outputs": [
        {
          "output_type": "execute_result",
          "data": {
            "text/plain": [
              "'Snake Case'"
            ],
            "application/vnd.google.colaboratory.intrinsic+json": {
              "type": "string"
            }
          },
          "metadata": {},
          "execution_count": 8
        }
      ]
    },
    {
      "cell_type": "markdown",
      "source": [
        "**3. Assign Multiple Values**\n",
        "\n",
        "**i. Many Values to Multiple Variables**\n",
        "You can assign multiple values to multiple variables in a single line."
      ],
      "metadata": {
        "id": "ceAbiZyVOTFY"
      }
    },
    {
      "cell_type": "code",
      "source": [
        "x, y, z = \"Red\", \"Green\", \"Blue\"\n",
        "print(x, y, z)\n"
      ],
      "metadata": {
        "colab": {
          "base_uri": "https://localhost:8080/"
        },
        "id": "Xbl5DMzkOZsH",
        "outputId": "3388652f-b0b6-48a3-c743-fcdd9738e95b"
      },
      "execution_count": 9,
      "outputs": [
        {
          "output_type": "stream",
          "name": "stdout",
          "text": [
            "Red Green Blue\n"
          ]
        }
      ]
    },
    {
      "cell_type": "markdown",
      "source": [
        "Explanation: The values \"Red\", \"Green\", and \"Blue\" are assigned to x, y, and z respectively."
      ],
      "metadata": {
        "id": "86zV0f4iOcsW"
      }
    },
    {
      "cell_type": "markdown",
      "source": [
        "**ii. One Value to Multiple Variables**\n",
        "You can assign the same value to multiple variables."
      ],
      "metadata": {
        "id": "viD9aEr5OpVE"
      }
    },
    {
      "cell_type": "code",
      "source": [
        "x = y = z = \"Orange\"\n",
        "print(x, y, z)\n"
      ],
      "metadata": {
        "colab": {
          "base_uri": "https://localhost:8080/"
        },
        "id": "EFjmuf4BOrv6",
        "outputId": "94543fe5-08b3-4d78-f87c-7269aa71ad58"
      },
      "execution_count": 10,
      "outputs": [
        {
          "output_type": "stream",
          "name": "stdout",
          "text": [
            "Orange Orange Orange\n"
          ]
        }
      ]
    },
    {
      "cell_type": "markdown",
      "source": [
        "Explanation: In this case, the string \"Orange\" is assigned to x, y, and z."
      ],
      "metadata": {
        "id": "d25xgfFYOu_8"
      }
    },
    {
      "cell_type": "markdown",
      "source": [
        "**iii. Unpack a Collection**\n",
        "You can assign the elements of a collection (like a list) to variables in a single statement."
      ],
      "metadata": {
        "id": "Djq4S8tJOygY"
      }
    },
    {
      "cell_type": "code",
      "source": [
        "fruits = [\"apple\", \"banana\", \"cherry\"]\n",
        "x, y, z = fruits\n",
        "print(x, y, z)\n"
      ],
      "metadata": {
        "colab": {
          "base_uri": "https://localhost:8080/"
        },
        "id": "Kbj6_a2iO1va",
        "outputId": "1b7d691e-2de7-4727-aa07-fcdd7357160e"
      },
      "execution_count": 11,
      "outputs": [
        {
          "output_type": "stream",
          "name": "stdout",
          "text": [
            "apple banana cherry\n"
          ]
        }
      ]
    },
    {
      "cell_type": "markdown",
      "source": [
        "Explanation: The values of the list fruits are unpacked and assigned to x, y, and z respectively."
      ],
      "metadata": {
        "id": "lNB4sgdTO74R"
      }
    },
    {
      "cell_type": "markdown",
      "source": [
        "**4. Output Variables**\n",
        "\n",
        "**i. Using print()**\n",
        "The print() function is commonly used to display the value of variables."
      ],
      "metadata": {
        "id": "mPrYnB5oPUy-"
      }
    },
    {
      "cell_type": "code",
      "source": [
        "x = \"Python\"\n",
        "y = \"is\"\n",
        "z = \"awesome\"\n",
        "print(x, y, z)\n"
      ],
      "metadata": {
        "colab": {
          "base_uri": "https://localhost:8080/"
        },
        "id": "VMtY1wnFPY5n",
        "outputId": "3ea9347f-8c86-41cb-822e-58336da6c364"
      },
      "execution_count": 12,
      "outputs": [
        {
          "output_type": "stream",
          "name": "stdout",
          "text": [
            "Python is awesome\n"
          ]
        }
      ]
    },
    {
      "cell_type": "markdown",
      "source": [
        "Explanation: The values of x, y, and z are printed in a single line, separated by spaces."
      ],
      "metadata": {
        "id": "h2Yxn_tHPdzx"
      }
    },
    {
      "cell_type": "markdown",
      "source": [
        "**ii. Using + operator**\n",
        "The + operator can be used to combine strings, but both variables need to be of the same type (string)."
      ],
      "metadata": {
        "id": "Q4Pojun0PgBk"
      }
    },
    {
      "cell_type": "code",
      "source": [
        "a = \"Python\"\n",
        "b = \"3\"\n",
        "print(a + b)  # works only if both are strings\n"
      ],
      "metadata": {
        "colab": {
          "base_uri": "https://localhost:8080/"
        },
        "id": "BU3CBn7HPhVX",
        "outputId": "68aeb959-0f55-4bc6-f785-9c4824fe894b"
      },
      "execution_count": 13,
      "outputs": [
        {
          "output_type": "stream",
          "name": "stdout",
          "text": [
            "Python3\n"
          ]
        }
      ]
    },
    {
      "cell_type": "markdown",
      "source": [
        "Explanation: In this case, both a and b are strings, so they are concatenated."
      ],
      "metadata": {
        "id": "Kocr_o-7PnFt"
      }
    },
    {
      "cell_type": "markdown",
      "source": [
        "**iii. For numbers, + is mathematical**\n",
        "The + operator is also used for mathematical addition when working with numbers."
      ],
      "metadata": {
        "id": "XkbwyDq4PpvS"
      }
    },
    {
      "cell_type": "code",
      "source": [
        "x = 5\n",
        "y = 10\n",
        "print(x + y)\n"
      ],
      "metadata": {
        "colab": {
          "base_uri": "https://localhost:8080/"
        },
        "id": "6ydyJk2_PsRa",
        "outputId": "3397847e-fa3c-4373-cb84-9273a56dbcae"
      },
      "execution_count": 14,
      "outputs": [
        {
          "output_type": "stream",
          "name": "stdout",
          "text": [
            "15\n"
          ]
        }
      ]
    },
    {
      "cell_type": "code",
      "source": [
        "Explanation: Since both x and y are numbers, the + operator adds them together."
      ],
      "metadata": {
        "id": "eHQhOZ0APurD"
      },
      "execution_count": null,
      "outputs": []
    },
    {
      "cell_type": "markdown",
      "source": [
        "**iv. Mixing types causes error**\n",
        "If you try to mix a string and a number using +, you’ll get an error."
      ],
      "metadata": {
        "id": "w5pDyx8aPzoE"
      }
    },
    {
      "cell_type": "code",
      "source": [
        "# This will raise a TypeError:\n",
        "age = 25\n",
        "name = \"John\"\n",
        "print(name + age)  # TypeError\n"
      ],
      "metadata": {
        "colab": {
          "base_uri": "https://localhost:8080/",
          "height": 176
        },
        "id": "3Y7Mc6cvP2Nc",
        "outputId": "5b50863c-db01-4d16-f1bf-5647ef16d24f"
      },
      "execution_count": 15,
      "outputs": [
        {
          "output_type": "error",
          "ename": "TypeError",
          "evalue": "can only concatenate str (not \"int\") to str",
          "traceback": [
            "\u001b[0;31m---------------------------------------------------------------------------\u001b[0m",
            "\u001b[0;31mTypeError\u001b[0m                                 Traceback (most recent call last)",
            "\u001b[0;32m<ipython-input-15-35bee3257897>\u001b[0m in \u001b[0;36m<cell line: 0>\u001b[0;34m()\u001b[0m\n\u001b[1;32m      2\u001b[0m \u001b[0mage\u001b[0m \u001b[0;34m=\u001b[0m \u001b[0;36m25\u001b[0m\u001b[0;34m\u001b[0m\u001b[0;34m\u001b[0m\u001b[0m\n\u001b[1;32m      3\u001b[0m \u001b[0mname\u001b[0m \u001b[0;34m=\u001b[0m \u001b[0;34m\"John\"\u001b[0m\u001b[0;34m\u001b[0m\u001b[0;34m\u001b[0m\u001b[0m\n\u001b[0;32m----> 4\u001b[0;31m \u001b[0mprint\u001b[0m\u001b[0;34m(\u001b[0m\u001b[0mname\u001b[0m \u001b[0;34m+\u001b[0m \u001b[0mage\u001b[0m\u001b[0;34m)\u001b[0m  \u001b[0;31m# TypeError\u001b[0m\u001b[0;34m\u001b[0m\u001b[0;34m\u001b[0m\u001b[0m\n\u001b[0m",
            "\u001b[0;31mTypeError\u001b[0m: can only concatenate str (not \"int\") to str"
          ]
        }
      ]
    },
    {
      "cell_type": "markdown",
      "source": [
        "Explanation: Python cannot concatenate a string with an integer, which leads to a TypeError."
      ],
      "metadata": {
        "id": "ElgJ8l2KP-kT"
      }
    },
    {
      "cell_type": "markdown",
      "source": [
        "**5. Global Variables**\n",
        "\n",
        "**i. The global Keyword**\n",
        "Global variables are variables that are defined outside of functions and can be accessed globally. The global keyword allows you to modify the value of a global variable inside a function."
      ],
      "metadata": {
        "id": "z-2eSiSHQCgg"
      }
    },
    {
      "cell_type": "code",
      "source": [
        "x = \"awesome\"\n",
        "\n",
        "def myfunc():\n",
        "    global x\n",
        "    x = \"fantastic\"\n",
        "\n",
        "myfunc()\n",
        "print(\"Python is \" + x)\n"
      ],
      "metadata": {
        "colab": {
          "base_uri": "https://localhost:8080/"
        },
        "id": "BUEkdLJNQHCa",
        "outputId": "ae5aa653-d0e5-4a7b-f1a4-b3a4683d2ce6"
      },
      "execution_count": 16,
      "outputs": [
        {
          "output_type": "stream",
          "name": "stdout",
          "text": [
            "Python is fantastic\n"
          ]
        }
      ]
    },
    {
      "cell_type": "markdown",
      "source": [
        "Explanation: In this code, the global keyword is used to modify the global variable x inside the myfunc() function. After the function is called, the value of x changes to \"fantastic\"."
      ],
      "metadata": {
        "id": "0Nh3q9h-QKBw"
      }
    },
    {
      "cell_type": "markdown",
      "source": [
        "**Real-Time Problem Statements**\n",
        "\n",
        "1.Store your name and age in variables, then print them.\n",
        "\n",
        "2.Take three favorite colors and unpack them into variables.\n",
        "\n",
        "3.Assign the same discount rate to three products and print.\n",
        "\n",
        "4.Combine first and last names into one variable.\n",
        "\n",
        "5.Unpack a list of product prices and print the total.\n",
        "\n",
        "6.Write a function that updates a global counter.\n",
        "\n",
        "7.Show how + behaves differently with numbers vs strings.\n",
        "\n",
        "8.Simulate a temperature sensor storing values in variables.\n",
        "\n",
        "9.Store user details and print them together in one message.\n",
        "\n",
        "10.Build a simple program: Welcome, <name> from <city>!"
      ],
      "metadata": {
        "id": "ZDCV_MnPQMmi"
      }
    },
    {
      "cell_type": "markdown",
      "source": [],
      "metadata": {
        "id": "nhTPeq_kQO6l"
      }
    }
  ]
}