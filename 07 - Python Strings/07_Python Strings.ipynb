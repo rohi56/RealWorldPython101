{
  "nbformat": 4,
  "nbformat_minor": 0,
  "metadata": {
    "colab": {
      "provenance": []
    },
    "kernelspec": {
      "name": "python3",
      "display_name": "Python 3"
    },
    "language_info": {
      "name": "python"
    }
  },
  "cells": [
    {
      "cell_type": "markdown",
      "source": [
        "**Python Strings**"
      ],
      "metadata": {
        "id": "MAXwNHTvNuxu"
      }
    },
    {
      "cell_type": "markdown",
      "source": [
        "In Python, a string is a sequence of characters (letters, numbers, symbols) enclosed in either single ' or double \" quotes."
      ],
      "metadata": {
        "id": "5Mi_DV1JNxgW"
      }
    },
    {
      "cell_type": "code",
      "source": [
        "# Both are valid strings\n",
        "greeting = \"Hello\"\n",
        "response = 'Hi there!'\n"
      ],
      "metadata": {
        "id": "9sZMIl0PN0UN"
      },
      "execution_count": 1,
      "outputs": []
    },
    {
      "cell_type": "markdown",
      "source": [
        "**1. Quotes Inside Quotes**\n",
        "You can use single quotes inside double quotes, or escape characters."
      ],
      "metadata": {
        "id": "bGzK7RXpN5Z3"
      }
    },
    {
      "cell_type": "code",
      "source": [
        "quote = \"It's a beautiful day\"\n",
        "quote2 = 'She said, \"Hello!\"'\n",
        "quote3 = 'It\\'s Python!'  # escaping the apostrophe\n"
      ],
      "metadata": {
        "id": "HWSGTcWON78m"
      },
      "execution_count": null,
      "outputs": []
    },
    {
      "cell_type": "markdown",
      "source": [
        "**2. Assigning Strings to Variables**"
      ],
      "metadata": {
        "id": "u0ks6HTUOAHN"
      }
    },
    {
      "cell_type": "code",
      "source": [
        "name = \"Alice\"\n",
        "name"
      ],
      "metadata": {
        "colab": {
          "base_uri": "https://localhost:8080/",
          "height": 35
        },
        "id": "vQgyXZvIOCLv",
        "outputId": "285d8043-c59b-40f0-b85c-664832283a2c"
      },
      "execution_count": 2,
      "outputs": [
        {
          "output_type": "execute_result",
          "data": {
            "text/plain": [
              "'Alice'"
            ],
            "application/vnd.google.colaboratory.intrinsic+json": {
              "type": "string"
            }
          },
          "metadata": {},
          "execution_count": 2
        }
      ]
    },
    {
      "cell_type": "markdown",
      "source": [
        "**3. Multiline Strings**\n",
        "Use triple quotes for strings that span multiple lines."
      ],
      "metadata": {
        "id": "fGQY0ossOGx_"
      }
    },
    {
      "cell_type": "code",
      "source": [
        "message = \"\"\"Hello,\n",
        "Welcome to Python learning!\"\"\"\n",
        "print(message)"
      ],
      "metadata": {
        "colab": {
          "base_uri": "https://localhost:8080/"
        },
        "id": "uVahcep7OJTn",
        "outputId": "022970e1-3152-485c-e1d4-12f821dccf55"
      },
      "execution_count": 4,
      "outputs": [
        {
          "output_type": "stream",
          "name": "stdout",
          "text": [
            "Hello,\n",
            "Welcome to Python learning!\n"
          ]
        }
      ]
    },
    {
      "cell_type": "markdown",
      "source": [
        "**4. Strings are Arrays**\n",
        "You can access characters using indexes."
      ],
      "metadata": {
        "id": "NS8JxbmROS08"
      }
    },
    {
      "cell_type": "code",
      "source": [
        "text = \"Python\"\n",
        "print(text[0])  # Output: P\n"
      ],
      "metadata": {
        "colab": {
          "base_uri": "https://localhost:8080/"
        },
        "id": "OJ8_W8ezOVOB",
        "outputId": "a4532ae6-48df-41f0-d710-72b4fa26e12b"
      },
      "execution_count": 5,
      "outputs": [
        {
          "output_type": "stream",
          "name": "stdout",
          "text": [
            "P\n"
          ]
        }
      ]
    },
    {
      "cell_type": "markdown",
      "source": [
        "**5. Loop Through a String**"
      ],
      "metadata": {
        "id": "cuN-G1VcOYw6"
      }
    },
    {
      "cell_type": "code",
      "source": [
        "for char in \"Hello\":\n",
        "    print(char)\n"
      ],
      "metadata": {
        "colab": {
          "base_uri": "https://localhost:8080/"
        },
        "id": "ZNZtrQe9ObXy",
        "outputId": "3256794d-a9aa-4a53-bfe6-34b24cbecaa8"
      },
      "execution_count": 6,
      "outputs": [
        {
          "output_type": "stream",
          "name": "stdout",
          "text": [
            "H\n",
            "e\n",
            "l\n",
            "l\n",
            "o\n"
          ]
        }
      ]
    },
    {
      "cell_type": "markdown",
      "source": [
        "**6. String Length**"
      ],
      "metadata": {
        "id": "CtxHDE0cOeUe"
      }
    },
    {
      "cell_type": "code",
      "source": [
        "print(len(\"Python\"))  # Output: 6\n"
      ],
      "metadata": {
        "colab": {
          "base_uri": "https://localhost:8080/"
        },
        "id": "3j3G_SzDOkUh",
        "outputId": "ebf8005b-4b6f-49af-a7fb-c6464d2ebda1"
      },
      "execution_count": 7,
      "outputs": [
        {
          "output_type": "stream",
          "name": "stdout",
          "text": [
            "6\n"
          ]
        }
      ]
    },
    {
      "cell_type": "markdown",
      "source": [
        "**7. Check if Substring Exists**"
      ],
      "metadata": {
        "id": "bCGflWv1Om-1"
      }
    },
    {
      "cell_type": "code",
      "source": [
        "txt = \"The sky is blue\"\n",
        "print(\"sky\" in txt)  # Output: True\n",
        "print(\"cloud\" not in txt)  # Output: True\n"
      ],
      "metadata": {
        "colab": {
          "base_uri": "https://localhost:8080/"
        },
        "id": "zpBd0HR2OqT7",
        "outputId": "0c87ca61-d328-4c34-d436-a7b1b194fa98"
      },
      "execution_count": 8,
      "outputs": [
        {
          "output_type": "stream",
          "name": "stdout",
          "text": [
            "True\n",
            "True\n"
          ]
        }
      ]
    },
    {
      "cell_type": "markdown",
      "source": [],
      "metadata": {
        "id": "bPTz82YfOtmN"
      }
    },
    {
      "cell_type": "markdown",
      "source": [
        "**8. String Slicing**\n",
        "You can extract parts of a string."
      ],
      "metadata": {
        "id": "_ABQmvdiOwSj"
      }
    },
    {
      "cell_type": "code",
      "source": [
        "text = \"Hello World\"\n",
        "print(text[0:5])   # Output: Hello\n",
        "print(text[:5])    # Output: Hello\n",
        "print(text[6:])    # Output: World\n",
        "print(text[-5:])   # Output: World\n"
      ],
      "metadata": {
        "colab": {
          "base_uri": "https://localhost:8080/"
        },
        "id": "nQ7hxGJ_OzAw",
        "outputId": "0d54f87f-e020-4260-e80a-3cf8368c782b"
      },
      "execution_count": 9,
      "outputs": [
        {
          "output_type": "stream",
          "name": "stdout",
          "text": [
            "Hello\n",
            "Hello\n",
            "World\n",
            "World\n"
          ]
        }
      ]
    },
    {
      "cell_type": "markdown",
      "source": [
        "**9. Upper and Lower Case**"
      ],
      "metadata": {
        "id": "c2374oZVO2xp"
      }
    },
    {
      "cell_type": "code",
      "source": [
        "msg = \"Python\"\n",
        "print(msg.upper())  # Output: PYTHON\n",
        "print(msg.lower())  # Output: python\n"
      ],
      "metadata": {
        "colab": {
          "base_uri": "https://localhost:8080/"
        },
        "id": "YRVdc9ccO5Uc",
        "outputId": "38f354d8-14fa-482a-dbdc-3103f4736c85"
      },
      "execution_count": 10,
      "outputs": [
        {
          "output_type": "stream",
          "name": "stdout",
          "text": [
            "PYTHON\n",
            "python\n"
          ]
        }
      ]
    },
    {
      "cell_type": "markdown",
      "source": [
        "**10. Remove Whitespace**"
      ],
      "metadata": {
        "id": "FvV2pwyNO8ZJ"
      }
    },
    {
      "cell_type": "code",
      "source": [
        "txt = \"  hello  \"\n",
        "print(txt.strip())  # Output: 'hello'\n"
      ],
      "metadata": {
        "colab": {
          "base_uri": "https://localhost:8080/"
        },
        "id": "NMDU7fScO-LH",
        "outputId": "42aefcd3-4d34-4545-bfb1-0ca320a3c8ab"
      },
      "execution_count": 11,
      "outputs": [
        {
          "output_type": "stream",
          "name": "stdout",
          "text": [
            "hello\n"
          ]
        }
      ]
    },
    {
      "cell_type": "markdown",
      "source": [
        "**11. Replace and Split**"
      ],
      "metadata": {
        "id": "N0Espm5JPEaf"
      }
    },
    {
      "cell_type": "code",
      "source": [
        "txt = \"I love apples\"\n",
        "print(txt.replace(\"apples\", \"bananas\"))  # I love bananas\n",
        "\n",
        "# Split into list\n",
        "print(txt.split())  # ['I', 'love', 'apples']\n"
      ],
      "metadata": {
        "colab": {
          "base_uri": "https://localhost:8080/"
        },
        "id": "xfC1_8odPH3m",
        "outputId": "774e0c06-b0fa-4599-86c7-9a3f6fc00da0"
      },
      "execution_count": 13,
      "outputs": [
        {
          "output_type": "stream",
          "name": "stdout",
          "text": [
            "I love bananas\n",
            "['I', 'love', 'apples']\n"
          ]
        }
      ]
    },
    {
      "cell_type": "markdown",
      "source": [
        "**12. Concatenate Strings**"
      ],
      "metadata": {
        "id": "iJcgbStlPOf3"
      }
    },
    {
      "cell_type": "code",
      "source": [
        "first = \"Hello\"\n",
        "second = \"World\"\n",
        "print(first + \" \" + second)  # Output: Hello World\n"
      ],
      "metadata": {
        "colab": {
          "base_uri": "https://localhost:8080/"
        },
        "id": "G-GaA_dYPQcf",
        "outputId": "bdca17cf-97e6-48dc-e4e0-5cff16a246d8"
      },
      "execution_count": 14,
      "outputs": [
        {
          "output_type": "stream",
          "name": "stdout",
          "text": [
            "Hello World\n"
          ]
        }
      ]
    },
    {
      "cell_type": "markdown",
      "source": [
        "**13. String Formatting**\n",
        "\n",
        "f-strings (Recommended in Python 3.6+)"
      ],
      "metadata": {
        "id": "p6VWyi2tPZwn"
      }
    },
    {
      "cell_type": "code",
      "source": [
        "age = 25\n",
        "print(f\"I am {age} years old\")  # Output: I am 25 years old\n"
      ],
      "metadata": {
        "id": "xDfFMPIfPhEm"
      },
      "execution_count": null,
      "outputs": []
    },
    {
      "cell_type": "markdown",
      "source": [
        "**14. Escape Characters**"
      ],
      "metadata": {
        "id": "KSzU66HMPjl2"
      }
    },
    {
      "cell_type": "code",
      "source": [
        "print(\"She said, \\\"Hello\\\"\")   # She said, \"Hello\"\n",
        "print(\"Line1\\nLine2\")          # New line\n"
      ],
      "metadata": {
        "colab": {
          "base_uri": "https://localhost:8080/"
        },
        "id": "2gwYt84CPlup",
        "outputId": "713e7247-dc01-42b5-afc9-959eaf4ecad3"
      },
      "execution_count": 15,
      "outputs": [
        {
          "output_type": "stream",
          "name": "stdout",
          "text": [
            "She said, \"Hello\"\n",
            "Line1\n",
            "Line2\n"
          ]
        }
      ]
    },
    {
      "cell_type": "markdown",
      "source": [
        "**15. String Methods**\n",
        "\n",
        "| Method         | Description                                                       | Example                                 |\n",
        "|----------------|-------------------------------------------------------------------|-----------------------------------------|\n",
        "| `capitalize()` | Converts the first character to upper case                        | `\"hello\".capitalize()` → `'Hello'`      |\n",
        "| `casefold()`   | Converts string into lower case (more aggressive than lower())    | `\"HELLO\".casefold()` → `'hello'`        |\n",
        "| `center()`     | Returns a centered string                                         | `\"hi\".center(10)` → `'    hi    '`      |\n",
        "| `count()`      | Counts occurrences of a value                                     | `\"apple\".count('p')` → `2`              |\n",
        "| `encode()`     | Returns encoded version of string                                 | `\"hello\".encode()` → `b'hello'`         |\n",
        "| `endswith()`   | Checks if string ends with value                                  | `\"hello\".endswith('o')` → `True`        |\n",
        "| `expandtabs()` | Sets tab size in string                                           | `\"a\\tb\".expandtabs(4)` → `'a   b'`      |\n",
        "| `find()`       | Finds first occurrence of value                                   | `\"hello\".find('e')` → `1`               |\n",
        "| `format()`     | Formats string using placeholders                                 | `\"Hi {}\".format(\"John\")` → `'Hi John'`  |\n",
        "| `format_map()` | Similar to format(), uses dictionary                              | `\"Hi {name}\".format_map({'name':'Amy'})` → `'Hi Amy'` |\n",
        "| `index()`      | Returns first index of value                                      | `\"hello\".index('l')` → `2`              |\n",
        "| `isalnum()`    | Checks if all chars are alphanumeric                              | `\"abc123\".isalnum()` → `True`           |\n",
        "| `isalpha()`    | Checks if all chars are letters                                   | `\"abc\".isalpha()` → `True`              |\n",
        "| `isascii()`    | Checks if all chars are ASCII                                     | `\"abc\".isascii()` → `True`              |\n",
        "| `isdecimal()`  | Checks if all chars are decimals                                  | `\"123\".isdecimal()` → `True`            |\n",
        "| `isdigit()`    | Checks if all chars are digits                                    | `\"123\".isdigit()` → `True`              |\n",
        "| `isidentifier()`| Checks if valid Python identifier                                | `\"var_1\".isidentifier()` → `True`       |\n",
        "| `islower()`    | Checks if all chars are lowercase                                 | `\"hello\".islower()` → `True`            |\n",
        "| `isnumeric()`  | Checks if all chars are numeric                                   | `\"123\".isnumeric()` → `True`            |\n",
        "| `isprintable()`| Checks if all chars are printable                                | `\"Hi\\n\".isprintable()` → `False`        |\n",
        "| `isspace()`    | Checks if all chars are whitespace                                | `\"  \".isspace()` → `True`               |\n",
        "| `istitle()`    | Checks if string is in title case                                 | `\"Hello World\".istitle()` → `True`      |\n",
        "| `isupper()`    | Checks if all chars are uppercase                                 | `\"HELLO\".isupper()` → `True`            |\n",
        "| `join()`       | Joins elements of iterable with string                            | `\" \".join(['Hi', 'there'])` → `'Hi there'` |\n",
        "| `ljust()`      | Left-justifies string                                             | `\"hi\".ljust(5)` → `'hi   '`             |\n",
        "| `lower()`      | Converts string to lowercase                                      | `\"HI\".lower()` → `'hi'`                 |\n",
        "| `lstrip()`     | Trims leading whitespace                                          | `\"  hello\".lstrip()` → `'hello'`        |\n",
        "| `maketrans()`  | Creates translation map                                           | `str.maketrans(\"a\", \"b\")`               |\n",
        "| `partition()`  | Splits string at first occurrence of value                        | `\"apple-juice\".partition('-')` → `('apple', '-', 'juice')` |\n",
        "| `replace()`    | Replaces old with new value                                       | `\"apple\".replace('p','b')` → `'abble'`  |\n",
        "| `rfind()`      | Finds last occurrence of value                                    | `\"hello\".rfind('l')` → `3`              |\n",
        "| `rindex()`     | Returns last index of value                                       | `\"hello\".rindex('l')` → `3`             |\n",
        "| `rjust()`      | Right-justifies string                                            | `\"hi\".rjust(5)` → `'   hi'`             |\n",
        "| `rpartition()` | Splits string at last occurrence of value                         | `\"a-b-c\".rpartition('-')` → `('a-b', '-', 'c')` |\n",
        "| `rsplit()`     | Splits from right                                                 | `\"a,b,c\".rsplit(',', 1)` → `['a,b', 'c']` |\n",
        "| `rstrip()`     | Trims trailing whitespace                                         | `\"hi  \".rstrip()` → `'hi'`              |\n",
        "| `split()`      | Splits at separator                                               | `\"a,b,c\".split(',')` → `['a', 'b', 'c']`|\n",
        "| `splitlines()` | Splits at line breaks                                             | `\"line1\\nline2\".splitlines()` → `['line1', 'line2']` |\n",
        "| `startswith()` | Checks if string starts with value                                | `\"hello\".startswith('h')` → `True`      |\n",
        "| `strip()`      | Trims leading and trailing whitespace                             | `\" hello \".strip()` → `'hello'`         |\n",
        "| `swapcase()`   | Swaps upper to lower and vice versa                               | `\"HeLLo\".swapcase()` → `'hEllO'`        |\n",
        "| `title()`      | Capitalizes first letter of each word                             | `\"hello world\".title()` → `'Hello World'` |\n",
        "| `translate()`  | Translates string using map                                       | `\"apple\".translate(str.maketrans(\"a\", \"b\"))` → `'bpple'` |\n",
        "| `upper()`      | Converts string to uppercase                                      | `\"hello\".upper()` → `'HELLO'`           |\n",
        "| `zfill()`      | Pads string with zeros                                            | `\"7\".zfill(3)` → `'007'`                |\n"
      ],
      "metadata": {
        "id": "dvd_PT5ePory"
      }
    },
    {
      "cell_type": "markdown",
      "source": [
        "This foundational knowledge helps with a lot of real-world use cases—like data formatting, user input validation, message building, and more."
      ],
      "metadata": {
        "id": "vi2mTrQJQL9g"
      }
    },
    {
      "cell_type": "markdown",
      "source": [
        "**Real-Time Problem Statements**\n",
        "\n",
        "**1.Basic Username Display**\n",
        "Ask the user for their name and greet them using an f-string.\n",
        "\n",
        "**2.Secure Password Check**\n",
        "Check if a password is at least 8 characters long and contains a number using len() and string methods.\n",
        "\n",
        "**3.Email Validator (Basic)**\n",
        "Verify that user input contains '@' and ends with .com.\n",
        "\n",
        "**4.Short Bio Formatter**\n",
        "Take multi-line input from a user and display it with clean formatting (strip spaces, correct casing).\n",
        "\n",
        "**5.First Name Extractor**\n",
        "Ask for full name and extract the first name using slicing and split().\n",
        "\n",
        "**6.Initials Generator**\n",
        "Ask for full name and return initials in uppercase: \"John Doe\" → \"J.D.\"\n",
        "\n",
        "**7.Message Formatter**\n",
        "Format a message using .format() or f-strings like:\n",
        "\"Hello John, your order #1234 is confirmed.\"\n",
        "\n",
        "**8.Coupon Code Generator**\n",
        "Take product name and user ID, slice, concatenate, and format to create a unique coupon code.\n",
        "\n",
        "**9.Reverse String Checker**\n",
        "Ask the user for a word and check if it is a palindrome (same forward and backward).\n",
        "\n",
        "**10.Sanitize User Input**\n",
        "Take a user review, remove leading/trailing whitespace, and replace any banned word like \"bad\" with \"***\"."
      ],
      "metadata": {
        "id": "pXhuDCvsQZOc"
      }
    }
  ]
}