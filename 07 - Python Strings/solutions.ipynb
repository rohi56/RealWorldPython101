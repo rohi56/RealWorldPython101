{
  "nbformat": 4,
  "nbformat_minor": 0,
  "metadata": {
    "colab": {
      "provenance": []
    },
    "kernelspec": {
      "name": "python3",
      "display_name": "Python 3"
    },
    "language_info": {
      "name": "python"
    }
  },
  "cells": [
    {
      "cell_type": "markdown",
      "source": [
        "**Real-Time Problem Statements Solutions**"
      ],
      "metadata": {
        "id": "eOqYsX6MRpeg"
      }
    },
    {
      "cell_type": "markdown",
      "source": [
        "**1.Basic Username Display**\n",
        "Ask the user for their name and greet them using an f-string."
      ],
      "metadata": {
        "id": "RtB2XOr4RsCb"
      }
    },
    {
      "cell_type": "code",
      "source": [
        "user= input(\"Enter your name :\")\n",
        "print(f\"Welcome {user}\")"
      ],
      "metadata": {
        "colab": {
          "base_uri": "https://localhost:8080/"
        },
        "id": "MEvM6Yr_Rwg5",
        "outputId": "91f2038c-8a56-4f86-a9e3-70fd7a208c98"
      },
      "execution_count": 1,
      "outputs": [
        {
          "output_type": "stream",
          "name": "stdout",
          "text": [
            "Enter your name :rohit\n",
            "Welcome rohit\n"
          ]
        }
      ]
    },
    {
      "cell_type": "markdown",
      "source": [
        "**2.Secure Password Check**\n",
        "Check if a password is at least 8 characters long and contains a number using len() and string methods."
      ],
      "metadata": {
        "id": "eFW8Mq1eSE1I"
      }
    },
    {
      "cell_type": "code",
      "source": [
        "password = input(\"Enter your password: \")\n",
        "is_valid = len(password) >= 8 and any(char.isdigit() for char in password)\n",
        "\n",
        "if is_valid:\n",
        "    print(\"Password is secure.\")\n",
        "else:\n",
        "    print(\"Password must be at least 8 characters long and contain a number.\")\n",
        "\n"
      ],
      "metadata": {
        "colab": {
          "base_uri": "https://localhost:8080/"
        },
        "id": "vOZbdhAXW71l",
        "outputId": "868232a4-c2b0-49cf-de1a-51eb0ba6cda5"
      },
      "execution_count": 2,
      "outputs": [
        {
          "output_type": "stream",
          "name": "stdout",
          "text": [
            "Enter your password: Wonderful@15\n",
            "Password is secure.\n"
          ]
        }
      ]
    },
    {
      "cell_type": "markdown",
      "source": [
        "**3.Email Validator (Basic)**\n",
        "Verify that user input contains '@' and ends with .com."
      ],
      "metadata": {
        "id": "UwFezdtMZERw"
      }
    },
    {
      "cell_type": "code",
      "source": [
        "email = input(\"Enter you email: \")\n",
        "\n",
        "if \"@\" in email and email.endswith(\".com\"):\n",
        "    print(\"Valid email.\")\n",
        "else:\n",
        "    print(\"Invalid email. It must contain '@' and end with '.com'\")"
      ],
      "metadata": {
        "colab": {
          "base_uri": "https://localhost:8080/"
        },
        "id": "KOD84vdsZOGI",
        "outputId": "bcbb0a39-9db6-451f-ca1d-e5e6573c7fdd"
      },
      "execution_count": 5,
      "outputs": [
        {
          "output_type": "stream",
          "name": "stdout",
          "text": [
            "Enter you email: rohit.com\n",
            "Invalid email. It must contain '@' and end with '.com'\n"
          ]
        }
      ]
    },
    {
      "cell_type": "markdown",
      "source": [
        "**4.Short Bio Formatter**\n",
        "Take multi-line input from a user and display it with clean formatting (strip spaces, correct casing)."
      ],
      "metadata": {
        "id": "T3G55grRaNSR"
      }
    },
    {
      "cell_type": "code",
      "source": [
        "print(\"Enter your bio (Press Enter twice to end):\")\n",
        "lines = []\n",
        "while True:\n",
        "    line = input()\n",
        "    if not line:\n",
        "        break\n",
        "    lines.append(line.strip().capitalize())\n",
        "\n",
        "bio = \"\\n\".join(lines)\n",
        "print(\"Formatted Bio:\\n\", bio)\n"
      ],
      "metadata": {
        "colab": {
          "base_uri": "https://localhost:8080/"
        },
        "id": "tQIrqh-ZciE1",
        "outputId": "e0aea0d3-5e22-472b-fed0-6fec61302334"
      },
      "execution_count": 7,
      "outputs": [
        {
          "output_type": "stream",
          "name": "stdout",
          "text": [
            "Enter your bio (Press Enter twice to end):\n",
            "now you see me\n",
            "jumping in the moon\n",
            "waiting for the stars to catch\n",
            "dreaming in the noon\n",
            "\n",
            "Formatted Bio:\n",
            " Now you see me\n",
            "Jumping in the moon\n",
            "Waiting for the stars to catch\n",
            "Dreaming in the noon\n"
          ]
        }
      ]
    },
    {
      "cell_type": "markdown",
      "source": [
        "**5.First Name Extractor**\n",
        "Ask for full name and extract the first name using slicing and split()."
      ],
      "metadata": {
        "id": "TV3ht9rMaPxm"
      }
    },
    {
      "cell_type": "code",
      "source": [
        "name = input(\"Enter you full name: \")\n",
        "name=name.split(\" \")\n",
        "print(f\"Your first name is {name[0]}\")"
      ],
      "metadata": {
        "colab": {
          "base_uri": "https://localhost:8080/"
        },
        "id": "dipxQj-Qd40Q",
        "outputId": "0a4f101c-881e-4c20-b235-9870f86aa896"
      },
      "execution_count": 11,
      "outputs": [
        {
          "output_type": "stream",
          "name": "stdout",
          "text": [
            "Enter you full name: Priya Jha\n",
            "Your first name is Priya\n"
          ]
        }
      ]
    },
    {
      "cell_type": "markdown",
      "source": [
        "**6.Initials Generator**\n",
        "Ask for full name and return initials in uppercase: \"John Doe\" → \"J.D.\""
      ],
      "metadata": {
        "id": "8Lsv3mBVaTZU"
      }
    },
    {
      "cell_type": "code",
      "source": [
        "full_name = input(\"Enter your full name: \")\n",
        "initials = \".\".join([part[0].upper() for part in full_name.split()]) + \".\"\n",
        "print(\"Initials:\", initials)\n"
      ],
      "metadata": {
        "colab": {
          "base_uri": "https://localhost:8080/"
        },
        "id": "Xomhe6fqe5mL",
        "outputId": "04d30397-ff88-47be-c73d-f995c54cd952"
      },
      "execution_count": 12,
      "outputs": [
        {
          "output_type": "stream",
          "name": "stdout",
          "text": [
            "Enter your full name: Shubham Shahu\n",
            "Initials: S.S.\n"
          ]
        }
      ]
    },
    {
      "cell_type": "markdown",
      "source": [
        "**7.Message Formatter**\n",
        "Format a message using .format() or f-strings like:\n",
        "\"Hello John, your order #1234 is confirmed.\""
      ],
      "metadata": {
        "id": "cUsFH8j5aXZU"
      }
    },
    {
      "cell_type": "code",
      "source": [
        "name = input(\"Enter your name: \")\n",
        "order_id = input(\"Enter your order ID: \")\n",
        "\n",
        "message = f\"Hello {name}, your order #{order_id} is confirmed.\"\n",
        "print(message)\n"
      ],
      "metadata": {
        "colab": {
          "base_uri": "https://localhost:8080/"
        },
        "id": "gGIJ294PfXJ8",
        "outputId": "ef44670a-2ebb-405a-a5d5-4227ca1767a8"
      },
      "execution_count": 13,
      "outputs": [
        {
          "output_type": "stream",
          "name": "stdout",
          "text": [
            "Enter your name: John\n",
            "Enter your order ID: 1234\n",
            "Hello John, your order #1234 is confirmed.\n"
          ]
        }
      ]
    },
    {
      "cell_type": "markdown",
      "source": [
        "**8.Coupon Code Generator**\n",
        "Take product name and user ID, slice, concatenate, and format to create a unique coupon code."
      ],
      "metadata": {
        "id": "hsANezHTaaPD"
      }
    },
    {
      "cell_type": "code",
      "source": [
        "product_name = input(\"Enter product name: \")\n",
        "user_id = input(\"Enter user ID: \")\n",
        "\n",
        "coupon = f\"{product_name[:3].upper()}{user_id[-3:]}2025\"\n",
        "print(\"Your coupon code:\", coupon)\n"
      ],
      "metadata": {
        "colab": {
          "base_uri": "https://localhost:8080/"
        },
        "id": "JYUIQ255fgvl",
        "outputId": "1a82909f-45f3-4520-a8a8-0f3c7cdea26c"
      },
      "execution_count": 14,
      "outputs": [
        {
          "output_type": "stream",
          "name": "stdout",
          "text": [
            "Enter product name: wishlist\n",
            "Enter user ID: 08112023\n",
            "Your coupon code: WIS0232025\n"
          ]
        }
      ]
    },
    {
      "cell_type": "markdown",
      "source": [
        "**9.Reverse String Checker**\n",
        "Ask the user for a word and check if it is a palindrome (same forward and backward)."
      ],
      "metadata": {
        "id": "eeHokRnsafzL"
      }
    },
    {
      "cell_type": "code",
      "source": [
        "word = input(\"Enter a word: \")\n",
        "if word == word[::-1]:\n",
        "    print(\"It is a palindrome.\")\n",
        "else:\n",
        "    print(\"It is not a palindrome.\")\n"
      ],
      "metadata": {
        "colab": {
          "base_uri": "https://localhost:8080/"
        },
        "id": "uevr1cCFfuf5",
        "outputId": "76d9e294-5f08-4b51-dbbb-5d443c3738c6"
      },
      "execution_count": 15,
      "outputs": [
        {
          "output_type": "stream",
          "name": "stdout",
          "text": [
            "Enter a word: wishsiw\n",
            "It is a palindrome.\n"
          ]
        }
      ]
    },
    {
      "cell_type": "markdown",
      "source": [
        "**10.Sanitize User Input**\n",
        "Take a user review, remove leading/trailing whitespace, and replace any banned word like \"bad\" with \"***\"."
      ],
      "metadata": {
        "id": "jfLkO-65ajRU"
      }
    },
    {
      "cell_type": "code",
      "source": [
        "review = input(\"Write your review: \")\n",
        "cleaned = review.strip().replace(\"bad\", \"***\")\n",
        "print(\"Sanitized Review:\", cleaned)\n"
      ],
      "metadata": {
        "colab": {
          "base_uri": "https://localhost:8080/"
        },
        "id": "CGi380KBf-HW",
        "outputId": "3a95318a-451e-402b-e65b-dfbdc664ad45"
      },
      "execution_count": 17,
      "outputs": [
        {
          "output_type": "stream",
          "name": "stdout",
          "text": [
            "Write your review: you are bad\n",
            "Sanitized Review: you are ***\n"
          ]
        }
      ]
    }
  ]
}