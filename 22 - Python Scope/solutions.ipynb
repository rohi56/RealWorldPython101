{
  "nbformat": 4,
  "nbformat_minor": 0,
  "metadata": {
    "colab": {
      "provenance": []
    },
    "kernelspec": {
      "name": "python3",
      "display_name": "Python 3"
    },
    "language_info": {
      "name": "python"
    }
  },
  "cells": [
    {
      "cell_type": "markdown",
      "source": [
        "**Real-Time Problem Statements**\n",
        "\n",
        "\n",
        "\n"
      ],
      "metadata": {
        "id": "PCWqnOvmhH5S"
      }
    },
    {
      "cell_type": "markdown",
      "source": [
        "**1.Student Marks Tracker**\n",
        "\n",
        "Use local scope to store and manipulate marks inside a function.\n",
        "\n"
      ],
      "metadata": {
        "id": "MU5DfULAhJfb"
      }
    },
    {
      "cell_type": "code",
      "source": [
        "def record_marks():\n",
        "    student_name = \"Ava\"\n",
        "    marks = [88, 92, 79]\n",
        "    avg = sum(marks) / len(marks)\n",
        "    print(f\"{student_name}'s average marks: {avg}\")\n",
        "\n",
        "record_marks()\n",
        "\n"
      ],
      "metadata": {
        "colab": {
          "base_uri": "https://localhost:8080/"
        },
        "id": "2p9mcTpQhhD4",
        "outputId": "5b71c3a7-e511-4852-eb13-844a12cf235e"
      },
      "execution_count": 1,
      "outputs": [
        {
          "output_type": "stream",
          "name": "stdout",
          "text": [
            "Ava's average marks: 86.33333333333333\n"
          ]
        }
      ]
    },
    {
      "cell_type": "markdown",
      "source": [
        "**2.Online Shopping Cart**\n",
        "\n",
        "Use global scope for a shared cart object accessed across multiple functions.\n",
        "\n"
      ],
      "metadata": {
        "id": "DLSzfVJJhLc7"
      }
    },
    {
      "cell_type": "code",
      "source": [
        "cart = []\n",
        "\n",
        "def add_item(item):\n",
        "    global cart\n",
        "    cart.append(item)\n",
        "\n",
        "add_item(\"Shoes\")\n",
        "add_item(\"T-Shirt\")\n",
        "print(\"Cart:\", cart)\n"
      ],
      "metadata": {
        "colab": {
          "base_uri": "https://localhost:8080/"
        },
        "id": "TodmnuBgh5X4",
        "outputId": "1a448379-2701-41ec-d45c-ba5273910605"
      },
      "execution_count": 2,
      "outputs": [
        {
          "output_type": "stream",
          "name": "stdout",
          "text": [
            "Cart: ['Shoes', 'T-Shirt']\n"
          ]
        }
      ]
    },
    {
      "cell_type": "markdown",
      "source": [
        "**3.Nested Login Validation**\n",
        "\n",
        "Validate user credentials using nested functions with nonlocal variables.\n",
        "\n"
      ],
      "metadata": {
        "id": "uOcVcJOThM_b"
      }
    },
    {
      "cell_type": "code",
      "source": [
        "def login_system():\n",
        "    username_input = \"admin\"\n",
        "    password_input = \"1234\"\n",
        "\n",
        "    def validate():\n",
        "        nonlocal username_input, password_input\n",
        "        if username_input == \"admin\" and password_input == \"1234\":\n",
        "            return \"Login successful\"\n",
        "        else:\n",
        "            return \"Login failed\"\n",
        "\n",
        "    print(validate())\n",
        "\n",
        "login_system()\n"
      ],
      "metadata": {
        "colab": {
          "base_uri": "https://localhost:8080/"
        },
        "id": "QsfLU0JPh7iS",
        "outputId": "47524ff2-15cf-458d-e14f-7c44e757a5e5"
      },
      "execution_count": 3,
      "outputs": [
        {
          "output_type": "stream",
          "name": "stdout",
          "text": [
            "Login successful\n"
          ]
        }
      ]
    },
    {
      "cell_type": "markdown",
      "source": [
        "**4.IoT Device Manager**\n",
        "\n",
        "Use global keyword to update global status of a device from within a function.\n",
        "\n"
      ],
      "metadata": {
        "id": "OPB9fJExhPOf"
      }
    },
    {
      "cell_type": "code",
      "source": [
        "device_status = \"OFF\"\n",
        "\n",
        "def activate_device():\n",
        "    global device_status\n",
        "    device_status = \"ON\"\n",
        "\n",
        "activate_device()\n",
        "print(\"Device Status:\", device_status)\n"
      ],
      "metadata": {
        "colab": {
          "base_uri": "https://localhost:8080/"
        },
        "id": "g_krXD5eh9gr",
        "outputId": "01e61e63-dc72-468e-cefd-45c387d7f5db"
      },
      "execution_count": 4,
      "outputs": [
        {
          "output_type": "stream",
          "name": "stdout",
          "text": [
            "Device Status: ON\n"
          ]
        }
      ]
    },
    {
      "cell_type": "markdown",
      "source": [
        "**5.Banking Application**\n",
        "\n",
        "Handle account balance using global scope and functions for deposits/withdrawals.\n",
        "\n"
      ],
      "metadata": {
        "id": "sg31FF5FhRhW"
      }
    },
    {
      "cell_type": "code",
      "source": [
        "balance = 1000\n",
        "\n",
        "def deposit(amount):\n",
        "    global balance\n",
        "    balance += amount\n",
        "\n",
        "def withdraw(amount):\n",
        "    global balance\n",
        "    if amount <= balance:\n",
        "        balance -= amount\n",
        "    else:\n",
        "        print(\"Insufficient funds\")\n",
        "\n",
        "deposit(500)\n",
        "withdraw(200)\n",
        "print(\"Final Balance:\", balance)\n"
      ],
      "metadata": {
        "colab": {
          "base_uri": "https://localhost:8080/"
        },
        "id": "wHYP57Mnh_a2",
        "outputId": "7a90ad3d-2d2a-4cff-c085-15e6daaf80f2"
      },
      "execution_count": 5,
      "outputs": [
        {
          "output_type": "stream",
          "name": "stdout",
          "text": [
            "Final Balance: 1300\n"
          ]
        }
      ]
    },
    {
      "cell_type": "markdown",
      "source": [
        "**6.Game State Tracker**\n",
        "\n",
        "Track and update global game state like score, lives, and levels using appropriate scopes.\n",
        "\n"
      ],
      "metadata": {
        "id": "sezAdQtXhTJg"
      }
    },
    {
      "cell_type": "code",
      "source": [
        "score = 0\n",
        "lives = 3\n",
        "\n",
        "def update_score(points):\n",
        "    global score\n",
        "    score += points\n",
        "\n",
        "def lose_life():\n",
        "    global lives\n",
        "    lives -= 1\n",
        "\n",
        "update_score(10)\n",
        "lose_life()\n",
        "print(f\"Score: {score}, Lives: {lives}\")\n"
      ],
      "metadata": {
        "colab": {
          "base_uri": "https://localhost:8080/"
        },
        "id": "lqBQYc74iBw9",
        "outputId": "eba31422-b092-4f2e-ee36-071583c0fad0"
      },
      "execution_count": 6,
      "outputs": [
        {
          "output_type": "stream",
          "name": "stdout",
          "text": [
            "Score: 10, Lives: 2\n"
          ]
        }
      ]
    },
    {
      "cell_type": "markdown",
      "source": [
        "**7.Survey App**\n",
        "\n",
        "Store user responses locally within a submission function while updating global statistics.\n",
        "\n"
      ],
      "metadata": {
        "id": "uz5a9JdjhUo3"
      }
    },
    {
      "cell_type": "code",
      "source": [
        "total_responses = 0\n",
        "\n",
        "def submit_response(answer):\n",
        "    global total_responses\n",
        "    response = answer  # local\n",
        "    total_responses += 1\n",
        "    print(\"Response recorded:\", response)\n",
        "\n",
        "submit_response(\"Yes\")\n",
        "submit_response(\"No\")\n",
        "print(\"Total Responses:\", total_responses)\n"
      ],
      "metadata": {
        "colab": {
          "base_uri": "https://localhost:8080/"
        },
        "id": "Xi18l5_tiD3I",
        "outputId": "ed904da5-ec78-4189-cee4-21742edb9440"
      },
      "execution_count": 7,
      "outputs": [
        {
          "output_type": "stream",
          "name": "stdout",
          "text": [
            "Response recorded: Yes\n",
            "Response recorded: No\n",
            "Total Responses: 2\n"
          ]
        }
      ]
    },
    {
      "cell_type": "markdown",
      "source": [
        "**8.Weather Data Processor**\n",
        "\n",
        "Use local scope to process and print summaries for each city’s data separately.\n",
        "\n"
      ],
      "metadata": {
        "id": "ZMlUxW1MhWNN"
      }
    },
    {
      "cell_type": "code",
      "source": [
        "def process_city_data(city, temps):\n",
        "    avg_temp = sum(temps) / len(temps)\n",
        "    print(f\"{city} Avg Temp: {avg_temp:.2f}°C\")\n",
        "\n",
        "process_city_data(\"Pune\", [30, 32, 29, 31])\n",
        "process_city_data(\"Delhi\", [35, 36, 34, 33])\n"
      ],
      "metadata": {
        "colab": {
          "base_uri": "https://localhost:8080/"
        },
        "id": "s8EbDPL5iGCg",
        "outputId": "7ef320ef-23da-48d7-c845-7522db346112"
      },
      "execution_count": 8,
      "outputs": [
        {
          "output_type": "stream",
          "name": "stdout",
          "text": [
            "Pune Avg Temp: 30.50°C\n",
            "Delhi Avg Temp: 34.50°C\n"
          ]
        }
      ]
    },
    {
      "cell_type": "markdown",
      "source": [
        "**9.Password Strength Evaluator**\n",
        "\n",
        "Use nested functions and nonlocal scope to build up password checks and status messages.\n",
        "\n"
      ],
      "metadata": {
        "id": "ZciXswiKhXnT"
      }
    },
    {
      "cell_type": "code",
      "source": [
        "def check_password(password):\n",
        "    result = \"Weak\"\n",
        "\n",
        "    def evaluate():\n",
        "        nonlocal result\n",
        "        if len(password) >= 8 and any(char.isdigit() for char in password):\n",
        "            result = \"Strong\"\n",
        "\n",
        "    evaluate()\n",
        "    print(\"Password Strength:\", result)\n",
        "\n",
        "check_password(\"pass1234\")\n"
      ],
      "metadata": {
        "colab": {
          "base_uri": "https://localhost:8080/"
        },
        "id": "1KUe6gwdiIP5",
        "outputId": "51b5ffc7-30d5-4065-9b11-3e1d77c648a3"
      },
      "execution_count": 9,
      "outputs": [
        {
          "output_type": "stream",
          "name": "stdout",
          "text": [
            "Password Strength: Strong\n"
          ]
        }
      ]
    },
    {
      "cell_type": "markdown",
      "source": [
        "**10.Employee Record System**\n",
        "\n",
        "Control access and updates to employee records by managing scope in different modules/functions."
      ],
      "metadata": {
        "id": "2wy1EakthY2l"
      }
    },
    {
      "cell_type": "code",
      "source": [
        "employee_records = {\"E001\": {\"name\": \"Ravi\", \"role\": \"Manager\"}}\n",
        "\n",
        "def update_employee(emp_id, role):\n",
        "    if emp_id in employee_records:\n",
        "        employee_records[emp_id][\"role\"] = role\n",
        "\n",
        "def show_employee(emp_id):\n",
        "    record = employee_records.get(emp_id)\n",
        "    if record:\n",
        "        print(f\"{record['name']} is a {record['role']}\")\n",
        "\n",
        "update_employee(\"E001\", \"Senior Manager\")\n",
        "show_employee(\"E001\")\n"
      ],
      "metadata": {
        "colab": {
          "base_uri": "https://localhost:8080/"
        },
        "id": "IH3662hZiOMB",
        "outputId": "46e22df9-e0ba-4a64-b864-fb33cdd3e6c2"
      },
      "execution_count": 10,
      "outputs": [
        {
          "output_type": "stream",
          "name": "stdout",
          "text": [
            "Ravi is a Senior Manager\n"
          ]
        }
      ]
    }
  ]
}