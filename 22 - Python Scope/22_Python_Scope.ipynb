{
  "nbformat": 4,
  "nbformat_minor": 0,
  "metadata": {
    "colab": {
      "provenance": []
    },
    "kernelspec": {
      "name": "python3",
      "display_name": "Python 3"
    },
    "language_info": {
      "name": "python"
    }
  },
  "cells": [
    {
      "cell_type": "markdown",
      "source": [
        "**Python Scope**"
      ],
      "metadata": {
        "id": "V9cg4btif1NO"
      }
    },
    {
      "cell_type": "markdown",
      "source": [
        "**Scope** refers to the region of a program where a variable is recognized."
      ],
      "metadata": {
        "id": "xSt6sPz1gD7d"
      }
    },
    {
      "cell_type": "markdown",
      "source": [
        "**Local Scope**\n",
        "\n",
        "Variables defined inside a function are only accessible within that function."
      ],
      "metadata": {
        "id": "1Lg1eYBrgHed"
      }
    },
    {
      "cell_type": "markdown",
      "source": [
        "**Function Inside Function (Enclosing Scope)**\n",
        "\n",
        "An inner function can access variables from its enclosing function."
      ],
      "metadata": {
        "id": "3u6RAWNwgL4p"
      }
    },
    {
      "cell_type": "markdown",
      "source": [
        "**Global Scope**\n",
        "\n",
        "Variables defined outside any function are accessible throughout the script."
      ],
      "metadata": {
        "id": "QMKolmVYgQaW"
      }
    },
    {
      "cell_type": "markdown",
      "source": [
        "**Global Keyword**\n",
        "\n",
        "Used inside a function to modify a variable defined in the global scope."
      ],
      "metadata": {
        "id": "NnT7Pqo9gTzV"
      }
    },
    {
      "cell_type": "markdown",
      "source": [
        "**Nonlocal Keyword**\n",
        "\n",
        "Used to work with variables inside nested functions, modifying the variable in the outer function."
      ],
      "metadata": {
        "id": "pEQ4xbQlgWvX"
      }
    },
    {
      "cell_type": "markdown",
      "source": [
        "**Real-Time Problem Statements**\n",
        "\n",
        "**1.Student Marks Tracker**\n",
        "\n",
        "Use local scope to store and manipulate marks inside a function.\n",
        "\n",
        "**2.Online Shopping Cart**\n",
        "\n",
        "Use global scope for a shared cart object accessed across multiple functions.\n",
        "\n",
        "**3.Nested Login Validation**\n",
        "\n",
        "Validate user credentials using nested functions with nonlocal variables.\n",
        "\n",
        "**4.IoT Device Manager**\n",
        "\n",
        "Use global keyword to update global status of a device from within a function.\n",
        "\n",
        "**5.Banking Application**\n",
        "\n",
        "Handle account balance using global scope and functions for deposits/withdrawals.\n",
        "\n",
        "**6.Game State Tracker**\n",
        "\n",
        "Track and update global game state like score, lives, and levels using appropriate scopes.\n",
        "\n",
        "**7.Survey App**\n",
        "\n",
        "Store user responses locally within a submission function while updating global statistics.\n",
        "\n",
        "**8.Weather Data Processor**\n",
        "\n",
        "Use local scope to process and print summaries for each city’s data separately.\n",
        "\n",
        "**9.Password Strength Evaluator**\n",
        "\n",
        "Use nested functions and nonlocal scope to build up password checks and status messages.\n",
        "\n",
        "**10.Employee Record System**\n",
        "\n",
        "Control access and updates to employee records by managing scope in different modules/functions.\n",
        "\n"
      ],
      "metadata": {
        "id": "Q3Y0iwp7ge9l"
      }
    }
  ]
}