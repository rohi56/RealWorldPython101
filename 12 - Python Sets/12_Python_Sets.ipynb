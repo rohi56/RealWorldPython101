{
  "nbformat": 4,
  "nbformat_minor": 0,
  "metadata": {
    "colab": {
      "provenance": []
    },
    "kernelspec": {
      "name": "python3",
      "display_name": "Python 3"
    },
    "language_info": {
      "name": "python"
    }
  },
  "cells": [
    {
      "cell_type": "markdown",
      "source": [
        "Python Sets"
      ],
      "metadata": {
        "id": "Dcm4Y-5XoLDZ"
      }
    },
    {
      "cell_type": "markdown",
      "source": [
        "**1. Set**\n",
        "\n",
        "A set is a collection which is unordered, unchangeable (but you can add or remove items), and unindexed. It is defined using curly braces {}."
      ],
      "metadata": {
        "id": "FpJed1lcoOD7"
      }
    },
    {
      "cell_type": "code",
      "source": [
        "my_set = {\"apple\", \"banana\", \"cherry\"}\n",
        "my_set"
      ],
      "metadata": {
        "colab": {
          "base_uri": "https://localhost:8080/"
        },
        "id": "tALRcAfnoTj9",
        "outputId": "ef4b43d6-a015-4fda-bbb9-860b601b574d"
      },
      "execution_count": 1,
      "outputs": [
        {
          "output_type": "execute_result",
          "data": {
            "text/plain": [
              "{'apple', 'banana', 'cherry'}"
            ]
          },
          "metadata": {},
          "execution_count": 1
        }
      ]
    },
    {
      "cell_type": "markdown",
      "source": [
        "**2. Set Items**\n",
        "\n",
        "Set items are unique, meaning duplicates are not allowed. They can be of different data types."
      ],
      "metadata": {
        "id": "F-ZR4qBioWG0"
      }
    },
    {
      "cell_type": "code",
      "source": [
        "mixed_set = {\"apple\", 42, True}\n",
        "mixed_set"
      ],
      "metadata": {
        "colab": {
          "base_uri": "https://localhost:8080/"
        },
        "id": "fwrLTHANobCc",
        "outputId": "fa2aefc8-c996-410e-b4bf-fee8c16d04c0"
      },
      "execution_count": 2,
      "outputs": [
        {
          "output_type": "execute_result",
          "data": {
            "text/plain": [
              "{42, True, 'apple'}"
            ]
          },
          "metadata": {},
          "execution_count": 2
        }
      ]
    },
    {
      "cell_type": "markdown",
      "source": [
        "**3. Unordered**\n",
        "\n",
        "Sets do not maintain any order. When you print or loop through a set, the order may be different each time."
      ],
      "metadata": {
        "id": "Y0EtmcD8ofmF"
      }
    },
    {
      "cell_type": "code",
      "source": [
        "s = {\"a\", \"b\", \"c\"}\n",
        "print(s)  # Order not guaranteed\n"
      ],
      "metadata": {
        "colab": {
          "base_uri": "https://localhost:8080/"
        },
        "id": "k8qbLqUWoiUF",
        "outputId": "d09d7281-6c03-440d-b130-41b2a50f141a"
      },
      "execution_count": 4,
      "outputs": [
        {
          "output_type": "stream",
          "name": "stdout",
          "text": [
            "{'a', 'b', 'c'}\n"
          ]
        }
      ]
    },
    {
      "cell_type": "markdown",
      "source": [
        "**4. Unchangeable**\n",
        "\n",
        "Once a set is created, you cannot change its items directly, but you can add or remove items."
      ],
      "metadata": {
        "id": "X4-Sy6GMol-5"
      }
    },
    {
      "cell_type": "markdown",
      "source": [
        "**5. Get the Length of a Set**\n",
        "\n",
        "Use len() to find how many items are in the set."
      ],
      "metadata": {
        "id": "eArWO1soou3L"
      }
    },
    {
      "cell_type": "code",
      "source": [
        "print(len(my_set))\n"
      ],
      "metadata": {
        "colab": {
          "base_uri": "https://localhost:8080/"
        },
        "id": "TeflFnRmoy2K",
        "outputId": "a2c5ee5a-f256-4649-d5c5-46fe375aacfb"
      },
      "execution_count": 5,
      "outputs": [
        {
          "output_type": "stream",
          "name": "stdout",
          "text": [
            "3\n"
          ]
        }
      ]
    },
    {
      "cell_type": "markdown",
      "source": [
        "**6. Set Items - Data Types**\n",
        "\n",
        "\n",
        "\n",
        "*   You can mix data types in a set.\n",
        "*   Use type() to check data type.\n",
        "*   Use set() constructor to create a set from any iterable."
      ],
      "metadata": {
        "id": "_52_hPlFo12c"
      }
    },
    {
      "cell_type": "code",
      "source": [
        "nums = set([1, 2, 3])\n",
        "print(type(nums))  # <class 'set'>\n"
      ],
      "metadata": {
        "colab": {
          "base_uri": "https://localhost:8080/"
        },
        "id": "0_6-XalGpFBf",
        "outputId": "b579dd49-59ec-434f-c5e0-14cdc2f6b863"
      },
      "execution_count": 6,
      "outputs": [
        {
          "output_type": "stream",
          "name": "stdout",
          "text": [
            "<class 'set'>\n"
          ]
        }
      ]
    },
    {
      "cell_type": "markdown",
      "source": [
        "**7. Access Set Items**\n",
        "\n",
        "You cannot access items using index, but you can loop through them."
      ],
      "metadata": {
        "id": "U3M6sVzNpHod"
      }
    },
    {
      "cell_type": "code",
      "source": [
        "for item in my_set:\n",
        "    print(item)\n"
      ],
      "metadata": {
        "colab": {
          "base_uri": "https://localhost:8080/"
        },
        "id": "wmUm2XSapKRn",
        "outputId": "1bf63138-009f-47c5-8926-64f2d201ee37"
      },
      "execution_count": 7,
      "outputs": [
        {
          "output_type": "stream",
          "name": "stdout",
          "text": [
            "apple\n",
            "banana\n",
            "cherry\n"
          ]
        }
      ]
    },
    {
      "cell_type": "markdown",
      "source": [
        "**8. Add Set Items**\n",
        "\n",
        "*  Add Items: Use add().\n",
        "\n",
        "*  Add Sets: Use update() to add multiple elements.\n",
        "\n",
        "*  Add Any Iterable: Works with lists, tuples, etc."
      ],
      "metadata": {
        "id": "8KbeD5BZpPDc"
      }
    },
    {
      "cell_type": "code",
      "source": [
        "my_set.add(\"orange\")\n",
        "my_set.update([\"kiwi\", \"melon\"])\n",
        "my_set\n"
      ],
      "metadata": {
        "colab": {
          "base_uri": "https://localhost:8080/"
        },
        "id": "BKe6jTZQpWzV",
        "outputId": "70ea3c7a-e2eb-4ea0-a4d9-b754bad2d227"
      },
      "execution_count": 9,
      "outputs": [
        {
          "output_type": "execute_result",
          "data": {
            "text/plain": [
              "{'apple', 'banana', 'cherry', 'kiwi', 'melon', 'orange'}"
            ]
          },
          "metadata": {},
          "execution_count": 9
        }
      ]
    },
    {
      "cell_type": "markdown",
      "source": [
        "**9. Remove Set Items**\n",
        "\n",
        "* remove(): Removes item, raises error if not found.\n",
        "\n",
        "* discard(): Removes item, no error if not found.\n",
        "\n",
        "* pop(): Removes a random item.\n",
        "\n",
        "* del: Deletes the entire set."
      ],
      "metadata": {
        "id": "lmC2U2pWpeXS"
      }
    },
    {
      "cell_type": "code",
      "source": [
        "my_set.discard(\"banana\")\n",
        "my_set"
      ],
      "metadata": {
        "colab": {
          "base_uri": "https://localhost:8080/"
        },
        "id": "dLIy-7R3plBf",
        "outputId": "b1d3593a-d885-4293-90cc-70a421b7655c"
      },
      "execution_count": 10,
      "outputs": [
        {
          "output_type": "execute_result",
          "data": {
            "text/plain": [
              "{'apple', 'cherry', 'kiwi', 'melon', 'orange'}"
            ]
          },
          "metadata": {},
          "execution_count": 10
        }
      ]
    },
    {
      "cell_type": "markdown",
      "source": [
        "**10. Loop Sets**\n",
        "\n",
        "Loop using for or while just like lists."
      ],
      "metadata": {
        "id": "l8vG4ZUCprlw"
      }
    },
    {
      "cell_type": "code",
      "source": [
        "for x in my_set:\n",
        "    print(x)\n"
      ],
      "metadata": {
        "colab": {
          "base_uri": "https://localhost:8080/"
        },
        "id": "Lf-5n_sjptpf",
        "outputId": "e0f0472d-ceb2-4eb5-e983-c7d92138cc2e"
      },
      "execution_count": 11,
      "outputs": [
        {
          "output_type": "stream",
          "name": "stdout",
          "text": [
            "apple\n",
            "cherry\n",
            "orange\n",
            "melon\n",
            "kiwi\n"
          ]
        }
      ]
    },
    {
      "cell_type": "markdown",
      "source": [
        "**11. Join Sets**\n",
        "\n",
        "Joining sets means combining the items of two or more sets into a single set. Python provides several ways to join or compare sets using methods and operators.\n",
        "\n"
      ],
      "metadata": {
        "id": "RblMbuUwpzEJ"
      }
    },
    {
      "cell_type": "markdown",
      "source": [
        "*i. Join Sets (Using update())*\n",
        "\n",
        "This method adds all items from one set to another. It modifies the original set in-place."
      ],
      "metadata": {
        "id": "2i3_I2ytp39P"
      }
    },
    {
      "cell_type": "code",
      "source": [
        "set1 = {\"apple\", \"banana\"}\n",
        "set2 = {\"cherry\", \"date\"}\n",
        "set1.update(set2)\n",
        "print(set1)  # Output: {'apple', 'banana', 'cherry', 'date'}\n"
      ],
      "metadata": {
        "colab": {
          "base_uri": "https://localhost:8080/"
        },
        "id": "RGudB3wup9FN",
        "outputId": "f3976192-fdee-4752-d299-6da2df09b463"
      },
      "execution_count": 13,
      "outputs": [
        {
          "output_type": "stream",
          "name": "stdout",
          "text": [
            "{'apple', 'date', 'banana', 'cherry'}\n"
          ]
        }
      ]
    },
    {
      "cell_type": "markdown",
      "source": [
        "*ii. Union (union() or |)*\n",
        "\n",
        "Returns a new set that contains all items from both sets, without duplicates. The original sets remain unchanged."
      ],
      "metadata": {
        "id": "W-cKm1npp_gV"
      }
    },
    {
      "cell_type": "code",
      "source": [
        "set1 = {\"a\", \"b\"}\n",
        "set2 = {\"b\", \"c\"}\n",
        "result = set1.union(set2)\n",
        "# or: result = set1 | set2\n",
        "print(result)  # Output: {'a', 'b', 'c'}\n"
      ],
      "metadata": {
        "colab": {
          "base_uri": "https://localhost:8080/"
        },
        "id": "PlWugA4nqB_V",
        "outputId": "cc28095e-40e3-44d1-f8e5-2c28fa1df12f"
      },
      "execution_count": 12,
      "outputs": [
        {
          "output_type": "stream",
          "name": "stdout",
          "text": [
            "{'a', 'b', 'c'}\n"
          ]
        }
      ]
    },
    {
      "cell_type": "markdown",
      "source": [
        "*iii. Join Multiple Sets*\n",
        "You can join more than two sets using union() or update() by chaining them or passing multiple arguments."
      ],
      "metadata": {
        "id": "aNkYzLs4qGDc"
      }
    },
    {
      "cell_type": "code",
      "source": [
        "set1 = {1, 2}\n",
        "set2 = {3, 4}\n",
        "set3 = {5, 6}\n",
        "all_sets = set1.union(set2, set3)\n",
        "print(all_sets)  # Output: {1, 2, 3, 4, 5, 6}\n"
      ],
      "metadata": {
        "colab": {
          "base_uri": "https://localhost:8080/"
        },
        "id": "18ytmsGjqIel",
        "outputId": "246eca8b-58e0-4e67-fb41-f8b34725fc99"
      },
      "execution_count": 14,
      "outputs": [
        {
          "output_type": "stream",
          "name": "stdout",
          "text": [
            "{1, 2, 3, 4, 5, 6}\n"
          ]
        }
      ]
    },
    {
      "cell_type": "markdown",
      "source": [
        "*iv. Join a Set and a Tuple*\n",
        "\n",
        "You can join a set with any iterable (like list, tuple, or string) using update() or union()."
      ],
      "metadata": {
        "id": "NMtxkEd_qM58"
      }
    },
    {
      "cell_type": "code",
      "source": [
        "my_set = {1, 2}\n",
        "my_tuple = (3, 4)\n",
        "my_set.update(my_tuple)\n",
        "print(my_set)  # Output: {1, 2, 3, 4}\n"
      ],
      "metadata": {
        "colab": {
          "base_uri": "https://localhost:8080/"
        },
        "id": "Zpf3XjqJqQIs",
        "outputId": "181375d3-27cd-40cb-e748-b25d9b5fcaf8"
      },
      "execution_count": 15,
      "outputs": [
        {
          "output_type": "stream",
          "name": "stdout",
          "text": [
            "{1, 2, 3, 4}\n"
          ]
        }
      ]
    },
    {
      "cell_type": "markdown",
      "source": [
        "*v. Update (update() or |=)*\n",
        "\n",
        "update() adds all elements from another iterable to the set, changing the original. |= is the operator version."
      ],
      "metadata": {
        "id": "cCRFJEEnqSs7"
      }
    },
    {
      "cell_type": "code",
      "source": [
        "s1 = {10, 20}\n",
        "s2 = {30, 40}\n",
        "s1 |= s2\n",
        "print(s1)  # Output: {40, 10, 20, 30}\n"
      ],
      "metadata": {
        "colab": {
          "base_uri": "https://localhost:8080/"
        },
        "id": "HgaL5zZpqV29",
        "outputId": "ac31ce75-89f4-4587-ee89-4e83f1e371d5"
      },
      "execution_count": 16,
      "outputs": [
        {
          "output_type": "stream",
          "name": "stdout",
          "text": [
            "{40, 10, 20, 30}\n"
          ]
        }
      ]
    },
    {
      "cell_type": "markdown",
      "source": [
        "*vi. Intersection (intersection() or &)*\n",
        "\n",
        "Returns only the common elements between sets."
      ],
      "metadata": {
        "id": "jXWbgL47qZ7g"
      }
    },
    {
      "cell_type": "code",
      "source": [
        "a = {1, 2, 3}\n",
        "b = {2, 3, 4}\n",
        "print(a.intersection(b))  # Output: {2, 3}\n"
      ],
      "metadata": {
        "colab": {
          "base_uri": "https://localhost:8080/"
        },
        "id": "pqmjNBxmqdHS",
        "outputId": "2fe1c94f-a2eb-46b9-c736-d9ad57789a40"
      },
      "execution_count": 17,
      "outputs": [
        {
          "output_type": "stream",
          "name": "stdout",
          "text": [
            "{2, 3}\n"
          ]
        }
      ]
    },
    {
      "cell_type": "markdown",
      "source": [
        "*vii. Difference (difference() or -)*\n",
        "\n",
        "Returns items present only in the first set but not in the second."
      ],
      "metadata": {
        "id": "_AtASe3mqgKI"
      }
    },
    {
      "cell_type": "code",
      "source": [
        "a = {1, 2, 3}\n",
        "b = {2, 3, 4}\n",
        "print(a.difference(b))  # Output: {1}\n"
      ],
      "metadata": {
        "colab": {
          "base_uri": "https://localhost:8080/"
        },
        "id": "Qy_rOg4Lqisj",
        "outputId": "321d6a3d-e388-45a0-9ad0-82247e2d6bc2"
      },
      "execution_count": 18,
      "outputs": [
        {
          "output_type": "stream",
          "name": "stdout",
          "text": [
            "{1}\n"
          ]
        }
      ]
    },
    {
      "cell_type": "markdown",
      "source": [
        "*viii. Symmetric Differences (symmetric_difference() or ^)*\n",
        "\n",
        "Returns items that are in either of the sets, but not in both (i.e., non-common elements)."
      ],
      "metadata": {
        "id": "ujk524nmqlUR"
      }
    },
    {
      "cell_type": "markdown",
      "source": [
        "**12. Set Methods Table**\n",
        "\n",
        "| Method                          | Shortcut | Description                                                      | Example Code                                               |                                       |\n",
        "| ------------------------------- | -------- | ---------------------------------------------------------------- | ---------------------------------------------------------- | ------------------------------------- |\n",
        "| `add()`                         | –        | Adds an element to the set                                       | `s = {1,2}; s.add(3)  # {1,2,3}`                           |                                       |\n",
        "| `clear()`                       | –        | Removes all elements from the set                                | `s = {1,2}; s.clear()  # set()`                            |                                       |\n",
        "| `copy()`                        | –        | Returns a shallow copy of the set                                | `s = {1,2}; c = s.copy()`                                  |                                       |\n",
        "| `difference()`                  | `-`      | Returns a set with elements in this set but not in others        | `{1,2,3}.difference({2,3})  # {1}`                         |                                       |\n",
        "| `difference_update()`           | `-=`     | Removes elements found in another set                            | `s = {1,2,3}; s.difference_update({2})  # {1,3}`           |                                       |\n",
        "| `discard()`                     | –        | Removes specified item (no error if not found)                   | `s = {1,2}; s.discard(2)  # {1}`                           |                                       |\n",
        "| `intersection()`                | `&`      | Returns a set with elements common in both sets                  | `{1,2,3}.intersection({2,3})  # {2,3}`                     |                                       |\n",
        "| `intersection_update()`         | `&=`     | Updates set with intersection of itself and another              | `s = {1,2,3}; s.intersection_update({2,3})  # {2,3}`       |                                       |\n",
        "| `isdisjoint()`                  | –        | Returns True if sets have no items in common                     | `{1,2}.isdisjoint({3,4})  # True`                          |                                       |\n",
        "| `issubset()`                    | `<=`     | Returns True if all items in this set are in another             | `{1,2}.issubset({1,2,3})  # True`                          |                                       |\n",
        "| `<`                             | –        | True if all items in first set are in second and not equal       | `{1,2} < {1,2,3}  # True`                                  |                                       |\n",
        "| `issuperset()`                  | `>=`     | Returns True if this set has all items of another                | `{1,2,3}.issuperset({1,2})  # True`                        |                                       |\n",
        "| `>`                             | –        | True if first set has all items of second and they are not equal | `{1,2,3} > {1,2}  # True`                                  |                                       |\n",
        "| `pop()`                         | –        | Removes a random item from the set                               | `s = {1,2,3}; s.pop()`                                     |                                       |\n",
        "| `remove()`                      | –        | Removes specified item (raises error if not found)               | `s = {1,2}; s.remove(2)  # {1}`                            |                                       |\n",
        "| `symmetric_difference()`        | `^`      | Returns items in either set, but not both                        | `{1,2,3} ^ {2,3,4}  # {1,4}`                               |                                       |\n",
        "| `symmetric_difference_update()` | `^=`     | Updates set with symmetric difference of itself and another      | `s = {1,2}; s.symmetric_difference_update({2,3})  # {1,3}` |                                       |\n",
        "| `union()`                       | \\`       | \\`                                                               | Returns a new set with all items from both sets            | `{1,2}.union({2,3})  # {1,2,3}`       |\n",
        "| `update()`                      | \\`       | =\\`                                                              | Adds elements from another set or iterable                 | `s = {1}; s.update({2,3})  # {1,2,3}` |\n",
        "\n"
      ],
      "metadata": {
        "id": "5Okxw1pBqtrF"
      }
    },
    {
      "cell_type": "markdown",
      "source": [
        "**Real-Time Problem Statements Using Python Sets**\n",
        "\n",
        "**1.Email Duplicate Filter**\n",
        "Store user email addresses in a set to automatically remove duplicates while collecting data from a form.\n",
        "\n",
        "**2.Common Friends Finder**\n",
        "Find mutual friends between two users using set intersection.\n",
        "\n",
        "**3.Tag Manager for Blog Posts**\n",
        "Automatically merge unique tags from multiple blog posts using union.\n",
        "\n",
        "**4.Inventory Reconciliation**\n",
        "Compare inventory in store and system records to find mismatches.\n",
        "\n",
        "**5.Remove Blocked Users from Chatroom**\n",
        "Use difference_update() to remove blocked users from an active chat list.\n",
        "\n",
        "**6.Real-time Duplicate Entry Prevention**\n",
        "While scanning QR codes, use a set to track which ones have already been scanned.\n",
        "\n",
        "**7.Attendance Tracker**\n",
        "Compare sets of registered users and attendees to find absentees.\n",
        "\n",
        "**8.Keyword Filtering in Chat**\n",
        "Maintain a set of banned words and check user messages against it.\n",
        "\n",
        "**9.Subscription Plan Comparison**\n",
        "Show customers the unique features of their plan compared to others using set difference.\n",
        "\n",
        "**10.Unique Product Categories from Sales Data**\n",
        "Extract unique categories from thousands of transactions to optimize filters."
      ],
      "metadata": {
        "id": "_SNk2EhIrgdr"
      }
    }
  ]
}