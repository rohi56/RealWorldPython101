{
  "nbformat": 4,
  "nbformat_minor": 0,
  "metadata": {
    "colab": {
      "provenance": []
    },
    "kernelspec": {
      "name": "python3",
      "display_name": "Python 3"
    },
    "language_info": {
      "name": "python"
    }
  },
  "cells": [
    {
      "cell_type": "markdown",
      "source": [
        "**Real-Time Problem Statements Using Python Sets Solutions**\n",
        "\n"
      ],
      "metadata": {
        "id": "YJH7hsngvKTE"
      }
    },
    {
      "cell_type": "markdown",
      "source": [
        "**1.Email Duplicate Filter**\n",
        "Store user email addresses in a set to automatically remove duplicates while collecting data from a form.\n",
        "\n"
      ],
      "metadata": {
        "id": "zijQdmFzvMe6"
      }
    },
    {
      "cell_type": "code",
      "source": [
        "email = (\"fun@xyz.com\", \"run@xyz.com\",\"wow@xyz.com\",\"fun@xyz.com\",\"sad@xyz.com\", \"wow@xyz.com\")\n",
        "remove_duplicates = set(email)\n",
        "remove_duplicates"
      ],
      "metadata": {
        "colab": {
          "base_uri": "https://localhost:8080/"
        },
        "id": "m-Y9BMPvvgPv",
        "outputId": "0dd37e0b-4c31-4f85-9304-34dda1da0db1"
      },
      "execution_count": 1,
      "outputs": [
        {
          "output_type": "execute_result",
          "data": {
            "text/plain": [
              "{'fun@xyz.com', 'run@xyz.com', 'sad@xyz.com', 'wow@xyz.com'}"
            ]
          },
          "metadata": {},
          "execution_count": 1
        }
      ]
    },
    {
      "cell_type": "markdown",
      "source": [
        "**2.Common Friends Finder**\n",
        "Find mutual friends between two users using set intersection.\n",
        "\n"
      ],
      "metadata": {
        "id": "54vdqNMTvONu"
      }
    },
    {
      "cell_type": "code",
      "source": [
        "my_friend = {\"shubham\", \"akshay\",\"swapnil\",\"bhushan\",\"ashish\",\"umesh\",\"ketan\"}\n",
        "your_friend = {\"shubham\", \"akshay\",\"swapnil\",\"ritesh\",\"gopal\",\"ashish\"}\n",
        "common_friend = my_friend & your_friend\n",
        "common_friend"
      ],
      "metadata": {
        "colab": {
          "base_uri": "https://localhost:8080/"
        },
        "id": "O32Ocm6dwcb1",
        "outputId": "8dbc7707-e8ee-4393-d0ed-c282ab389880"
      },
      "execution_count": 2,
      "outputs": [
        {
          "output_type": "execute_result",
          "data": {
            "text/plain": [
              "{'akshay', 'ashish', 'shubham', 'swapnil'}"
            ]
          },
          "metadata": {},
          "execution_count": 2
        }
      ]
    },
    {
      "cell_type": "markdown",
      "source": [
        "**3.Tag Manager for Blog Posts**\n",
        "Automatically merge unique tags from multiple blog posts using union.\n",
        "\n"
      ],
      "metadata": {
        "id": "4G3QKHrovP6b"
      }
    },
    {
      "cell_type": "code",
      "source": [
        "post1_tags = {\"python\", \"coding\"}\n",
        "post2_tags = {\"ai\", \"python\"}\n",
        "all_tags = post1_tags.union(post2_tags)\n",
        "print(all_tags)  # {'python', 'ai', 'coding'}\n"
      ],
      "metadata": {
        "colab": {
          "base_uri": "https://localhost:8080/"
        },
        "id": "3YXnxu3pxeVQ",
        "outputId": "1e9cb993-47fd-42c2-ed78-9352ed9780b4"
      },
      "execution_count": 3,
      "outputs": [
        {
          "output_type": "stream",
          "name": "stdout",
          "text": [
            "{'python', 'ai', 'coding'}\n"
          ]
        }
      ]
    },
    {
      "cell_type": "markdown",
      "source": [
        "**4.Inventory Reconciliation**\n",
        "Compare inventory in store and system records to find mismatches.\n",
        "\n"
      ],
      "metadata": {
        "id": "Yj8IdLRUvR0N"
      }
    },
    {
      "cell_type": "code",
      "source": [
        "store_inventory = {\"apple\", \"banana\", \"mango\"}\n",
        "system_inventory = {\"banana\", \"mango\", \"grape\"}\n",
        "print(store_inventory.symmetric_difference(system_inventory))  # {'apple', 'grape'}\n"
      ],
      "metadata": {
        "colab": {
          "base_uri": "https://localhost:8080/"
        },
        "id": "t0PNQ5hKxr3r",
        "outputId": "345f6bf2-a3bb-40d4-f383-010317512b9f"
      },
      "execution_count": 4,
      "outputs": [
        {
          "output_type": "stream",
          "name": "stdout",
          "text": [
            "{'grape', 'apple'}\n"
          ]
        }
      ]
    },
    {
      "cell_type": "markdown",
      "source": [
        "**5.Remove Blocked Users from Chatroom**\n",
        "Use difference_update() to remove blocked users from an active chat list.\n",
        "\n"
      ],
      "metadata": {
        "id": "8Eq1OzKYvTwh"
      }
    },
    {
      "cell_type": "code",
      "source": [
        "active_users = {\"Alice\", \"Bob\", \"Eve\"}\n",
        "blocked_users = {\"Eve\"}\n",
        "active_users.difference_update(blocked_users)\n",
        "print(active_users)  # {'Alice', 'Bob'}\n"
      ],
      "metadata": {
        "colab": {
          "base_uri": "https://localhost:8080/"
        },
        "id": "4i2gL5Orxzk_",
        "outputId": "08270f71-b410-47e0-a1a2-2886cde0dce2"
      },
      "execution_count": 5,
      "outputs": [
        {
          "output_type": "stream",
          "name": "stdout",
          "text": [
            "{'Bob', 'Alice'}\n"
          ]
        }
      ]
    },
    {
      "cell_type": "markdown",
      "source": [
        "**6.Real-time Duplicate Entry Prevention**\n",
        "While scanning QR codes, use a set to track which ones have already been scanned.\n",
        "\n"
      ],
      "metadata": {
        "id": "PK6fywh_vV-D"
      }
    },
    {
      "cell_type": "code",
      "source": [
        "scanned_qrs = set()\n",
        "new_qr = \"XYZ123\"\n",
        "if new_qr in scanned_qrs:\n",
        "    print(\"Duplicate QR\")\n",
        "else:\n",
        "    scanned_qrs.add(new_qr)\n",
        "    print(\"QR added\")\n"
      ],
      "metadata": {
        "colab": {
          "base_uri": "https://localhost:8080/"
        },
        "id": "M8esFh5ex7vP",
        "outputId": "3efa5cd6-a902-4715-b8be-a9cd3d4ad53c"
      },
      "execution_count": 6,
      "outputs": [
        {
          "output_type": "stream",
          "name": "stdout",
          "text": [
            "QR added\n"
          ]
        }
      ]
    },
    {
      "cell_type": "markdown",
      "source": [
        "**7.Attendance Tracker**\n",
        "Compare sets of registered users and attendees to find absentees.\n",
        "\n"
      ],
      "metadata": {
        "id": "TNv6Y9jovXzo"
      }
    },
    {
      "cell_type": "code",
      "source": [
        "registered = {\"Alice\", \"Bob\", \"Charlie\"}\n",
        "attended = {\"Alice\", \"Charlie\"}\n",
        "absentees = registered - attended\n",
        "print(absentees)  # {'Bob'}\n"
      ],
      "metadata": {
        "colab": {
          "base_uri": "https://localhost:8080/"
        },
        "id": "NFLQf2RqyA-B",
        "outputId": "183aacf5-6b05-45ac-eaf4-b411dabd6ced"
      },
      "execution_count": 7,
      "outputs": [
        {
          "output_type": "stream",
          "name": "stdout",
          "text": [
            "{'Bob'}\n"
          ]
        }
      ]
    },
    {
      "cell_type": "markdown",
      "source": [
        "**8.Keyword Filtering in Chat**\n",
        "Maintain a set of banned words and check user messages against it.\n",
        "\n"
      ],
      "metadata": {
        "id": "L9IlnF1_vZhT"
      }
    },
    {
      "cell_type": "code",
      "source": [
        "banned_words = {\"spam\", \"fake\", \"scam\"}\n",
        "message = {\"hello\", \"this\", \"is\", \"not\", \"spam\"}\n",
        "print(banned_words & message)  # {'spam'}\n"
      ],
      "metadata": {
        "colab": {
          "base_uri": "https://localhost:8080/"
        },
        "id": "8jmlsxPDyEVx",
        "outputId": "88e38eb7-6e6d-46f3-c0ff-171bfdf5926b"
      },
      "execution_count": 8,
      "outputs": [
        {
          "output_type": "stream",
          "name": "stdout",
          "text": [
            "{'spam'}\n"
          ]
        }
      ]
    },
    {
      "cell_type": "markdown",
      "source": [
        "**9.Subscription Plan Comparison**\n",
        "Show customers the unique features of their plan compared to others using set difference.\n",
        "\n"
      ],
      "metadata": {
        "id": "xfwvSr_FvbMB"
      }
    },
    {
      "cell_type": "code",
      "source": [
        "basic_plan = {\"Email Support\", \"Cloud Backup\"}\n",
        "premium_plan = {\"Email Support\", \"Cloud Backup\", \"Live Chat\"}\n",
        "extras = premium_plan - basic_plan\n",
        "print(extras)  # {'Live Chat'}\n"
      ],
      "metadata": {
        "colab": {
          "base_uri": "https://localhost:8080/"
        },
        "id": "OMbnALnkyI5W",
        "outputId": "43afcfd1-8600-4ada-a528-9e64db8feb90"
      },
      "execution_count": 9,
      "outputs": [
        {
          "output_type": "stream",
          "name": "stdout",
          "text": [
            "{'Live Chat'}\n"
          ]
        }
      ]
    },
    {
      "cell_type": "markdown",
      "source": [
        "**10.Unique Product Categories from Sales Data**\n",
        "Extract unique categories from thousands of transactions to optimize filters."
      ],
      "metadata": {
        "id": "Y4MAlKDovc0I"
      }
    },
    {
      "cell_type": "code",
      "source": [
        "transactions = [\"Electronics\", \"Books\", \"Electronics\", \"Fashion\"]\n",
        "unique_categories = set(transactions)\n",
        "print(unique_categories)  # {'Fashion', 'Electronics', 'Books'}\n"
      ],
      "metadata": {
        "colab": {
          "base_uri": "https://localhost:8080/"
        },
        "id": "5pKVC3JNyL6L",
        "outputId": "ecf37613-9a99-4c64-9b9e-fa1fa33136b5"
      },
      "execution_count": 10,
      "outputs": [
        {
          "output_type": "stream",
          "name": "stdout",
          "text": [
            "{'Electronics', 'Fashion', 'Books'}\n"
          ]
        }
      ]
    }
  ]
}