{
  "nbformat": 4,
  "nbformat_minor": 0,
  "metadata": {
    "colab": {
      "provenance": []
    },
    "kernelspec": {
      "name": "python3",
      "display_name": "Python 3"
    },
    "language_info": {
      "name": "python"
    }
  },
  "cells": [
    {
      "cell_type": "markdown",
      "source": [
        "**10 Real-Time Problem Statements Using Python RegEx Solutions**\n",
        "\n"
      ],
      "metadata": {
        "id": "Hfo2LCvijnlG"
      }
    },
    {
      "cell_type": "markdown",
      "source": [
        "**1.Email Validator**\n",
        "\n",
        "Validate if input strings are valid email addresses.\n",
        "\n"
      ],
      "metadata": {
        "id": "AXZPiemHjppe"
      }
    },
    {
      "cell_type": "code",
      "source": [
        "import re\n",
        "\n",
        "email = \"example123@test.com\"\n",
        "pattern = r'^[\\w\\.-]+@[\\w\\.-]+\\.\\w{2,}$'\n",
        "\n",
        "if re.fullmatch(pattern, email):\n",
        "    print(\"Valid email\")\n",
        "else:\n",
        "    print(\"Invalid email\")\n"
      ],
      "metadata": {
        "colab": {
          "base_uri": "https://localhost:8080/"
        },
        "id": "ITrnghK_j9Hn",
        "outputId": "1750f4e6-a61c-455c-ebef-5ddb08dcb91b"
      },
      "execution_count": 1,
      "outputs": [
        {
          "output_type": "stream",
          "name": "stdout",
          "text": [
            "Valid email\n"
          ]
        }
      ]
    },
    {
      "cell_type": "markdown",
      "source": [
        "**2.Password Strength Checker**\n",
        "\n",
        "Ensure passwords contain uppercase, lowercase, numbers, and special characters.\n",
        "\n"
      ],
      "metadata": {
        "id": "eWZCDA0jjrMr"
      }
    },
    {
      "cell_type": "code",
      "source": [
        "password = \"Secure@123\"\n",
        "pattern = r'^(?=.*[a-z])(?=.*[A-Z])(?=.*\\d)(?=.*[@$!%*?&])[A-Za-z\\d@$!%*?&]{8,}$'\n",
        "\n",
        "if re.fullmatch(pattern, password):\n",
        "    print(\"Strong password\")\n",
        "else:\n",
        "    print(\"Weak password\")\n"
      ],
      "metadata": {
        "colab": {
          "base_uri": "https://localhost:8080/"
        },
        "id": "eLVQ4SFzkDRt",
        "outputId": "1ee33f8f-7f53-4014-a00c-6770211be28f"
      },
      "execution_count": 2,
      "outputs": [
        {
          "output_type": "stream",
          "name": "stdout",
          "text": [
            "Strong password\n"
          ]
        }
      ]
    },
    {
      "cell_type": "markdown",
      "source": [
        "**3.Phone Number Formatter**\n",
        "\n",
        "Clean and format user-input phone numbers to a consistent style.\n",
        "\n"
      ],
      "metadata": {
        "id": "Ba7gIvnAjswH"
      }
    },
    {
      "cell_type": "code",
      "source": [
        "number = \"9876543210\"\n",
        "formatted = re.sub(r'(\\d{3})(\\d{3})(\\d{4})', r'(\\1) \\2-\\3', number)\n",
        "print(formatted)  # (987) 654-3210\n"
      ],
      "metadata": {
        "colab": {
          "base_uri": "https://localhost:8080/"
        },
        "id": "vdw78mS2kHRw",
        "outputId": "00002926-bc48-4f12-fb8d-a0dba687b6b9"
      },
      "execution_count": 3,
      "outputs": [
        {
          "output_type": "stream",
          "name": "stdout",
          "text": [
            "(987) 654-3210\n"
          ]
        }
      ]
    },
    {
      "cell_type": "markdown",
      "source": [
        "**4.Log File Analyzer**\n",
        "\n",
        "Extract timestamps, IPs, and error messages from logs using regex.\n",
        "\n"
      ],
      "metadata": {
        "id": "xocLm6RVjuTl"
      }
    },
    {
      "cell_type": "code",
      "source": [
        "log = \"ERROR 2024-05-21 12:30:45 - IP: 192.168.1.1 - Connection failed\"\n",
        "timestamp = re.search(r'\\d{4}-\\d{2}-\\d{2} \\d{2}:\\d{2}:\\d{2}', log)\n",
        "ip = re.search(r'IP: (\\d+\\.\\d+\\.\\d+\\.\\d+)', log)\n",
        "\n",
        "print(\"Timestamp:\", timestamp.group())\n",
        "print(\"IP Address:\", ip.group(1))\n"
      ],
      "metadata": {
        "colab": {
          "base_uri": "https://localhost:8080/"
        },
        "id": "q5TpMhF9kMDv",
        "outputId": "455f4649-4d92-4287-aafb-f4f66ea25ac7"
      },
      "execution_count": 4,
      "outputs": [
        {
          "output_type": "stream",
          "name": "stdout",
          "text": [
            "Timestamp: 2024-05-21 12:30:45\n",
            "IP Address: 192.168.1.1\n"
          ]
        }
      ]
    },
    {
      "cell_type": "markdown",
      "source": [
        "**5.Form Input Cleaner**\n",
        "\n",
        "Remove extra whitespace, symbols, and unwanted characters from form fields.\n",
        "\n"
      ],
      "metadata": {
        "id": "AnMWMbTOjv3J"
      }
    },
    {
      "cell_type": "code",
      "source": [
        "input_text = \"   John  @  Doe!   \"\n",
        "cleaned = re.sub(r'[^\\w\\s]', '', input_text.strip())  # Remove symbols\n",
        "print(cleaned)  # John  Doe\n"
      ],
      "metadata": {
        "colab": {
          "base_uri": "https://localhost:8080/"
        },
        "id": "JEILJDfQkOno",
        "outputId": "34009a74-c355-4e09-ab37-047611dfbf24"
      },
      "execution_count": 5,
      "outputs": [
        {
          "output_type": "stream",
          "name": "stdout",
          "text": [
            "John    Doe\n"
          ]
        }
      ]
    },
    {
      "cell_type": "markdown",
      "source": [
        "**6.Invoice Number Extractor**\n",
        "\n",
        "Find and extract invoice numbers from text or emails.\n",
        "\n"
      ],
      "metadata": {
        "id": "fP8zVHOvjxVn"
      }
    },
    {
      "cell_type": "code",
      "source": [
        "text = \"Please refer to invoice INV-2024-00567 for details.\"\n",
        "match = re.search(r'INV-\\d{4}-\\d{5}', text)\n",
        "if match:\n",
        "    print(\"Invoice No:\", match.group())\n"
      ],
      "metadata": {
        "colab": {
          "base_uri": "https://localhost:8080/"
        },
        "id": "Fja4b8DHkQ0T",
        "outputId": "9da5ba82-9786-4e3f-c2c4-5f4265632203"
      },
      "execution_count": 6,
      "outputs": [
        {
          "output_type": "stream",
          "name": "stdout",
          "text": [
            "Invoice No: INV-2024-00567\n"
          ]
        }
      ]
    },
    {
      "cell_type": "markdown",
      "source": [
        "**7.Chat Profanity Filter**\n",
        "\n",
        "Replace or detect inappropriate words using regex patterns.\n",
        "\n"
      ],
      "metadata": {
        "id": "OgUhCAeIjy14"
      }
    },
    {
      "cell_type": "code",
      "source": [
        "chat = \"This is damn annoying!\"\n",
        "profanity_list = ['damn', 'hell']\n",
        "pattern = r'\\b(' + '|'.join(profanity_list) + r')\\b'\n",
        "clean_chat = re.sub(pattern, '****', chat, flags=re.IGNORECASE)\n",
        "print(clean_chat)  # This is **** annoying!\n"
      ],
      "metadata": {
        "colab": {
          "base_uri": "https://localhost:8080/"
        },
        "id": "Jdxe-AuvkTAl",
        "outputId": "cae7f6c9-1189-40ce-d6cb-6f0439506444"
      },
      "execution_count": 7,
      "outputs": [
        {
          "output_type": "stream",
          "name": "stdout",
          "text": [
            "This is **** annoying!\n"
          ]
        }
      ]
    },
    {
      "cell_type": "markdown",
      "source": [
        "**8.URL Extractor**\n",
        "\n",
        "Extract all valid URLs from a web page or string.\n",
        "\n"
      ],
      "metadata": {
        "id": "zaAAeev9j0Zi"
      }
    },
    {
      "cell_type": "code",
      "source": [
        "text = \"Visit https://openai.com and http://example.org for more info.\"\n",
        "urls = re.findall(r'https?://[^\\s]+', text)\n",
        "print(urls)\n"
      ],
      "metadata": {
        "colab": {
          "base_uri": "https://localhost:8080/"
        },
        "id": "gswu7VpfkVW9",
        "outputId": "7e6e8bbc-0bad-4043-be76-99206d507516"
      },
      "execution_count": 8,
      "outputs": [
        {
          "output_type": "stream",
          "name": "stdout",
          "text": [
            "['https://openai.com', 'http://example.org']\n"
          ]
        }
      ]
    },
    {
      "cell_type": "markdown",
      "source": [
        "**9.Date Format Converter**\n",
        "\n",
        "Identify and convert dates in various formats (e.g., DD/MM/YYYY to YYYY-MM-DD).\n",
        "\n"
      ],
      "metadata": {
        "id": "EanuWW02j16x"
      }
    },
    {
      "cell_type": "code",
      "source": [
        "date = \"21/05/2025\"\n",
        "converted = re.sub(r'(\\d{2})/(\\d{2})/(\\d{4})', r'\\3-\\2-\\1', date)\n",
        "print(\"Converted Date:\", converted)  # 2025-05-21\n"
      ],
      "metadata": {
        "colab": {
          "base_uri": "https://localhost:8080/"
        },
        "id": "t1LErOGbkXhn",
        "outputId": "a0ad1525-8909-41e8-e2bc-beb455d0f69e"
      },
      "execution_count": 9,
      "outputs": [
        {
          "output_type": "stream",
          "name": "stdout",
          "text": [
            "Converted Date: 2025-05-21\n"
          ]
        }
      ]
    },
    {
      "cell_type": "markdown",
      "source": [
        "**10.Tag Parser**\n",
        "\n",
        "Extract hashtags, mentions, or custom markup from social media posts or comments."
      ],
      "metadata": {
        "id": "KAYwLRe7j37O"
      }
    },
    {
      "cell_type": "code",
      "source": [
        "post = \"Thanks @john! Loving the #Python journey. #AI #coding\"\n",
        "hashtags = re.findall(r'#\\w+', post)\n",
        "mentions = re.findall(r'@\\w+', post)\n",
        "\n",
        "print(\"Hashtags:\", hashtags)\n",
        "print(\"Mentions:\", mentions)\n"
      ],
      "metadata": {
        "colab": {
          "base_uri": "https://localhost:8080/"
        },
        "id": "0wiWQeVSkZmn",
        "outputId": "d8339a9c-197d-436d-84ad-9b97673e58b0"
      },
      "execution_count": 10,
      "outputs": [
        {
          "output_type": "stream",
          "name": "stdout",
          "text": [
            "Hashtags: ['#Python', '#AI', '#coding']\n",
            "Mentions: ['@john']\n"
          ]
        }
      ]
    }
  ]
}