{
  "nbformat": 4,
  "nbformat_minor": 0,
  "metadata": {
    "colab": {
      "provenance": []
    },
    "kernelspec": {
      "name": "python3",
      "display_name": "Python 3"
    },
    "language_info": {
      "name": "python"
    }
  },
  "cells": [
    {
      "cell_type": "markdown",
      "source": [
        "**Python RegEx**"
      ],
      "metadata": {
        "id": "tOPvkQQRg7Oj"
      }
    },
    {
      "cell_type": "markdown",
      "source": [
        "**RegEx Module**\n",
        "\n",
        "To use regular expressions in Python, import the re module."
      ],
      "metadata": {
        "id": "_N9YyPY3g9Iy"
      }
    },
    {
      "cell_type": "code",
      "source": [
        "import re\n"
      ],
      "metadata": {
        "id": "eZSQrz_6hB_f"
      },
      "execution_count": 1,
      "outputs": []
    },
    {
      "cell_type": "markdown",
      "source": [
        "**RegEx in Python**\n",
        "\n",
        "Regular Expressions (RegEx) are patterns used to match strings."
      ],
      "metadata": {
        "id": "ikfhj2UlhEaw"
      }
    },
    {
      "cell_type": "code",
      "source": [
        "pattern = r\"\\d+\"  # Matches one or more digits\n",
        "text = \"There are 3 cats and 5 dogs.\"\n",
        "result = re.findall(pattern, text)\n",
        "print(result)  # Output: ['3', '5']\n"
      ],
      "metadata": {
        "colab": {
          "base_uri": "https://localhost:8080/"
        },
        "id": "n20sTNT7hGcq",
        "outputId": "526c512e-e0f6-4a57-afe9-1fce9db68374"
      },
      "execution_count": 2,
      "outputs": [
        {
          "output_type": "stream",
          "name": "stdout",
          "text": [
            "['3', '5']\n"
          ]
        }
      ]
    },
    {
      "cell_type": "markdown",
      "source": [
        "**RegEx Functions**\n",
        "\n",
        "\n",
        "| Function    | Description                                    | Example                                   |\n",
        "| ----------- | ---------------------------------------------- | ----------------------------------------- |\n",
        "| `findall()` | Returns all matches                            | `re.findall(r\"\\d+\", \"12 cats 9 dogs\")`    |\n",
        "| `search()`  | Returns the first match object                 | `re.search(r\"cat\", \"my cat is cute\")`     |\n",
        "| `match()`   | Checks match only at the beginning of a string | `re.match(r\"Hello\", \"Hello World\")`       |\n",
        "| `split()`   | Splits string by regex pattern                 | `re.split(r\"\\s\", \"Split this sentence\")`  |\n",
        "| `sub()`     | Substitutes matching pattern                   | `re.sub(r\"dog\", \"cat\", \"dog is barking\")` |\n"
      ],
      "metadata": {
        "id": "xu26mWalhKMN"
      }
    },
    {
      "cell_type": "markdown",
      "source": [
        "**Metacharacters**\n",
        "\n",
        "Special characters that define RegEx rules:\n",
        "\n",
        "| Metacharacter | Description                  | Example                               |       |       |\n",
        "| ------------- | ---------------------------- | ------------------------------------- | ----- | ----- |\n",
        "| `.`           | Any character except newline | `a.b` matches `acb`                   |       |       |\n",
        "| `^`           | Starts with                  | `^Hello`                              |       |       |\n",
        "| `$`           | Ends with                    | `end$`                                |       |       |\n",
        "| `*`           | 0 or more                    | `lo*l` matches `ll`, `lol`, `loool`   |       |       |\n",
        "| `+`           | 1 or more                    | `lo+l` matches `lol`, `lool`          |       |       |\n",
        "| `?`           | 0 or 1                       | `colou?r` matches `color` or `colour` |       |       |\n",
        "| `[]`          | Set of characters            | `[aeiou]` matches any vowel           |       |       |\n",
        "| `{}`          | Exactly x times              | `\\d{3}` matches 3 digits              |       |       |\n",
        "| \\`            | \\`                           | Either or                             | \\`cat | dog\\` |\n"
      ],
      "metadata": {
        "id": "mxs2sRLjhQDb"
      }
    },
    {
      "cell_type": "markdown",
      "source": [
        "**Flags**\n",
        "\n",
        "Modify matching behavior:"
      ],
      "metadata": {
        "id": "dQJkJbXZhXLz"
      }
    },
    {
      "cell_type": "code",
      "source": [
        "re.findall(r\"hello\", \"HELLO hello\", flags=re.IGNORECASE)\n",
        "# Output: ['HELLO', 'hello']\n"
      ],
      "metadata": {
        "colab": {
          "base_uri": "https://localhost:8080/"
        },
        "id": "fc8o6PG1haPr",
        "outputId": "9a4fb14d-8fd4-4db1-9f63-9814746e1d95"
      },
      "execution_count": 3,
      "outputs": [
        {
          "output_type": "execute_result",
          "data": {
            "text/plain": [
              "['HELLO', 'hello']"
            ]
          },
          "metadata": {},
          "execution_count": 3
        }
      ]
    },
    {
      "cell_type": "markdown",
      "source": [
        "Common flags:\n",
        "\n",
        "* re.IGNORECASE or re.I\n",
        "\n",
        "* re.MULTILINE or re.M\n",
        "\n",
        "* re.DOTALL or re.S"
      ],
      "metadata": {
        "id": "XaAHntsthitX"
      }
    },
    {
      "cell_type": "markdown",
      "source": [
        "**Special Sequences**\n",
        "\n",
        "| Sequence | Description             | Example                       |\n",
        "| -------- | ----------------------- | ----------------------------- |\n",
        "| `\\d`     | Digit (0–9)             | `\\d+` matches 123             |\n",
        "| `\\D`     | Non-digit               | `\\D+` matches abc             |\n",
        "| `\\w`     | Alphanumeric characters | `\\w+` matches hello123        |\n",
        "| `\\W`     | Non-alphanumeric        | `\\W+` matches @#\\$            |\n",
        "| `\\s`     | Whitespace              | `\\s+` matches space or tab    |\n",
        "| `\\S`     | Non-whitespace          | `\\S+`                         |\n",
        "| `\\b`     | Word boundary           | `\\bword\\b` matches exact word |\n"
      ],
      "metadata": {
        "id": "jauNxwLChpVG"
      }
    },
    {
      "cell_type": "markdown",
      "source": [
        "**Sets**\n",
        "\n",
        "Match any character from a set."
      ],
      "metadata": {
        "id": "v-57SiZQhrjL"
      }
    },
    {
      "cell_type": "markdown",
      "source": [
        "**findall() Function**\n",
        "\n",
        "Returns all occurrences."
      ],
      "metadata": {
        "id": "X3tCuaNLh0Vw"
      }
    },
    {
      "cell_type": "code",
      "source": [
        "text = \"Emails: user1@mail.com, user2@mail.com\"\n",
        "emails = re.findall(r\"\\S+@\\S+\", text)\n",
        "print(emails)\n",
        "# ['user1@mail.com', 'user2@mail.com']\n"
      ],
      "metadata": {
        "colab": {
          "base_uri": "https://localhost:8080/"
        },
        "id": "MAwtIiknh4vb",
        "outputId": "e1619c8a-560c-4f54-8150-bde01f54777c"
      },
      "execution_count": 4,
      "outputs": [
        {
          "output_type": "stream",
          "name": "stdout",
          "text": [
            "['user1@mail.com,', 'user2@mail.com']\n"
          ]
        }
      ]
    },
    {
      "cell_type": "markdown",
      "source": [
        "**search() Function**\n",
        "\n",
        "Returns the first match object."
      ],
      "metadata": {
        "id": "G_5WBUDdh8eJ"
      }
    },
    {
      "cell_type": "code",
      "source": [
        "text = \"My phone is 123-456-7890\"\n",
        "match = re.search(r\"\\d{3}-\\d{3}-\\d{4}\", text)\n",
        "print(match.group())  # Output: 123-456-7890\n"
      ],
      "metadata": {
        "colab": {
          "base_uri": "https://localhost:8080/"
        },
        "id": "txL5xAjZh_BD",
        "outputId": "3ec89a9d-b06c-47d7-808a-76df4ceb1d34"
      },
      "execution_count": 5,
      "outputs": [
        {
          "output_type": "stream",
          "name": "stdout",
          "text": [
            "123-456-7890\n"
          ]
        }
      ]
    },
    {
      "cell_type": "markdown",
      "source": [
        "**split() Function**\n",
        "\n",
        "Splits a string based on the pattern."
      ],
      "metadata": {
        "id": "cPkJUxY7iCwa"
      }
    },
    {
      "cell_type": "code",
      "source": [
        "text = \"apple,banana;grape orange\"\n",
        "fruits = re.split(r\"[;, ]\", text)\n",
        "print(fruits)\n",
        "# ['apple', 'banana', 'grape', 'orange']\n"
      ],
      "metadata": {
        "colab": {
          "base_uri": "https://localhost:8080/"
        },
        "id": "V7pZrLgsiFhH",
        "outputId": "a02edd67-172b-4452-885e-da233faea73d"
      },
      "execution_count": 6,
      "outputs": [
        {
          "output_type": "stream",
          "name": "stdout",
          "text": [
            "['apple', 'banana', 'grape', 'orange']\n"
          ]
        }
      ]
    },
    {
      "cell_type": "markdown",
      "source": [
        "**sub() Function**\n",
        "\n",
        "Replaces matched strings."
      ],
      "metadata": {
        "id": "-bgG9N9eiIds"
      }
    },
    {
      "cell_type": "code",
      "source": [
        "text = \"The cat sat on the mat\"\n",
        "new_text = re.sub(r\"cat|mat\", \"dog\", text)\n",
        "print(new_text)  # Output: The dog sat on the dog\n"
      ],
      "metadata": {
        "colab": {
          "base_uri": "https://localhost:8080/"
        },
        "id": "fuPrIg_liOJu",
        "outputId": "e3e6c646-c21d-4c67-b426-306832c44854"
      },
      "execution_count": 7,
      "outputs": [
        {
          "output_type": "stream",
          "name": "stdout",
          "text": [
            "The dog sat on the dog\n"
          ]
        }
      ]
    },
    {
      "cell_type": "markdown",
      "source": [
        "**Match Object**\n",
        "\n",
        "Used to get details from search() or match()."
      ],
      "metadata": {
        "id": "7HY9SWQ_iTNt"
      }
    },
    {
      "cell_type": "code",
      "source": [
        "text = \"Order #12345 placed\"\n",
        "match = re.search(r\"#\\d+\", text)\n",
        "if match:\n",
        "    print(match.group())  # Output: #12345\n",
        "    print(match.start())  # Start index\n",
        "    print(match.end())    # End index\n"
      ],
      "metadata": {
        "colab": {
          "base_uri": "https://localhost:8080/"
        },
        "id": "3zi-qFeCiVWs",
        "outputId": "1cfb0150-e56a-4d35-dbc8-157e33599b20"
      },
      "execution_count": 8,
      "outputs": [
        {
          "output_type": "stream",
          "name": "stdout",
          "text": [
            "#12345\n",
            "6\n",
            "12\n"
          ]
        }
      ]
    },
    {
      "cell_type": "markdown",
      "source": [
        "**10 Real-Time Problem Statements Using Python RegEx**\n",
        "\n",
        "**1.Email Validator**\n",
        "\n",
        "Validate if input strings are valid email addresses.\n",
        "\n",
        "**2.Password Strength Checker**\n",
        "\n",
        "Ensure passwords contain uppercase, lowercase, numbers, and special characters.\n",
        "\n",
        "**3.Phone Number Formatter**\n",
        "\n",
        "Clean and format user-input phone numbers to a consistent style.\n",
        "\n",
        "**4.Log File Analyzer**\n",
        "\n",
        "Extract timestamps, IPs, and error messages from logs using regex.\n",
        "\n",
        "**5.Form Input Cleaner**\n",
        "\n",
        "Remove extra whitespace, symbols, and unwanted characters from form fields.\n",
        "\n",
        "**6.Invoice Number Extractor**\n",
        "\n",
        "Find and extract invoice numbers from text or emails.\n",
        "\n",
        "**7.Chat Profanity Filter**\n",
        "\n",
        "Replace or detect inappropriate words using regex patterns.\n",
        "\n",
        "**8.URL Extractor**\n",
        "\n",
        "Extract all valid URLs from a web page or string.\n",
        "\n",
        "**9.Date Format Converter**\n",
        "\n",
        "Identify and convert dates in various formats (e.g., DD/MM/YYYY to YYYY-MM-DD).\n",
        "\n",
        "**10.Tag Parser**\n",
        "\n",
        "Extract hashtags, mentions, or custom markup from social media posts or comments."
      ],
      "metadata": {
        "id": "S5kW-YU6i54T"
      }
    }
  ]
}