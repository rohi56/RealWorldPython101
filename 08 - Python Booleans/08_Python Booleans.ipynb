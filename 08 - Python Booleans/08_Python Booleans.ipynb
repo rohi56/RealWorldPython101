{
  "nbformat": 4,
  "nbformat_minor": 0,
  "metadata": {
    "colab": {
      "provenance": []
    },
    "kernelspec": {
      "name": "python3",
      "display_name": "Python 3"
    },
    "language_info": {
      "name": "python"
    }
  },
  "cells": [
    {
      "cell_type": "markdown",
      "source": [
        "**Python Booleans**"
      ],
      "metadata": {
        "id": "SOO6YG2LhJjW"
      }
    },
    {
      "cell_type": "markdown",
      "source": [
        "In Python, Booleans represent one of two values:"
      ],
      "metadata": {
        "id": "V8EAKGlbhQv6"
      }
    },
    {
      "cell_type": "code",
      "source": [
        "True or False\n"
      ],
      "metadata": {
        "id": "PV7AktPthSgN"
      },
      "execution_count": null,
      "outputs": []
    },
    {
      "cell_type": "markdown",
      "source": [
        "These are used to control the flow of a program (like in conditions and loops)."
      ],
      "metadata": {
        "id": "Br_GRNC8hVC5"
      }
    },
    {
      "cell_type": "markdown",
      "source": [
        "**1. Boolean Values**\n",
        "\n",
        "Python uses True and False (capitalized) as boolean values:"
      ],
      "metadata": {
        "id": "NpZU20QGhXEI"
      }
    },
    {
      "cell_type": "code",
      "source": [
        "a = True\n",
        "b = False\n"
      ],
      "metadata": {
        "id": "F75Iev7ehamF"
      },
      "execution_count": null,
      "outputs": []
    },
    {
      "cell_type": "markdown",
      "source": [
        "**2. Evaluate Values and Variables**\n",
        "\n",
        "You can use the bool() function to check the truth value of any expression or variable:"
      ],
      "metadata": {
        "id": "FMhyENrJhjBu"
      }
    },
    {
      "cell_type": "code",
      "source": [
        "print(bool(10))        # True\n",
        "print(bool(0))         # False\n",
        "print(bool(\"hello\"))   # True\n",
        "print(bool(\"\"))        # False\n"
      ],
      "metadata": {
        "id": "YhQ524mchtUi"
      },
      "execution_count": null,
      "outputs": []
    },
    {
      "cell_type": "markdown",
      "source": [
        "**3. Most Values are True**\n",
        "\n",
        "In Python, the following are considered False:\n",
        "\n",
        "`None`\n",
        "\n",
        "`False`\n",
        "\n",
        "`0` (any numeric zero)\n",
        "\n",
        "`\"\"` (empty string)\n",
        "\n",
        "`[]` (empty list), `()`,` {}` (empty containers)\n",
        "\n",
        "Everything else is considered True."
      ],
      "metadata": {
        "id": "Rcx5VURDhxmy"
      }
    },
    {
      "cell_type": "markdown",
      "source": [
        "**4. Functions Can Return a Boolean**\n",
        "\n",
        "You can create functions that return boolean values based on some logic:"
      ],
      "metadata": {
        "id": "ZcbmDM5_iDvH"
      }
    },
    {
      "cell_type": "code",
      "source": [
        "def is_even(n):\n",
        "    return n % 2 == 0\n"
      ],
      "metadata": {
        "id": "2oWEUjgoiHYj"
      },
      "execution_count": null,
      "outputs": []
    },
    {
      "cell_type": "markdown",
      "source": [
        "**Real-Time Problem Statements**\n",
        "\n",
        "**1.Age Eligibility Checker**\n",
        "Ask the user for age and check if they are eligible to vote (age >= 18).\n",
        "\n",
        "**2.Empty Input Detector**\n",
        "Ask for input and check if the user entered anything (non-empty string)\n",
        "\n",
        "**3.Is Number Positive?**\n",
        "Ask the user for a number and check if it's positive using a boolean condition.\n",
        "\n",
        "**4.Valid Login Check**\n",
        "Simulate a login with a hardcoded username/password and return True/False.\n",
        "\n",
        "**5.Function Return Check**\n",
        "Create a function that returns True if the user entered an even number.\n",
        "\n",
        "**6.Check Working Hours**\n",
        "Ask user for current hour (0–23) and check if it’s within working hours (9–17).\n",
        "\n",
        "**7.Name Starts With A**\n",
        "Ask user’s name and return True if it starts with the letter \"A\".\n",
        "\n",
        "**8.Is Weekend?**\n",
        "Ask the day of the week and return True if it’s Saturday or Sunday.\n",
        "\n",
        "**9.Cart Empty Status**\n",
        "Simulate a shopping cart list and return False if it's empty.\n",
        "\n",
        "**10.Boolean Summary Display**\n",
        "Store multiple conditions in boolean variables and display their values to the user."
      ],
      "metadata": {
        "id": "KfGy2uvciOKY"
      }
    }
  ]
}