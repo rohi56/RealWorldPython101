{
  "nbformat": 4,
  "nbformat_minor": 0,
  "metadata": {
    "colab": {
      "provenance": []
    },
    "kernelspec": {
      "name": "python3",
      "display_name": "Python 3"
    },
    "language_info": {
      "name": "python"
    }
  },
  "cells": [
    {
      "cell_type": "markdown",
      "source": [
        "**Real-Time Problem Statements Solution**\n"
      ],
      "metadata": {
        "id": "t23e2quxzxai"
      }
    },
    {
      "cell_type": "markdown",
      "source": [
        "**1.Age Eligibility Checker**\n",
        "Ask the user for age and check if they are eligible to vote (age >= 18).\n",
        "\n"
      ],
      "metadata": {
        "id": "qz9EZj3bz47D"
      }
    },
    {
      "cell_type": "code",
      "source": [
        "age = int(input(\"Enter you age :\"))\n",
        "is_eligible = age>=18\n",
        "print(\"Eligible to vote:\", is_eligible)"
      ],
      "metadata": {
        "colab": {
          "base_uri": "https://localhost:8080/"
        },
        "id": "gJqGctKA0VQZ",
        "outputId": "6bae0b4b-a6a4-48f1-8c1b-4df77ab2bb78"
      },
      "execution_count": 3,
      "outputs": [
        {
          "output_type": "stream",
          "name": "stdout",
          "text": [
            "Enter you age :25\n",
            "Eligible to vote: True\n"
          ]
        }
      ]
    },
    {
      "cell_type": "markdown",
      "source": [
        "**2.Empty Input Detector**\n",
        "Ask for input and check if the user entered anything (non-empty string)\n",
        "\n"
      ],
      "metadata": {
        "id": "TX5fnEEaz73d"
      }
    },
    {
      "cell_type": "code",
      "source": [
        "any = input(\"Enter something :\")\n",
        "has_input = bool(any.strip())\n",
        "print(\"User enter something\", has_input)"
      ],
      "metadata": {
        "colab": {
          "base_uri": "https://localhost:8080/"
        },
        "id": "Vs9mn4ex-H14",
        "outputId": "379d1822-de48-4f06-ee90-afb1eddd915f"
      },
      "execution_count": 4,
      "outputs": [
        {
          "output_type": "stream",
          "name": "stdout",
          "text": [
            "Enter something :\n",
            "User enter something False\n"
          ]
        }
      ]
    },
    {
      "cell_type": "markdown",
      "source": [
        "**3.Is Number Positive?**\n",
        "Ask the user for a number and check if it's positive using a boolean condition.\n",
        "\n"
      ],
      "metadata": {
        "id": "7bZcdupXz-u6"
      }
    },
    {
      "cell_type": "code",
      "source": [
        "num = float(input(\"Enter a number: \"))\n",
        "is_positive = num>0\n",
        "print(\"User have enter positive number: \", is_positive)"
      ],
      "metadata": {
        "colab": {
          "base_uri": "https://localhost:8080/"
        },
        "id": "fuRe73vo-tAp",
        "outputId": "0f315059-d8f8-4d76-f26e-b223ed3cd897"
      },
      "execution_count": 7,
      "outputs": [
        {
          "output_type": "stream",
          "name": "stdout",
          "text": [
            "Enter a number: -5\n",
            "User have enter positive number:  False\n"
          ]
        }
      ]
    },
    {
      "cell_type": "markdown",
      "source": [
        "**4.Valid Login Check**\n",
        "Simulate a login with a hardcoded username/password and return True/False.\n",
        "\n"
      ],
      "metadata": {
        "id": "dGMnFUYB0BfN"
      }
    },
    {
      "cell_type": "code",
      "source": [
        "user = input(\"Enter the user ID: \")\n",
        "password = input(\"Enter the password: \")\n",
        "is_valid = user == 'admin' and password == '1234'\n",
        "print(\"User/password is valid: \", is_valid)"
      ],
      "metadata": {
        "colab": {
          "base_uri": "https://localhost:8080/"
        },
        "id": "mL1D3ZYK_ZvX",
        "outputId": "c3050c8b-e3a5-4964-9251-803df744d2f5"
      },
      "execution_count": 9,
      "outputs": [
        {
          "output_type": "stream",
          "name": "stdout",
          "text": [
            "Enter the user ID: admin\n",
            "Enter the password: 1234\n",
            "User/password is valid:  True\n"
          ]
        }
      ]
    },
    {
      "cell_type": "markdown",
      "source": [
        "**5.Function Return Check**\n",
        "Create a function that returns True if the user entered an even number.\n",
        "\n"
      ],
      "metadata": {
        "id": "ZRCjYa440Dtu"
      }
    },
    {
      "cell_type": "code",
      "source": [
        "def even_number(n):\n",
        "  return n%2==0\n",
        "\n",
        "even_number(2)"
      ],
      "metadata": {
        "colab": {
          "base_uri": "https://localhost:8080/"
        },
        "id": "syGiMycbAM8u",
        "outputId": "800c0adb-f9c2-4f54-c7fe-ddf4ee9fbe48"
      },
      "execution_count": 13,
      "outputs": [
        {
          "output_type": "execute_result",
          "data": {
            "text/plain": [
              "True"
            ]
          },
          "metadata": {},
          "execution_count": 13
        }
      ]
    },
    {
      "cell_type": "markdown",
      "source": [
        "**6.Check Working Hours**\n",
        "Ask user for current hour (0–23) and check if it’s within working hours (9–17).\n",
        "\n"
      ],
      "metadata": {
        "id": "ktobi3Oe0GlD"
      }
    },
    {
      "cell_type": "code",
      "source": [
        "hour = int(input(\"Enter the current hour (0–23): \"))\n",
        "is_working_hour = 9 <= hour <= 17\n",
        "print(\"Is it working hour?\", is_working_hour)"
      ],
      "metadata": {
        "colab": {
          "base_uri": "https://localhost:8080/"
        },
        "id": "eqa7vIHtBCKR",
        "outputId": "af1f176a-768f-4cca-e312-fe6dd7d1d0d5"
      },
      "execution_count": 14,
      "outputs": [
        {
          "output_type": "stream",
          "name": "stdout",
          "text": [
            "Enter the current hour (0–23): 15\n",
            "Is it working hour? True\n"
          ]
        }
      ]
    },
    {
      "cell_type": "markdown",
      "source": [
        "**7.Name Starts With A**\n",
        "Ask user’s name and return True if it starts with the letter \"A\".\n",
        "\n"
      ],
      "metadata": {
        "id": "ofEwbqz30JTk"
      }
    },
    {
      "cell_type": "code",
      "source": [
        "name = input(\"Enter your name: \")\n",
        "starts_with_a = name.strip().lower().startswith('a')\n",
        "print(\"Does your name start with 'A' :\", starts_with_a)\n",
        "\n"
      ],
      "metadata": {
        "colab": {
          "base_uri": "https://localhost:8080/"
        },
        "id": "GE9scDm6BJ7s",
        "outputId": "50f75d87-918b-4b6a-f333-a40b7f64be8a"
      },
      "execution_count": 22,
      "outputs": [
        {
          "output_type": "stream",
          "name": "stdout",
          "text": [
            "Enter your name: Ashish\n",
            "Does your name start with 'A' : True\n"
          ]
        }
      ]
    },
    {
      "cell_type": "markdown",
      "source": [
        "**8.Is Weekend?**\n",
        "Ask the day of the week and return True if it’s Saturday or Sunday.\n",
        "\n"
      ],
      "metadata": {
        "id": "0yaH6NTV0LLo"
      }
    },
    {
      "cell_type": "code",
      "source": [
        "day = input(\"Enter the day of the week: \").strip().lower()\n",
        "is_weekend = day in ['saturday', 'sunday']\n",
        "print(\"Is it the weekend?\", is_weekend)\n",
        "\n"
      ],
      "metadata": {
        "colab": {
          "base_uri": "https://localhost:8080/"
        },
        "id": "ygKEFypdCllk",
        "outputId": "d9e72198-2b67-425d-98b4-455ecee4ad30"
      },
      "execution_count": 19,
      "outputs": [
        {
          "output_type": "stream",
          "name": "stdout",
          "text": [
            "Enter the day of the week :Monday\n",
            "Weekend : False\n"
          ]
        }
      ]
    },
    {
      "cell_type": "markdown",
      "source": [
        "**9.Cart Empty Status**\n",
        "Simulate a shopping cart list and return False if it's empty.\n",
        "\n"
      ],
      "metadata": {
        "id": "wth1gwlE0NG9"
      }
    },
    {
      "cell_type": "code",
      "source": [
        "cart = []  # you can also test with ['apple', 'banana']\n",
        "is_cart_empty = len(cart) == 0\n",
        "print(\"Is the cart empty?\", is_cart_empty)\n"
      ],
      "metadata": {
        "colab": {
          "base_uri": "https://localhost:8080/"
        },
        "id": "78II4hMcD4jo",
        "outputId": "f235a769-dd61-4793-af05-c126e8b112f0"
      },
      "execution_count": 23,
      "outputs": [
        {
          "output_type": "stream",
          "name": "stdout",
          "text": [
            "Is the cart empty? True\n"
          ]
        }
      ]
    },
    {
      "cell_type": "markdown",
      "source": [
        "**10.Boolean Summary Display**\n",
        "Store multiple conditions in boolean variables and display their values to the user."
      ],
      "metadata": {
        "id": "CbXWvHYR0Pe1"
      }
    },
    {
      "cell_type": "code",
      "source": [
        "age = 25\n",
        "is_adult = age >= 18\n",
        "\n",
        "name = \"Ankit\"\n",
        "starts_with_a = name.startswith('A')\n",
        "\n",
        "cart = ['pen', 'book']\n",
        "cart_has_items = bool(cart)\n",
        "\n",
        "print(\"Is adult:\", is_adult)\n",
        "print(\"Name starts with A:\", starts_with_a)\n",
        "print(\"Cart has items:\", cart_has_items)\n"
      ],
      "metadata": {
        "colab": {
          "base_uri": "https://localhost:8080/"
        },
        "id": "24HlEKn3D_PW",
        "outputId": "6f625466-c96d-446f-e292-33f2ee2afd70"
      },
      "execution_count": 24,
      "outputs": [
        {
          "output_type": "stream",
          "name": "stdout",
          "text": [
            "Is adult: True\n",
            "Name starts with A: True\n",
            "Cart has items: True\n"
          ]
        }
      ]
    }
  ]
}