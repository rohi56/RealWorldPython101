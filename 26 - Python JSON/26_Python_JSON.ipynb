{
  "nbformat": 4,
  "nbformat_minor": 0,
  "metadata": {
    "colab": {
      "provenance": []
    },
    "kernelspec": {
      "name": "python3",
      "display_name": "Python 3"
    },
    "language_info": {
      "name": "python"
    }
  },
  "cells": [
    {
      "cell_type": "markdown",
      "source": [
        "**Python JSON**"
      ],
      "metadata": {
        "id": "R9uGeP08pNmr"
      }
    },
    {
      "cell_type": "markdown",
      "source": [
        "The json module in Python allows you to work with JSON (JavaScript Object Notation) — a widely-used format for data exchange."
      ],
      "metadata": {
        "id": "1F_Gz66bpQPz"
      }
    },
    {
      "cell_type": "markdown",
      "source": [
        "**JSON in Python**\n",
        "\n",
        "JSON is a syntax for storing and exchanging data. In Python, you can work with JSON using the built-in json module."
      ],
      "metadata": {
        "id": "aPpLyG56pSqk"
      }
    },
    {
      "cell_type": "code",
      "source": [
        "import json\n"
      ],
      "metadata": {
        "id": "mZ4Kmk5tpVGm"
      },
      "execution_count": 1,
      "outputs": []
    },
    {
      "cell_type": "markdown",
      "source": [
        "**Parse JSON – Convert from JSON to Python**\n",
        "\n",
        "Use json.loads() to convert a JSON string into a Python dictionary."
      ],
      "metadata": {
        "id": "61XnHXBEpYEc"
      }
    },
    {
      "cell_type": "code",
      "source": [
        "import json\n",
        "\n",
        "json_data = '{\"name\": \"John\", \"age\": 30}'\n",
        "python_data = json.loads(json_data)\n",
        "print(python_data[\"name\"])  # Output: John\n"
      ],
      "metadata": {
        "colab": {
          "base_uri": "https://localhost:8080/"
        },
        "id": "5aC0hrnvpdsH",
        "outputId": "01481e0e-77b0-46be-861d-9b24dcb2c536"
      },
      "execution_count": 2,
      "outputs": [
        {
          "output_type": "stream",
          "name": "stdout",
          "text": [
            "John\n"
          ]
        }
      ]
    },
    {
      "cell_type": "markdown",
      "source": [
        "**Convert from Python to JSON**\n",
        "\n",
        "Use json.dumps() to convert Python objects into a JSON string."
      ],
      "metadata": {
        "id": "psghbIjqphA4"
      }
    },
    {
      "cell_type": "code",
      "source": [
        "data = {\"name\": \"Alice\", \"age\": 25}\n",
        "json_string = json.dumps(data)\n",
        "print(json_string)\n"
      ],
      "metadata": {
        "colab": {
          "base_uri": "https://localhost:8080/"
        },
        "id": "k3_V50rlpmEC",
        "outputId": "3ad91867-9b76-437d-fe53-6418ffc0bbe1"
      },
      "execution_count": 3,
      "outputs": [
        {
          "output_type": "stream",
          "name": "stdout",
          "text": [
            "{\"name\": \"Alice\", \"age\": 25}\n"
          ]
        }
      ]
    },
    {
      "cell_type": "markdown",
      "source": [
        "**Format the Result**\n",
        "\n",
        "Use arguments like indent, separators, and sort_keys in json.dumps() to pretty-print."
      ],
      "metadata": {
        "id": "-5pSundrpqWY"
      }
    },
    {
      "cell_type": "code",
      "source": [
        "print(json.dumps(data, indent=4))\n"
      ],
      "metadata": {
        "colab": {
          "base_uri": "https://localhost:8080/"
        },
        "id": "DeLDlIVkpsrr",
        "outputId": "51422cff-7e05-4cea-9c6f-397655c6e71d"
      },
      "execution_count": 4,
      "outputs": [
        {
          "output_type": "stream",
          "name": "stdout",
          "text": [
            "{\n",
            "    \"name\": \"Alice\",\n",
            "    \"age\": 25\n",
            "}\n"
          ]
        }
      ]
    },
    {
      "cell_type": "markdown",
      "source": [
        "**Order the Result**\n",
        "\n",
        "Use sort_keys=True to order the keys alphabetically."
      ],
      "metadata": {
        "id": "Mszdl_xIpv0E"
      }
    },
    {
      "cell_type": "markdown",
      "source": [
        "**JSON Methods Table**\n",
        "\n",
        "| Method         | Description                                 |\n",
        "| -------------- | ------------------------------------------- |\n",
        "| `json.dump()`  | Write JSON data to a file                   |\n",
        "| `json.dumps()` | Convert Python object to JSON string        |\n",
        "| `json.load()`  | Parse JSON from a file into a Python object |\n",
        "| `json.loads()` | Parse JSON string into a Python object      |\n",
        "\n"
      ],
      "metadata": {
        "id": "CC2KWvzZp0rW"
      }
    },
    {
      "cell_type": "markdown",
      "source": [
        "**10 Real-Time Problem Statements Using Python JSON**\n",
        "\n",
        "**1.User Preferences Storage**\n",
        "\n",
        "Save and load user settings like theme and language using JSON files.\n",
        "\n",
        "**2.To-Do List App**\n",
        "\n",
        "Store and retrieve tasks in a structured JSON file.\n",
        "\n",
        "**3.API Response Handling**\n",
        "\n",
        "Parse data returned from REST APIs and display it in a readable format.\n",
        "\n",
        "**4.Game Save/Load System**\n",
        "\n",
        "Save game state (player stats, inventory) in JSON files.\n",
        "\n",
        "**5.Configuration Management**\n",
        "\n",
        "Load system or app configuration from .json files.\n",
        "\n",
        "**6.Employee Directory App**\n",
        "\n",
        "Store and update employee profiles using JSON.\n",
        "\n",
        "**7.Survey Response Analyzer**\n",
        "\n",
        "Parse and process survey results stored in JSON format.\n",
        "\n",
        "**8.E-Commerce Cart Tracker**\n",
        "\n",
        "Manage and update shopping cart data with JSON.\n",
        "\n",
        "**9.Blog Metadata Manager**\n",
        "\n",
        "Handle title, tags, and published date using JSON data structure.\n",
        "\n",
        "**10.IoT Device Data Logger**\n",
        "\n",
        "Log and read device telemetry (temperature, pressure) in JSON."
      ],
      "metadata": {
        "id": "Fi5LT0ICp8zI"
      }
    }
  ]
}