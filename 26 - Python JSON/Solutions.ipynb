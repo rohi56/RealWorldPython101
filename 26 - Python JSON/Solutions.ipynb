{
  "nbformat": 4,
  "nbformat_minor": 0,
  "metadata": {
    "colab": {
      "provenance": []
    },
    "kernelspec": {
      "name": "python3",
      "display_name": "Python 3"
    },
    "language_info": {
      "name": "python"
    }
  },
  "cells": [
    {
      "cell_type": "markdown",
      "source": [
        "**10 Real-Time Problem Statements Using Python JSON Solutions**\n",
        "\n"
      ],
      "metadata": {
        "id": "6lrzlm2cq30a"
      }
    },
    {
      "cell_type": "markdown",
      "source": [
        "**1.User Preferences Storage**\n",
        "\n",
        "Save and load user settings like theme and language using JSON files.\n",
        "\n"
      ],
      "metadata": {
        "id": "e5NuO3-bq6Ud"
      }
    },
    {
      "cell_type": "code",
      "source": [
        "import json\n",
        "\n",
        "# Save preferences\n",
        "preferences = {\"theme\": \"dark\", \"language\": \"English\"}\n",
        "with open(\"user_prefs.json\", \"w\") as file:\n",
        "    json.dump(preferences, file, indent=4)\n",
        "\n",
        "# Load preferences\n",
        "with open(\"user_prefs.json\", \"r\") as file:\n",
        "    loaded_prefs = json.load(file)\n",
        "    print(loaded_prefs)\n",
        "\n",
        "\n"
      ],
      "metadata": {
        "colab": {
          "base_uri": "https://localhost:8080/"
        },
        "id": "yGYAH1EDrNHF",
        "outputId": "220edbfc-182a-46c2-f1e4-5e4fd14d59f2"
      },
      "execution_count": 1,
      "outputs": [
        {
          "output_type": "stream",
          "name": "stdout",
          "text": [
            "{'theme': 'dark', 'language': 'English'}\n"
          ]
        }
      ]
    },
    {
      "cell_type": "markdown",
      "source": [
        "**2.To-Do List App**\n",
        "\n",
        "Store and retrieve tasks in a structured JSON file.\n",
        "\n"
      ],
      "metadata": {
        "id": "MYH4SFEqq71X"
      }
    },
    {
      "cell_type": "code",
      "source": [
        "import json\n",
        "\n",
        "# Sample to-do list\n",
        "todo = [{\"task\": \"Buy milk\", \"done\": False}, {\"task\": \"Learn JSON\", \"done\": True}]\n",
        "\n",
        "# Save tasks\n",
        "with open(\"todo.json\", \"w\") as file:\n",
        "    json.dump(todo, file, indent=4)\n",
        "\n",
        "# Load tasks\n",
        "with open(\"todo.json\", \"r\") as file:\n",
        "    tasks = json.load(file)\n",
        "    for item in tasks:\n",
        "        print(f\"{item['task']} - {'Done' if item['done'] else 'Pending'}\")\n"
      ],
      "metadata": {
        "colab": {
          "base_uri": "https://localhost:8080/"
        },
        "id": "oGJKBUjfrZsR",
        "outputId": "3798cc55-ed33-4c5b-919e-8ee54a814f79"
      },
      "execution_count": 2,
      "outputs": [
        {
          "output_type": "stream",
          "name": "stdout",
          "text": [
            "Buy milk - Pending\n",
            "Learn JSON - Done\n"
          ]
        }
      ]
    },
    {
      "cell_type": "markdown",
      "source": [
        "**3.API Response Handling**\n",
        "\n",
        "Parse data returned from REST APIs and display it in a readable format.\n",
        "\n"
      ],
      "metadata": {
        "id": "Zn4BWtasq9jY"
      }
    },
    {
      "cell_type": "code",
      "source": [
        "import json\n",
        "\n",
        "# Simulated API response\n",
        "api_response = '{\"name\": \"John\", \"age\": 30, \"location\": \"New York\"}'\n",
        "data = json.loads(api_response)\n",
        "\n",
        "print(f\"Name: {data['name']}, Age: {data['age']}, City: {data['location']}\")\n"
      ],
      "metadata": {
        "colab": {
          "base_uri": "https://localhost:8080/"
        },
        "id": "ObBCQTpxrcNg",
        "outputId": "b9290849-e6f8-4e53-9f69-6fe62ad0ac3f"
      },
      "execution_count": 3,
      "outputs": [
        {
          "output_type": "stream",
          "name": "stdout",
          "text": [
            "Name: John, Age: 30, City: New York\n"
          ]
        }
      ]
    },
    {
      "cell_type": "markdown",
      "source": [
        "**4.Game Save/Load System**\n",
        "\n",
        "Save game state (player stats, inventory) in JSON files.\n",
        "\n"
      ],
      "metadata": {
        "id": "UQkxZSlTq_Fh"
      }
    },
    {
      "cell_type": "code",
      "source": [
        "import json\n",
        "\n",
        "game_state = {\n",
        "    \"player\": \"Rohit\",\n",
        "    \"level\": 5,\n",
        "    \"inventory\": [\"sword\", \"shield\", \"potion\"]\n",
        "}\n",
        "\n",
        "# Save\n",
        "with open(\"game_save.json\", \"w\") as f:\n",
        "    json.dump(game_state, f, indent=4)\n",
        "\n",
        "# Load\n",
        "with open(\"game_save.json\", \"r\") as f:\n",
        "    loaded_game = json.load(f)\n",
        "    print(\"Game loaded:\", loaded_game)\n"
      ],
      "metadata": {
        "colab": {
          "base_uri": "https://localhost:8080/"
        },
        "id": "404EQGPBreiu",
        "outputId": "67484aab-fa86-49db-b912-341393299bff"
      },
      "execution_count": 4,
      "outputs": [
        {
          "output_type": "stream",
          "name": "stdout",
          "text": [
            "Game loaded: {'player': 'Rohit', 'level': 5, 'inventory': ['sword', 'shield', 'potion']}\n"
          ]
        }
      ]
    },
    {
      "cell_type": "markdown",
      "source": [
        "**5.Configuration Management**\n",
        "\n",
        "Load system or app configuration from .json files.\n",
        "\n"
      ],
      "metadata": {
        "id": "ckTf6XulrAlK"
      }
    },
    {
      "cell_type": "code",
      "source": [
        "import json\n",
        "\n",
        "# Config file\n",
        "config = {\n",
        "    \"debug\": True,\n",
        "    \"timeout\": 30,\n",
        "    \"host\": \"127.0.0.1\"\n",
        "}\n",
        "\n",
        "with open(\"config.json\", \"w\") as f:\n",
        "    json.dump(config, f, indent=4)\n",
        "\n",
        "with open(\"config.json\", \"r\") as f:\n",
        "    settings = json.load(f)\n",
        "    print(settings)\n"
      ],
      "metadata": {
        "colab": {
          "base_uri": "https://localhost:8080/"
        },
        "id": "K0MrgJUnrihi",
        "outputId": "7539945f-3603-4189-eb86-891c0ff03386"
      },
      "execution_count": 5,
      "outputs": [
        {
          "output_type": "stream",
          "name": "stdout",
          "text": [
            "{'debug': True, 'timeout': 30, 'host': '127.0.0.1'}\n"
          ]
        }
      ]
    },
    {
      "cell_type": "markdown",
      "source": [
        "**6.Employee Directory App**\n",
        "\n",
        "Store and update employee profiles using JSON.\n",
        "\n"
      ],
      "metadata": {
        "id": "tqvWZ4--rCE_"
      }
    },
    {
      "cell_type": "code",
      "source": [
        "import json\n",
        "\n",
        "employees = [\n",
        "    {\"id\": 101, \"name\": \"Alice\", \"department\": \"HR\"},\n",
        "    {\"id\": 102, \"name\": \"Bob\", \"department\": \"IT\"}\n",
        "]\n",
        "\n",
        "# Save\n",
        "with open(\"employees.json\", \"w\") as f:\n",
        "    json.dump(employees, f, indent=4)\n",
        "\n",
        "# Load\n",
        "with open(\"employees.json\", \"r\") as f:\n",
        "    emp_data = json.load(f)\n",
        "    for emp in emp_data:\n",
        "        print(f\"{emp['id']}: {emp['name']} - {emp['department']}\")\n"
      ],
      "metadata": {
        "colab": {
          "base_uri": "https://localhost:8080/"
        },
        "id": "BUVbe7FOrlXE",
        "outputId": "27f90185-5f7b-4691-c3f2-277a8d7a2601"
      },
      "execution_count": 6,
      "outputs": [
        {
          "output_type": "stream",
          "name": "stdout",
          "text": [
            "101: Alice - HR\n",
            "102: Bob - IT\n"
          ]
        }
      ]
    },
    {
      "cell_type": "markdown",
      "source": [
        "**7.Survey Response Analyzer**\n",
        "\n",
        "Parse and process survey results stored in JSON format.\n",
        "\n"
      ],
      "metadata": {
        "id": "Gp35Ns3qrDsH"
      }
    },
    {
      "cell_type": "code",
      "source": [
        "import json\n",
        "\n",
        "responses = [\n",
        "    {\"user\": \"A\", \"rating\": 4},\n",
        "    {\"user\": \"B\", \"rating\": 5}\n",
        "]\n",
        "\n",
        "# Save\n",
        "with open(\"survey.json\", \"w\") as f:\n",
        "    json.dump(responses, f, indent=4)\n",
        "\n",
        "# Load and analyze\n",
        "with open(\"survey.json\", \"r\") as f:\n",
        "    data = json.load(f)\n",
        "    avg = sum(d[\"rating\"] for d in data) / len(data)\n",
        "    print(\"Average rating:\", avg)\n"
      ],
      "metadata": {
        "colab": {
          "base_uri": "https://localhost:8080/"
        },
        "id": "yLO_iinprnuu",
        "outputId": "4ab0c4d1-77b0-4b7b-9c4e-6b20c182557b"
      },
      "execution_count": 7,
      "outputs": [
        {
          "output_type": "stream",
          "name": "stdout",
          "text": [
            "Average rating: 4.5\n"
          ]
        }
      ]
    },
    {
      "cell_type": "markdown",
      "source": [
        "**8.E-Commerce Cart Tracker**\n",
        "\n",
        "Manage and update shopping cart data with JSON.\n",
        "\n"
      ],
      "metadata": {
        "id": "E1wiWXeCrFAf"
      }
    },
    {
      "cell_type": "code",
      "source": [
        "import json\n",
        "\n",
        "cart = {\n",
        "    \"items\": [\n",
        "        {\"id\": \"P001\", \"name\": \"Phone\", \"qty\": 2},\n",
        "        {\"id\": \"P002\", \"name\": \"Charger\", \"qty\": 1}\n",
        "    ],\n",
        "    \"total\": 500\n",
        "}\n",
        "\n",
        "# Save\n",
        "with open(\"cart.json\", \"w\") as f:\n",
        "    json.dump(cart, f, indent=4)\n",
        "\n",
        "# Load\n",
        "with open(\"cart.json\", \"r\") as f:\n",
        "    data = json.load(f)\n",
        "    print(\"Cart Total:\", data[\"total\"])\n"
      ],
      "metadata": {
        "colab": {
          "base_uri": "https://localhost:8080/"
        },
        "id": "eQAcK6aKrqVn",
        "outputId": "f44a8758-0e1c-4ec6-81a8-01a5f0fda175"
      },
      "execution_count": 8,
      "outputs": [
        {
          "output_type": "stream",
          "name": "stdout",
          "text": [
            "Cart Total: 500\n"
          ]
        }
      ]
    },
    {
      "cell_type": "markdown",
      "source": [
        "**9.Blog Metadata Manager**\n",
        "\n",
        "Handle title, tags, and published date using JSON data structure.\n",
        "\n"
      ],
      "metadata": {
        "id": "Cp8ZhOoerHHR"
      }
    },
    {
      "cell_type": "code",
      "source": [
        "import json\n",
        "\n",
        "post_metadata = {\n",
        "    \"title\": \"Learn Python JSON\",\n",
        "    \"tags\": [\"Python\", \"JSON\", \"Tutorial\"],\n",
        "    \"published\": \"2025-05-21\"\n",
        "}\n",
        "\n",
        "# Save\n",
        "with open(\"post.json\", \"w\") as f:\n",
        "    json.dump(post_metadata, f, indent=4)\n",
        "\n",
        "# Load\n",
        "with open(\"post.json\", \"r\") as f:\n",
        "    post = json.load(f)\n",
        "    print(post[\"title\"], \"Tags:\", \", \".join(post[\"tags\"]))\n"
      ],
      "metadata": {
        "colab": {
          "base_uri": "https://localhost:8080/"
        },
        "id": "nKItAomartPu",
        "outputId": "e0a8ee88-0668-4a5d-d14f-28a72caf2512"
      },
      "execution_count": 9,
      "outputs": [
        {
          "output_type": "stream",
          "name": "stdout",
          "text": [
            "Learn Python JSON Tags: Python, JSON, Tutorial\n"
          ]
        }
      ]
    },
    {
      "cell_type": "markdown",
      "source": [
        "**10.IoT Device Data Logger**\n",
        "\n",
        "Log and read device telemetry (temperature, pressure) in JSON."
      ],
      "metadata": {
        "id": "DE5glFG7rItf"
      }
    },
    {
      "cell_type": "code",
      "source": [
        "import json\n",
        "\n",
        "log = {\n",
        "    \"device_id\": \"sensor_001\",\n",
        "    \"data\": [\n",
        "        {\"timestamp\": \"2025-05-21T10:00:00\", \"temp\": 25},\n",
        "        {\"timestamp\": \"2025-05-21T10:05:00\", \"temp\": 26}\n",
        "    ]\n",
        "}\n",
        "\n",
        "# Save log\n",
        "with open(\"iot_log.json\", \"w\") as f:\n",
        "    json.dump(log, f, indent=4)\n",
        "\n",
        "# Load\n",
        "with open(\"iot_log.json\", \"r\") as f:\n",
        "    records = json.load(f)\n",
        "    for entry in records[\"data\"]:\n",
        "        print(entry)\n"
      ],
      "metadata": {
        "colab": {
          "base_uri": "https://localhost:8080/"
        },
        "id": "GCZdc6qsrvyk",
        "outputId": "4147fe13-4277-4920-c2d0-6dcf281ad186"
      },
      "execution_count": 10,
      "outputs": [
        {
          "output_type": "stream",
          "name": "stdout",
          "text": [
            "{'timestamp': '2025-05-21T10:00:00', 'temp': 25}\n",
            "{'timestamp': '2025-05-21T10:05:00', 'temp': 26}\n"
          ]
        }
      ]
    }
  ]
}