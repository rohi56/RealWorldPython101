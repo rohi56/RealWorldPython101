{
  "nbformat": 4,
  "nbformat_minor": 0,
  "metadata": {
    "colab": {
      "provenance": []
    },
    "kernelspec": {
      "name": "python3",
      "display_name": "Python 3"
    },
    "language_info": {
      "name": "python"
    }
  },
  "cells": [
    {
      "cell_type": "markdown",
      "source": [
        "**Python Functions**"
      ],
      "metadata": {
        "id": "2iyN1LM3h1sT"
      }
    },
    {
      "cell_type": "markdown",
      "source": [
        "**1. Creating a Function**\n",
        "\n",
        "A function is a block of code which runs only when called, defined using `def`."
      ],
      "metadata": {
        "id": "eo9kJmUdh8tQ"
      }
    },
    {
      "cell_type": "code",
      "source": [
        "def greet():\n",
        "    print(\"Hello!\")\n"
      ],
      "metadata": {
        "colab": {
          "base_uri": "https://localhost:8080/"
        },
        "id": "5103oGExiBmd",
        "outputId": "f2b30fa0-03e9-42d1-f8df-7acdb73bf6a3"
      },
      "execution_count": null,
      "outputs": [
        {
          "output_type": "stream",
          "name": "stdout",
          "text": [
            "Hello!\n"
          ]
        }
      ]
    },
    {
      "cell_type": "markdown",
      "source": [
        "**2. Calling a Function**\n",
        "\n",
        "Call a function by using its name followed by parentheses."
      ],
      "metadata": {
        "id": "vUfRAoqNiQve"
      }
    },
    {
      "cell_type": "code",
      "source": [
        "greet()  # Output: Hello!\n"
      ],
      "metadata": {
        "colab": {
          "base_uri": "https://localhost:8080/"
        },
        "id": "edqIdqrZiVPj",
        "outputId": "8d6bbb49-1274-4ef3-f7c7-48d157c064e5"
      },
      "execution_count": null,
      "outputs": [
        {
          "output_type": "stream",
          "name": "stdout",
          "text": [
            "Hello!\n"
          ]
        }
      ]
    },
    {
      "cell_type": "markdown",
      "source": [
        "**3. Arguments**\n",
        "\n",
        "Functions can accept arguments to work with input data."
      ],
      "metadata": {
        "id": "BsTOHepJiY55"
      }
    },
    {
      "cell_type": "code",
      "source": [
        "def greet(name):\n",
        "    print(\"Hello\", name)\n",
        "\n",
        "greet('Rohit')\n"
      ],
      "metadata": {
        "colab": {
          "base_uri": "https://localhost:8080/"
        },
        "id": "Le1fMbqjibY8",
        "outputId": "07647fad-bbe9-4b45-e0b4-d9a4b2fb501e"
      },
      "execution_count": null,
      "outputs": [
        {
          "output_type": "stream",
          "name": "stdout",
          "text": [
            "Hello Rohit\n"
          ]
        }
      ]
    },
    {
      "cell_type": "markdown",
      "source": [
        "**4. Parameters or Arguments?**\n",
        "\n",
        "Parameters are inside function definitions; arguments are values passed during calls."
      ],
      "metadata": {
        "id": "Per_rQU8il-q"
      }
    },
    {
      "cell_type": "markdown",
      "source": [
        "**5. Number of Arguments**\n",
        "\n",
        "The number of arguments in the call must match the definition."
      ],
      "metadata": {
        "id": "3owtURh1io60"
      }
    },
    {
      "cell_type": "code",
      "source": [
        "def add(a, b):\n",
        "    return a + b\n",
        "\n",
        "add(5,6)"
      ],
      "metadata": {
        "colab": {
          "base_uri": "https://localhost:8080/"
        },
        "id": "1pJkRFYSirST",
        "outputId": "357c41e4-32d6-4ed9-948b-2823502d36aa"
      },
      "execution_count": null,
      "outputs": [
        {
          "output_type": "execute_result",
          "data": {
            "text/plain": [
              "11"
            ]
          },
          "metadata": {},
          "execution_count": 5
        }
      ]
    },
    {
      "cell_type": "markdown",
      "source": [
        "**6. Arbitrary Arguments,** `*args`\n",
        "\n",
        "Use *args to accept a variable number of arguments as a tuple."
      ],
      "metadata": {
        "id": "vEWhkFF_i_Q1"
      }
    },
    {
      "cell_type": "code",
      "source": [
        "def total(*nums):\n",
        "    return sum(nums)\n"
      ],
      "metadata": {
        "id": "PxyG8etWjIg7"
      },
      "execution_count": null,
      "outputs": []
    },
    {
      "cell_type": "markdown",
      "source": [
        "**7. Keyword Arguments**\n",
        "\n",
        "Arguments can be passed with key=value syntax."
      ],
      "metadata": {
        "id": "4RNkLj7bjL0s"
      }
    },
    {
      "cell_type": "code",
      "source": [
        "def profile(name, age):\n",
        "    print(name, age)\n",
        "profile(age=30, name=\"Alice\")\n"
      ],
      "metadata": {
        "colab": {
          "base_uri": "https://localhost:8080/"
        },
        "id": "FDSnE-KPjOdV",
        "outputId": "a035bdeb-4f35-4aee-f8c2-57f9f29d6e69"
      },
      "execution_count": null,
      "outputs": [
        {
          "output_type": "stream",
          "name": "stdout",
          "text": [
            "Alice 30\n"
          ]
        }
      ]
    },
    {
      "cell_type": "markdown",
      "source": [
        "**8. Arbitrary Keyword Arguments,** `**kwargs`\n",
        "Use **kwargs to accept variable keyword arguments as a dictionary.\n"
      ],
      "metadata": {
        "id": "fCsCos9qjRw9"
      }
    },
    {
      "cell_type": "code",
      "source": [
        "def display_info(**info):\n",
        "    print(info)\n"
      ],
      "metadata": {
        "id": "RLz_UPfejWtE"
      },
      "execution_count": null,
      "outputs": []
    },
    {
      "cell_type": "markdown",
      "source": [
        "**9. Default Parameter Value**\n",
        "\n",
        "Assign default values to parameters."
      ],
      "metadata": {
        "id": "_WKd9yfZjZVU"
      }
    },
    {
      "cell_type": "code",
      "source": [
        "def greet(name=\"Guest\"):\n",
        "    print(\"Hello\", name)\n"
      ],
      "metadata": {
        "id": "YSpDHh7sjbdq"
      },
      "execution_count": null,
      "outputs": []
    },
    {
      "cell_type": "markdown",
      "source": [
        "**10. Passing a List as an Argument**\n",
        "\n",
        "You can pass lists to functions."
      ],
      "metadata": {
        "id": "HNvLa2ZOjfCJ"
      }
    },
    {
      "cell_type": "code",
      "source": [
        "def total(items):\n",
        "    return sum(items)\n"
      ],
      "metadata": {
        "id": "WQAlc7S6jhCZ"
      },
      "execution_count": null,
      "outputs": []
    },
    {
      "cell_type": "markdown",
      "source": [
        "**11. Return Values**\n",
        "\n",
        "Functions can return results using the return keyword."
      ],
      "metadata": {
        "id": "ggDzs8R3jkyx"
      }
    },
    {
      "cell_type": "code",
      "source": [
        "def square(x):\n",
        "    return x * x\n"
      ],
      "metadata": {
        "id": "AiSUxtPNjnNH"
      },
      "execution_count": null,
      "outputs": []
    },
    {
      "cell_type": "markdown",
      "source": [
        "**12. The pass Statement**\n",
        "Use pass in empty function bodies as a placeholder."
      ],
      "metadata": {
        "id": "NM_lMgl_jp2E"
      }
    },
    {
      "cell_type": "code",
      "source": [
        "def temp():\n",
        "    pass\n"
      ],
      "metadata": {
        "id": "DlwbL_LfjsZA"
      },
      "execution_count": null,
      "outputs": []
    },
    {
      "cell_type": "markdown",
      "source": [
        "**13. Recursion**\n",
        "\n",
        "A function that calls itself."
      ],
      "metadata": {
        "id": "xSNK8JUajueg"
      }
    },
    {
      "cell_type": "code",
      "source": [
        "def factorial(n):\n",
        "    if n == 1:\n",
        "        return 1\n",
        "    return n * factorial(n - 1)\n",
        "\n",
        "factorial(5)"
      ],
      "metadata": {
        "colab": {
          "base_uri": "https://localhost:8080/"
        },
        "id": "D1M9AppCjyPN",
        "outputId": "5fd039a4-a705-408c-c963-54d93d5cb083"
      },
      "execution_count": null,
      "outputs": [
        {
          "output_type": "execute_result",
          "data": {
            "text/plain": [
              "120"
            ]
          },
          "metadata": {},
          "execution_count": 14
        }
      ]
    },
    {
      "cell_type": "markdown",
      "source": [
        "**Real-Time Problem Statements Using Functions**\n",
        "\n",
        "**1.Billing System**\n",
        "\n",
        "Create a calculate_total() function to compute bill amount.\n",
        "\n",
        "**2.User Greeting System**\n",
        "\n",
        "Create a greet_user(name) function to greet users dynamically.\n",
        "\n",
        "**3.Dynamic Email Generator**\n",
        "\n",
        "Generate custom emails using functions with keyword arguments.\n",
        "\n",
        "**4.Order Summary Printer**\n",
        "\n",
        "Accept order items as *args and print them one by one.\n",
        "\n",
        "**5.Profile Builder**\n",
        "\n",
        "Accept user profile data using **kwargs and return a profile dict.\n",
        "\n",
        "**6.Loan Eligibility Checker**\n",
        "\n",
        "Define a function to check if user income and credit score are sufficient.\n",
        "\n",
        "**7.Temperature Converter**\n",
        "\n",
        "A function that converts Celsius to Fahrenheit and returns the result.\n",
        "\n",
        "**8.Factorial Calculator**\n",
        "\n",
        "Use recursion to calculate factorial of a number.\n",
        "\n",
        "**9.Quiz Scorer**\n",
        "\n",
        "Pass a list of answers and compare against a key using a function.\n",
        "\n",
        "**10.Even Number Filter**\n",
        "\n",
        "Create a function that takes a list and returns only even numbers."
      ],
      "metadata": {
        "id": "TSFf-edqvS7b"
      }
    }
  ]
}