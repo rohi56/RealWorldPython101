{
  "nbformat": 4,
  "nbformat_minor": 0,
  "metadata": {
    "colab": {
      "provenance": []
    },
    "kernelspec": {
      "name": "python3",
      "display_name": "Python 3"
    },
    "language_info": {
      "name": "python"
    }
  },
  "cells": [
    {
      "cell_type": "markdown",
      "source": [
        "**Real-Time Problem Statements Using Functions**\n",
        "\n"
      ],
      "metadata": {
        "id": "5x-XYoIcmjpy"
      }
    },
    {
      "cell_type": "markdown",
      "source": [
        "**1.Billing System**\n",
        "\n",
        "Create a calculate_total() function to compute bill amount.\n",
        "\n"
      ],
      "metadata": {
        "id": "4SleL_zVml33"
      }
    },
    {
      "cell_type": "code",
      "source": [
        "def calculate_total(prices):\n",
        "  return sum(prices)\n",
        "\n",
        "print(f\"Total Bill :{calculate_total([125,55,35,102])}\")\n"
      ],
      "metadata": {
        "colab": {
          "base_uri": "https://localhost:8080/"
        },
        "id": "YrBO6epenFIm",
        "outputId": "76244ceb-0989-42eb-95ab-84b81b0080d1"
      },
      "execution_count": 2,
      "outputs": [
        {
          "output_type": "stream",
          "name": "stdout",
          "text": [
            "Total Bill :317\n"
          ]
        }
      ]
    },
    {
      "cell_type": "markdown",
      "source": [
        "**2.User Greeting System**\n",
        "\n",
        "Create a greet_user(name) function to greet users dynamically.\n",
        "\n"
      ],
      "metadata": {
        "id": "c3hLx85omn2U"
      }
    },
    {
      "cell_type": "code",
      "source": [
        "def greet_user(name):\n",
        "  print(\"Welcome \" + name)\n",
        "\n",
        "greet_user('kiki')"
      ],
      "metadata": {
        "colab": {
          "base_uri": "https://localhost:8080/"
        },
        "id": "-g9A_FyRrY8v",
        "outputId": "d67c6bea-b192-4aaf-c39b-6a90fb608453"
      },
      "execution_count": 3,
      "outputs": [
        {
          "output_type": "stream",
          "name": "stdout",
          "text": [
            "Welcome kiki\n"
          ]
        }
      ]
    },
    {
      "cell_type": "markdown",
      "source": [
        "**3.Dynamic Email Generator**\n",
        "\n",
        "Generate custom emails using functions with keyword arguments.\n",
        "\n"
      ],
      "metadata": {
        "id": "qM8ygURgmpTs"
      }
    },
    {
      "cell_type": "code",
      "source": [
        "def generate_email(**kwargs):\n",
        "    return f\"Hi {kwargs.get('name')}, your order #{kwargs.get('order_id')} is confirmed.\"\n",
        "\n",
        "print(generate_email(name=\"John\", order_id=1234))"
      ],
      "metadata": {
        "colab": {
          "base_uri": "https://localhost:8080/"
        },
        "id": "48dXC8FWs2lY",
        "outputId": "574ec933-9941-444a-e51b-70ad0386cca6"
      },
      "execution_count": 4,
      "outputs": [
        {
          "output_type": "stream",
          "name": "stdout",
          "text": [
            "Hi John, your order #1234 is confirmed.\n"
          ]
        }
      ]
    },
    {
      "cell_type": "markdown",
      "source": [
        "**4.Order Summary Printer**\n",
        "\n",
        "Accept order items as *args and print them one by one.\n",
        "\n"
      ],
      "metadata": {
        "id": "hiv1Z7NcmsBF"
      }
    },
    {
      "cell_type": "code",
      "source": [
        "def print_order_summary(*items):\n",
        "    print(\"Order Summary:\")\n",
        "    for item in items:\n",
        "        print(\"-\", item)\n",
        "\n",
        "print_order_summary(\"Shoes\", \"Watch\", \"Wallet\")\n"
      ],
      "metadata": {
        "colab": {
          "base_uri": "https://localhost:8080/"
        },
        "id": "droUuwHCtRS6",
        "outputId": "140a1405-7b07-44bb-f600-c455c05127b5"
      },
      "execution_count": 5,
      "outputs": [
        {
          "output_type": "stream",
          "name": "stdout",
          "text": [
            "Order Summary:\n",
            "- Shoes\n",
            "- Watch\n",
            "- Wallet\n"
          ]
        }
      ]
    },
    {
      "cell_type": "markdown",
      "source": [
        "**5.Profile Builder**\n",
        "\n",
        "Accept user profile data using **kwargs and return a profile dict.\n",
        "\n"
      ],
      "metadata": {
        "id": "Y2Io4SXEmtjB"
      }
    },
    {
      "cell_type": "code",
      "source": [
        "def build_profile(**info):\n",
        "    return info\n",
        "\n",
        "profile = build_profile(name=\"Emma\", age=28, city=\"Pune\")\n",
        "print(profile)\n"
      ],
      "metadata": {
        "colab": {
          "base_uri": "https://localhost:8080/"
        },
        "id": "MoCm7W0QtbVg",
        "outputId": "03c69d89-29a1-4783-e351-efead72b826a"
      },
      "execution_count": 6,
      "outputs": [
        {
          "output_type": "stream",
          "name": "stdout",
          "text": [
            "{'name': 'Emma', 'age': 28, 'city': 'Pune'}\n"
          ]
        }
      ]
    },
    {
      "cell_type": "markdown",
      "source": [
        "**6.Loan Eligibility Checker**\n",
        "\n",
        "Define a function to check if user income and credit score are sufficient.\n"
      ],
      "metadata": {
        "id": "TzC1IyX1mvCR"
      }
    },
    {
      "cell_type": "code",
      "source": [
        "def is_eligible(income, credit_score):\n",
        "    return income > 30000 and credit_score >= 700\n",
        "\n",
        "print(is_eligible(40000, 710))  # Output: True\n"
      ],
      "metadata": {
        "colab": {
          "base_uri": "https://localhost:8080/"
        },
        "id": "094OjAWstkAV",
        "outputId": "a094f982-b13c-452f-adbd-4748c1ea8e06"
      },
      "execution_count": 7,
      "outputs": [
        {
          "output_type": "stream",
          "name": "stdout",
          "text": [
            "True\n"
          ]
        }
      ]
    },
    {
      "cell_type": "markdown",
      "source": [
        "\n",
        "**7.Temperature Converter**\n",
        "\n",
        "A function that converts Celsius to Fahrenheit and returns the result.\n",
        "\n"
      ],
      "metadata": {
        "id": "TcaY4PoPmwir"
      }
    },
    {
      "cell_type": "code",
      "source": [
        "def celsius_to_fahrenheit(celsius):\n",
        "    return (celsius * 9/5) + 32\n",
        "\n",
        "print(celsius_to_fahrenheit(25))  # Output: 77.0\n"
      ],
      "metadata": {
        "colab": {
          "base_uri": "https://localhost:8080/"
        },
        "id": "VYl1QGXstqJz",
        "outputId": "0d998b61-547a-40fe-a9e4-226512c5d840"
      },
      "execution_count": 8,
      "outputs": [
        {
          "output_type": "stream",
          "name": "stdout",
          "text": [
            "77.0\n"
          ]
        }
      ]
    },
    {
      "cell_type": "markdown",
      "source": [
        "**8.Factorial Calculator**\n",
        "\n",
        "Use recursion to calculate factorial of a number.\n",
        "\n"
      ],
      "metadata": {
        "id": "11rkwqNvmx61"
      }
    },
    {
      "cell_type": "code",
      "source": [
        "def factorial(n):\n",
        "    if n == 1:\n",
        "        return 1\n",
        "    return n * factorial(n - 1)\n",
        "\n",
        "print(factorial(5))  # Output: 120\n"
      ],
      "metadata": {
        "colab": {
          "base_uri": "https://localhost:8080/"
        },
        "id": "VtSaAvzPtsm6",
        "outputId": "d5355d63-938b-4254-f02c-ccee5f928068"
      },
      "execution_count": 9,
      "outputs": [
        {
          "output_type": "stream",
          "name": "stdout",
          "text": [
            "120\n"
          ]
        }
      ]
    },
    {
      "cell_type": "markdown",
      "source": [
        "**9.Quiz Scorer**\n",
        "\n",
        "Pass a list of answers and compare against a key using a function.\n",
        "\n"
      ],
      "metadata": {
        "id": "YAB6k460mzoe"
      }
    },
    {
      "cell_type": "code",
      "source": [
        "def score_quiz(answers, key):\n",
        "    score = 0\n",
        "    for a, k in zip(answers, key):\n",
        "        if a == k:\n",
        "            score += 1\n",
        "    return score\n",
        "\n",
        "print(score_quiz(['A', 'C', 'B'], ['A', 'B', 'B']))  # Output: 2\n"
      ],
      "metadata": {
        "colab": {
          "base_uri": "https://localhost:8080/"
        },
        "id": "zKr86HTwt12Z",
        "outputId": "7675e86a-15d5-4e46-d10e-346bee6f8f12"
      },
      "execution_count": 10,
      "outputs": [
        {
          "output_type": "stream",
          "name": "stdout",
          "text": [
            "2\n"
          ]
        }
      ]
    },
    {
      "cell_type": "markdown",
      "source": [
        "**10.Even Number Filter**\n",
        "\n",
        "Create a function that takes a list and returns only even numbers."
      ],
      "metadata": {
        "id": "-rEN5am9m1O5"
      }
    },
    {
      "cell_type": "code",
      "source": [
        "def filter_even(numbers):\n",
        "    return [num for num in numbers if num % 2 == 0]\n",
        "\n",
        "print(filter_even([1, 2, 3, 4, 5, 6]))  # Output: [2, 4, 6]\n"
      ],
      "metadata": {
        "colab": {
          "base_uri": "https://localhost:8080/"
        },
        "id": "t_5MGR3Dt7AD",
        "outputId": "9c963a65-f650-415d-e105-4b324d91c87c"
      },
      "execution_count": 11,
      "outputs": [
        {
          "output_type": "stream",
          "name": "stdout",
          "text": [
            "[2, 4, 6]\n"
          ]
        }
      ]
    }
  ]
}