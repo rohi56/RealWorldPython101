{
  "nbformat": 4,
  "nbformat_minor": 0,
  "metadata": {
    "colab": {
      "provenance": []
    },
    "kernelspec": {
      "name": "python3",
      "display_name": "Python 3"
    },
    "language_info": {
      "name": "python"
    }
  },
  "cells": [
    {
      "cell_type": "markdown",
      "source": [
        "**Real-Time Problem Statements Solutions**"
      ],
      "metadata": {
        "id": "UEOMuRi8VBmd"
      }
    },
    {
      "cell_type": "markdown",
      "source": [
        "**1.Basic Calculator**\n",
        "Perform +, -, *, / operations on two numbers input by the user.\n"
      ],
      "metadata": {
        "id": "xl-VGf4QVJ3j"
      }
    },
    {
      "cell_type": "code",
      "source": [
        "num1 = int(input(\"Enter the first number: \"))\n",
        "num2 = int(input(\"Enter the second number: \"))\n",
        "print(f\"Addition :{num1 + num2}, Substarction :{num1-num2}, Multiplication :{num1*num2}, Division :{num1/num2}\")"
      ],
      "metadata": {
        "colab": {
          "base_uri": "https://localhost:8080/"
        },
        "id": "Jg9YXDSLdFt-",
        "outputId": "36351ec8-4f28-4d9f-ad33-775787839e8a"
      },
      "execution_count": 1,
      "outputs": [
        {
          "output_type": "stream",
          "name": "stdout",
          "text": [
            "Enter the first number: 10\n",
            "Enter the second number: 5\n",
            "Addition :15, Substarction :5, Multiplication :50, Division :2.0\n"
          ]
        }
      ]
    },
    {
      "cell_type": "markdown",
      "source": [
        "2\tBank Balance Update\tStart with a balance and use assignment operators to add or deduct amounts.\n"
      ],
      "metadata": {
        "id": "CbA00bgBVOF9"
      }
    },
    {
      "cell_type": "code",
      "source": [
        "balance = 100\n",
        "action = input(\"Enter money is (add or deducted) :\")\n",
        "if action == \"add\":\n",
        "  amount=float(input(\"Enter the amount need to be added: \"))\n",
        "  balance += amount\n",
        "elif action == \"deducted\":\n",
        "  amount=float(input(\"Enter the amount need to be added: \"))\n",
        "  balance -= amount\n",
        "print(f\"Your current balance is {balance}\")\n",
        "\n"
      ],
      "metadata": {
        "colab": {
          "base_uri": "https://localhost:8080/"
        },
        "id": "rxAS7JzgeF9T",
        "outputId": "4637476c-52fe-4438-c14f-f0153726bc4f"
      },
      "execution_count": 1,
      "outputs": [
        {
          "output_type": "stream",
          "name": "stdout",
          "text": [
            "Enter money is (add or deducted) :add\n",
            "Enter the amount need to be added: 200\n",
            "Your current balance is 300.0\n"
          ]
        }
      ]
    },
    {
      "cell_type": "markdown",
      "source": [
        "3\tAge Comparison\tAsk for two people's ages and determine who is older.\n"
      ],
      "metadata": {
        "id": "z_5Bj1fMVQMF"
      }
    },
    {
      "cell_type": "code",
      "source": [
        "user1= int(input(\"Enter the 1st person age: \"))\n",
        "user2=int(input(\"Enter the 2nd person age: \"))\n",
        "if user1 > user2 :\n",
        "  print(\"1st person is older\")\n",
        "else :\n",
        "  print(\"2nd person is older\")"
      ],
      "metadata": {
        "colab": {
          "base_uri": "https://localhost:8080/"
        },
        "id": "Ct63PSu31lOB",
        "outputId": "5654d02b-fe9b-4737-9100-11c691dd1c9a"
      },
      "execution_count": 2,
      "outputs": [
        {
          "output_type": "stream",
          "name": "stdout",
          "text": [
            "Enter the 1st person age: 25\n",
            "Enter the 2nd person age: 30\n",
            "2nd person is older\n"
          ]
        }
      ]
    },
    {
      "cell_type": "markdown",
      "source": [
        "4\tEligibility Check\tCheck if a user is eligible for both driving and voting.\n"
      ],
      "metadata": {
        "id": "wlVFJuzTVSls"
      }
    },
    {
      "cell_type": "code",
      "source": [
        "age = int(input(\"Enter your age: \"))\n",
        "if age>=18 :\n",
        "  print(\"You are eligible for both driving and voting.\")\n",
        "else :\n",
        "  print(\"You are eligible\")\n"
      ],
      "metadata": {
        "colab": {
          "base_uri": "https://localhost:8080/"
        },
        "id": "HlZMN1PHGKhW",
        "outputId": "bdc6cb79-0d42-4ba2-9ddc-b96dea7d870f"
      },
      "execution_count": 4,
      "outputs": [
        {
          "output_type": "stream",
          "name": "stdout",
          "text": [
            "Enter your age: 21\n",
            "You are eligible for both driving and voting.\n"
          ]
        }
      ]
    },
    {
      "cell_type": "markdown",
      "source": [
        "5\tPassword Confirmation\tUse comparison operator to check if password and confirm-password match.\n"
      ],
      "metadata": {
        "id": "DABmhoZiVUit"
      }
    },
    {
      "cell_type": "code",
      "source": [
        "password = input(\"Enter your password :\")\n",
        "confirm_password = input(\"Re-enter your password :\")\n",
        "if password == confirm_password :\n",
        "  print(\"Password matched\")\n",
        "else:\n",
        "  print(\"Wrong password\")"
      ],
      "metadata": {
        "colab": {
          "base_uri": "https://localhost:8080/"
        },
        "id": "1L4ToBAHHHVD",
        "outputId": "4db263bc-78bf-4142-be62-828122c70470"
      },
      "execution_count": 8,
      "outputs": [
        {
          "output_type": "stream",
          "name": "stdout",
          "text": [
            "Enter your password :admin\n",
            "Re-enter your password :admin\n",
            "Password matched\n"
          ]
        }
      ]
    },
    {
      "cell_type": "markdown",
      "source": [
        "6\tDiscount Logic\tApply discount if cart total is over 500 or user is a premium member.\n"
      ],
      "metadata": {
        "id": "DPKeFqAvVXlx"
      }
    },
    {
      "cell_type": "code",
      "source": [
        "cart_total = float(input(\"Enter cart total: \"))\n",
        "is_premium = input(\"Are you a premium member? (yes/no): \").lower() == \"yes\"\n",
        "\n",
        "if cart_total > 500 or is_premium:\n",
        "    print(\"Discount applied!\")\n",
        "else:\n",
        "    print(\"No discount available.\")\n"
      ],
      "metadata": {
        "colab": {
          "base_uri": "https://localhost:8080/"
        },
        "id": "8kSAIODKH-w6",
        "outputId": "375b37eb-f950-42df-ed8d-15b8ccf0dff0"
      },
      "execution_count": 9,
      "outputs": [
        {
          "output_type": "stream",
          "name": "stdout",
          "text": [
            "Enter cart total: 501\n",
            "Are you a premium member? (yes/no): no\n",
            "Discount applied!\n"
          ]
        }
      ]
    },
    {
      "cell_type": "markdown",
      "source": [
        "7\tData Matching\tCompare two lists to see if they refer to the same object using is.\n"
      ],
      "metadata": {
        "id": "YVcMFsUlVaJW"
      }
    },
    {
      "cell_type": "code",
      "source": [
        "a = [1, 2, 3]\n",
        "b = a\n",
        "c = [1, 2, 3]\n",
        "\n",
        "print(\"a is b:\", a is b)\n",
        "print(\"a is c:\", a is c)\n"
      ],
      "metadata": {
        "colab": {
          "base_uri": "https://localhost:8080/"
        },
        "id": "CdybJ5qLJgmq",
        "outputId": "db58f444-85ae-41a1-e6f4-db4431869abd"
      },
      "execution_count": 10,
      "outputs": [
        {
          "output_type": "stream",
          "name": "stdout",
          "text": [
            "a is b: True\n",
            "a is c: False\n"
          ]
        }
      ]
    },
    {
      "cell_type": "markdown",
      "source": [
        "8\tCheck Item in Cart\tAsk the user for an item and check if it's in a predefined shopping list.\n"
      ],
      "metadata": {
        "id": "i-b67_06VcW5"
      }
    },
    {
      "cell_type": "code",
      "source": [
        "shopping_list = ['milk', 'bread', 'eggs']\n",
        "item = input(\"Enter item to search: \").lower()\n",
        "\n",
        "if item in shopping_list:\n",
        "    print(f\"{item} is in the cart.\")\n",
        "else:\n",
        "    print(f\"{item} is not in the cart.\")\n"
      ],
      "metadata": {
        "colab": {
          "base_uri": "https://localhost:8080/"
        },
        "id": "ZFax2CEPJpbj",
        "outputId": "dac0de9a-5cca-4aa7-a177-8aa76e80e235"
      },
      "execution_count": 11,
      "outputs": [
        {
          "output_type": "stream",
          "name": "stdout",
          "text": [
            "Enter item to search: milk\n",
            "milk is in the cart.\n"
          ]
        }
      ]
    },
    {
      "cell_type": "markdown",
      "source": [
        "9\tSecure Access Check\tCheck if username is not empty and password is at least 6 characters.\n"
      ],
      "metadata": {
        "id": "n0I2I_e3Vee1"
      }
    },
    {
      "cell_type": "code",
      "source": [
        "username = input(\"Enter username: \").strip()\n",
        "password = input(\"Enter password: \")\n",
        "\n",
        "if username and len(password) >= 6:\n",
        "    print(\"Access granted.\")\n",
        "else:\n",
        "    print(\"Access denied.\")\n"
      ],
      "metadata": {
        "colab": {
          "base_uri": "https://localhost:8080/"
        },
        "id": "agmkRwfZJyed",
        "outputId": "a24365dc-133e-46c8-db45-b8066d397b0d"
      },
      "execution_count": 12,
      "outputs": [
        {
          "output_type": "stream",
          "name": "stdout",
          "text": [
            "Enter username: advantage\n",
            "Enter password: admin\n",
            "Access denied.\n"
          ]
        }
      ]
    },
    {
      "cell_type": "markdown",
      "source": [
        "10\tLetter Search\tAsk the user to input a letter and check if it exists in a given word."
      ],
      "metadata": {
        "id": "XCFJpqzmVgGP"
      }
    },
    {
      "cell_type": "code",
      "source": [
        "word = \"education\"\n",
        "letter = input(\"Enter a letter: \")\n",
        "\n",
        "if letter in word:\n",
        "    print(f\"'{letter}' is in the word.\")\n",
        "else:\n",
        "    print(f\"'{letter}' is not in the word.\")\n"
      ],
      "metadata": {
        "colab": {
          "base_uri": "https://localhost:8080/"
        },
        "id": "u2zbSF-4J7IY",
        "outputId": "f6191944-00f7-4002-8944-55258843a181"
      },
      "execution_count": 13,
      "outputs": [
        {
          "output_type": "stream",
          "name": "stdout",
          "text": [
            "Enter a letter: w\n",
            "'w' is not in the word.\n"
          ]
        }
      ]
    }
  ]
}