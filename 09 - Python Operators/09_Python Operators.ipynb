{
  "nbformat": 4,
  "nbformat_minor": 0,
  "metadata": {
    "colab": {
      "provenance": []
    },
    "kernelspec": {
      "name": "python3",
      "display_name": "Python 3"
    },
    "language_info": {
      "name": "python"
    }
  },
  "cells": [
    {
      "cell_type": "markdown",
      "source": [
        "**Python Operators**"
      ],
      "metadata": {
        "id": "JHKgp1vvTQ6E"
      }
    },
    {
      "cell_type": "markdown",
      "source": [
        "Operators in Python are special symbols or keywords used to perform operations on variables and values."
      ],
      "metadata": {
        "id": "VVE9vDJzTSt4"
      }
    },
    {
      "cell_type": "markdown",
      "source": [
        "**1. Arithmetic Operators**\n",
        "Used to perform basic math operations.\n",
        "\n",
        "| Operator | Description         | Example  |\n",
        "| -------- | ------------------- | -------- |\n",
        "| `+`      | Addition            | `a + b`  |\n",
        "| `-`      | Subtraction         | `a - b`  |\n",
        "| `*`      | Multiplication      | `a * b`  |\n",
        "| `/`      | Division            | `a / b`  |\n",
        "| `//`     | Floor Division      | `a // b` |\n",
        "| `%`      | Modulus (remainder) | `a % b`  |\n",
        "| `**`     | Exponentiation      | `a ** b` |\n"
      ],
      "metadata": {
        "id": "SbHmE0FJTXKN"
      }
    },
    {
      "cell_type": "markdown",
      "source": [
        "**2. Assignment Operators**\n",
        "\n",
        "Used to assign values to variables.\n",
        "\n",
        "| Operator | Description             | Example   |\n",
        "| -------- | ----------------------- | --------- |\n",
        "| `=`      | Assign                  | `x = 5`   |\n",
        "| `+=`     | Add and assign          | `x += 3`  |\n",
        "| `-=`     | Subtract and assign     | `x -= 3`  |\n",
        "| `*=`     | Multiply and assign     | `x *= 3`  |\n",
        "| `/=`     | Divide and assign       | `x /= 3`  |\n",
        "| `//=`    | Floor divide and assign | `x //= 2` |\n",
        "| `%=`     | Modulus and assign      | `x %= 2`  |\n",
        "| `**=`    | Power and assign        | `x **= 2` |\n"
      ],
      "metadata": {
        "id": "k6WvTh0QTdbG"
      }
    },
    {
      "cell_type": "markdown",
      "source": [
        "**3. Comparison Operators**\n",
        "\n",
        "Used to compare values, return boolean.\n",
        "\n",
        "| Operator | Description      | Example  |\n",
        "| -------- | ---------------- | -------- |\n",
        "| `==`     | Equal to         | `a == b` |\n",
        "| `!=`     | Not equal to     | `a != b` |\n",
        "| `>`      | Greater than     | `a > b`  |\n",
        "| `<`      | Less than        | `a < b`  |\n",
        "| `>=`     | Greater or equal | `a >= b` |\n",
        "| `<=`     | Less or equal    | `a <= b` |\n"
      ],
      "metadata": {
        "id": "XApmLWG6TkXi"
      }
    },
    {
      "cell_type": "markdown",
      "source": [
        "**4. Logical Operators**\n",
        "\n",
        "Used to combine conditional statements.\n",
        "\n",
        "| Operator | Description                              | Example           |\n",
        "| -------- | ---------------------------------------- | ----------------- |\n",
        "| `and`    | Returns True if both statements are true | `a > 3 and b < 5` |\n",
        "| `or`     | Returns True if one is true              | `a > 3 or b < 2`  |\n",
        "| `not`    | Reverses result                          | `not(a > 3)`      |\n"
      ],
      "metadata": {
        "id": "Hr1el3gbTqm_"
      }
    },
    {
      "cell_type": "markdown",
      "source": [
        "**5. Identity Operators**\n",
        "\n",
        "Compare memory locations (object identity).\n",
        "\n",
        "| Operator | Description         | Example      |\n",
        "| -------- | ------------------- | ------------ |\n",
        "| `is`     | True if same object | `x is y`     |\n",
        "| `is not` | True if not same    | `x is not y` |\n"
      ],
      "metadata": {
        "id": "Iz5iuRHOTyOk"
      }
    },
    {
      "cell_type": "markdown",
      "source": [
        "**6. Membership Operators**\n",
        "\n",
        "Check if a value is in a sequence (like list, string, etc.)\n",
        "\n",
        "| Operator | Description         | Example            |\n",
        "| -------- | ------------------- | ------------------ |\n",
        "| `in`     | True if value found | `'a' in 'cat'`     |\n",
        "| `not in` | True if not found   | `'x' not in 'cat'` |\n"
      ],
      "metadata": {
        "id": "tCm9WOEkT4WL"
      }
    },
    {
      "cell_type": "markdown",
      "source": [
        "**Real-Time Problem Statements**"
      ],
      "metadata": {
        "id": "lOwpL4OKUAp0"
      }
    },
    {
      "cell_type": "markdown",
      "source": [
        "| #  | Problem                   | Description                                                                 |\n",
        "| -- | ------------------------- | --------------------------------------------------------------------------- |\n",
        "| 1  | **Basic Calculator**      | Perform +, -, \\*, / operations on two numbers input by the user.            |\n",
        "| 2  | **Bank Balance Update**   | Start with a balance and use assignment operators to add or deduct amounts. |\n",
        "| 3  | **Age Comparison**        | Ask for two people's ages and determine who is older.                       |\n",
        "| 4  | **Eligibility Check**     | Check if a user is eligible for both driving and voting.                    |\n",
        "| 5  | **Password Confirmation** | Use comparison operator to check if password and confirm-password match.    |\n",
        "| 6  | **Discount Logic**        | Apply discount if cart total is over 500 or user is a premium member.       |\n",
        "| 7  | **Data Matching**         | Compare two lists to see if they refer to the same object using `is`.       |\n",
        "| 8  | **Check Item in Cart**    | Ask the user for an item and check if it's in a predefined shopping list.   |\n",
        "| 9  | **Secure Access Check**   | Check if username is not empty and password is at least 6 characters.       |\n",
        "| 10 | **Letter Search**         | Ask the user to input a letter and check if it exists in a given word.      |\n"
      ],
      "metadata": {
        "id": "ErXigRibUC-F"
      }
    }
  ]
}