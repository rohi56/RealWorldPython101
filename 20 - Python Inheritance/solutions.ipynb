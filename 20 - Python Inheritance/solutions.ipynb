{
  "nbformat": 4,
  "nbformat_minor": 0,
  "metadata": {
    "colab": {
      "provenance": []
    },
    "kernelspec": {
      "name": "python3",
      "display_name": "Python 3"
    },
    "language_info": {
      "name": "python"
    }
  },
  "cells": [
    {
      "cell_type": "markdown",
      "source": [
        "**Real-Time Problem Statements**\n",
        "\n"
      ],
      "metadata": {
        "id": "1yIrMAyXDVg2"
      }
    },
    {
      "cell_type": "markdown",
      "source": [
        "**1.User Role System**\n",
        "\n",
        "Base class User, subclasses like Admin, Editor, Viewer with specific permissions.\n",
        "\n"
      ],
      "metadata": {
        "id": "-zbgbD6sDYcp"
      }
    },
    {
      "cell_type": "code",
      "source": [
        "class User:\n",
        "    def __init__(self, username):\n",
        "        self.username = username\n",
        "\n",
        "    def permissions(self):\n",
        "        return [\"read\"]\n",
        "\n",
        "class Admin(User):\n",
        "    def permissions(self):\n",
        "        return [\"read\", \"write\", \"delete\"]\n",
        "\n",
        "class Editor(User):\n",
        "    def permissions(self):\n",
        "        return [\"read\", \"write\"]\n",
        "\n",
        "class Viewer(User):\n",
        "    pass\n",
        "\n",
        "admin = Admin(\"admin_user\")\n",
        "print(admin.permissions())  # ['read', 'write', 'delete']\n"
      ],
      "metadata": {
        "colab": {
          "base_uri": "https://localhost:8080/"
        },
        "id": "fVTV2hpIGTcs",
        "outputId": "b2cd6261-d8bf-4426-81a2-f9fbc466acd4"
      },
      "execution_count": 5,
      "outputs": [
        {
          "output_type": "stream",
          "name": "stdout",
          "text": [
            "['read', 'write', 'delete']\n"
          ]
        }
      ]
    },
    {
      "cell_type": "markdown",
      "source": [
        "**2.Banking System**\n",
        "\n",
        "Account as a base class. SavingsAccount and CurrentAccount as derived classes with different interest rules.\n",
        "\n"
      ],
      "metadata": {
        "id": "oQDW5DsmDZ9A"
      }
    },
    {
      "cell_type": "code",
      "source": [
        "class Account:\n",
        "    def __init__(self, acc_number, balance):\n",
        "        self.acc_number = acc_number\n",
        "        self.balance = balance\n",
        "\n",
        "class SavingsAccount(Account):\n",
        "    def calculate_interest(self):\n",
        "        return self.balance * 0.04\n",
        "\n",
        "class CurrentAccount(Account):\n",
        "    def calculate_interest(self):\n",
        "        return self.balance * 0.01\n",
        "\n",
        "sa = SavingsAccount(\"SA123\", 10000)\n",
        "print(sa.calculate_interest())  # 400.0\n"
      ],
      "metadata": {
        "colab": {
          "base_uri": "https://localhost:8080/"
        },
        "id": "RjIS9QlwGWkM",
        "outputId": "c4ca3279-996b-4258-c7cb-38cfbd18451d"
      },
      "execution_count": 6,
      "outputs": [
        {
          "output_type": "stream",
          "name": "stdout",
          "text": [
            "400.0\n"
          ]
        }
      ]
    },
    {
      "cell_type": "markdown",
      "source": [
        "**3.E-commerce Platform**\n",
        "\n",
        "Base class Product, subclasses like Electronics, Clothing, Grocery each with category-specific fields.\n",
        "\n"
      ],
      "metadata": {
        "id": "B8gVVh90Dbqu"
      }
    },
    {
      "cell_type": "code",
      "source": [
        "class Product:\n",
        "    def __init__(self, name, price):\n",
        "        self.name = name\n",
        "        self.price = price\n",
        "\n",
        "class Electronics(Product):\n",
        "    def __init__(self, name, price, warranty):\n",
        "        super().__init__(name, price)\n",
        "        self.warranty = warranty\n",
        "\n",
        "class Clothing(Product):\n",
        "    def __init__(self, name, price, size):\n",
        "        super().__init__(name, price)\n",
        "        self.size = size\n",
        "\n",
        "tv = Electronics(\"LED TV\", 30000, \"2 years\")\n",
        "print(tv.warranty)  # 2 years\n"
      ],
      "metadata": {
        "colab": {
          "base_uri": "https://localhost:8080/"
        },
        "id": "10O9mUCDGZrU",
        "outputId": "d6031afc-4a7c-4b99-80a6-c45bb7394af4"
      },
      "execution_count": 7,
      "outputs": [
        {
          "output_type": "stream",
          "name": "stdout",
          "text": [
            "2 years\n"
          ]
        }
      ]
    },
    {
      "cell_type": "markdown",
      "source": [
        "**4.Education Management**\n",
        "\n",
        "Base class Person, child classes like Student, Teacher with different responsibilities and data.\n",
        "\n"
      ],
      "metadata": {
        "id": "K6LLvWGHDdWM"
      }
    },
    {
      "cell_type": "code",
      "source": [
        "class Person:\n",
        "    def __init__(self, name):\n",
        "        self.name = name\n",
        "\n",
        "class Student(Person):\n",
        "    def __init__(self, name, student_id):\n",
        "        super().__init__(name)\n",
        "        self.student_id = student_id\n",
        "\n",
        "class Teacher(Person):\n",
        "    def __init__(self, name, subject):\n",
        "        super().__init__(name)\n",
        "        self.subject = subject\n",
        "\n",
        "teacher = Teacher(\"Dr. Smith\", \"Physics\")\n",
        "print(teacher.subject)  # Physics\n"
      ],
      "metadata": {
        "colab": {
          "base_uri": "https://localhost:8080/"
        },
        "id": "IYW7_g1qGbze",
        "outputId": "fadf4451-3b52-44db-a34b-96c631907324"
      },
      "execution_count": 8,
      "outputs": [
        {
          "output_type": "stream",
          "name": "stdout",
          "text": [
            "Physics\n"
          ]
        }
      ]
    },
    {
      "cell_type": "markdown",
      "source": [
        "**5.Transportation System**\n",
        "\n",
        "Parent class Vehicle, child classes like Bus, Car, Bike with different speed limits and fare rules.\n",
        "\n"
      ],
      "metadata": {
        "id": "NHGlgigJDey6"
      }
    },
    {
      "cell_type": "code",
      "source": [
        "class Vehicle:\n",
        "    def __init__(self, model):\n",
        "        self.model = model\n",
        "\n",
        "class Bus(Vehicle):\n",
        "    def fare(self):\n",
        "        return 15\n",
        "\n",
        "class Car(Vehicle):\n",
        "    def fare(self):\n",
        "        return 10\n",
        "\n",
        "class Bike(Vehicle):\n",
        "    def fare(self):\n",
        "        return 5\n",
        "\n",
        "bus = Bus(\"Volvo\")\n",
        "print(bus.fare())  # 15\n"
      ],
      "metadata": {
        "colab": {
          "base_uri": "https://localhost:8080/"
        },
        "id": "HIFRCHO-GiJq",
        "outputId": "a143b20a-6420-4119-d61f-7cc13daab452"
      },
      "execution_count": 9,
      "outputs": [
        {
          "output_type": "stream",
          "name": "stdout",
          "text": [
            "15\n"
          ]
        }
      ]
    },
    {
      "cell_type": "markdown",
      "source": [
        "**6.Company Hierarchy**\n",
        "\n",
        "Parent Employee class, subclasses Manager, Intern, TeamLead with added methods and attributes.\n",
        "\n"
      ],
      "metadata": {
        "id": "uuEMJ1Z-Dhb_"
      }
    },
    {
      "cell_type": "code",
      "source": [
        "class Employee:\n",
        "    def __init__(self, name):\n",
        "        self.name = name\n",
        "\n",
        "class Manager(Employee):\n",
        "    def tasks(self):\n",
        "        return [\"planning\", \"team management\"]\n",
        "\n",
        "class Intern(Employee):\n",
        "    def tasks(self):\n",
        "        return [\"training\", \"support\"]\n",
        "\n",
        "class TeamLead(Employee):\n",
        "    def tasks(self):\n",
        "        return [\"development\", \"review\"]\n",
        "\n",
        "lead = TeamLead(\"Rohit\")\n",
        "print(lead.tasks())  # ['development', 'review']\n"
      ],
      "metadata": {
        "colab": {
          "base_uri": "https://localhost:8080/"
        },
        "id": "iCDsBTIhGlNf",
        "outputId": "5e99bc97-52a7-4830-de24-ca05a3230e9a"
      },
      "execution_count": 10,
      "outputs": [
        {
          "output_type": "stream",
          "name": "stdout",
          "text": [
            "['development', 'review']\n"
          ]
        }
      ]
    },
    {
      "cell_type": "markdown",
      "source": [
        "**7.Healthcare Record System**\n",
        "\n",
        "Parent class Patient, children like InPatient, OutPatient to track duration of stay, treatments, etc."
      ],
      "metadata": {
        "id": "jhSHDHl4DjHE"
      }
    },
    {
      "cell_type": "code",
      "source": [
        "class Patient:\n",
        "    def __init__(self, name):\n",
        "        self.name = name\n",
        "\n",
        "class InPatient(Patient):\n",
        "    def __init__(self, name, days_admitted):\n",
        "        super().__init__(name)\n",
        "        self.days_admitted = days_admitted\n",
        "\n",
        "class OutPatient(Patient):\n",
        "    def __init__(self, name, last_visit):\n",
        "        super().__init__(name)\n",
        "        self.last_visit = last_visit\n",
        "\n",
        "ip = InPatient(\"Amit\", 5)\n",
        "print(ip.days_admitted)  # 5\n"
      ],
      "metadata": {
        "colab": {
          "base_uri": "https://localhost:8080/"
        },
        "id": "SDwK2d7RGnu8",
        "outputId": "b715e77e-e38f-422f-ab5e-c9be60efb8a5"
      },
      "execution_count": 11,
      "outputs": [
        {
          "output_type": "stream",
          "name": "stdout",
          "text": [
            "5\n"
          ]
        }
      ]
    }
  ]
}