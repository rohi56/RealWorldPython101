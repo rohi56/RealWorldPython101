{
  "nbformat": 4,
  "nbformat_minor": 0,
  "metadata": {
    "colab": {
      "provenance": []
    },
    "kernelspec": {
      "name": "python3",
      "display_name": "Python 3"
    },
    "language_info": {
      "name": "python"
    }
  },
  "cells": [
    {
      "cell_type": "markdown",
      "source": [
        "**Python Inheritance**"
      ],
      "metadata": {
        "id": "xgRJ7Q4zB5JA"
      }
    },
    {
      "cell_type": "markdown",
      "source": [
        "**1. Python Inheritance**\n",
        "\n",
        "Inheritance allows a class (child) to inherit attributes and methods from another class (parent). It promotes code reuse and logical hierarchy in OOP.\n",
        "\n"
      ],
      "metadata": {
        "id": "kvYsE8R-B-bY"
      }
    },
    {
      "cell_type": "markdown",
      "source": [
        "**2. Create a Parent Class**\n",
        "\n",
        "Define a base class with shared functionality or attributes."
      ],
      "metadata": {
        "id": "2y0NE1m9CCRp"
      }
    },
    {
      "cell_type": "code",
      "source": [
        "class Person:\n",
        "    def __init__(self, name):\n",
        "        self.name = name\n",
        "\n",
        "    def greet(self):\n",
        "        print(f\"Hello, my name is {self.name}\")\n"
      ],
      "metadata": {
        "id": "sGoE7U7NCGzp"
      },
      "execution_count": 1,
      "outputs": []
    },
    {
      "cell_type": "markdown",
      "source": [
        "**3. Create a Child Class**\n",
        "\n",
        "Child class inherits from the parent and can use its methods or add new ones."
      ],
      "metadata": {
        "id": "FZ9FYVdQCJ5j"
      }
    },
    {
      "cell_type": "code",
      "source": [
        "class Student(Person):\n",
        "    pass\n",
        "\n",
        "s1 = Student(\"Alice\")\n",
        "s1.greet()  # Output: Hello, my name is Alice\n"
      ],
      "metadata": {
        "colab": {
          "base_uri": "https://localhost:8080/"
        },
        "id": "WmwTKPk2CMXd",
        "outputId": "c4246475-cbd6-4fca-93e9-290b1476bb90"
      },
      "execution_count": 2,
      "outputs": [
        {
          "output_type": "stream",
          "name": "stdout",
          "text": [
            "Hello, my name is Alice\n"
          ]
        }
      ]
    },
    {
      "cell_type": "markdown",
      "source": [
        "**4. Add the __init__() Function**\n",
        "\n",
        "You can define your own __init__() in the child class to initialize additional properties.\n"
      ],
      "metadata": {
        "id": "eD-Xj67oCPdF"
      }
    },
    {
      "cell_type": "code",
      "source": [
        "class Student(Person):\n",
        "    def __init__(self, name, student_id):\n",
        "        super().__init__(name)\n",
        "        self.student_id = student_id\n"
      ],
      "metadata": {
        "id": "kb72BrQCCUAC"
      },
      "execution_count": 3,
      "outputs": []
    },
    {
      "cell_type": "markdown",
      "source": [
        "**5. Use the super() Function**\n",
        "\n",
        "super() allows you to call the parent class’s methods and constructors."
      ],
      "metadata": {
        "id": "is9IYZidCY2u"
      }
    },
    {
      "cell_type": "code",
      "source": [
        "class Student(Person):\n",
        "    def __init__(self, name, student_id):\n",
        "        super().__init__(name)  # Inherit name from Person\n",
        "        self.student_id = student_id\n"
      ],
      "metadata": {
        "id": "Vou5ecHYCe1M"
      },
      "execution_count": 4,
      "outputs": []
    },
    {
      "cell_type": "markdown",
      "source": [
        "**6. Add Properties**\n",
        "\n",
        "You can add new properties specific to the child class."
      ],
      "metadata": {
        "id": "hZhDjBw2Chp9"
      }
    },
    {
      "cell_type": "code",
      "source": [
        "class Student(Person):\n",
        "    def __init__(self, name, student_id, course):\n",
        "        super().__init__(name)\n",
        "        self.student_id = student_id\n",
        "        self.course = course\n"
      ],
      "metadata": {
        "id": "EVEkGVEqClxn"
      },
      "execution_count": 5,
      "outputs": []
    },
    {
      "cell_type": "markdown",
      "source": [
        "**7. Add Methods**\n",
        "\n",
        "Extend functionality by adding child-specific methods."
      ],
      "metadata": {
        "id": "XlvT_ySzCr82"
      }
    },
    {
      "cell_type": "code",
      "source": [
        "class Student(Person):\n",
        "    def __init__(self, name, student_id):\n",
        "        super().__init__(name)\n",
        "        self.student_id = student_id\n",
        "\n",
        "    def display_id(self):\n",
        "        print(f\"Student ID: {self.student_id}\")\n"
      ],
      "metadata": {
        "id": "UrRcPOcPCuq5"
      },
      "execution_count": 6,
      "outputs": []
    },
    {
      "cell_type": "markdown",
      "source": [
        "**Real-Time Problem Statements**\n",
        "\n",
        "**1.User Role System**\n",
        "\n",
        "Base class User, subclasses like Admin, Editor, Viewer with specific permissions.\n",
        "\n",
        "**2.Banking System**\n",
        "\n",
        "Account as a base class. SavingsAccount and CurrentAccount as derived classes with different interest rules.\n",
        "\n",
        "**3.E-commerce Platform**\n",
        "\n",
        "Base class Product, subclasses like Electronics, Clothing, Grocery each with category-specific fields.\n",
        "\n",
        "**4.Education Management**\n",
        "\n",
        "Base class Person, child classes like Student, Teacher with different responsibilities and data.\n",
        "\n",
        "**5.Transportation System**\n",
        "\n",
        "Parent class Vehicle, child classes like Bus, Car, Bike with different speed limits and fare rules.\n",
        "\n",
        "**6.Company Hierarchy**\n",
        "\n",
        "Parent Employee class, subclasses Manager, Intern, TeamLead with added methods and attributes.\n",
        "\n",
        "**7.Healthcare Record System**\n",
        "\n",
        "Parent class Patient, children like InPatient, OutPatient to track duration of stay, treatments, etc."
      ],
      "metadata": {
        "id": "O3Kj8EtoC28b"
      }
    }
  ]
}