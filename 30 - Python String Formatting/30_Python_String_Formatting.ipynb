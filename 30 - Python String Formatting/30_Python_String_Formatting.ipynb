{
  "nbformat": 4,
  "nbformat_minor": 0,
  "metadata": {
    "colab": {
      "provenance": []
    },
    "kernelspec": {
      "name": "python3",
      "display_name": "Python 3"
    },
    "language_info": {
      "name": "python"
    }
  },
  "cells": [
    {
      "cell_type": "markdown",
      "source": [
        "**Python String Formatting**"
      ],
      "metadata": {
        "id": "xh8sEgLZEHDD"
      }
    },
    {
      "cell_type": "markdown",
      "source": [
        "**F-Strings**\n",
        "\n",
        "Introduced in Python 3.6, f-strings are prefixed with f and allow you to embed expressions inside string literals using curly braces {}.\n",
        "\n",
        "*Why use?* Cleaner and faster than .format() or concatenation."
      ],
      "metadata": {
        "id": "4J7pZrlgEIkl"
      }
    },
    {
      "cell_type": "code",
      "source": [
        "name = \"Alice\"\n",
        "print(f\"Welcome, {name}!\")  # Output: Welcome, Alice!\n"
      ],
      "metadata": {
        "colab": {
          "base_uri": "https://localhost:8080/"
        },
        "id": "337EVxoNEPvc",
        "outputId": "3e806a14-a56d-4c18-f341-7fc08272175d"
      },
      "execution_count": 1,
      "outputs": [
        {
          "output_type": "stream",
          "name": "stdout",
          "text": [
            "Welcome, Alice!\n"
          ]
        }
      ]
    },
    {
      "cell_type": "markdown",
      "source": [
        "**Placeholders and Modifiers**\n",
        "\n",
        "Used within f-strings or .format() to control the precision, alignment, padding, and type of data."
      ],
      "metadata": {
        "id": "2DVD_KgEESgi"
      }
    },
    {
      "cell_type": "code",
      "source": [
        "price = 45.6789\n",
        "print(f\"Price: {price:.2f}\")  # Output: Price: 45.68\n"
      ],
      "metadata": {
        "colab": {
          "base_uri": "https://localhost:8080/"
        },
        "id": "Vr5xHhOwEVU7",
        "outputId": "c0a0b4f9-46be-4737-93b0-1b35d2594433"
      },
      "execution_count": 2,
      "outputs": [
        {
          "output_type": "stream",
          "name": "stdout",
          "text": [
            "Price: 45.68\n"
          ]
        }
      ]
    },
    {
      "cell_type": "markdown",
      "source": [
        "**Perform Operations in F-Strings**\n",
        "\n",
        "You can evaluate expressions directly inside f-strings."
      ],
      "metadata": {
        "id": "fZ1ngN55EYKz"
      }
    },
    {
      "cell_type": "code",
      "source": [
        "a, b = 5, 3\n",
        "print(f\"{a} + {b} = {a + b}\")  # Output: 5 + 3 = 8\n"
      ],
      "metadata": {
        "colab": {
          "base_uri": "https://localhost:8080/"
        },
        "id": "q3SEWWNoEagq",
        "outputId": "2b6ec32d-e84e-4889-da36-1d0f8ee9db53"
      },
      "execution_count": 3,
      "outputs": [
        {
          "output_type": "stream",
          "name": "stdout",
          "text": [
            "5 + 3 = 8\n"
          ]
        }
      ]
    },
    {
      "cell_type": "markdown",
      "source": [
        "**Execute Functions in F-Strings**\n",
        "\n",
        "You can call functions inside f-strings to display dynamic values."
      ],
      "metadata": {
        "id": "CU4uxssLEf5Z"
      }
    },
    {
      "cell_type": "code",
      "source": [
        "def greet(name):\n",
        "    return f\"Hello, {name}\"\n",
        "\n",
        "print(f\"{greet('Eve')}!\")  # Output: Hello, Eve!\n"
      ],
      "metadata": {
        "colab": {
          "base_uri": "https://localhost:8080/"
        },
        "id": "dB0KuYuWEiSQ",
        "outputId": "c0968bc4-3f7d-46b5-da69-e80e7b4f2059"
      },
      "execution_count": 4,
      "outputs": [
        {
          "output_type": "stream",
          "name": "stdout",
          "text": [
            "Hello, Eve!\n"
          ]
        }
      ]
    },
    {
      "cell_type": "markdown",
      "source": [
        "**More Modifiers**\n",
        "\n",
        "Use various alignment, padding, field width, and precision modifiers."
      ],
      "metadata": {
        "id": "XN3oj2X1ElMO"
      }
    },
    {
      "cell_type": "code",
      "source": [
        "pi = 3.14159\n",
        "print(f\"{pi:10.3f}\")  # Output: '     3.142'\n"
      ],
      "metadata": {
        "colab": {
          "base_uri": "https://localhost:8080/"
        },
        "id": "aCB5mRmxEnSW",
        "outputId": "77748d1f-0a30-4d23-f2ea-27e5a8c5eed5"
      },
      "execution_count": 5,
      "outputs": [
        {
          "output_type": "stream",
          "name": "stdout",
          "text": [
            "     3.142\n"
          ]
        }
      ]
    },
    {
      "cell_type": "markdown",
      "source": [
        "**List of All Formatting Types**\n",
        "\n",
        "| Format Type | Meaning            | Example                  |\n",
        "| ----------- | ------------------ | ------------------------ |\n",
        "| `d`         | Decimal integer    | `{:.0f}`                 |\n",
        "| `f`         | Fixed-point        | `{:.2f}` → 12.34         |\n",
        "| `%`         | Percentage         | `{:.1%}` → 87.5%         |\n",
        "| `e`         | Scientific         | `{:.1e}` → 1.2e+02       |\n",
        "| `,`         | Thousand separator | `{:,}` → 1,000           |\n",
        "| `x`         | Hexadecimal        | `{:x}` → a               |\n",
        "| `s`         | String             | `{:<10s}` → \"Hello     \" |\n"
      ],
      "metadata": {
        "id": "i15is-eZEpsz"
      }
    },
    {
      "cell_type": "markdown",
      "source": [
        "**String format()**\n",
        "\n",
        "The traditional way to format strings using {} placeholders and .format() method."
      ],
      "metadata": {
        "id": "rspM_M5XEuvb"
      }
    },
    {
      "cell_type": "code",
      "source": [
        "print(\"Hello, {}!\".format(\"Bob\"))  # Output: Hello, Bob!\n"
      ],
      "metadata": {
        "colab": {
          "base_uri": "https://localhost:8080/"
        },
        "id": "H9GIdrLoExI5",
        "outputId": "22589056-7d36-4b0a-a977-3a6e2a48d6ab"
      },
      "execution_count": 6,
      "outputs": [
        {
          "output_type": "stream",
          "name": "stdout",
          "text": [
            "Hello, Bob!\n"
          ]
        }
      ]
    },
    {
      "cell_type": "markdown",
      "source": [
        "**Multiple Values**\n",
        "\n",
        ".format() allows formatting multiple items at once."
      ],
      "metadata": {
        "id": "BNwwX73fEzeW"
      }
    },
    {
      "cell_type": "code",
      "source": [
        "print(\"Name: {}, Age: {}\".format(\"Alice\", 25))  # Output: Name: Alice, Age: 25\n"
      ],
      "metadata": {
        "colab": {
          "base_uri": "https://localhost:8080/"
        },
        "id": "-jSWcINHE1rz",
        "outputId": "347abe52-e53b-431f-acc3-18a6cc073fd7"
      },
      "execution_count": 7,
      "outputs": [
        {
          "output_type": "stream",
          "name": "stdout",
          "text": [
            "Name: Alice, Age: 25\n"
          ]
        }
      ]
    },
    {
      "cell_type": "markdown",
      "source": [
        "**Index Numbers**\n",
        "\n",
        "Index positions can be used inside {} to reorder data.\n",
        "\n"
      ],
      "metadata": {
        "id": "8ZYcE5iBE30Z"
      }
    },
    {
      "cell_type": "code",
      "source": [
        "print(\"Age: {1}, Name: {0}\".format(\"John\", 30))  # Output: Age: 30, Name: John\n"
      ],
      "metadata": {
        "colab": {
          "base_uri": "https://localhost:8080/"
        },
        "id": "0uwvTagEE8hd",
        "outputId": "4592be03-3f8c-4e75-da2d-f7ed34afd50b"
      },
      "execution_count": 8,
      "outputs": [
        {
          "output_type": "stream",
          "name": "stdout",
          "text": [
            "Age: 30, Name: John\n"
          ]
        }
      ]
    },
    {
      "cell_type": "markdown",
      "source": [
        "**Named Indexes**\n",
        "\n",
        "Use keywords inside .format() for better readability."
      ],
      "metadata": {
        "id": "bR2hTb3GFBGQ"
      }
    },
    {
      "cell_type": "code",
      "source": [
        "print(\"User: {name}, ID: {id}\".format(name=\"Rita\", id=101))\n",
        "# Output: User: Rita, ID: 101\n"
      ],
      "metadata": {
        "colab": {
          "base_uri": "https://localhost:8080/"
        },
        "id": "Mki2NN9JFDRh",
        "outputId": "709cc918-9f87-42d2-ae5b-1423635fee63"
      },
      "execution_count": 9,
      "outputs": [
        {
          "output_type": "stream",
          "name": "stdout",
          "text": [
            "User: Rita, ID: 101\n"
          ]
        }
      ]
    },
    {
      "cell_type": "markdown",
      "source": [
        "**10 Real-Time Problem Statements Using String Formatting**\n",
        "\n",
        "**Invoice Generator**\n",
        "\n",
        "Format product names, quantities, and prices in a readable tabular format.\n",
        "\n",
        "**Salary Slip Formatter**\n",
        "\n",
        "Align employee details and pay breakdown using placeholders.\n",
        "\n",
        "**Leaderboard Printer**\n",
        "\n",
        "Display player names and scores with uniform spacing.\n",
        "\n",
        "**Weather Report Generator**\n",
        "\n",
        "Show temperatures and forecasts using modifiers (°C, %).\n",
        "\n",
        "**Shopping Receipt Printer**\n",
        "\n",
        "Format prices, quantities, and totals clearly.\n",
        "\n",
        "**Chat Logger**\n",
        "\n",
        "Log messages with timestamp and user info in a readable layout.\n",
        "\n",
        "**System Log Formatter**\n",
        "\n",
        "Format logs with levels like INFO, ERROR using named indexes.\n",
        "\n",
        "**Student Grade Sheet**\n",
        "\n",
        "Create clean output for names, grades, percentages.\n",
        "\n",
        "**Flight Ticket Generator**\n",
        "\n",
        "Format passenger and flight details in a structured ticket layout.\n",
        "\n",
        "**Email Template Personalizer**\n",
        "\n",
        "Auto-insert recipient names and details into dynamic email templates."
      ],
      "metadata": {
        "id": "Mjv0GlCZFILc"
      }
    }
  ]
}