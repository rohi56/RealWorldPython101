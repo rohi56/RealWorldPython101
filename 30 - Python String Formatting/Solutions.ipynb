{
  "nbformat": 4,
  "nbformat_minor": 0,
  "metadata": {
    "colab": {
      "provenance": []
    },
    "kernelspec": {
      "name": "python3",
      "display_name": "Python 3"
    },
    "language_info": {
      "name": "python"
    }
  },
  "cells": [
    {
      "cell_type": "markdown",
      "source": [
        "**10 Real-Time Problem Statements Using String Formatting**\n",
        "\n"
      ],
      "metadata": {
        "id": "NuId2sDuFmv2"
      }
    },
    {
      "cell_type": "markdown",
      "source": [
        "**Invoice Generator**\n",
        "\n",
        "Format product names, quantities, and prices in a readable tabular format.\n",
        "\n"
      ],
      "metadata": {
        "id": "qfd1MbqdFo8f"
      }
    },
    {
      "cell_type": "code",
      "source": [
        "items = [(\"Pen\", 10, 2.5), (\"Notebook\", 5, 40), (\"Bag\", 1, 500)]\n",
        "print(f\"{'Item':<10}{'Qty':<5}{'Price':<10}{'Total':<10}\")\n",
        "for item, qty, price in items:\n",
        "    total = qty * price\n",
        "    print(f\"{item:<10}{qty:<5}{price:<10.2f}{total:<10.2f}\")\n"
      ],
      "metadata": {
        "colab": {
          "base_uri": "https://localhost:8080/"
        },
        "id": "u8QDovxbGPK2",
        "outputId": "96f20b33-4229-41bc-ea8c-437a648dd34a"
      },
      "execution_count": 1,
      "outputs": [
        {
          "output_type": "stream",
          "name": "stdout",
          "text": [
            "Item      Qty  Price     Total     \n",
            "Pen       10   2.50      25.00     \n",
            "Notebook  5    40.00     200.00    \n",
            "Bag       1    500.00    500.00    \n"
          ]
        }
      ]
    },
    {
      "cell_type": "markdown",
      "source": [
        "**Salary Slip Formatter**\n",
        "\n",
        "Align employee details and pay breakdown using placeholders.\n",
        "\n"
      ],
      "metadata": {
        "id": "JVDV9PHqFqj_"
      }
    },
    {
      "cell_type": "code",
      "source": [
        "name = \"John Doe\"\n",
        "basic = 15000\n",
        "hra = 5000\n",
        "total = basic + hra\n",
        "print(f\"Employee: {name:>10}\")\n",
        "print(f\"Basic   : ₹{basic:<10}\")\n",
        "print(f\"HRA     : ₹{hra:<10}\")\n",
        "print(f\"Total   : ₹{total:<10}\")\n"
      ],
      "metadata": {
        "colab": {
          "base_uri": "https://localhost:8080/"
        },
        "id": "tx6pFNVXGRgm",
        "outputId": "79d4ec08-3f6c-4687-d036-ce714984c33a"
      },
      "execution_count": 2,
      "outputs": [
        {
          "output_type": "stream",
          "name": "stdout",
          "text": [
            "Employee:   John Doe\n",
            "Basic   : ₹15000     \n",
            "HRA     : ₹5000      \n",
            "Total   : ₹20000     \n"
          ]
        }
      ]
    },
    {
      "cell_type": "markdown",
      "source": [
        "**Leaderboard Printer**\n",
        "\n",
        "Display player names and scores with uniform spacing.\n",
        "\n"
      ],
      "metadata": {
        "id": "vlp4CEsjFu4N"
      }
    },
    {
      "cell_type": "code",
      "source": [
        "players = [(\"Alice\", 95), (\"Bob\", 87), (\"Charlie\", 99)]\n",
        "print(f\"{'Player':<15}{'Score':<5}\")\n",
        "for player, score in players:\n",
        "    print(f\"{player:<15}{score:<5}\")\n"
      ],
      "metadata": {
        "colab": {
          "base_uri": "https://localhost:8080/"
        },
        "id": "BHr6WbbvGT4x",
        "outputId": "5683b302-ea33-4236-a20d-eb1fb67aa2e2"
      },
      "execution_count": 3,
      "outputs": [
        {
          "output_type": "stream",
          "name": "stdout",
          "text": [
            "Player         Score\n",
            "Alice          95   \n",
            "Bob            87   \n",
            "Charlie        99   \n"
          ]
        }
      ]
    },
    {
      "cell_type": "markdown",
      "source": [
        "**Weather Report Generator**\n",
        "\n",
        "Show temperatures and forecasts using modifiers (°C, %).\n",
        "\n"
      ],
      "metadata": {
        "id": "9V_FUtn5Fwaa"
      }
    },
    {
      "cell_type": "code",
      "source": [
        "city = \"Pune\"\n",
        "temperature = 32.456\n",
        "humidity = 65.5\n",
        "print(f\"Weather Report for {city}\")\n",
        "print(f\"Temperature: {temperature:.1f}°C\")\n",
        "print(f\"Humidity   : {humidity:.0f}%\")\n"
      ],
      "metadata": {
        "colab": {
          "base_uri": "https://localhost:8080/"
        },
        "id": "xmP2D_5mGWOS",
        "outputId": "b8c71b97-c3d2-4129-da5b-d1df2e74cb65"
      },
      "execution_count": 4,
      "outputs": [
        {
          "output_type": "stream",
          "name": "stdout",
          "text": [
            "Weather Report for Pune\n",
            "Temperature: 32.5°C\n",
            "Humidity   : 66%\n"
          ]
        }
      ]
    },
    {
      "cell_type": "markdown",
      "source": [
        "**Shopping Receipt Printer**\n",
        "\n",
        "Format prices, quantities, and totals clearly.\n",
        "\n"
      ],
      "metadata": {
        "id": "8KuuL1aPFx0B"
      }
    },
    {
      "cell_type": "code",
      "source": [
        "cart = [(\"Apple\", 3, 30), (\"Milk\", 1, 50), (\"Bread\", 2, 25)]\n",
        "print(f\"{'Product':<10}{'Qty':<5}{'Unit Price':<12}{'Amount'}\")\n",
        "for name, qty, price in cart:\n",
        "    amount = qty * price\n",
        "    print(f\"{name:<10}{qty:<5}{price:<12}{amount}\")\n"
      ],
      "metadata": {
        "colab": {
          "base_uri": "https://localhost:8080/"
        },
        "id": "jfnn8b_3GYgC",
        "outputId": "b5b30d03-36a3-4a77-9aef-7cf62e80e8c1"
      },
      "execution_count": 5,
      "outputs": [
        {
          "output_type": "stream",
          "name": "stdout",
          "text": [
            "Product   Qty  Unit Price  Amount\n",
            "Apple     3    30          90\n",
            "Milk      1    50          50\n",
            "Bread     2    25          50\n"
          ]
        }
      ]
    },
    {
      "cell_type": "markdown",
      "source": [
        "**Chat Logger**\n",
        "\n",
        "Log messages with timestamp and user info in a readable layout.\n",
        "\n"
      ],
      "metadata": {
        "id": "6sz5wGN8GA35"
      }
    },
    {
      "cell_type": "code",
      "source": [
        "from datetime import datetime\n",
        "user = \"Alice\"\n",
        "message = \"Hey, how are you?\"\n",
        "timestamp = datetime.now().strftime(\"%Y-%m-%d %H:%M:%S\")\n",
        "print(f\"[{timestamp}] {user}: {message}\")\n"
      ],
      "metadata": {
        "colab": {
          "base_uri": "https://localhost:8080/"
        },
        "id": "7ySl12meGaRm",
        "outputId": "f7d8051e-e9ff-4d55-de66-081221d49027"
      },
      "execution_count": 6,
      "outputs": [
        {
          "output_type": "stream",
          "name": "stdout",
          "text": [
            "[2025-05-23 03:04:42] Alice: Hey, how are you?\n"
          ]
        }
      ]
    },
    {
      "cell_type": "markdown",
      "source": [
        "**System Log Formatter**\n",
        "\n",
        "Format logs with levels like INFO, ERROR using named indexes.\n",
        "\n"
      ],
      "metadata": {
        "id": "3JA17FbpGDPm"
      }
    },
    {
      "cell_type": "code",
      "source": [
        "level = \"ERROR\"\n",
        "message = \"Failed to connect to DB\"\n",
        "print(\"Log: {lvl:<7} | Message: {msg}\".format(lvl=level, msg=message))\n"
      ],
      "metadata": {
        "colab": {
          "base_uri": "https://localhost:8080/"
        },
        "id": "Os0A5rKhGdLe",
        "outputId": "1729ed73-5ae4-4d6d-fed1-17566cbe8f91"
      },
      "execution_count": 7,
      "outputs": [
        {
          "output_type": "stream",
          "name": "stdout",
          "text": [
            "Log: ERROR   | Message: Failed to connect to DB\n"
          ]
        }
      ]
    },
    {
      "cell_type": "markdown",
      "source": [
        "**Student Grade Sheet**\n",
        "\n",
        "Create clean output for names, grades, percentages.\n",
        "\n"
      ],
      "metadata": {
        "id": "bZxP9aONGFRN"
      }
    },
    {
      "cell_type": "code",
      "source": [
        "students = [(\"Amit\", 89, 94.6), (\"Rita\", 78, 85.3)]\n",
        "print(f\"{'Name':<10}{'Grade':<10}{'Percentage'}\")\n",
        "for name, grade, percent in students:\n",
        "    print(f\"{name:<10}{grade:<10}{percent:.1f}%\")\n"
      ],
      "metadata": {
        "colab": {
          "base_uri": "https://localhost:8080/"
        },
        "id": "D_-ys49kGfL9",
        "outputId": "2b51551f-0737-4c8f-d3b8-11c346a6a447"
      },
      "execution_count": 8,
      "outputs": [
        {
          "output_type": "stream",
          "name": "stdout",
          "text": [
            "Name      Grade     Percentage\n",
            "Amit      89        94.6%\n",
            "Rita      78        85.3%\n"
          ]
        }
      ]
    },
    {
      "cell_type": "markdown",
      "source": [
        "**Flight Ticket Generator**\n",
        "\n",
        "Format passenger and flight details in a structured ticket layout.\n",
        "\n"
      ],
      "metadata": {
        "id": "EYFl4s5uGHH5"
      }
    },
    {
      "cell_type": "code",
      "source": [
        "name = \"Ravi Kumar\"\n",
        "flight = \"AI202\"\n",
        "departure = \"Mumbai\"\n",
        "arrival = \"Delhi\"\n",
        "print(f\"{'='*30}\\nTICKET\\nPassenger: {name}\\nFlight   : {flight}\")\n",
        "print(f\"From     : {departure}\\nTo       : {arrival}\\n{'='*30}\")\n"
      ],
      "metadata": {
        "colab": {
          "base_uri": "https://localhost:8080/"
        },
        "id": "BgenRgBZGl3a",
        "outputId": "a9b2f15b-9bbe-4646-ca61-c52bf636f424"
      },
      "execution_count": 9,
      "outputs": [
        {
          "output_type": "stream",
          "name": "stdout",
          "text": [
            "==============================\n",
            "TICKET\n",
            "Passenger: Ravi Kumar\n",
            "Flight   : AI202\n",
            "From     : Mumbai\n",
            "To       : Delhi\n",
            "==============================\n"
          ]
        }
      ]
    },
    {
      "cell_type": "markdown",
      "source": [
        "**Email Template Personalizer**\n",
        "\n",
        "Auto-insert recipient names and details into dynamic email templates."
      ],
      "metadata": {
        "id": "IuSg05qbGKsm"
      }
    },
    {
      "cell_type": "code",
      "source": [
        "template = \"Dear {name},\\n\\nYour order #{order_id} has been shipped.\\n\\nThanks,\\nE-Shop\"\n",
        "formatted_email = template.format(name=\"Sneha\", order_id=12345)\n",
        "print(formatted_email)\n"
      ],
      "metadata": {
        "id": "y4mpU9OqGoNo",
        "outputId": "91fefdda-1908-41d6-f3a2-965916b1e9dc",
        "colab": {
          "base_uri": "https://localhost:8080/"
        }
      },
      "execution_count": 10,
      "outputs": [
        {
          "output_type": "stream",
          "name": "stdout",
          "text": [
            "Dear Sneha,\n",
            "\n",
            "Your order #12345 has been shipped.\n",
            "\n",
            "Thanks,\n",
            "E-Shop\n"
          ]
        }
      ]
    }
  ]
}