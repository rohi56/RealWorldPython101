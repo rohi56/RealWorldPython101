{
  "nbformat": 4,
  "nbformat_minor": 0,
  "metadata": {
    "colab": {
      "provenance": []
    },
    "kernelspec": {
      "name": "python3",
      "display_name": "Python 3"
    },
    "language_info": {
      "name": "python"
    }
  },
  "cells": [
    {
      "cell_type": "markdown",
      "source": [
        "**Python File Handling**\n"
      ],
      "metadata": {
        "id": "oXN0fRhBJ6yu"
      }
    },
    {
      "cell_type": "markdown",
      "source": [
        "Python makes it easy to interact with files — reading, writing, updating, or deleting — using built-in functions."
      ],
      "metadata": {
        "id": "kQGeGdddKE7I"
      }
    },
    {
      "cell_type": "markdown",
      "source": [
        "**Python File Open**"
      ],
      "metadata": {
        "id": "GxDzMuwxKH-V"
      }
    },
    {
      "cell_type": "code",
      "source": [
        "f = open(\"demo.txt\", \"r\")  # Opens file in read mode"
      ],
      "metadata": {
        "id": "O9KnjyXxKPga"
      },
      "execution_count": null,
      "outputs": []
    },
    {
      "cell_type": "markdown",
      "source": [
        "**File Handling**\n",
        "\n",
        "Involves reading, writing, or appending files.\n",
        "\n"
      ],
      "metadata": {
        "id": "2mLr0tXMKRQA"
      }
    },
    {
      "cell_type": "code",
      "source": [
        "file = open(\"filename\", \"mode\")\n"
      ],
      "metadata": {
        "id": "jVBiqN-NKUMn"
      },
      "execution_count": null,
      "outputs": []
    },
    {
      "cell_type": "markdown",
      "source": [
        "Modes: `'r', 'w', 'a', 'x', 'b', 't'`"
      ],
      "metadata": {
        "id": "akIm0fmRKWAP"
      }
    },
    {
      "cell_type": "markdown",
      "source": [
        "** Open a File on the Server**"
      ],
      "metadata": {
        "id": "3yaH9uE8KZ_3"
      }
    },
    {
      "cell_type": "code",
      "source": [
        "f = open(\"/path/to/file.txt\", \"r\")\n"
      ],
      "metadata": {
        "id": "5U02DauHKdB0"
      },
      "execution_count": null,
      "outputs": []
    },
    {
      "cell_type": "markdown",
      "source": [
        "**Using the with Statement**\n",
        "\n",
        "Automatically closes the file."
      ],
      "metadata": {
        "id": "6eky1fRDKgf9"
      }
    },
    {
      "cell_type": "code",
      "source": [
        "with open(\"demo.txt\", \"r\") as f:\n",
        "    print(f.read())\n"
      ],
      "metadata": {
        "id": "kdX0ol2iKi-Q"
      },
      "execution_count": null,
      "outputs": []
    },
    {
      "cell_type": "markdown",
      "source": [
        "**Close Files**"
      ],
      "metadata": {
        "id": "iv2CriqsKkqA"
      }
    },
    {
      "cell_type": "code",
      "source": [
        "f.close()\n"
      ],
      "metadata": {
        "id": "vNQnjxn5Kl_F"
      },
      "execution_count": null,
      "outputs": []
    },
    {
      "cell_type": "markdown",
      "source": [
        "** Read Only Parts of the File**"
      ],
      "metadata": {
        "id": "rr0lkGlWKnqi"
      }
    },
    {
      "cell_type": "code",
      "source": [
        "print(f.read(5))  # Reads first 5 characters\n"
      ],
      "metadata": {
        "id": "akrga5wuKpqU"
      },
      "execution_count": null,
      "outputs": []
    },
    {
      "cell_type": "markdown",
      "source": [
        "**Read Lines**"
      ],
      "metadata": {
        "id": "bL5-CxWPKsHx"
      }
    },
    {
      "cell_type": "code",
      "source": [
        "print(f.readline())      # One line\n",
        "print(f.readlines())     # All lines as list\n"
      ],
      "metadata": {
        "id": "G236OKV1KvOJ"
      },
      "execution_count": null,
      "outputs": []
    },
    {
      "cell_type": "markdown",
      "source": [
        "**Write to an Existing File**"
      ],
      "metadata": {
        "id": "d8UsnGE3KyEU"
      }
    },
    {
      "cell_type": "code",
      "source": [
        "f = open(\"demo.txt\", \"a\")\n",
        "f.write(\"\\nNew line added\")\n",
        "f.close()\n"
      ],
      "metadata": {
        "id": "dRCej_NiK0CV"
      },
      "execution_count": null,
      "outputs": []
    },
    {
      "cell_type": "markdown",
      "source": [
        "**Overwrite Existing Content**"
      ],
      "metadata": {
        "id": "fiwidFerK2i7"
      }
    },
    {
      "cell_type": "code",
      "source": [
        "f = open(\"demo.txt\", \"w\")\n",
        "f.write(\"Overwritten content\")\n",
        "f.close()\n"
      ],
      "metadata": {
        "id": "ur0hZnt8K5Pt"
      },
      "execution_count": null,
      "outputs": []
    },
    {
      "cell_type": "markdown",
      "source": [
        "**Create a New File**"
      ],
      "metadata": {
        "id": "hG7al76fK7Sk"
      }
    },
    {
      "cell_type": "code",
      "source": [
        "f = open(\"newfile.txt\", \"x\")  # Fails if file exists\n"
      ],
      "metadata": {
        "id": "AntzkcNBK9LW"
      },
      "execution_count": null,
      "outputs": []
    },
    {
      "cell_type": "markdown",
      "source": [
        "**Delete a File**"
      ],
      "metadata": {
        "id": "kVQS4owTK-yc"
      }
    },
    {
      "cell_type": "code",
      "source": [
        "import os\n",
        "os.remove(\"demo.txt\")\n"
      ],
      "metadata": {
        "id": "MF1McrvcLAem"
      },
      "execution_count": null,
      "outputs": []
    },
    {
      "cell_type": "markdown",
      "source": [
        "**Check if File Exists**"
      ],
      "metadata": {
        "id": "JAMYWHcdLCYT"
      }
    },
    {
      "cell_type": "code",
      "source": [
        "if os.path.exists(\"demo.txt\"):\n",
        "    print(\"Exists\")\n"
      ],
      "metadata": {
        "id": "z_x4QRYwLD6X"
      },
      "execution_count": null,
      "outputs": []
    },
    {
      "cell_type": "markdown",
      "source": [
        "**Delete Folder**"
      ],
      "metadata": {
        "id": "5uOd_9n0LF9M"
      }
    },
    {
      "cell_type": "code",
      "source": [
        "os.rmdir(\"foldername\")\n"
      ],
      "metadata": {
        "id": "hEnobmOMLH2_"
      },
      "execution_count": null,
      "outputs": []
    },
    {
      "cell_type": "markdown",
      "source": [
        "**Real-Time Problem Statements Using File Handling**\n",
        "\n",
        "**Student Report Saver** – Store each student’s performance in individual report files.\n",
        "\n",
        "**Resume Upload Manager** – Validate and save uploaded resumes.\n",
        "\n",
        "**Error Log Writer** – Log errors during code execution to a file.\n",
        "\n",
        "**Sales Report Generator** – Write sales data into a CSV-like format.\n",
        "\n",
        "**Newsletter Subscription** – Save subscriber emails in a file.\n",
        "\n",
        "**Chat History Storage** – Append every message into a conversation log file.\n",
        "\n",
        "**Inventory Backup Tool** – Export inventory status to a backup file.\n",
        "\n",
        "**Visitor Log System** – Create entries for each visitor to an office.\n",
        "\n",
        "**User Notes App** – Let users write and save notes in files.\n",
        "\n",
        "**Project Cleanup Script** – Automatically delete temporary files and folders."
      ],
      "metadata": {
        "id": "EyKt3PGQLLPp"
      }
    }
  ]
}