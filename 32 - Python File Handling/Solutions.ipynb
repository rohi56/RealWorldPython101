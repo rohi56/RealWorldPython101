{
  "nbformat": 4,
  "nbformat_minor": 0,
  "metadata": {
    "colab": {
      "provenance": []
    },
    "kernelspec": {
      "name": "python3",
      "display_name": "Python 3"
    },
    "language_info": {
      "name": "python"
    }
  },
  "cells": [
    {
      "cell_type": "markdown",
      "source": [
        "**Real-Time Problem Statements Using File Handling**\n",
        "\n"
      ],
      "metadata": {
        "id": "xVGUmnpkLdWk"
      }
    },
    {
      "cell_type": "markdown",
      "source": [
        "**Student Report Saver** – Store each student’s performance in individual report files.\n",
        "\n"
      ],
      "metadata": {
        "id": "vc6UjmpfLfCE"
      }
    },
    {
      "cell_type": "code",
      "source": [
        "def save_student_report(name, scores):\n",
        "    with open(f\"{name}_report.txt\", \"w\") as f:\n",
        "        f.write(f\"Report for {name}\\n\")\n",
        "        for subject, score in scores.items():\n",
        "            f.write(f\"{subject}: {score}\\n\")\n"
      ],
      "metadata": {
        "id": "U0gimY9OLulD"
      },
      "execution_count": null,
      "outputs": []
    },
    {
      "cell_type": "markdown",
      "source": [
        "**Resume Upload Manager** – Validate and save uploaded resumes.\n"
      ],
      "metadata": {
        "id": "DeWxKetQLgnY"
      }
    },
    {
      "cell_type": "code",
      "source": [
        "def save_resume(filename, content):\n",
        "    if filename.endswith(\".pdf\") or filename.endswith(\".docx\"):\n",
        "        with open(filename, \"wb\") as f:\n",
        "            f.write(content)\n",
        "        return \"Resume saved successfully.\"\n",
        "    return \"Unsupported file format.\"\n"
      ],
      "metadata": {
        "id": "od-DX5CvL3dy"
      },
      "execution_count": null,
      "outputs": []
    },
    {
      "cell_type": "markdown",
      "source": [
        "\n",
        "**Error Log Writer** – Log errors during code execution to a file.\n",
        "\n"
      ],
      "metadata": {
        "id": "bBhJCzYfLh97"
      }
    },
    {
      "cell_type": "code",
      "source": [
        "def log_error(error_message):\n",
        "    with open(\"error_log.txt\", \"a\") as f:\n",
        "        f.write(f\"{datetime.now()} - ERROR: {error_message}\\n\")\n"
      ],
      "metadata": {
        "id": "pW8NDxbvL57J"
      },
      "execution_count": null,
      "outputs": []
    },
    {
      "cell_type": "markdown",
      "source": [
        "**Sales Report Generator** – Write sales data into a CSV-like format.\n",
        "\n"
      ],
      "metadata": {
        "id": "ZBSxAoC6LjaD"
      }
    },
    {
      "cell_type": "code",
      "source": [
        "def generate_sales_report(data):\n",
        "    with open(\"sales_report.txt\", \"w\") as f:\n",
        "        f.write(\"Product,Quantity,Price\\n\")\n",
        "        for row in data:\n",
        "            f.write(\",\".join(map(str, row)) + \"\\n\")\n"
      ],
      "metadata": {
        "id": "XxkcqAqJL7yh"
      },
      "execution_count": null,
      "outputs": []
    },
    {
      "cell_type": "markdown",
      "source": [
        "**Newsletter Subscription** – Save subscriber emails in a file.\n",
        "\n"
      ],
      "metadata": {
        "id": "YcoSjeYFLk2k"
      }
    },
    {
      "cell_type": "code",
      "source": [
        "def add_subscriber(email):\n",
        "    with open(\"subscribers.txt\", \"a\") as f:\n",
        "        f.write(email + \"\\n\")\n"
      ],
      "metadata": {
        "id": "AdLJDxlYL_Fk"
      },
      "execution_count": null,
      "outputs": []
    },
    {
      "cell_type": "markdown",
      "source": [
        "**Chat History Storage** – Append every message into a conversation log file.\n",
        "\n"
      ],
      "metadata": {
        "id": "JPLnJZ0aLmKe"
      }
    },
    {
      "cell_type": "code",
      "source": [
        "def append_chat(user, message):\n",
        "    with open(\"chat_history.txt\", \"a\") as f:\n",
        "        f.write(f\"{datetime.now()} - {user}: {message}\\n\")\n"
      ],
      "metadata": {
        "id": "yPAyoSw4MAtk"
      },
      "execution_count": null,
      "outputs": []
    },
    {
      "cell_type": "markdown",
      "source": [
        "**Inventory Backup Tool** – Export inventory status to a backup file.\n",
        "\n"
      ],
      "metadata": {
        "id": "TlD-ZYLmLn1e"
      }
    },
    {
      "cell_type": "code",
      "source": [
        "def backup_inventory(inventory):\n",
        "    with open(\"inventory_backup.txt\", \"w\") as f:\n",
        "        for item, count in inventory.items():\n",
        "            f.write(f\"{item}: {count}\\n\")\n"
      ],
      "metadata": {
        "id": "Knk1UpBqMCsg"
      },
      "execution_count": null,
      "outputs": []
    },
    {
      "cell_type": "markdown",
      "source": [
        "**Visitor Log System** – Create entries for each visitor to an office.\n",
        "\n"
      ],
      "metadata": {
        "id": "1DffVO9wLpsi"
      }
    },
    {
      "cell_type": "code",
      "source": [
        "def log_visitor(name):\n",
        "    with open(\"visitor_log.txt\", \"a\") as f:\n",
        "        f.write(f\"{datetime.now()} - Visitor: {name}\\n\")\n"
      ],
      "metadata": {
        "id": "489rV5nmMEyF"
      },
      "execution_count": null,
      "outputs": []
    },
    {
      "cell_type": "markdown",
      "source": [
        "**User Notes App** – Let users write and save notes in files.\n",
        "\n"
      ],
      "metadata": {
        "id": "48vZi9xWLrYG"
      }
    },
    {
      "cell_type": "code",
      "source": [
        "def save_note(user, note):\n",
        "    with open(f\"{user}_notes.txt\", \"a\") as f:\n",
        "        f.write(note + \"\\n\")\n"
      ],
      "metadata": {
        "id": "GdSlpa8bMGj6"
      },
      "execution_count": null,
      "outputs": []
    },
    {
      "cell_type": "markdown",
      "source": [
        "**Project Cleanup Script** – Automatically delete temporary files and folders."
      ],
      "metadata": {
        "id": "Ve5E6xLjLsj8"
      }
    },
    {
      "cell_type": "code",
      "source": [
        "def clean_temp_files(folder):\n",
        "    deleted = []\n",
        "    for filename in os.listdir(folder):\n",
        "        if filename.endswith(\".tmp\"):\n",
        "            file_path = os.path.join(folder, filename)\n",
        "            os.remove(file_path)\n",
        "            deleted.append(filename)\n",
        "    return deleted\n"
      ],
      "metadata": {
        "id": "_aCdSWWIMJTf"
      },
      "execution_count": null,
      "outputs": []
    }
  ]
}