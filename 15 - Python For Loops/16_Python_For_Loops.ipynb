{
  "nbformat": 4,
  "nbformat_minor": 0,
  "metadata": {
    "colab": {
      "provenance": []
    },
    "kernelspec": {
      "name": "python3",
      "display_name": "Python 3"
    },
    "language_info": {
      "name": "python"
    }
  },
  "cells": [
    {
      "cell_type": "markdown",
      "source": [
        "**Python `For` Loops**"
      ],
      "metadata": {
        "id": "YMaVX6jET7L5"
      }
    },
    {
      "cell_type": "markdown",
      "source": [
        "**1. Python For Loops**\n",
        "\n",
        "Used for iterating over a sequence (like a list, tuple, dictionary, set, or string)."
      ],
      "metadata": {
        "id": "iLVFwcu-UDMx"
      }
    },
    {
      "cell_type": "code",
      "source": [
        "fruits = [\"apple\", \"banana\", \"cherry\"]\n",
        "for fruit in fruits:\n",
        "    print(fruit)\n"
      ],
      "metadata": {
        "colab": {
          "base_uri": "https://localhost:8080/"
        },
        "id": "B8jJ1wgmUG8V",
        "outputId": "5ef1edd9-9408-4dcd-cae4-9313ce64a4f4"
      },
      "execution_count": 1,
      "outputs": [
        {
          "output_type": "stream",
          "name": "stdout",
          "text": [
            "apple\n",
            "banana\n",
            "cherry\n"
          ]
        }
      ]
    },
    {
      "cell_type": "markdown",
      "source": [
        "**2. Looping Through a String**\n",
        "\n",
        "You can loop through the characters of a string."
      ],
      "metadata": {
        "id": "MkC-_e9BUKca"
      }
    },
    {
      "cell_type": "code",
      "source": [
        "for letter in \"banana\":\n",
        "    print(letter)\n"
      ],
      "metadata": {
        "colab": {
          "base_uri": "https://localhost:8080/"
        },
        "id": "MSYvHeAZUNNT",
        "outputId": "d9dc87af-b686-4610-fb99-33b6340d82ec"
      },
      "execution_count": 2,
      "outputs": [
        {
          "output_type": "stream",
          "name": "stdout",
          "text": [
            "b\n",
            "a\n",
            "n\n",
            "a\n",
            "n\n",
            "a\n"
          ]
        }
      ]
    },
    {
      "cell_type": "markdown",
      "source": [
        "**3. The `break` Statement**\n",
        "Stops the loop before it has looped through all items."
      ],
      "metadata": {
        "id": "wG8zVIt8UO_3"
      }
    },
    {
      "cell_type": "code",
      "source": [
        "for fruit in fruits:\n",
        "    if fruit == \"banana\":\n",
        "        break\n",
        "    print(fruit)\n"
      ],
      "metadata": {
        "colab": {
          "base_uri": "https://localhost:8080/"
        },
        "id": "hrjJx_A3UTp-",
        "outputId": "2aa8fd4d-1280-423b-f7a4-f08c3ffdec21"
      },
      "execution_count": 3,
      "outputs": [
        {
          "output_type": "stream",
          "name": "stdout",
          "text": [
            "apple\n"
          ]
        }
      ]
    },
    {
      "cell_type": "markdown",
      "source": [
        "**4. The` continue` Statement**\n",
        "\n",
        "Skips the current iteration and continues with the next.\n",
        "\n",
        "\n"
      ],
      "metadata": {
        "id": "ZmGfG524UWY7"
      }
    },
    {
      "cell_type": "code",
      "source": [
        "for fruit in fruits:\n",
        "    if fruit == \"banana\":\n",
        "        continue\n",
        "    print(fruit)\n"
      ],
      "metadata": {
        "colab": {
          "base_uri": "https://localhost:8080/"
        },
        "id": "FvlV4aRTUam4",
        "outputId": "7a526fda-ddb0-497b-871e-105e13fd503b"
      },
      "execution_count": 4,
      "outputs": [
        {
          "output_type": "stream",
          "name": "stdout",
          "text": [
            "apple\n",
            "cherry\n"
          ]
        }
      ]
    },
    {
      "cell_type": "markdown",
      "source": [
        "**5. The `range()` Function**\n",
        "\n",
        "Used to generate a sequence of numbers."
      ],
      "metadata": {
        "id": "jUARaHVDUdbm"
      }
    },
    {
      "cell_type": "code",
      "source": [
        "for i in range(3):\n",
        "    print(i)\n"
      ],
      "metadata": {
        "colab": {
          "base_uri": "https://localhost:8080/"
        },
        "id": "zUNXudXqUigu",
        "outputId": "2080a4b0-ad4b-493f-e8fe-87173bbf5a6a"
      },
      "execution_count": 5,
      "outputs": [
        {
          "output_type": "stream",
          "name": "stdout",
          "text": [
            "0\n",
            "1\n",
            "2\n"
          ]
        }
      ]
    },
    {
      "cell_type": "markdown",
      "source": [
        "**6. `Else` in For Loop**\n",
        "An optional else can run after the loop finishes without interruption."
      ],
      "metadata": {
        "id": "KDs3fY12Ukz9"
      }
    },
    {
      "cell_type": "code",
      "source": [
        "for i in range(3):\n",
        "    print(i)\n",
        "else:\n",
        "    print(\"Done!\")\n"
      ],
      "metadata": {
        "colab": {
          "base_uri": "https://localhost:8080/"
        },
        "id": "So1LbEkXUqBZ",
        "outputId": "5e6cb904-73f8-45ec-b187-e9da9b5ebfde"
      },
      "execution_count": 6,
      "outputs": [
        {
          "output_type": "stream",
          "name": "stdout",
          "text": [
            "0\n",
            "1\n",
            "2\n",
            "Done!\n"
          ]
        }
      ]
    },
    {
      "cell_type": "markdown",
      "source": [
        "**7. Nested Loops**\n",
        "\n",
        "A loop inside another loop, useful for combinations or matrix traversal."
      ],
      "metadata": {
        "id": "LdXKSukRUsuH"
      }
    },
    {
      "cell_type": "code",
      "source": [
        "colors = [\"red\", \"blue\"]\n",
        "objects = [\"car\", \"bike\"]\n",
        "for color in colors:\n",
        "    for obj in objects:\n",
        "        print(color, obj)\n"
      ],
      "metadata": {
        "colab": {
          "base_uri": "https://localhost:8080/"
        },
        "id": "YsbaGgtNUvG0",
        "outputId": "82364ce9-9347-40bd-f777-88bf6b46a302"
      },
      "execution_count": 7,
      "outputs": [
        {
          "output_type": "stream",
          "name": "stdout",
          "text": [
            "red car\n",
            "red bike\n",
            "blue car\n",
            "blue bike\n"
          ]
        }
      ]
    },
    {
      "cell_type": "markdown",
      "source": [
        "**8. The `pass` Statement**\n",
        "\n",
        "Used when a loop requires a body syntactically but you don't want to write any code yet."
      ],
      "metadata": {
        "id": "5diBVZLyU2cM"
      }
    },
    {
      "cell_type": "code",
      "source": [
        "for i in range(3):\n",
        "    pass\n"
      ],
      "metadata": {
        "id": "R3-fKxt0U6pF"
      },
      "execution_count": 8,
      "outputs": []
    },
    {
      "cell_type": "markdown",
      "source": [
        "**Real-Time Problem Statements Using For Loops**\n",
        "**1.Email Campaign Sender**\n",
        "\n",
        "Loop through a list of email addresses and send personalized emails.\n",
        "\n",
        "**2.Password Strength Checker**\n",
        "\n",
        "Loop through characters in a password and validate strength criteria.\n",
        "\n",
        "**3.Class Attendance Tracker**\n",
        "\n",
        "Loop through a list of students and mark attendance.\n",
        "\n",
        "**4.Leaderboard Generator**\n",
        "\n",
        "Loop through a score list and rank players accordingly.\n",
        "\n",
        "**5.Weekly Schedule Creator**\n",
        "\n",
        "Combine days and subjects using nested loops.\n",
        "\n",
        "**6.Survey Data Analyzer**\n",
        "\n",
        "Loop through responses and tally results.\n",
        "\n",
        "**7.Shopping Cart Summary**\n",
        "\n",
        "Loop through cart items to calculate totals.\n",
        "\n",
        "**8.Customer Greeting Bot**\n",
        "\n",
        "Loop through customer names and print greetings.\n",
        "\n",
        "**9.Weather Logger**\n",
        "\n",
        "Loop through daily temperatures to find highest and lowest values.\n",
        "\n",
        "**10.Multiplication Table Generator**\n",
        "\n",
        "Use nested loops to print full multiplication tables.\n",
        "\n"
      ],
      "metadata": {
        "id": "5jCH6nj9U9Ze"
      }
    }
  ]
}