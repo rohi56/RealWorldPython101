{
  "nbformat": 4,
  "nbformat_minor": 0,
  "metadata": {
    "colab": {
      "provenance": [],
      "authorship_tag": "ABX9TyN4oZGRoiqv11cNgkWKQdF9"
    },
    "kernelspec": {
      "name": "python3",
      "display_name": "Python 3"
    },
    "language_info": {
      "name": "python"
    }
  },
  "cells": [
    {
      "cell_type": "markdown",
      "source": [
        "**Real-Time Problem Statements Solutions**\n"
      ],
      "metadata": {
        "id": "pjruZnuUep3S"
      }
    },
    {
      "cell_type": "markdown",
      "source": [
        "1.**Temperature Converter**\n",
        "Convert temperature from Celsius to Fahrenheit using float and print the result."
      ],
      "metadata": {
        "id": "59S9zKmUeukg"
      }
    },
    {
      "cell_type": "code",
      "source": [
        "temp = float(input(\"Enter the temperature in Celcius :\"))\n",
        "#celcius to fahrenheit\n",
        "fahrenheit = (temp * 9/5) + 32\n",
        "print(fahrenheit)\n"
      ],
      "metadata": {
        "colab": {
          "base_uri": "https://localhost:8080/"
        },
        "id": "3GegETvLe7gW",
        "outputId": "81b2da53-4822-4fbe-f809-5f06fda91438"
      },
      "execution_count": 1,
      "outputs": [
        {
          "output_type": "stream",
          "name": "stdout",
          "text": [
            "Enter the temperature in Celcius :44\n",
            "111.2\n"
          ]
        }
      ]
    },
    {
      "cell_type": "markdown",
      "source": [
        "**2.User Age Calculator**\n",
        "Ask the user for their birth year and calculate their age. Handle conversion of input from string to int."
      ],
      "metadata": {
        "id": "9hyoU4Whl_iU"
      }
    },
    {
      "cell_type": "code",
      "source": [
        "year = int(input(\"Enter your birth year :\"))\n",
        "age = 2025 - year\n",
        "print(age)"
      ],
      "metadata": {
        "colab": {
          "base_uri": "https://localhost:8080/"
        },
        "id": "kvGnypf2mivz",
        "outputId": "0d281ad9-59a2-4779-d890-bea9f072f1c5"
      },
      "execution_count": 2,
      "outputs": [
        {
          "output_type": "stream",
          "name": "stdout",
          "text": [
            "Enter your birth year :1992\n",
            "33\n"
          ]
        }
      ]
    },
    {
      "cell_type": "markdown",
      "source": [
        "**3.Bill Splitter**\n",
        "Divide a total bill amount (float) equally among a number of people (int) and print the amount each person has to pay."
      ],
      "metadata": {
        "id": "ybEs6-BdnDJc"
      }
    },
    {
      "cell_type": "code",
      "source": [
        "bill = float(input(\"Enter the total bill :\"))\n",
        "people = int(input(\"Enter the number of people :\"))\n",
        "pay = bill/people\n",
        "print(f\"Each people have to pay :{pay}\")"
      ],
      "metadata": {
        "colab": {
          "base_uri": "https://localhost:8080/"
        },
        "id": "zjNvq9mTnNKj",
        "outputId": "ceff1f0b-9c62-4d52-8bfe-315763ad78b0"
      },
      "execution_count": 3,
      "outputs": [
        {
          "output_type": "stream",
          "name": "stdout",
          "text": [
            "Enter the total bill :500\n",
            "Enter the number of people :5\n",
            "Each people have to pay :100.0\n"
          ]
        }
      ]
    },
    {
      "cell_type": "markdown",
      "source": [
        "**4.BMI Calculator**\n",
        "Take user input for weight (kg) and height (m), compute BMI using float division: BMI = weight / (height ** 2)"
      ],
      "metadata": {
        "id": "7T0Zjnuwq20Z"
      }
    },
    {
      "cell_type": "code",
      "source": [
        "weight = float(input(\"Enter your weight :\"))\n",
        "height = float(input(\"Enter your height in meters :\"))\n",
        "BMI = weight / (height ** 2)\n",
        "print(f\"BMI is {BMI}\")"
      ],
      "metadata": {
        "colab": {
          "base_uri": "https://localhost:8080/"
        },
        "id": "WUE6ceWZq8sq",
        "outputId": "9a9037d0-b707-4b22-c963-8c9ac89f2871"
      },
      "execution_count": 6,
      "outputs": [
        {
          "output_type": "stream",
          "name": "stdout",
          "text": [
            "Enter your weight :70\n",
            "Enter your height in meters :1.5\n",
            "BMI is 31.11111111111111\n"
          ]
        }
      ]
    },
    {
      "cell_type": "markdown",
      "source": [
        "**5.Simple Interest Calculator**\n",
        "Given principal, rate, and time, calculate interest using SI = (P × R × T) / 100."
      ],
      "metadata": {
        "id": "T8tATTPxrmz9"
      }
    },
    {
      "cell_type": "code",
      "source": [
        "principal = float(input(\"Enter the prinicipal amount :\"))\n",
        "rate = float(input(\"Enter the rate :\"))\n",
        "time = float(input(\"Enter the time :\"))\n",
        "simple_interest = (principal*rate*time)/100\n",
        "print(simple_interest)"
      ],
      "metadata": {
        "colab": {
          "base_uri": "https://localhost:8080/"
        },
        "id": "yUstHlDVruOi",
        "outputId": "b144203e-0dd7-4aac-e627-f09378efc1f9"
      },
      "execution_count": 7,
      "outputs": [
        {
          "output_type": "stream",
          "name": "stdout",
          "text": [
            "Enter the prinicipal amount :200000\n",
            "Enter the rate :11.45\n",
            "Enter the time :2\n",
            "45800.0\n"
          ]
        }
      ]
    },
    {
      "cell_type": "markdown",
      "source": [
        "**6.Convert Hours to Seconds**\n",
        "Ask the user how many hours they worked today and convert it to seconds using type conversion."
      ],
      "metadata": {
        "id": "FMjxILDjtX3d"
      }
    },
    {
      "cell_type": "code",
      "source": [
        "hour = float(input(\"Enter how many hours you worked :\"))\n",
        "second= hour * 60 * 60\n",
        "print(f\"You worked for {second} seconds today.\")"
      ],
      "metadata": {
        "colab": {
          "base_uri": "https://localhost:8080/"
        },
        "id": "BXPxSYn5y0lh",
        "outputId": "f519822d-1bfa-4113-97f3-a5dc2982a1c8"
      },
      "execution_count": 11,
      "outputs": [
        {
          "output_type": "stream",
          "name": "stdout",
          "text": [
            "Enter how many hours you worked :5\n",
            "You worked for 18000.0 seconds today.\n"
          ]
        }
      ]
    },
    {
      "cell_type": "markdown",
      "source": [
        "**7.Invoice Generator**\n",
        "Given the price per item and quantity purchased, calculate total and print it with correct type."
      ],
      "metadata": {
        "id": "KQGpg49Y-060"
      }
    },
    {
      "cell_type": "code",
      "source": [
        "price = float(input(\"Enter the price of the item :\"))\n",
        "quantity = int(input(\"Enter the number of quantity :\"))\n",
        "total = price * quantity\n",
        "print(f\"You total price to pay is : {total}\")"
      ],
      "metadata": {
        "colab": {
          "base_uri": "https://localhost:8080/"
        },
        "id": "vdLiGoy9_C8z",
        "outputId": "e4b5c9da-1124-4763-87a5-1f2e14b1e55b"
      },
      "execution_count": 12,
      "outputs": [
        {
          "output_type": "stream",
          "name": "stdout",
          "text": [
            "Enter the price of the item :5\n",
            "Enter the number of quantity :5\n",
            "You total price to pay is : 25.0\n"
          ]
        }
      ]
    },
    {
      "cell_type": "markdown",
      "source": [
        "**8.Validate Input Type**\n",
        "Create a program that asks the user for input, then prints whether the input can be safely converted to int or float."
      ],
      "metadata": {
        "id": "wJ1Nw5s3_r7h"
      }
    },
    {
      "cell_type": "code",
      "source": [
        "user_input = input(\"Enter a value: \")\n",
        "\n",
        "try:\n",
        "    int_val = int(user_input)\n",
        "    print(\"This input can be safely converted to an integer.\")\n",
        "except ValueError:\n",
        "    print(\"This input cannot be converted to an integer.\")\n",
        "try:\n",
        "    float_val = float(user_input)\n",
        "    print(\"This input can be safely converted to a float.\")\n",
        "except ValueError:\n",
        "    print(\"This input cannot be converted to a float.\")\n"
      ],
      "metadata": {
        "colab": {
          "base_uri": "https://localhost:8080/"
        },
        "id": "ePDwNdB1_3I3",
        "outputId": "d1a5b412-37df-42c3-83f7-20b1960bf5c5"
      },
      "execution_count": 14,
      "outputs": [
        {
          "output_type": "stream",
          "name": "stdout",
          "text": [
            "Enter a value: hi\n",
            "This input cannot be converted to an integer.\n",
            "This input cannot be converted to a float.\n"
          ]
        }
      ]
    },
    {
      "cell_type": "markdown",
      "source": [
        "**9.Math Quiz App**\n",
        "Generate two random int numbers and ask the user to add them. Check if the user’s answer (input as string) is correct."
      ],
      "metadata": {
        "id": "hcCIbCr5Affc"
      }
    },
    {
      "cell_type": "code",
      "source": [
        "import random\n",
        "\n",
        "num1 = random.randint(1, 100)\n",
        "num2 = random.randint(1, 100)\n",
        "\n",
        "print(f\"What is {num1} + {num2}?\")\n",
        "user_answer = input(\"Your answer: \")\n",
        "\n",
        "try:\n",
        "    user_answer = int(user_answer)\n",
        "    if user_answer == (num1 + num2):\n",
        "        print(\"Correct! 🎉\")\n",
        "    else:\n",
        "        print(f\"Wrong answer. The correct answer is {num1 + num2}.\")\n",
        "except ValueError:\n",
        "    print(\"Invalid input! Please enter a number.\")\n"
      ],
      "metadata": {
        "colab": {
          "base_uri": "https://localhost:8080/"
        },
        "id": "80SKcUBmA5tr",
        "outputId": "bb433446-63a3-4d90-eb01-4e7fb54b0ec0"
      },
      "execution_count": 15,
      "outputs": [
        {
          "output_type": "stream",
          "name": "stdout",
          "text": [
            "What is 35 + 80?\n",
            "Your answer: 105\n",
            "Wrong answer. The correct answer is 115.\n"
          ]
        }
      ]
    },
    {
      "cell_type": "markdown",
      "source": [
        "**10.Currency Converter**\n",
        "Ask the user for an amount in USD and convert it to INR using a float exchange rate (e.g., 1 USD = 83.2 INR)."
      ],
      "metadata": {
        "id": "FQW695gNBAov"
      }
    },
    {
      "cell_type": "code",
      "source": [
        "exchange_rate = 83.2\n",
        "\n",
        "usd_input = input(\"Enter amount in USD: \")\n",
        "\n",
        "try:\n",
        "    usd_amount = float(usd_input)\n",
        "    inr_amount = usd_amount * exchange_rate\n",
        "    print(f\"{usd_amount} USD is equal to {inr_amount:.2f} INR.\")\n",
        "except ValueError:\n",
        "    print(\"Invalid input! Please enter a valid number.\")\n"
      ],
      "metadata": {
        "colab": {
          "base_uri": "https://localhost:8080/"
        },
        "id": "g775uB1OBIBd",
        "outputId": "d7ca8c9f-3834-4190-ba2b-fc7f01d2a156"
      },
      "execution_count": 16,
      "outputs": [
        {
          "output_type": "stream",
          "name": "stdout",
          "text": [
            "Enter amount in USD: 500\n",
            "500.0 USD is equal to 41600.00 INR.\n"
          ]
        }
      ]
    }
  ]
}