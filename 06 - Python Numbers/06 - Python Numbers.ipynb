{
  "nbformat": 4,
  "nbformat_minor": 0,
  "metadata": {
    "colab": {
      "provenance": []
    },
    "kernelspec": {
      "name": "python3",
      "display_name": "Python 3"
    },
    "language_info": {
      "name": "python"
    }
  },
  "cells": [
    {
      "cell_type": "markdown",
      "source": [
        "**06 - Python Numbers**"
      ],
      "metadata": {
        "id": "m-4xksgfc6o0"
      }
    },
    {
      "cell_type": "markdown",
      "source": [
        "In Python, numbers are a fundamental data type used for performing mathematical operations. Python has three main numeric types:\n",
        "\n"
      ],
      "metadata": {
        "id": "hzfqjZzVc-wh"
      }
    },
    {
      "cell_type": "markdown",
      "source": [
        "**1. int (Integer)**\n",
        "\n",
        "Whole numbers (positive or negative) without decimals.\n",
        "\n",
        "Example: x = 10"
      ],
      "metadata": {
        "id": "FbB7ZZUhc_os"
      }
    },
    {
      "cell_type": "code",
      "source": [
        "x = 42\n",
        "print(type(x))  # <class 'int'>\n"
      ],
      "metadata": {
        "colab": {
          "base_uri": "https://localhost:8080/"
        },
        "id": "R2zAoB3jdFb7",
        "outputId": "316d6d99-bd66-4a24-b33e-2b6b8f834ba1"
      },
      "execution_count": 1,
      "outputs": [
        {
          "output_type": "stream",
          "name": "stdout",
          "text": [
            "<class 'int'>\n"
          ]
        }
      ]
    },
    {
      "cell_type": "markdown",
      "source": [
        "**2. float (Floating Point)**\n",
        "Numbers with a decimal point.\n",
        "\n",
        "Example: y = 3.14\n",
        "\n",
        "python\n",
        "Copy\n",
        "Edit\n"
      ],
      "metadata": {
        "id": "meKcyHYadLxZ"
      }
    },
    {
      "cell_type": "code",
      "source": [
        "y = 3.14159\n",
        "print(type(y))  # <class 'float'>\n"
      ],
      "metadata": {
        "colab": {
          "base_uri": "https://localhost:8080/"
        },
        "id": "lAR_WXaJdOKD",
        "outputId": "916488f2-ac7d-48a4-d963-9a78ffc703bc"
      },
      "execution_count": 2,
      "outputs": [
        {
          "output_type": "stream",
          "name": "stdout",
          "text": [
            "<class 'float'>\n"
          ]
        }
      ]
    },
    {
      "cell_type": "markdown",
      "source": [
        "**3. Type Conversion**\n",
        "Sometimes, you'll need to convert between types (e.g., from int to float, or str to int). Use built-in functions:"
      ],
      "metadata": {
        "id": "jnc3C_z-dRDe"
      }
    },
    {
      "cell_type": "code",
      "source": [
        "a = 5         # int\n",
        "b = float(a)  # converted to float\n",
        "\n",
        "c = \"100\"\n",
        "d = int(c)    # converted string to int\n"
      ],
      "metadata": {
        "id": "sL0ZxxNOdUgU"
      },
      "execution_count": null,
      "outputs": []
    },
    {
      "cell_type": "markdown",
      "source": [
        "Be careful — converting non-numeric strings to numbers will throw an error."
      ],
      "metadata": {
        "id": "ONgpvmm-dWnH"
      }
    },
    {
      "cell_type": "markdown",
      "source": [
        "**Real-Time Problem Statements**\n",
        "\n",
        "**1. Temperature Converter**\n",
        "Convert temperature from Celsius to Fahrenheit using float and print the result.\n",
        "\n",
        "**2.User Age Calculator**\n",
        "Ask the user for their birth year and calculate their age. Handle conversion of input from string to int.\n",
        "\n",
        "**3.Bill Splitter**\n",
        "Divide a total bill amount (float) equally among a number of people (int) and print the amount each person has to pay.\n",
        "\n",
        "**4.BMI Calculator**\n",
        "Take user input for weight (kg) and height (m), compute BMI using float division: BMI = weight / (height ** 2)\n",
        "\n",
        "**5.Simple Interest Calculator**\n",
        "Given principal, rate, and time, calculate interest using SI = (P × R × T) / 100.\n",
        "\n",
        "**6.Convert Hours to Seconds**\n",
        "Ask the user how many hours they worked today and convert it to seconds using type conversion.\n",
        "\n",
        "**7.Invoice Generator**\n",
        "Given the price per item and quantity purchased, calculate total and print it with correct type.\n",
        "\n",
        "**8.Validate Input Type**\n",
        "Create a program that asks the user for input, then prints whether the input can be safely converted to int or float.\n",
        "\n",
        "**9.Math Quiz App**\n",
        "Generate two random int numbers and ask the user to add them. Check if the user’s answer (input as string) is correct.\n",
        "\n",
        "**10.Currency Converter**\n",
        "Ask the user for an amount in USD and convert it to INR using a float exchange rate (e.g., 1 USD = 83.2 INR).\n",
        "\n"
      ],
      "metadata": {
        "id": "JUoHoX2IdYmT"
      }
    }
  ]
}