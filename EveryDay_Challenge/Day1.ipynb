{
  "nbformat": 4,
  "nbformat_minor": 0,
  "metadata": {
    "colab": {
      "provenance": []
    },
    "kernelspec": {
      "name": "python3",
      "display_name": "Python 3"
    },
    "language_info": {
      "name": "python"
    }
  },
  "cells": [
    {
      "cell_type": "markdown",
      "source": [
        "**Daily Python Practice Problems**"
      ],
      "metadata": {
        "id": "AtVKjOk8HWGz"
      }
    },
    {
      "cell_type": "markdown",
      "source": [
        "**Expense Tracker CLI**\n",
        "\n",
        "📝 Build a command-line app where users can:\n",
        "\n",
        "Add, edit, delete expenses\n",
        "\n",
        "View monthly reports\n",
        "\n",
        "Save/load data from a JSON file\n",
        "\n",
        "Topics: File Handling, JSON, Functions, Loops, Data Structures"
      ],
      "metadata": {
        "id": "mRfBENTHHc0D"
      }
    },
    {
      "cell_type": "code",
      "source": [
        "import json\n",
        "import os\n",
        "\n",
        "FILENAME = \"expenses.json\"\n",
        "\n",
        "# --------------------- Core Utility Functions ---------------------\n",
        "\n",
        "def load_expenses(filename):\n",
        "    if os.path.exists(filename):\n",
        "        with open(filename, \"r\") as file:\n",
        "            return json.load(file)\n",
        "    return {}\n",
        "\n",
        "def save_expenses(filename, data):\n",
        "    with open(filename, \"w\") as file:\n",
        "        json.dump(data, file, indent=2)\n",
        "\n",
        "# --------------------- Expense Operations ------------------------\n",
        "\n",
        "def add_expenses(expenses):\n",
        "    for i in range(5):\n",
        "        date = input(\"Enter the date in DDMMYYYY: \")\n",
        "        try:\n",
        "            amount = float(input(\"Enter the expense: \"))\n",
        "            expenses[date] = amount\n",
        "        except ValueError:\n",
        "            print(\"Invalid number.\")\n",
        "    save_expenses(FILENAME, expenses)\n",
        "\n",
        "def edit_expense(expenses):\n",
        "    date = input(\"Enter the date to edit (DDMMYYYY): \")\n",
        "    if date in expenses:\n",
        "        try:\n",
        "            amount = float(input(\"Enter new expense: \"))\n",
        "            expenses[date] = amount\n",
        "            save_expenses(FILENAME, expenses)\n",
        "        except ValueError:\n",
        "            print(\"Invalid number.\")\n",
        "    else:\n",
        "        print(\"Date not found.\")\n",
        "\n",
        "def delete_expense(expenses):\n",
        "    date = input(\"Enter the date to delete (DDMMYYYY): \")\n",
        "    if date in expenses:\n",
        "        expenses.pop(date)\n",
        "        save_expenses(FILENAME, expenses)\n",
        "        print(\"Deleted.\")\n",
        "    else:\n",
        "        print(\"Date not found.\")\n",
        "\n",
        "def view_expenses(expenses):\n",
        "    if not expenses:\n",
        "        print(\"No expenses recorded.\")\n",
        "        return\n",
        "    print(\"All expenses:\")\n",
        "    for date, amount in expenses.items():\n",
        "        print(f\"{date}: ₹{amount}\")\n",
        "\n",
        "def monthly_report(expenses):\n",
        "    month_year = input(\"Enter the month and year (MMYYYY): \")\n",
        "    total = 0\n",
        "    found = False\n",
        "    for date, amount in expenses.items():\n",
        "        if date[2:] == month_year:\n",
        "            print(f\"{date}: ₹{amount}\")\n",
        "            total += amount\n",
        "            found = True\n",
        "    if found:\n",
        "        print(f\"Total for {month_year}: ₹{total}\")\n",
        "    else:\n",
        "        print(\"No expenses found for this month.\")\n",
        "\n",
        "# --------------------- Main Program Loop ------------------------\n",
        "\n",
        "def main():\n",
        "    expenses = load_expenses(FILENAME)\n",
        "\n",
        "    while True:\n",
        "        task = input(\"Choose an action (add/edit/delete/view/monthly/exit): \").strip().lower()\n",
        "\n",
        "        if task == \"add\":\n",
        "            add_expenses(expenses)\n",
        "        elif task == \"edit\":\n",
        "            edit_expense(expenses)\n",
        "        elif task == \"delete\":\n",
        "            delete_expense(expenses)\n",
        "        elif task == \"view\":\n",
        "            view_expenses(expenses)\n",
        "        elif task == \"monthly\":\n",
        "            monthly_report(expenses)\n",
        "        elif task == \"exit\":\n",
        "            print(\"Saving and exiting...\")\n",
        "            save_expenses(FILENAME, expenses)\n",
        "            break\n",
        "        else:\n",
        "            print(\"Invalid option. Try again.\")\n",
        "\n",
        "# --------------------- Run the Program ------------------------\n",
        "\n",
        "if __name__ == \"__main__\":\n",
        "    main()\n"
      ],
      "metadata": {
        "colab": {
          "base_uri": "https://localhost:8080/"
        },
        "id": "sChND71HV3RT",
        "outputId": "71983256-188a-44fe-961f-301896a7adf5"
      },
      "execution_count": 12,
      "outputs": [
        {
          "output_type": "stream",
          "name": "stdout",
          "text": [
            "Choose an action (add/edit/delete/view/monthly/exit): 01012020\n",
            "Invalid option. Try again.\n",
            "Choose an action (add/edit/delete/view/monthly/exit): add\n",
            "Enter the date in DDMMYYYY: 01012020\n",
            "Enter the expense: 567\n",
            "Enter the date in DDMMYYYY: 03012020\n",
            "Enter the expense: 6655\n",
            "Enter the date in DDMMYYYY: 04022020\n",
            "Enter the expense: 657\n",
            "Enter the date in DDMMYYYY: 01022023\n",
            "Enter the expense: 547\n",
            "Enter the date in DDMMYYYY: 08052020\n",
            "Enter the expense: 987\n",
            "Choose an action (add/edit/delete/view/monthly/exit): 07062020\n",
            "Invalid option. Try again.\n",
            "Choose an action (add/edit/delete/view/monthly/exit): 487\n",
            "Invalid option. Try again.\n",
            "Choose an action (add/edit/delete/view/monthly/exit): view\n",
            "All expenses:\n",
            "01022020: ₹56.0\n",
            "05042020: ₹56.0\n",
            "04022020: ₹657.0\n",
            "04052020: ₹587.0\n",
            "06032020: ₹458.0\n",
            "01012020: ₹567.0\n",
            "03012020: ₹6655.0\n",
            "01022023: ₹547.0\n",
            "08052020: ₹987.0\n",
            "Choose an action (add/edit/delete/view/monthly/exit): exit\n",
            "Saving and exiting...\n"
          ]
        }
      ]
    }
  ]
}