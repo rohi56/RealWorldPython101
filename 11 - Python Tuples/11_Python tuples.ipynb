{
  "nbformat": 4,
  "nbformat_minor": 0,
  "metadata": {
    "colab": {
      "provenance": []
    },
    "kernelspec": {
      "name": "python3",
      "display_name": "Python 3"
    },
    "language_info": {
      "name": "python"
    }
  },
  "cells": [
    {
      "cell_type": "markdown",
      "source": [
        "**Python Tuples**"
      ],
      "metadata": {
        "id": "gQjkaWvcYzZ9"
      }
    },
    {
      "cell_type": "markdown",
      "source": [
        "**1. Tuple**\n",
        "\n",
        "A tuple is a collection which is ordered and unchangeable (immutable). Tuples are created using round brackets and are used to store multiple items in a single variable."
      ],
      "metadata": {
        "id": "DtUrVGzkY3nB"
      }
    },
    {
      "cell_type": "code",
      "source": [
        "my_tuple = (\"apple\", \"banana\", \"cherry\")\n",
        "my_tuple"
      ],
      "metadata": {
        "colab": {
          "base_uri": "https://localhost:8080/"
        },
        "id": "EnyjQ_8HY7BB",
        "outputId": "31b46888-900e-49a7-a52a-fa15e7e6fb94"
      },
      "execution_count": 1,
      "outputs": [
        {
          "output_type": "execute_result",
          "data": {
            "text/plain": [
              "('apple', 'banana', 'cherry')"
            ]
          },
          "metadata": {},
          "execution_count": 1
        }
      ]
    },
    {
      "cell_type": "markdown",
      "source": [
        "**2. Tuple Items**\n",
        "\n",
        "Tuple items are ordered, allow duplicates, and can contain items of any data type. Items are indexed from 0."
      ],
      "metadata": {
        "id": "ClGLTiOtZBO_"
      }
    },
    {
      "cell_type": "code",
      "source": [
        "tuple_items = (\"apple\", \"banana\", \"apple\", 5, True)"
      ],
      "metadata": {
        "id": "y5qJxeF2ZD9L"
      },
      "execution_count": 2,
      "outputs": []
    },
    {
      "cell_type": "markdown",
      "source": [
        "**3. Ordered**\n",
        "\n",
        "Tuples maintain the order of the items inserted. This means the order will not change."
      ],
      "metadata": {
        "id": "VmpskUPHZFIF"
      }
    },
    {
      "cell_type": "code",
      "source": [
        "ordered = (1, 2, 3)\n",
        "print(ordered[0])  # Output: 1"
      ],
      "metadata": {
        "colab": {
          "base_uri": "https://localhost:8080/"
        },
        "id": "Xg5xqyc4ZIiV",
        "outputId": "80107dbc-8efc-4c11-aa94-7b0a4e68da81"
      },
      "execution_count": 3,
      "outputs": [
        {
          "output_type": "stream",
          "name": "stdout",
          "text": [
            "1\n"
          ]
        }
      ]
    },
    {
      "cell_type": "markdown",
      "source": [
        "**4. Unchangeable**\n",
        "\n",
        "Once created, tuple items cannot be changed directly. This helps protect data from being modified accidentally."
      ],
      "metadata": {
        "id": "Kr218RkPZK_X"
      }
    },
    {
      "cell_type": "code",
      "source": [
        "t = (\"a\", \"b\")\n",
        "t[0] = \"z\"  # This will raise an error"
      ],
      "metadata": {
        "colab": {
          "base_uri": "https://localhost:8080/",
          "height": 159
        },
        "id": "qgC0ARhoZNM-",
        "outputId": "f6a5c989-166f-49d9-c8d7-fb8529552d31"
      },
      "execution_count": 4,
      "outputs": [
        {
          "output_type": "error",
          "ename": "TypeError",
          "evalue": "'tuple' object does not support item assignment",
          "traceback": [
            "\u001b[0;31m---------------------------------------------------------------------------\u001b[0m",
            "\u001b[0;31mTypeError\u001b[0m                                 Traceback (most recent call last)",
            "\u001b[0;32m<ipython-input-4-d35be9b8cad4>\u001b[0m in \u001b[0;36m<cell line: 0>\u001b[0;34m()\u001b[0m\n\u001b[1;32m      1\u001b[0m \u001b[0mt\u001b[0m \u001b[0;34m=\u001b[0m \u001b[0;34m(\u001b[0m\u001b[0;34m\"a\"\u001b[0m\u001b[0;34m,\u001b[0m \u001b[0;34m\"b\"\u001b[0m\u001b[0;34m)\u001b[0m\u001b[0;34m\u001b[0m\u001b[0;34m\u001b[0m\u001b[0m\n\u001b[0;32m----> 2\u001b[0;31m \u001b[0mt\u001b[0m\u001b[0;34m[\u001b[0m\u001b[0;36m0\u001b[0m\u001b[0;34m]\u001b[0m \u001b[0;34m=\u001b[0m \u001b[0;34m\"z\"\u001b[0m  \u001b[0;31m# This will raise an error\u001b[0m\u001b[0;34m\u001b[0m\u001b[0;34m\u001b[0m\u001b[0m\n\u001b[0m",
            "\u001b[0;31mTypeError\u001b[0m: 'tuple' object does not support item assignment"
          ]
        }
      ]
    },
    {
      "cell_type": "markdown",
      "source": [
        "**5. Allow Duplicates**\n",
        "\n",
        "Tuples can have items with the same value multiple times."
      ],
      "metadata": {
        "id": "FR2JTgrDZOzg"
      }
    },
    {
      "cell_type": "code",
      "source": [
        "t = (\"apple\", \"banana\", \"apple\")"
      ],
      "metadata": {
        "id": "UWBNS-3TZSml"
      },
      "execution_count": null,
      "outputs": []
    },
    {
      "cell_type": "markdown",
      "source": [
        "**6. Tuple Length**\n",
        "\n",
        "Use len() to find the number of items in a tuple."
      ],
      "metadata": {
        "id": "GfAP40zzZWQX"
      }
    },
    {
      "cell_type": "code",
      "source": [
        "print(len(t))  # Output: 3"
      ],
      "metadata": {
        "colab": {
          "base_uri": "https://localhost:8080/"
        },
        "id": "hDHRJHZUZazi",
        "outputId": "c7dd9da0-aa6c-4732-9908-844439a070b1"
      },
      "execution_count": 5,
      "outputs": [
        {
          "output_type": "stream",
          "name": "stdout",
          "text": [
            "2\n"
          ]
        }
      ]
    },
    {
      "cell_type": "markdown",
      "source": [
        "**7. Create Tuple With One Item**\n",
        "\n",
        "To create a one-item tuple, include a comma after the item."
      ],
      "metadata": {
        "id": "nHMaQnbNZd7Z"
      }
    },
    {
      "cell_type": "code",
      "source": [
        "single = (\"apple\",)\n",
        "single"
      ],
      "metadata": {
        "colab": {
          "base_uri": "https://localhost:8080/"
        },
        "id": "eN2nKM6MZgcV",
        "outputId": "7aa71759-069c-4602-a785-1621fcd7bbc5"
      },
      "execution_count": 8,
      "outputs": [
        {
          "output_type": "execute_result",
          "data": {
            "text/plain": [
              "('apple',)"
            ]
          },
          "metadata": {},
          "execution_count": 8
        }
      ]
    },
    {
      "cell_type": "markdown",
      "source": [
        "**8. Tuple Items - Data Types**\n",
        "\n",
        "Tuples can store mixed data types: strings, integers, booleans, etc."
      ],
      "metadata": {
        "id": "TfM_WfdvZjft"
      }
    },
    {
      "cell_type": "code",
      "source": [
        "mixed = (1, \"apple\", True)\n",
        "mixed"
      ],
      "metadata": {
        "colab": {
          "base_uri": "https://localhost:8080/"
        },
        "id": "HfLWZkKrZlmL",
        "outputId": "ffbe5c7d-9fa5-4d44-a9a5-885cb8e693fb"
      },
      "execution_count": 9,
      "outputs": [
        {
          "output_type": "execute_result",
          "data": {
            "text/plain": [
              "(1, 'apple', True)"
            ]
          },
          "metadata": {},
          "execution_count": 9
        }
      ]
    },
    {
      "cell_type": "markdown",
      "source": [
        "**9. The tuple() Constructor**\n",
        "\n",
        "You can use the tuple() constructor to create a tuple from an iterable."
      ],
      "metadata": {
        "id": "n7C_TVgvZshv"
      }
    },
    {
      "cell_type": "code",
      "source": [
        "t = tuple([\"apple\", \"banana\"])\n",
        "t"
      ],
      "metadata": {
        "colab": {
          "base_uri": "https://localhost:8080/"
        },
        "id": "R9TNQ5y6Zu33",
        "outputId": "87164749-5172-45d4-f0f5-f19caf18080f"
      },
      "execution_count": 10,
      "outputs": [
        {
          "output_type": "execute_result",
          "data": {
            "text/plain": [
              "('apple', 'banana')"
            ]
          },
          "metadata": {},
          "execution_count": 10
        }
      ]
    },
    {
      "cell_type": "markdown",
      "source": [
        "**10. Access Tuple Items**\n",
        "\n",
        "Access items using index numbers, starting at 0."
      ],
      "metadata": {
        "id": "Tns0-CeBZw_o"
      }
    },
    {
      "cell_type": "code",
      "source": [
        "t = (\"apple\", \"banana\")\n",
        "print(t[1])  # Output: banana"
      ],
      "metadata": {
        "colab": {
          "base_uri": "https://localhost:8080/"
        },
        "id": "9d3sFs49Z1gr",
        "outputId": "5cd29b17-9b54-4d72-c25f-c5d62715b57f"
      },
      "execution_count": 11,
      "outputs": [
        {
          "output_type": "stream",
          "name": "stdout",
          "text": [
            "banana\n"
          ]
        }
      ]
    },
    {
      "cell_type": "markdown",
      "source": [
        "**11. Negative Indexing**\n",
        "\n",
        "Use negative indexing to access items from the end."
      ],
      "metadata": {
        "id": "iun7bHnxZ4Q1"
      }
    },
    {
      "cell_type": "code",
      "source": [
        "t = (\"apple\", \"banana\")\n",
        "print(t[-1])  # Output: banana"
      ],
      "metadata": {
        "colab": {
          "base_uri": "https://localhost:8080/"
        },
        "id": "zU-V1hmxZ6ZW",
        "outputId": "27acd6bb-abbb-4551-caf5-1d6d0e6a37cb"
      },
      "execution_count": 12,
      "outputs": [
        {
          "output_type": "stream",
          "name": "stdout",
          "text": [
            "banana\n"
          ]
        }
      ]
    },
    {
      "cell_type": "markdown",
      "source": [
        "**12. Range of Indexes**\n",
        "\n",
        "Slice a tuple to access a range of values."
      ],
      "metadata": {
        "id": "JrELofGxZ8Z_"
      }
    },
    {
      "cell_type": "code",
      "source": [
        "t = (\"a\", \"b\", \"c\", \"d\")\n",
        "print(t[1:3])  # Output: ('b', 'c')"
      ],
      "metadata": {
        "colab": {
          "base_uri": "https://localhost:8080/"
        },
        "id": "KXnnwSiYZ-3r",
        "outputId": "1693a336-46ff-4203-a280-165f3f3d06bf"
      },
      "execution_count": 13,
      "outputs": [
        {
          "output_type": "stream",
          "name": "stdout",
          "text": [
            "('b', 'c')\n"
          ]
        }
      ]
    },
    {
      "cell_type": "markdown",
      "source": [
        "**13. Range of Negative Indexes**\n",
        "\n",
        "Slicing also works with negative indexes."
      ],
      "metadata": {
        "id": "M-J60DQWaBwI"
      }
    },
    {
      "cell_type": "code",
      "source": [
        "t = (\"a\", \"b\", \"c\", \"d\")\n",
        "print(t[-3:-1])  # Output: ('b', 'c')"
      ],
      "metadata": {
        "colab": {
          "base_uri": "https://localhost:8080/"
        },
        "id": "lAjaBF6faDwl",
        "outputId": "f2fd7036-cc2b-4aff-d99c-930ff8b9749c"
      },
      "execution_count": 14,
      "outputs": [
        {
          "output_type": "stream",
          "name": "stdout",
          "text": [
            "('b', 'c')\n"
          ]
        }
      ]
    },
    {
      "cell_type": "markdown",
      "source": [
        "**14. Check if Item Exists**\n",
        "\n",
        "Use in to check if a value exists in a tuple."
      ],
      "metadata": {
        "id": "ImWOhJsTaGl7"
      }
    },
    {
      "cell_type": "code",
      "source": [
        "if \"apple\" in t:\n",
        "    print(\"Yes\")"
      ],
      "metadata": {
        "id": "QMHFlq9yaIrH"
      },
      "execution_count": 15,
      "outputs": []
    },
    {
      "cell_type": "markdown",
      "source": [
        "**15. Change Tuple Values**\n",
        "\n",
        "Tuples are immutable, but you can work around this by converting to a list."
      ],
      "metadata": {
        "id": "06Pe1PrSaOwQ"
      }
    },
    {
      "cell_type": "markdown",
      "source": [
        "*i. Convert into a list*"
      ],
      "metadata": {
        "id": "qrEeKX0-aR6-"
      }
    },
    {
      "cell_type": "code",
      "source": [
        "t = (\"a\", \"b\")\n",
        "l = list(t)\n",
        "l[1] = \"z\"\n",
        "t = tuple(l)\n",
        "t"
      ],
      "metadata": {
        "colab": {
          "base_uri": "https://localhost:8080/"
        },
        "id": "QDVETH1LaU8f",
        "outputId": "cc102a5e-fbbb-4e2b-d377-6a31846f8d3e"
      },
      "execution_count": 22,
      "outputs": [
        {
          "output_type": "execute_result",
          "data": {
            "text/plain": [
              "('a', 'z')"
            ]
          },
          "metadata": {},
          "execution_count": 22
        }
      ]
    },
    {
      "cell_type": "markdown",
      "source": [
        "*ii. Add tuple to a tuple*\n",
        "\n",
        "You can concatenate tuples to add items."
      ],
      "metadata": {
        "id": "UL51YBpeaatX"
      }
    },
    {
      "cell_type": "code",
      "source": [
        "t += (\"kiwi\",)\n",
        "t"
      ],
      "metadata": {
        "colab": {
          "base_uri": "https://localhost:8080/"
        },
        "id": "2UBPyzTGacqz",
        "outputId": "9afb007f-5da7-4c71-9b48-6dbd4233aacf"
      },
      "execution_count": 18,
      "outputs": [
        {
          "output_type": "execute_result",
          "data": {
            "text/plain": [
              "('a', 'z', 'kiwi')"
            ]
          },
          "metadata": {},
          "execution_count": 18
        }
      ]
    },
    {
      "cell_type": "markdown",
      "source": [
        "*iii. Remove Items*\n",
        "\n",
        "Convert to list, remove items, then convert back."
      ],
      "metadata": {
        "id": "AqxNTUZfagYo"
      }
    },
    {
      "cell_type": "code",
      "source": [
        "t = list(t)\n",
        "t.remove(\"a\")\n",
        "t = tuple(t)\n"
      ],
      "metadata": {
        "id": "Cd6Gnd5Laiz7"
      },
      "execution_count": 23,
      "outputs": []
    },
    {
      "cell_type": "markdown",
      "source": [
        "**16. Unpack Tuples**\n",
        "\n",
        "Unpacking allows assigning tuple items to variables."
      ],
      "metadata": {
        "id": "vvF5kgwEavo_"
      }
    },
    {
      "cell_type": "code",
      "source": [
        "fruits = (\"apple\", \"banana\", \"cherry\")\n",
        "a, b, c = fruits\n",
        "print(a)\n",
        "print(b)\n",
        "print(c)"
      ],
      "metadata": {
        "colab": {
          "base_uri": "https://localhost:8080/"
        },
        "id": "qHVmStauaxfd",
        "outputId": "5239ed7b-c014-4b30-d3e5-7414797ebac7"
      },
      "execution_count": 25,
      "outputs": [
        {
          "output_type": "stream",
          "name": "stdout",
          "text": [
            "apple\n",
            "banana\n",
            "cherry\n"
          ]
        }
      ]
    },
    {
      "cell_type": "markdown",
      "source": [
        "**17. Using Asterisk** *\n",
        "\n",
        "The asterisk can collect the remaining items into a list."
      ],
      "metadata": {
        "id": "bwiQU_Lya-L6"
      }
    },
    {
      "cell_type": "code",
      "source": [
        "fruits = (\"apple\", \"banana\", \"cherry\", \"kiwi\")\n",
        "a, *b = fruits\n",
        "print(a)\n",
        "print(b)"
      ],
      "metadata": {
        "colab": {
          "base_uri": "https://localhost:8080/"
        },
        "id": "0C0E_OYVbLCu",
        "outputId": "61ac4a88-1957-4031-d384-0b49becfd112"
      },
      "execution_count": 26,
      "outputs": [
        {
          "output_type": "stream",
          "name": "stdout",
          "text": [
            "apple\n",
            "['banana', 'cherry', 'kiwi']\n"
          ]
        }
      ]
    },
    {
      "cell_type": "markdown",
      "source": [
        "**18. Loop Tuples**\n",
        "\n",
        "*i. Loop Through a Tuple*"
      ],
      "metadata": {
        "id": "-IDCkatFbSMw"
      }
    },
    {
      "cell_type": "code",
      "source": [
        "for x in fruits:\n",
        "    print(x)"
      ],
      "metadata": {
        "colab": {
          "base_uri": "https://localhost:8080/"
        },
        "id": "vUcTNkeUbVI1",
        "outputId": "8b6cd687-6d50-418c-e61b-156ea3666b3a"
      },
      "execution_count": 27,
      "outputs": [
        {
          "output_type": "stream",
          "name": "stdout",
          "text": [
            "apple\n",
            "banana\n",
            "cherry\n",
            "kiwi\n"
          ]
        }
      ]
    },
    {
      "cell_type": "markdown",
      "source": [
        "*ii. Loop Through the Index Numbers*"
      ],
      "metadata": {
        "id": "BQUCwJDrbYbh"
      }
    },
    {
      "cell_type": "code",
      "source": [
        "for i in range(len(fruits)):\n",
        "    print(fruits[i])"
      ],
      "metadata": {
        "colab": {
          "base_uri": "https://localhost:8080/"
        },
        "id": "NAIcPU5Vbado",
        "outputId": "9f36bbfc-b861-4402-a795-3f760fc64c3d"
      },
      "execution_count": 29,
      "outputs": [
        {
          "output_type": "stream",
          "name": "stdout",
          "text": [
            "apple\n",
            "banana\n",
            "cherry\n",
            "kiwi\n"
          ]
        }
      ]
    },
    {
      "cell_type": "markdown",
      "source": [
        "*iii. Using a While Loop*"
      ],
      "metadata": {
        "id": "37N-07kpbcfr"
      }
    },
    {
      "cell_type": "code",
      "source": [
        "i = 0\n",
        "while i < len(fruits):\n",
        "    print(fruits[i])\n",
        "    i += 1"
      ],
      "metadata": {
        "colab": {
          "base_uri": "https://localhost:8080/"
        },
        "id": "f2F5ZXb1belG",
        "outputId": "a8a9cb96-7055-48be-8e8a-a6e5150c3756"
      },
      "execution_count": 28,
      "outputs": [
        {
          "output_type": "stream",
          "name": "stdout",
          "text": [
            "apple\n",
            "banana\n",
            "cherry\n",
            "kiwi\n"
          ]
        }
      ]
    },
    {
      "cell_type": "markdown",
      "source": [
        "**19. Join Two Tuples**\n",
        "\n",
        "Use + operator to join two tuples."
      ],
      "metadata": {
        "id": "5kZM_Z60boK1"
      }
    },
    {
      "cell_type": "code",
      "source": [
        "t1 = (\"a\", \"b\")\n",
        "t2 = (1, 2)\n",
        "result = t1 + t2"
      ],
      "metadata": {
        "id": "U-QMQ66gbp6n"
      },
      "execution_count": 30,
      "outputs": []
    },
    {
      "cell_type": "markdown",
      "source": [
        "**20. Multiply Tuples**\n",
        "\n",
        "Use * operator to repeat the tuple."
      ],
      "metadata": {
        "id": "PIOynSLvbtWv"
      }
    },
    {
      "cell_type": "code",
      "source": [
        "t1 = (\"apple\",)\n",
        "result = t1 * 3  # ('apple', 'apple', 'apple')"
      ],
      "metadata": {
        "id": "tdmZWcn2bvi1"
      },
      "execution_count": 31,
      "outputs": []
    },
    {
      "cell_type": "markdown",
      "source": [
        "**21. Tuple Methods**\n",
        "\n",
        "| Method   | Description                                                  | Example                                 | Output         |\n",
        "|----------|--------------------------------------------------------------|-----------------------------------------|----------------|\n",
        "| count()  | Returns the number of times a specified value occurs         | `t = (1, 2, 2, 3); t.count(2)`          | `2`            |\n",
        "| index()  | Returns the index of the first occurrence of the specified value | `t = (1, 2, 3); t.index(3)`         | `2`            |\n"
      ],
      "metadata": {
        "id": "Lji8zKFyb_i3"
      }
    },
    {
      "cell_type": "markdown",
      "source": [
        "**Real-Time Problem Statements Using Tuples**\n",
        "\n",
        "**1.Immutable Configuration Settings**\n",
        "Store application configurations (like version number, default settings) as tuples to prevent accidental changes.\n",
        "\n",
        "**2.Geolocation Coordinates**\n",
        "Use tuples to store fixed latitude and longitude coordinates for landmarks or delivery points.\n",
        "\n",
        "**3.Database Connection Credentials**\n",
        "Store database credentials or connection details as tuples to ensure they aren’t modified during runtime.\n",
        "\n",
        "**4.RGB Color Codes**\n",
        "Represent color values (R, G, B) for a design system using tuples, which are more compact and immutable.\n",
        "\n",
        "**5.API Response Structure**\n",
        "When an API returns multiple values (status, message, data), represent the fixed structure using tuples.\n",
        "\n",
        "**6.Packing/Unpacking Parameters**\n",
        "Return multiple values from a function (e.g., user info like name, age, email) as a tuple and unpack them cleanly.\n",
        "\n",
        "**7.Historical Event Timeline**\n",
        "Store a list of tuples containing dates and events to keep an unchangeable record.\n",
        "\n",
        "**8.User Roles or Permissions**\n",
        "Define access levels like (\"admin\", \"moderator\", \"user\") to refer to throughout the program without altering.\n",
        "\n",
        "**9.Quiz Questions**\n",
        "Each question can be stored as a tuple containing (question_text, correct_option) to ensure immutability.\n",
        "\n",
        "**10.Shopping Cart Summary**\n",
        "Each cart item could be a tuple of (item_name, quantity, price) used for quick calculations and display."
      ],
      "metadata": {
        "id": "_ZIonUaXcYmP"
      }
    }
  ]
}