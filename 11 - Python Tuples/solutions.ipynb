{
  "nbformat": 4,
  "nbformat_minor": 0,
  "metadata": {
    "colab": {
      "provenance": []
    },
    "kernelspec": {
      "name": "python3",
      "display_name": "Python 3"
    },
    "language_info": {
      "name": "python"
    }
  },
  "cells": [
    {
      "cell_type": "markdown",
      "source": [
        "**Real-Time Problem Statements Using Tuples Solutions**\n",
        "\n"
      ],
      "metadata": {
        "id": "ToLmDe_afoKP"
      }
    },
    {
      "cell_type": "markdown",
      "source": [
        "**1.Immutable Configuration Settings**\n",
        "Store application configurations (like version number, default settings) as tuples to prevent accidental changes.\n",
        "\n"
      ],
      "metadata": {
        "id": "ma9z4rlnfqZt"
      }
    },
    {
      "cell_type": "code",
      "source": [
        "version_details = ((\"Siebel\", 20.1), (\"Informatica\", 10.1),(\"DAC\", 11.1), (\"OBIEE\", 12.2), (\"ODI\", 12.2))\n",
        "for i,v in version_details:\n",
        "  print(f\"application name :{i}--->version :{v}\")"
      ],
      "metadata": {
        "colab": {
          "base_uri": "https://localhost:8080/"
        },
        "id": "cMRE8cdAgJST",
        "outputId": "4c85f326-aeb0-4c94-ad05-cf6242774dec"
      },
      "execution_count": 4,
      "outputs": [
        {
          "output_type": "stream",
          "name": "stdout",
          "text": [
            "application name :Siebel--->version :20.1\n",
            "application name :Informatica--->version :10.1\n",
            "application name :DAC--->version :11.1\n",
            "application name :OBIEE--->version :12.2\n",
            "application name :ODI--->version :12.2\n"
          ]
        }
      ]
    },
    {
      "cell_type": "markdown",
      "source": [
        "**2.Geolocation Coordinates**\n",
        "Use tuples to store fixed latitude and longitude coordinates for landmarks or delivery points.\n",
        "\n"
      ],
      "metadata": {
        "id": "Azcgm7i0fr_E"
      }
    },
    {
      "cell_type": "code",
      "source": [
        "#City Latitude Longitude\n",
        "coordinates= ((\"Bangalore\",12.97,77.59),(\"Delhi\",28.61,77.23),(\"77.23\",19.07,72.87),(\"Kolkata\",22.54,88.33) )\n",
        "for x,y,z in coordinates:\n",
        "  print(f\"City :{x} Latitude :{y} Longitude :{z}\")\n"
      ],
      "metadata": {
        "colab": {
          "base_uri": "https://localhost:8080/"
        },
        "id": "P6IhLQnyiRu9",
        "outputId": "8268661c-b013-4e71-c221-674ac4fc7e96"
      },
      "execution_count": 7,
      "outputs": [
        {
          "output_type": "stream",
          "name": "stdout",
          "text": [
            "City :Bangalore Latitude :12.97 Longitude :77.59\n",
            "City :Delhi Latitude :28.61 Longitude :77.23\n",
            "City :77.23 Latitude :19.07 Longitude :72.87\n",
            "City :Kolkata Latitude :22.54 Longitude :88.33\n"
          ]
        }
      ]
    },
    {
      "cell_type": "markdown",
      "source": [
        "**3.Database Connection Credentials**\n",
        "Store database credentials or connection details as tuples to ensure they aren’t modified during runtime.\n",
        "\n"
      ],
      "metadata": {
        "id": "xF5iT_AIftl_"
      }
    },
    {
      "cell_type": "code",
      "source": [
        "db_credentials = (\"localhost\", 5432, \"admin\", \"password123\")\n",
        "print(f\"Connecting to {db_credentials[0]} on port {db_credentials[1]}\")\n"
      ],
      "metadata": {
        "colab": {
          "base_uri": "https://localhost:8080/"
        },
        "id": "oOe7nS_0j1s4",
        "outputId": "686f2b9f-9c62-463b-f6ae-455be2eea9cd"
      },
      "execution_count": 8,
      "outputs": [
        {
          "output_type": "stream",
          "name": "stdout",
          "text": [
            "Connecting to localhost on port 5432\n"
          ]
        }
      ]
    },
    {
      "cell_type": "markdown",
      "source": [
        "**4.RGB Color Codes**\n",
        "Represent color values (R, G, B) for a design system using tuples, which are more compact and immutable.\n",
        "\n"
      ],
      "metadata": {
        "id": "rNDguQJZfvne"
      }
    },
    {
      "cell_type": "code",
      "source": [
        "red = (255, 0, 0)\n",
        "print(\"Red RGB values:\", red)\n"
      ],
      "metadata": {
        "colab": {
          "base_uri": "https://localhost:8080/"
        },
        "id": "QERqj2Bdj6nq",
        "outputId": "ef34e813-28c4-4c0a-90d0-cce6f78b34ff"
      },
      "execution_count": 9,
      "outputs": [
        {
          "output_type": "stream",
          "name": "stdout",
          "text": [
            "Red RGB values: (255, 0, 0)\n"
          ]
        }
      ]
    },
    {
      "cell_type": "markdown",
      "source": [
        "**5.API Response Structure**\n",
        "When an API returns multiple values (status, message, data), represent the fixed structure using tuples.\n",
        "\n"
      ],
      "metadata": {
        "id": "JoM9aRyMfyY5"
      }
    },
    {
      "cell_type": "code",
      "source": [
        "def api_response():\n",
        "    return (200, \"Success\", {\"user\": \"john\"})\n",
        "\n",
        "status, message, data = api_response()\n",
        "print(status, message)\n"
      ],
      "metadata": {
        "colab": {
          "base_uri": "https://localhost:8080/"
        },
        "id": "5LgViPMFj9-o",
        "outputId": "f83222b6-aa2f-4b6a-d6c0-2ce14b6e18fa"
      },
      "execution_count": 10,
      "outputs": [
        {
          "output_type": "stream",
          "name": "stdout",
          "text": [
            "200 Success\n"
          ]
        }
      ]
    },
    {
      "cell_type": "markdown",
      "source": [
        "**6.Packing/Unpacking Parameters**\n",
        "Return multiple values from a function (e.g., user info like name, age, email) as a tuple and unpack them cleanly.\n",
        "\n"
      ],
      "metadata": {
        "id": "xLl-EIqof0bV"
      }
    },
    {
      "cell_type": "code",
      "source": [
        "def get_user_info():\n",
        "    return (\"Alice\", 28, \"alice@example.com\")\n",
        "\n",
        "name, age, email = get_user_info()\n",
        "print(name, age, email)\n"
      ],
      "metadata": {
        "colab": {
          "base_uri": "https://localhost:8080/"
        },
        "id": "ulfbG7GPkCMu",
        "outputId": "95530c9d-8b52-4cef-dff7-74bdb81fd590"
      },
      "execution_count": 11,
      "outputs": [
        {
          "output_type": "stream",
          "name": "stdout",
          "text": [
            "Alice 28 alice@example.com\n"
          ]
        }
      ]
    },
    {
      "cell_type": "markdown",
      "source": [
        "**7.Historical Event Timeline**\n",
        "Store a list of tuples containing dates and events to keep an unchangeable record.\n",
        "\n"
      ],
      "metadata": {
        "id": "VlFc0Ec6f2YB"
      }
    },
    {
      "cell_type": "code",
      "source": [
        "events = [\n",
        "    (\"1947-08-15\", \"India Independence\"),\n",
        "    (\"1969-07-20\", \"Moon Landing\"),\n",
        "]\n",
        "\n",
        "for date, event in events:\n",
        "    print(f\"{date}: {event}\")\n"
      ],
      "metadata": {
        "colab": {
          "base_uri": "https://localhost:8080/"
        },
        "id": "Kr-O4cKYkGi6",
        "outputId": "5137e70d-985b-4128-b40a-73d6fcf98564"
      },
      "execution_count": 12,
      "outputs": [
        {
          "output_type": "stream",
          "name": "stdout",
          "text": [
            "1947-08-15: India Independence\n",
            "1969-07-20: Moon Landing\n"
          ]
        }
      ]
    },
    {
      "cell_type": "markdown",
      "source": [
        "**8.User Roles or Permissions**\n",
        "Define access levels like (\"admin\", \"moderator\", \"user\") to refer to throughout the program without altering.\n",
        "\n"
      ],
      "metadata": {
        "id": "o3o0wPrgf4AL"
      }
    },
    {
      "cell_type": "code",
      "source": [
        "roles = (\"admin\", \"editor\", \"viewer\")\n",
        "\n",
        "if \"admin\" in roles:\n",
        "    print(\"Admin privileges granted.\")\n"
      ],
      "metadata": {
        "colab": {
          "base_uri": "https://localhost:8080/"
        },
        "id": "pg_OvqyjkLrk",
        "outputId": "766404fe-65a9-4bab-aa3d-1bf6ba0f9a63"
      },
      "execution_count": 13,
      "outputs": [
        {
          "output_type": "stream",
          "name": "stdout",
          "text": [
            "Admin privileges granted.\n"
          ]
        }
      ]
    },
    {
      "cell_type": "markdown",
      "source": [
        "**9.Quiz Questions**\n",
        "Each question can be stored as a tuple containing (question_text, correct_option) to ensure immutability.\n",
        "\n"
      ],
      "metadata": {
        "id": "K0FZaga1f5tZ"
      }
    },
    {
      "cell_type": "code",
      "source": [
        "question = (\"What is the capital of France?\", \"Paris\")\n",
        "print(f\"Q: {question[0]}\")\n",
        "print(f\"A: {question[1]}\")\n"
      ],
      "metadata": {
        "colab": {
          "base_uri": "https://localhost:8080/"
        },
        "id": "o0MzcIdIkPhR",
        "outputId": "93d6fe60-37c1-414f-e6d4-283ff214f63f"
      },
      "execution_count": 14,
      "outputs": [
        {
          "output_type": "stream",
          "name": "stdout",
          "text": [
            "Q: What is the capital of France?\n",
            "A: Paris\n"
          ]
        }
      ]
    },
    {
      "cell_type": "markdown",
      "source": [
        "**10.Shopping Cart Summary**\n",
        "Each cart item could be a tuple of (item_name, quantity, price) used for quick calculations and display."
      ],
      "metadata": {
        "id": "_LCJ4DXwf8HB"
      }
    },
    {
      "cell_type": "code",
      "source": [
        "cart_item = (\"Laptop\", 1, 75000)\n",
        "print(f\"Item: {cart_item[0]}, Quantity: {cart_item[1]}, Total: ₹{cart_item[1] * cart_item[2]}\")\n"
      ],
      "metadata": {
        "colab": {
          "base_uri": "https://localhost:8080/"
        },
        "id": "XvaHInowkRFS",
        "outputId": "8e4cdba2-520a-4fb6-dd7e-fef55de0f888"
      },
      "execution_count": 15,
      "outputs": [
        {
          "output_type": "stream",
          "name": "stdout",
          "text": [
            "Item: Laptop, Quantity: 1, Total: ₹75000\n"
          ]
        }
      ]
    }
  ]
}