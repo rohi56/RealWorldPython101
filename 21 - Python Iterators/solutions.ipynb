{
  "nbformat": 4,
  "nbformat_minor": 0,
  "metadata": {
    "colab": {
      "provenance": []
    },
    "kernelspec": {
      "name": "python3",
      "display_name": "Python 3"
    },
    "language_info": {
      "name": "python"
    }
  },
  "cells": [
    {
      "cell_type": "markdown",
      "source": [
        "**Real-Time Problem Statements Using Iterators**\n",
        "\n"
      ],
      "metadata": {
        "id": "cE3XX1tnQwQ9"
      }
    },
    {
      "cell_type": "markdown",
      "source": [
        "**1.Custom Pagination System**\n",
        "\n",
        "Use iterators to return a fixed number of records per page from a large dataset.\n",
        "\n"
      ],
      "metadata": {
        "id": "MSLOt7HEQ2fU"
      }
    },
    {
      "cell_type": "code",
      "source": [
        "class Paginator:\n",
        "    def __init__(self, items, page_size):\n",
        "        self.items = items\n",
        "        self.page_size = page_size\n",
        "        self.index = 0\n",
        "\n",
        "    def __iter__(self):\n",
        "        return self\n",
        "\n",
        "    def __next__(self):\n",
        "        if self.index >= len(self.items):\n",
        "            raise StopIteration\n",
        "        start = self.index\n",
        "        end = start + self.page_size\n",
        "        self.index = end\n",
        "        return self.items[start:end]\n",
        "\n",
        "data = list(range(1, 21))  # Sample dataset\n",
        "pager = Paginator(data, 5)\n",
        "\n",
        "for page in pager:\n",
        "    print(\"Page:\", page)\n"
      ],
      "metadata": {
        "colab": {
          "base_uri": "https://localhost:8080/"
        },
        "id": "jDRsqWKYRy7I",
        "outputId": "b7ec200e-a660-48c1-fa12-d8c7c41f9f62"
      },
      "execution_count": 5,
      "outputs": [
        {
          "output_type": "stream",
          "name": "stdout",
          "text": [
            "Page: [1, 2, 3, 4, 5]\n",
            "Page: [6, 7, 8, 9, 10]\n",
            "Page: [11, 12, 13, 14, 15]\n",
            "Page: [16, 17, 18, 19, 20]\n"
          ]
        }
      ]
    },
    {
      "cell_type": "markdown",
      "source": [
        "**2.File Reader Tool**\n",
        "\n",
        "Iterate over lines in a large log file one at a time to manage memory usage.\n",
        "\n"
      ],
      "metadata": {
        "id": "qkD_GDC_Q45r"
      }
    },
    {
      "cell_type": "code",
      "source": [
        "class FileLineReader:\n",
        "    def __init__(self, filepath):\n",
        "        self.file = open(filepath, 'r')\n",
        "\n",
        "    def __iter__(self):\n",
        "        return self\n",
        "\n",
        "    def __next__(self):\n",
        "        line = self.file.readline()\n",
        "        if not line:\n",
        "            self.file.close()\n",
        "            raise StopIteration\n",
        "        return line.strip()\n",
        "\n",
        "# Usage (assuming a file named 'log.txt')\n",
        "# for line in FileLineReader('log.txt'):\n",
        "#     print(\"Log:\", line)\n"
      ],
      "metadata": {
        "id": "tlSvKTxARuVY"
      },
      "execution_count": 4,
      "outputs": []
    },
    {
      "cell_type": "markdown",
      "source": [
        "**3.Streaming Data Processor**\n",
        "\n",
        "Process data from an API stream using a custom iterator class.\n",
        "\n"
      ],
      "metadata": {
        "id": "SaZ1BafEQ6Va"
      }
    },
    {
      "cell_type": "code",
      "source": [
        "import random\n",
        "\n",
        "class StreamingAPI:\n",
        "    def __init__(self, max_items):\n",
        "        self.count = 0\n",
        "        self.max_items = max_items\n",
        "\n",
        "    def __iter__(self):\n",
        "        return self\n",
        "\n",
        "    def __next__(self):\n",
        "        if self.count >= self.max_items:\n",
        "            raise StopIteration\n",
        "        self.count += 1\n",
        "        return {\"id\": self.count, \"value\": random.randint(100, 999)}\n",
        "\n",
        "stream = StreamingAPI(5)\n",
        "\n",
        "for item in stream:\n",
        "    print(\"Streamed:\", item)\n"
      ],
      "metadata": {
        "colab": {
          "base_uri": "https://localhost:8080/"
        },
        "id": "DMnrOZczRqL4",
        "outputId": "bca806e7-3de7-4748-fb0b-8265a1a0f165"
      },
      "execution_count": 3,
      "outputs": [
        {
          "output_type": "stream",
          "name": "stdout",
          "text": [
            "Streamed: {'id': 1, 'value': 338}\n",
            "Streamed: {'id': 2, 'value': 114}\n",
            "Streamed: {'id': 3, 'value': 701}\n",
            "Streamed: {'id': 4, 'value': 949}\n",
            "Streamed: {'id': 5, 'value': 918}\n"
          ]
        }
      ]
    },
    {
      "cell_type": "markdown",
      "source": [
        "**4.Batch Email Sender**\n",
        "\n",
        "Create an iterator to send emails in batches (e.g., 50 at a time).\n",
        "\n"
      ],
      "metadata": {
        "id": "TF80CBNZQ790"
      }
    },
    {
      "cell_type": "code",
      "source": [
        "class EmailBatcher:\n",
        "    def __init__(self, email_list, batch_size):\n",
        "        self.emails = email_list\n",
        "        self.batch_size = batch_size\n",
        "        self.index = 0\n",
        "\n",
        "    def __iter__(self):\n",
        "        return self\n",
        "\n",
        "    def __next__(self):\n",
        "        if self.index >= len(self.emails):\n",
        "            raise StopIteration\n",
        "        batch = self.emails[self.index:self.index + self.batch_size]\n",
        "        self.index += self.batch_size\n",
        "        return batch\n",
        "\n",
        "emails = [f\"user{i}@example.com\" for i in range(1, 151)]\n",
        "batch_sender = EmailBatcher(emails, 50)\n",
        "\n",
        "for batch in batch_sender:\n",
        "    print(\"Sending batch:\", batch)\n"
      ],
      "metadata": {
        "colab": {
          "base_uri": "https://localhost:8080/"
        },
        "id": "akpXrQhsRjvL",
        "outputId": "e31f024b-e759-415a-dee9-2858ba62fa04"
      },
      "execution_count": 2,
      "outputs": [
        {
          "output_type": "stream",
          "name": "stdout",
          "text": [
            "Sending batch: ['user1@example.com', 'user2@example.com', 'user3@example.com', 'user4@example.com', 'user5@example.com', 'user6@example.com', 'user7@example.com', 'user8@example.com', 'user9@example.com', 'user10@example.com', 'user11@example.com', 'user12@example.com', 'user13@example.com', 'user14@example.com', 'user15@example.com', 'user16@example.com', 'user17@example.com', 'user18@example.com', 'user19@example.com', 'user20@example.com', 'user21@example.com', 'user22@example.com', 'user23@example.com', 'user24@example.com', 'user25@example.com', 'user26@example.com', 'user27@example.com', 'user28@example.com', 'user29@example.com', 'user30@example.com', 'user31@example.com', 'user32@example.com', 'user33@example.com', 'user34@example.com', 'user35@example.com', 'user36@example.com', 'user37@example.com', 'user38@example.com', 'user39@example.com', 'user40@example.com', 'user41@example.com', 'user42@example.com', 'user43@example.com', 'user44@example.com', 'user45@example.com', 'user46@example.com', 'user47@example.com', 'user48@example.com', 'user49@example.com', 'user50@example.com']\n",
            "Sending batch: ['user51@example.com', 'user52@example.com', 'user53@example.com', 'user54@example.com', 'user55@example.com', 'user56@example.com', 'user57@example.com', 'user58@example.com', 'user59@example.com', 'user60@example.com', 'user61@example.com', 'user62@example.com', 'user63@example.com', 'user64@example.com', 'user65@example.com', 'user66@example.com', 'user67@example.com', 'user68@example.com', 'user69@example.com', 'user70@example.com', 'user71@example.com', 'user72@example.com', 'user73@example.com', 'user74@example.com', 'user75@example.com', 'user76@example.com', 'user77@example.com', 'user78@example.com', 'user79@example.com', 'user80@example.com', 'user81@example.com', 'user82@example.com', 'user83@example.com', 'user84@example.com', 'user85@example.com', 'user86@example.com', 'user87@example.com', 'user88@example.com', 'user89@example.com', 'user90@example.com', 'user91@example.com', 'user92@example.com', 'user93@example.com', 'user94@example.com', 'user95@example.com', 'user96@example.com', 'user97@example.com', 'user98@example.com', 'user99@example.com', 'user100@example.com']\n",
            "Sending batch: ['user101@example.com', 'user102@example.com', 'user103@example.com', 'user104@example.com', 'user105@example.com', 'user106@example.com', 'user107@example.com', 'user108@example.com', 'user109@example.com', 'user110@example.com', 'user111@example.com', 'user112@example.com', 'user113@example.com', 'user114@example.com', 'user115@example.com', 'user116@example.com', 'user117@example.com', 'user118@example.com', 'user119@example.com', 'user120@example.com', 'user121@example.com', 'user122@example.com', 'user123@example.com', 'user124@example.com', 'user125@example.com', 'user126@example.com', 'user127@example.com', 'user128@example.com', 'user129@example.com', 'user130@example.com', 'user131@example.com', 'user132@example.com', 'user133@example.com', 'user134@example.com', 'user135@example.com', 'user136@example.com', 'user137@example.com', 'user138@example.com', 'user139@example.com', 'user140@example.com', 'user141@example.com', 'user142@example.com', 'user143@example.com', 'user144@example.com', 'user145@example.com', 'user146@example.com', 'user147@example.com', 'user148@example.com', 'user149@example.com', 'user150@example.com']\n"
          ]
        }
      ]
    },
    {
      "cell_type": "markdown",
      "source": [
        "**5.Time Series Analyzer**\n",
        "\n",
        "Iterate through large time-stamped datasets for trend detection or analysis."
      ],
      "metadata": {
        "id": "udzcHjq-Q-DB"
      }
    },
    {
      "cell_type": "code",
      "source": [
        "class TimeSeriesIterator:\n",
        "    def __init__(self, data):\n",
        "        self.data = data\n",
        "        self.index = 0\n",
        "\n",
        "    def __iter__(self):\n",
        "        return self\n",
        "\n",
        "    def __next__(self):\n",
        "        if self.index >= len(self.data):\n",
        "            raise StopIteration\n",
        "        item = self.data[self.index]\n",
        "        self.index += 1\n",
        "        return item\n",
        "\n",
        "time_series = [\n",
        "    {\"timestamp\": \"2024-01-01\", \"value\": 101},\n",
        "    {\"timestamp\": \"2024-01-02\", \"value\": 104},\n",
        "    {\"timestamp\": \"2024-01-03\", \"value\": 99}\n",
        "]\n",
        "\n",
        "analyzer = TimeSeriesIterator(time_series)\n",
        "\n",
        "for point in analyzer:\n",
        "    print(\"Data Point:\", point)\n"
      ],
      "metadata": {
        "colab": {
          "base_uri": "https://localhost:8080/"
        },
        "id": "oVuijvalRZ9H",
        "outputId": "73fa6604-b4f5-4cfe-91ee-06a1de276183"
      },
      "execution_count": 1,
      "outputs": [
        {
          "output_type": "stream",
          "name": "stdout",
          "text": [
            "Data Point: {'timestamp': '2024-01-01', 'value': 101}\n",
            "Data Point: {'timestamp': '2024-01-02', 'value': 104}\n",
            "Data Point: {'timestamp': '2024-01-03', 'value': 99}\n"
          ]
        }
      ]
    }
  ]
}