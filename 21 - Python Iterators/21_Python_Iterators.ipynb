{
  "nbformat": 4,
  "nbformat_minor": 0,
  "metadata": {
    "colab": {
      "provenance": []
    },
    "kernelspec": {
      "name": "python3",
      "display_name": "Python 3"
    },
    "language_info": {
      "name": "python"
    }
  },
  "cells": [
    {
      "cell_type": "markdown",
      "source": [
        "**Python Iterators**"
      ],
      "metadata": {
        "id": "9okG1J_uM4GM"
      }
    },
    {
      "cell_type": "markdown",
      "source": [
        "**Python Iterators**\n",
        "Iterators are objects that can be iterated upon, meaning you can traverse through all the values. They implement the __iter__() and __next__() methods."
      ],
      "metadata": {
        "id": "IBKGyfIRM7HR"
      }
    },
    {
      "cell_type": "code",
      "source": [
        "my_tuple = (\"apple\", \"banana\", \"cherry\")\n",
        "my_iter = iter(my_tuple)\n",
        "\n",
        "print(next(my_iter))\n",
        "print(next(my_iter))\n",
        "print(next(my_iter))\n"
      ],
      "metadata": {
        "colab": {
          "base_uri": "https://localhost:8080/"
        },
        "id": "ZOU813owNNZA",
        "outputId": "19766a3b-5a3d-49f4-d43d-00c62cbf776d"
      },
      "execution_count": 1,
      "outputs": [
        {
          "output_type": "stream",
          "name": "stdout",
          "text": [
            "apple\n",
            "banana\n",
            "cherry\n"
          ]
        }
      ]
    },
    {
      "cell_type": "markdown",
      "source": [
        "**Iterator vs Iterable**\n",
        "\n",
        "* Iterable: Objects like lists, tuples, etc., that can return an iterator.\n",
        "\n",
        "* Iterator: An object with a __next__() method used to fetch data one element at a time."
      ],
      "metadata": {
        "id": "GZhkglwaM8dv"
      }
    },
    {
      "cell_type": "code",
      "source": [
        "# Iterable\n",
        "my_list = [1, 2, 3]\n",
        "for item in my_list:\n",
        "    print(item)\n",
        "\n",
        "# Iterator\n",
        "my_iter = iter(my_list)\n",
        "print(next(my_iter))  # 1\n"
      ],
      "metadata": {
        "colab": {
          "base_uri": "https://localhost:8080/"
        },
        "id": "W3wL4fhANP8r",
        "outputId": "61e4e586-829c-431f-b0ed-7624f9601dc6"
      },
      "execution_count": 2,
      "outputs": [
        {
          "output_type": "stream",
          "name": "stdout",
          "text": [
            "1\n",
            "2\n",
            "3\n",
            "1\n"
          ]
        }
      ]
    },
    {
      "cell_type": "markdown",
      "source": [
        "**Looping Through an Iterator**\n",
        "\n",
        "You can use a for loop or manually call next() to iterate through an iterator."
      ],
      "metadata": {
        "id": "QzfICwwUNCV2"
      }
    },
    {
      "cell_type": "code",
      "source": [
        "fruits = iter([\"apple\", \"banana\", \"cherry\"])\n",
        "for fruit in fruits:\n",
        "    print(fruit)\n"
      ],
      "metadata": {
        "colab": {
          "base_uri": "https://localhost:8080/"
        },
        "id": "2KfQQ6JGNXWl",
        "outputId": "81455c96-683b-41d0-e61c-64de5964300f"
      },
      "execution_count": 3,
      "outputs": [
        {
          "output_type": "stream",
          "name": "stdout",
          "text": [
            "apple\n",
            "banana\n",
            "cherry\n"
          ]
        }
      ]
    },
    {
      "cell_type": "markdown",
      "source": [
        "**Create an Iterator**\n",
        "\n",
        "You can define your own iterator by creating a class with __iter__() and __next__() methods."
      ],
      "metadata": {
        "id": "spfpCy4_NFeg"
      }
    },
    {
      "cell_type": "code",
      "source": [
        "class CountUpTo:\n",
        "    def __init__(self, max):\n",
        "        self.max = max\n",
        "        self.num = 1\n",
        "\n",
        "    def __iter__(self):\n",
        "        return self\n",
        "\n",
        "    def __next__(self):\n",
        "        if self.num <= self.max:\n",
        "            result = self.num\n",
        "            self.num += 1\n",
        "            return result\n",
        "        else:\n",
        "            raise StopIteration\n",
        "\n",
        "counter = CountUpTo(3)\n",
        "for number in counter:\n",
        "    print(number)\n"
      ],
      "metadata": {
        "colab": {
          "base_uri": "https://localhost:8080/"
        },
        "id": "7R96gpb4NZgh",
        "outputId": "1871eb9a-dce9-474a-cf98-39e89faaaf3d"
      },
      "execution_count": 4,
      "outputs": [
        {
          "output_type": "stream",
          "name": "stdout",
          "text": [
            "1\n",
            "2\n",
            "3\n"
          ]
        }
      ]
    },
    {
      "cell_type": "markdown",
      "source": [
        "**StopIteration**\n",
        "\n",
        "Raised automatically to signal the end of iteration when using custom iterators."
      ],
      "metadata": {
        "id": "ZbG1TxFuNIQ6"
      }
    },
    {
      "cell_type": "code",
      "source": [
        "my_iter = iter([1, 2])\n",
        "print(next(my_iter))  # 1\n",
        "print(next(my_iter))  # 2\n",
        "print(StopIteration(my_iter))  # Raises StopIteration\n"
      ],
      "metadata": {
        "colab": {
          "base_uri": "https://localhost:8080/"
        },
        "id": "ngWMMpMnNcpG",
        "outputId": "370e522c-adcb-4ed1-a919-de0dbccf45c8"
      },
      "execution_count": 6,
      "outputs": [
        {
          "output_type": "stream",
          "name": "stdout",
          "text": [
            "1\n",
            "2\n",
            "<list_iterator object at 0x7c9631cf4eb0>\n"
          ]
        }
      ]
    },
    {
      "cell_type": "markdown",
      "source": [
        "**Real-Time Problem Statements Using Iterators**\n",
        "\n",
        "**1.Custom Pagination System**\n",
        "Use iterators to return a fixed number of records per page from a large dataset.\n",
        "\n",
        "**2.File Reader Tool**\n",
        "\n",
        "Iterate over lines in a large log file one at a time to manage memory usage.\n",
        "\n",
        "**3.Streaming Data Processor**\n",
        "\n",
        "Process data from an API stream using a custom iterator class.\n",
        "\n",
        "**4.Batch Email Sender**\n",
        "\n",
        "Create an iterator to send emails in batches (e.g., 50 at a time).\n",
        "\n",
        "**5.Time Series Analyzer**\n",
        "\n",
        "Iterate through large time-stamped datasets for trend detection or analysis."
      ],
      "metadata": {
        "id": "BBLzOBJDP1sw"
      }
    }
  ]
}