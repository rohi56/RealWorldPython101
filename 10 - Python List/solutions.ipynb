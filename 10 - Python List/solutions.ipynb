{
  "nbformat": 4,
  "nbformat_minor": 0,
  "metadata": {
    "colab": {
      "provenance": []
    },
    "kernelspec": {
      "name": "python3",
      "display_name": "Python 3"
    },
    "language_info": {
      "name": "python"
    }
  },
  "cells": [
    {
      "cell_type": "markdown",
      "source": [
        "**Real-Time Problem Statements Solutions (Python Lists)**\n",
        "\n"
      ],
      "metadata": {
        "id": "4fSusu6Fs5i5"
      }
    },
    {
      "cell_type": "markdown",
      "source": [
        "**Real-Time Problem Statements (Python Lists)**\n",
        "\n",
        "**1.To-Do List App**\n",
        "\n",
        "Create a list to store tasks. Allow the user to add, remove, and view tasks.\n",
        "\n"
      ],
      "metadata": {
        "id": "jbL_X1k0s9gK"
      }
    },
    {
      "cell_type": "code",
      "source": [
        "to_do = []\n",
        "while True:\n",
        "  option = input(\"select the option you have to do (add/remove,view):\").lower()\n",
        "  if option == 'add':\n",
        "    to_do.append(input(\"add task: \"))\n",
        "  elif option == 'remove':\n",
        "    to_do.remove(input(\"remove task: \"))\n",
        "  elif option == 'view':\n",
        "    for i in range(len(to_do)):\n",
        "      print(f\"{i}::{to_do[i]}\")\n",
        "  else:\n",
        "    print(\"Invalid Option\")\n",
        "    break"
      ],
      "metadata": {
        "colab": {
          "base_uri": "https://localhost:8080/"
        },
        "id": "1ldBBJgVkjMn",
        "outputId": "9edddb71-e590-48d7-b16e-be95eb5030a3"
      },
      "execution_count": 40,
      "outputs": [
        {
          "output_type": "stream",
          "name": "stdout",
          "text": [
            "select the option you have to do (add/remove,view):add\n",
            "add task: gym\n",
            "select the option you have to do (add/remove,view):add\n",
            "add task: office\n",
            "select the option you have to do (add/remove,view):view\n",
            "0::gym\n",
            "1::office\n",
            "select the option you have to do (add/remove,view):\n",
            "Invalid Option\n"
          ]
        }
      ]
    },
    {
      "cell_type": "markdown",
      "source": [
        "**2.Grocery List Checker**\n",
        "\n",
        "Ask for an item and check if it exists in your shopping list.\n",
        "\n"
      ],
      "metadata": {
        "id": "tklarYT5s_xF"
      }
    },
    {
      "cell_type": "code",
      "source": [
        "shopping_list = [\"milk\", \"bread\", \"eggs\"]\n",
        "item = \"milk\"\n",
        "if item in shopping_list:\n",
        "    print(f\"{item} is on the list.\")\n"
      ],
      "metadata": {
        "colab": {
          "base_uri": "https://localhost:8080/"
        },
        "id": "pyqEdHGob-If",
        "outputId": "648ca0f5-097f-4328-e063-e37281463a6f"
      },
      "execution_count": 13,
      "outputs": [
        {
          "output_type": "stream",
          "name": "stdout",
          "text": [
            "milk is on the list.\n"
          ]
        }
      ]
    },
    {
      "cell_type": "markdown",
      "source": [
        "**3.Top 3 Scores**\n",
        "\n",
        "Store scores of a game, sort them in descending order, and print the top 3.\n",
        "\n"
      ],
      "metadata": {
        "id": "Kgn-p-T4tCM5"
      }
    },
    {
      "cell_type": "code",
      "source": [
        "game_score = [216,55,42,101,202,316]\n",
        "game_score.sort(reverse= True)\n",
        "print(game_score[:3])"
      ],
      "metadata": {
        "colab": {
          "base_uri": "https://localhost:8080/"
        },
        "id": "vj61yM6AcmSM",
        "outputId": "fe8a9204-c3b9-4197-dc62-fdbee9ca871a"
      },
      "execution_count": 23,
      "outputs": [
        {
          "output_type": "stream",
          "name": "stdout",
          "text": [
            "[316, 216, 202]\n"
          ]
        }
      ]
    },
    {
      "cell_type": "markdown",
      "source": [
        "**4.Guest List Manager**\n",
        "\n",
        "Add names of guests, remove someone who canceled, and insert a VIP at the top.\n",
        "\n"
      ],
      "metadata": {
        "id": "niPJXnRltFou"
      }
    },
    {
      "cell_type": "code",
      "source": [
        "guest=[\"Akshay\",\"Rohit\",\"Shubham\",\"Swapnil\",\"Shiva\"]\n",
        "guest.remove(\"Swapnil\")\n",
        "guest.insert(0, \"Shashil\")\n",
        "print(guest)"
      ],
      "metadata": {
        "colab": {
          "base_uri": "https://localhost:8080/"
        },
        "id": "QwsdhB3DeD4v",
        "outputId": "3d0b5d04-d26f-4caf-e61e-63ef748541c3"
      },
      "execution_count": 24,
      "outputs": [
        {
          "output_type": "stream",
          "name": "stdout",
          "text": [
            "['Shashil', 'Akshay', 'Rohit', 'Shubham', 'Shiva']\n"
          ]
        }
      ]
    },
    {
      "cell_type": "markdown",
      "source": [
        "**5.Movie Organizer**\n",
        "\n",
        "Store a list of favorite movies. Allow user to sort them alphabetically or reverse order.\n",
        "\n"
      ],
      "metadata": {
        "id": "NTc7gC6TtH2S"
      }
    },
    {
      "cell_type": "code",
      "source": [
        "movie = [\"spider-man\", \"hulk\", \"captain america\", \"thor\", \"iron-man\",\"doctor strange\"]\n",
        "movie.sort()\n",
        "print(movie)\n",
        "movie.reverse()\n",
        "print(movie)"
      ],
      "metadata": {
        "colab": {
          "base_uri": "https://localhost:8080/"
        },
        "id": "AjsOvBFHeq4u",
        "outputId": "c4d16871-d089-4c47-b08e-11b4fb3978bd"
      },
      "execution_count": 26,
      "outputs": [
        {
          "output_type": "stream",
          "name": "stdout",
          "text": [
            "['captain america', 'doctor strange', 'hulk', 'iron-man', 'spider-man', 'thor']\n",
            "['thor', 'spider-man', 'iron-man', 'hulk', 'doctor strange', 'captain america']\n"
          ]
        }
      ]
    },
    {
      "cell_type": "markdown",
      "source": [
        "**6.Even Number Extractor**\n",
        "\n",
        "From a list of numbers, create a new list of only even numbers using list comprehension.\n",
        "\n"
      ],
      "metadata": {
        "id": "XyGqTGpatJj7"
      }
    },
    {
      "cell_type": "code",
      "source": [
        "number = [12,15, 11,16,22,87,98,65,45,23,24,67,71,55]\n",
        "even_list = [i for i in number if i %2 == 0]\n",
        "print(even_list)"
      ],
      "metadata": {
        "colab": {
          "base_uri": "https://localhost:8080/"
        },
        "id": "OdVYxc-zfWje",
        "outputId": "387a0ff6-f453-4fe6-e4c1-bc29d65c1ec4"
      },
      "execution_count": 29,
      "outputs": [
        {
          "output_type": "stream",
          "name": "stdout",
          "text": [
            "[12, 16, 22, 98, 24]\n"
          ]
        }
      ]
    },
    {
      "cell_type": "markdown",
      "source": [
        "**7.Simple Survey Collector**\n",
        "\n",
        "Take multiple user inputs and store them in a list until the user types \"exit\".\n",
        "\n"
      ],
      "metadata": {
        "id": "81Yb9cOztLVW"
      }
    },
    {
      "cell_type": "code",
      "source": [
        "store =[]\n",
        "flag = 'yes'\n",
        "while flag == 'yes':\n",
        "  user_input=input(\"Enter your input: \")\n",
        "  store.append(user_input)\n",
        "  for i in range(len(store)):\n",
        "    print(f\"{i}::{store[i]}\")\n",
        "  flag = input(\"Do you want to continue(yes/exit):\")"
      ],
      "metadata": {
        "colab": {
          "base_uri": "https://localhost:8080/"
        },
        "id": "3YMSC45-gowV",
        "outputId": "6f2eacd9-f9f7-46cb-ee40-afd0c4154259"
      },
      "execution_count": 34,
      "outputs": [
        {
          "name": "stdout",
          "output_type": "stream",
          "text": [
            "Enter your input: rocky\n",
            "0::rocky\n",
            "Do you want to continue(yes/exit):yes\n",
            "Enter your input: anaconda\n",
            "0::rocky\n",
            "1::anaconda\n",
            "Do you want to continue(yes/exit):exit\n"
          ]
        }
      ]
    },
    {
      "cell_type": "markdown",
      "source": [
        "**8.Student Grades**\n",
        "\n",
        "Maintain a list of student scores. Print highest, lowest, and average score.\n",
        "\n"
      ],
      "metadata": {
        "id": "thYGm65HtNYb"
      }
    },
    {
      "cell_type": "code",
      "source": [
        "grades = [80, 90, 78, 85, 92]\n",
        "print(\"Highest:\", max(grades))\n",
        "print(\"Lowest:\", min(grades))\n",
        "print(\"Average:\", sum(grades)/len(grades))\n"
      ],
      "metadata": {
        "colab": {
          "base_uri": "https://localhost:8080/"
        },
        "id": "Z3OYMvDGi315",
        "outputId": "96290e4a-9887-4307-b045-1c7bc50cce82"
      },
      "execution_count": 36,
      "outputs": [
        {
          "output_type": "stream",
          "name": "stdout",
          "text": [
            "Highest: 92\n",
            "Lowest: 78\n",
            "Average: 85.0\n"
          ]
        }
      ]
    },
    {
      "cell_type": "markdown",
      "source": [
        "**9.Merge Contact Lists**\n",
        "\n",
        "Merge two lists of contacts from different sources without duplicates.\n",
        "\n"
      ],
      "metadata": {
        "id": "7OwHqsqdtQaU"
      }
    },
    {
      "cell_type": "code",
      "source": [
        "contacts_1 = [\"John\", \"Amy\"]\n",
        "contacts_2 = [\"Amy\", \"David\"]\n",
        "merged = list(set(contacts_1 + contacts_2))\n",
        "print(merged)\n"
      ],
      "metadata": {
        "colab": {
          "base_uri": "https://localhost:8080/"
        },
        "id": "I8tc6b0lj2SK",
        "outputId": "90ec6ab2-37d5-4ce6-de34-90d3838ef17f"
      },
      "execution_count": 37,
      "outputs": [
        {
          "output_type": "stream",
          "name": "stdout",
          "text": [
            "['Amy', 'David', 'John']\n"
          ]
        }
      ]
    },
    {
      "cell_type": "markdown",
      "source": [
        "**10.Dynamic Menu System**\n",
        "\n",
        "Create a menu-driven list app: Add, Delete, View, Clear options using a loop."
      ],
      "metadata": {
        "id": "Tp2iBoOQtTB0"
      }
    },
    {
      "cell_type": "code",
      "source": [
        "menu_list = []\n",
        "while True:\n",
        "    option = input(\"1-Add 2-Delete 3-View 4-Clear 5-Exit: \")\n",
        "    if option == \"1\":\n",
        "        menu_list.append(input(\"Add item: \"))\n",
        "    elif option == \"2\":\n",
        "        item = input(\"Delete item: \")\n",
        "        if item in menu_list:\n",
        "            menu_list.remove(item)\n",
        "    elif option == \"3\":\n",
        "        print(menu_list)\n",
        "    elif option == \"4\":\n",
        "        menu_list.clear()\n",
        "    elif option == \"5\":\n",
        "        break\n"
      ],
      "metadata": {
        "colab": {
          "base_uri": "https://localhost:8080/"
        },
        "id": "mKMvJ-gtj6Gd",
        "outputId": "88f88914-a1a9-43fc-d5a4-651a067f286f"
      },
      "execution_count": 41,
      "outputs": [
        {
          "name": "stdout",
          "output_type": "stream",
          "text": [
            "1-Add 2-Delete 3-View 4-Clear 5-Exit: 1\n",
            "Add item: chinese\n",
            "1-Add 2-Delete 3-View 4-Clear 5-Exit: 1\n",
            "Add item: thai\n",
            "1-Add 2-Delete 3-View 4-Clear 5-Exit: 2\n",
            "Delete item: thai\n",
            "1-Add 2-Delete 3-View 4-Clear 5-Exit: 3\n",
            "['chinese']\n",
            "1-Add 2-Delete 3-View 4-Clear 5-Exit: 5\n"
          ]
        }
      ]
    }
  ]
}