{
  "nbformat": 4,
  "nbformat_minor": 0,
  "metadata": {
    "colab": {
      "provenance": []
    },
    "kernelspec": {
      "name": "python3",
      "display_name": "Python 3"
    },
    "language_info": {
      "name": "python"
    }
  },
  "cells": [
    {
      "cell_type": "markdown",
      "source": [
        "**Python Lists**"
      ],
      "metadata": {
        "id": "H97fvkz7bsuc"
      }
    },
    {
      "cell_type": "markdown",
      "source": [
        "**List Items**\n",
        "\n",
        "Lists are used to store multiple values in a single variable. They are defined using square brackets. Each item in a list is separated by a comma."
      ],
      "metadata": {
        "id": "Bf74YrmObw9o"
      }
    },
    {
      "cell_type": "code",
      "source": [
        "my_list = [\"apple\", \"banana\", \"cherry\"]\n",
        "print(my_list)"
      ],
      "metadata": {
        "colab": {
          "base_uri": "https://localhost:8080/"
        },
        "id": "fS19PI0Ob3PH",
        "outputId": "e9e0c33b-eadd-42a4-ae91-6abb4c3d3446"
      },
      "execution_count": 1,
      "outputs": [
        {
          "output_type": "stream",
          "name": "stdout",
          "text": [
            "['apple', 'banana', 'cherry']\n"
          ]
        }
      ]
    },
    {
      "cell_type": "markdown",
      "source": [
        "**Ordered**\n",
        "\n",
        "Lists maintain the order of insertion. Each item has an index starting from 0. You can access items using these indexes."
      ],
      "metadata": {
        "id": "Oq7Gava2b6td"
      }
    },
    {
      "cell_type": "code",
      "source": [
        "my_list = [\"apple\", \"banana\", \"cherry\"]\n",
        "print(my_list[0])"
      ],
      "metadata": {
        "colab": {
          "base_uri": "https://localhost:8080/"
        },
        "id": "xLIRdajwb8UA",
        "outputId": "7752cf68-a4de-44a8-bbd2-7bdc1dd484af"
      },
      "execution_count": 2,
      "outputs": [
        {
          "output_type": "stream",
          "name": "stdout",
          "text": [
            "apple\n"
          ]
        }
      ]
    },
    {
      "cell_type": "markdown",
      "source": [
        "**Changeable**\n",
        "\n",
        "Lists are mutable, meaning their contents can be modified. You can change, add, or remove items in a list. This makes them very flexible."
      ],
      "metadata": {
        "id": "GaW4_HuIcAw-"
      }
    },
    {
      "cell_type": "code",
      "source": [
        "my_list = [\"apple\", \"banana\", \"cherry\"]\n",
        "my_list[1] = \"orange\"\n",
        "print(my_list)"
      ],
      "metadata": {
        "colab": {
          "base_uri": "https://localhost:8080/"
        },
        "id": "RR4xO0KHcDLb",
        "outputId": "f370f131-62b0-4e51-df47-abf85d5e7a3b"
      },
      "execution_count": 3,
      "outputs": [
        {
          "output_type": "stream",
          "name": "stdout",
          "text": [
            "['apple', 'orange', 'cherry']\n"
          ]
        }
      ]
    },
    {
      "cell_type": "markdown",
      "source": [
        "**Allow Duplicates**\n",
        "\n",
        "Lists allow duplicate values. This means the same value can appear multiple times in a list."
      ],
      "metadata": {
        "id": "PSYpahO_cF1L"
      }
    },
    {
      "cell_type": "code",
      "source": [
        "my_list = [\"apple\", \"banana\", \"apple\"]\n",
        "print(my_list)"
      ],
      "metadata": {
        "colab": {
          "base_uri": "https://localhost:8080/"
        },
        "id": "LNW7EMJfcI9z",
        "outputId": "389b4b98-0b0b-4ab3-cafc-ba034c050d94"
      },
      "execution_count": 4,
      "outputs": [
        {
          "output_type": "stream",
          "name": "stdout",
          "text": [
            "['apple', 'banana', 'apple']\n"
          ]
        }
      ]
    },
    {
      "cell_type": "markdown",
      "source": [
        "**List Length**\n",
        "\n",
        "You can get the number of items in a list using the len() function. This is useful for loops and data processing."
      ],
      "metadata": {
        "id": "xxl-7SxKcLlV"
      }
    },
    {
      "cell_type": "code",
      "source": [
        "my_list = [\"apple\", \"banana\", \"cherry\"]\n",
        "print(len(my_list))"
      ],
      "metadata": {
        "colab": {
          "base_uri": "https://localhost:8080/"
        },
        "id": "nqjZ-eaQcOA3",
        "outputId": "1ab44e31-0215-4513-f2c8-ae86fe98f361"
      },
      "execution_count": 5,
      "outputs": [
        {
          "output_type": "stream",
          "name": "stdout",
          "text": [
            "3\n"
          ]
        }
      ]
    },
    {
      "cell_type": "markdown",
      "source": [
        "**List Items - Data Types**\n",
        "\n",
        "Lists can hold items of any data type. You can even mix different data types in one list."
      ],
      "metadata": {
        "id": "s-7WLtE1cQ4t"
      }
    },
    {
      "cell_type": "code",
      "source": [
        "my_list = [\"apple\", 42, True, 3.14]\n",
        "print(my_list)"
      ],
      "metadata": {
        "colab": {
          "base_uri": "https://localhost:8080/"
        },
        "id": "VX6qSq1zcTiH",
        "outputId": "6c5565d3-8aba-4428-fb71-ba3b664dba9d"
      },
      "execution_count": 6,
      "outputs": [
        {
          "output_type": "stream",
          "name": "stdout",
          "text": [
            "['apple', 42, True, 3.14]\n"
          ]
        }
      ]
    },
    {
      "cell_type": "markdown",
      "source": [
        "**type()**\n",
        "\n",
        "The type() function tells you the data type of a variable. Lists are of type list."
      ],
      "metadata": {
        "id": "qLGwF8ZjcW2-"
      }
    },
    {
      "cell_type": "code",
      "source": [
        "my_list = [\"apple\", \"banana\"]\n",
        "print(type(my_list))"
      ],
      "metadata": {
        "colab": {
          "base_uri": "https://localhost:8080/"
        },
        "id": "GDXckQ7EcZMQ",
        "outputId": "f983fbf7-2cde-42e7-e615-54c8ad35567f"
      },
      "execution_count": 7,
      "outputs": [
        {
          "output_type": "stream",
          "name": "stdout",
          "text": [
            "<class 'list'>\n"
          ]
        }
      ]
    },
    {
      "cell_type": "markdown",
      "source": [
        "**The list() Constructor**\n",
        "\n",
        "You can use the list() constructor to create a list. This is especially useful for converting other data types to lists."
      ],
      "metadata": {
        "id": "uyUm6U08cblt"
      }
    },
    {
      "cell_type": "code",
      "source": [
        "my_list = list((\"apple\", \"banana\", \"cherry\"))\n",
        "print(my_list)"
      ],
      "metadata": {
        "colab": {
          "base_uri": "https://localhost:8080/"
        },
        "id": "7H63RbnecdHZ",
        "outputId": "8357f82a-6156-4334-cd00-507f543e8509"
      },
      "execution_count": 8,
      "outputs": [
        {
          "output_type": "stream",
          "name": "stdout",
          "text": [
            "['apple', 'banana', 'cherry']\n"
          ]
        }
      ]
    },
    {
      "cell_type": "markdown",
      "source": [
        "**Access Items**\n",
        "\n",
        "You can access list items using index numbers. Negative indexing starts from the end of the list."
      ],
      "metadata": {
        "id": "quD8ttkOcg0Z"
      }
    },
    {
      "cell_type": "code",
      "source": [
        "my_list = [\"apple\", \"banana\", \"cherry\"]\n",
        "print(my_list[1])\n",
        "print(my_list[-1])"
      ],
      "metadata": {
        "colab": {
          "base_uri": "https://localhost:8080/"
        },
        "id": "lB0vBkNkcivy",
        "outputId": "f63a9ff6-5133-4a10-ab16-c591317a2196"
      },
      "execution_count": 9,
      "outputs": [
        {
          "output_type": "stream",
          "name": "stdout",
          "text": [
            "banana\n",
            "cherry\n"
          ]
        }
      ]
    },
    {
      "cell_type": "markdown",
      "source": [
        "**Check if Item Exists**\n",
        "\n",
        "Use the in keyword to check if an item exists in a list. It returns True or False."
      ],
      "metadata": {
        "id": "O1aX9XJscmsQ"
      }
    },
    {
      "cell_type": "code",
      "source": [
        "my_list = [\"apple\", \"banana\"]\n",
        "print(\"banana\" in my_list)"
      ],
      "metadata": {
        "colab": {
          "base_uri": "https://localhost:8080/"
        },
        "id": "vYajYjxico3-",
        "outputId": "635315b4-39d6-46ab-bfad-012aaa5f7165"
      },
      "execution_count": 10,
      "outputs": [
        {
          "output_type": "stream",
          "name": "stdout",
          "text": [
            "True\n"
          ]
        }
      ]
    },
    {
      "cell_type": "markdown",
      "source": [
        "**Change Item Value**\n",
        "\n",
        "You can assign a new value to a specific index. This allows for updating items in the list."
      ],
      "metadata": {
        "id": "BLBibTeYcrpE"
      }
    },
    {
      "cell_type": "code",
      "source": [
        "my_list = [\"apple\", \"banana\"]\n",
        "my_list[0] = \"orange\"\n",
        "print(my_list)"
      ],
      "metadata": {
        "id": "nrNSOA-xcucl"
      },
      "execution_count": null,
      "outputs": []
    },
    {
      "cell_type": "markdown",
      "source": [
        "**Change a Range of Item Values**\n",
        "\n",
        "You can replace multiple values at once by assigning a new list to a range of indexes."
      ],
      "metadata": {
        "id": "jbFHc0P7cxYG"
      }
    },
    {
      "cell_type": "code",
      "source": [
        "my_list = [\"apple\", \"banana\", \"cherry\"]\n",
        "my_list[0:2] = [\"mango\", \"grapes\"]\n",
        "print(my_list)"
      ],
      "metadata": {
        "colab": {
          "base_uri": "https://localhost:8080/"
        },
        "id": "c-KCb30sc0kX",
        "outputId": "74f0c727-5de6-4a57-c293-07700fc53b0a"
      },
      "execution_count": 11,
      "outputs": [
        {
          "output_type": "stream",
          "name": "stdout",
          "text": [
            "['mango', 'grapes', 'cherry']\n"
          ]
        }
      ]
    },
    {
      "cell_type": "markdown",
      "source": [
        "**Insert Items**\n",
        "\n",
        "Use insert() to add an item at a specific index. Existing items will be shifted."
      ],
      "metadata": {
        "id": "lOGkzkiWc3IG"
      }
    },
    {
      "cell_type": "code",
      "source": [
        "my_list = [\"apple\", \"banana\"]\n",
        "my_list.insert(1, \"cherry\")\n",
        "print(my_list)"
      ],
      "metadata": {
        "colab": {
          "base_uri": "https://localhost:8080/"
        },
        "id": "-lfvrUVFc5jH",
        "outputId": "e208dcf2-86df-4e8a-fe08-89f39a55ebd8"
      },
      "execution_count": 12,
      "outputs": [
        {
          "output_type": "stream",
          "name": "stdout",
          "text": [
            "['apple', 'cherry', 'banana']\n"
          ]
        }
      ]
    },
    {
      "cell_type": "markdown",
      "source": [
        "**Append Items**\n",
        "\n",
        "Use append() to add an item at the end of the list. This is the most common way to grow a list."
      ],
      "metadata": {
        "id": "N4JfV8lTc7o9"
      }
    },
    {
      "cell_type": "code",
      "source": [
        "my_list = [\"apple\", \"banana\"]\n",
        "my_list.append(\"cherry\")\n",
        "print(my_list)"
      ],
      "metadata": {
        "colab": {
          "base_uri": "https://localhost:8080/"
        },
        "id": "4-8W89tEc99b",
        "outputId": "7ceccce2-2abb-4417-90b0-71e6f652a9bb"
      },
      "execution_count": 13,
      "outputs": [
        {
          "output_type": "stream",
          "name": "stdout",
          "text": [
            "['apple', 'banana', 'cherry']\n"
          ]
        }
      ]
    },
    {
      "cell_type": "markdown",
      "source": [
        "**Extend List**\n",
        "\n",
        "Use extend() to add elements from another list. It adds each element individually."
      ],
      "metadata": {
        "id": "fxETzH8zdANe"
      }
    },
    {
      "cell_type": "code",
      "source": [
        "list1 = [\"apple\", \"banana\"]\n",
        "list2 = [\"cherry\", \"mango\"]\n",
        "list1.extend(list2)\n",
        "print(list1)"
      ],
      "metadata": {
        "colab": {
          "base_uri": "https://localhost:8080/"
        },
        "id": "JwMAMY4ndCcx",
        "outputId": "c522d348-3ac1-4e04-fec0-f3d6ee15288e"
      },
      "execution_count": 14,
      "outputs": [
        {
          "output_type": "stream",
          "name": "stdout",
          "text": [
            "['apple', 'banana', 'cherry', 'mango']\n"
          ]
        }
      ]
    },
    {
      "cell_type": "markdown",
      "source": [
        "**Add Any Iterable**\n",
        "\n",
        "The extend() method can also add elements from any iterable, like a tuple."
      ],
      "metadata": {
        "id": "1XbirHfGdFdJ"
      }
    },
    {
      "cell_type": "code",
      "source": [
        "my_list = [\"apple\"]\n",
        "my_list.extend((\"banana\", \"cherry\"))\n",
        "print(my_list)"
      ],
      "metadata": {
        "colab": {
          "base_uri": "https://localhost:8080/"
        },
        "id": "D6q9wpPQdHaT",
        "outputId": "706d6a85-db0e-4cf0-f4a9-291646f3aac6"
      },
      "execution_count": 15,
      "outputs": [
        {
          "output_type": "stream",
          "name": "stdout",
          "text": [
            "['apple', 'banana', 'cherry']\n"
          ]
        }
      ]
    },
    {
      "cell_type": "markdown",
      "source": [
        "**Remove Specified Item**\n",
        "\n",
        "Use remove() to delete a specific item. If the item exists multiple times, only the first occurrence is removed."
      ],
      "metadata": {
        "id": "8rvDJraadJ5j"
      }
    },
    {
      "cell_type": "code",
      "source": [
        "my_list = [\"apple\", \"banana\", \"cherry\"]\n",
        "my_list.remove(\"banana\")\n",
        "print(my_list)"
      ],
      "metadata": {
        "colab": {
          "base_uri": "https://localhost:8080/"
        },
        "id": "SaEMgX7CdL8H",
        "outputId": "688c6e74-939f-46a4-ecc8-30ba675302dd"
      },
      "execution_count": 16,
      "outputs": [
        {
          "output_type": "stream",
          "name": "stdout",
          "text": [
            "['apple', 'cherry']\n"
          ]
        }
      ]
    },
    {
      "cell_type": "markdown",
      "source": [
        "**Remove Specified Index**\n",
        "\n",
        "Use pop() to remove an item by index, or del for general deletion. pop() also returns the removed item."
      ],
      "metadata": {
        "id": "auWv7p9idRVX"
      }
    },
    {
      "cell_type": "code",
      "source": [
        "my_list = [\"apple\", \"banana\", \"cherry\"]\n",
        "my_list.pop(1)\n",
        "print(my_list)\n",
        "\n",
        "# or\n",
        "\n",
        "del my_list[0]\n",
        "print(my_list)"
      ],
      "metadata": {
        "colab": {
          "base_uri": "https://localhost:8080/"
        },
        "id": "hbrVj45XdS5Y",
        "outputId": "959fe988-9db7-4aac-9d2f-1947c0b2a52a"
      },
      "execution_count": 17,
      "outputs": [
        {
          "output_type": "stream",
          "name": "stdout",
          "text": [
            "['apple', 'cherry']\n",
            "['cherry']\n"
          ]
        }
      ]
    },
    {
      "cell_type": "markdown",
      "source": [
        "**Clear the List**\n",
        "\n",
        "Use clear() to remove all items from the list. The list remains, but is empty."
      ],
      "metadata": {
        "id": "_bLtCQcjdYVg"
      }
    },
    {
      "cell_type": "code",
      "source": [
        "my_list = [\"apple\", \"banana\"]\n",
        "my_list.clear()\n",
        "print(my_list)"
      ],
      "metadata": {
        "colab": {
          "base_uri": "https://localhost:8080/"
        },
        "id": "nLkwD1Iadaej",
        "outputId": "49c03751-87b9-46df-d9f9-337bcde5df87"
      },
      "execution_count": 18,
      "outputs": [
        {
          "output_type": "stream",
          "name": "stdout",
          "text": [
            "[]\n"
          ]
        }
      ]
    },
    {
      "cell_type": "markdown",
      "source": [
        "**Loop Through a List**\n",
        "\n",
        "Use a for loop to access each item in the list. This is useful for processing items."
      ],
      "metadata": {
        "id": "zhnP785HddNn"
      }
    },
    {
      "cell_type": "code",
      "source": [
        "my_list = [\"apple\", \"banana\"]\n",
        "for item in my_list:\n",
        "    print(item)"
      ],
      "metadata": {
        "colab": {
          "base_uri": "https://localhost:8080/"
        },
        "id": "3SauneIudffI",
        "outputId": "faffdfcf-2fae-4c47-8001-287cd0d22568"
      },
      "execution_count": 19,
      "outputs": [
        {
          "output_type": "stream",
          "name": "stdout",
          "text": [
            "apple\n",
            "banana\n"
          ]
        }
      ]
    },
    {
      "cell_type": "markdown",
      "source": [
        "**Loop Through Index Numbers**\n",
        "\n",
        "Use range() and len() to loop through index numbers. This gives you more control."
      ],
      "metadata": {
        "id": "Y5Gmr0y1dh0B"
      }
    },
    {
      "cell_type": "code",
      "source": [
        "my_list = [\"apple\", \"banana\"]\n",
        "for i in range(len(my_list)):\n",
        "    print(my_list[i])"
      ],
      "metadata": {
        "colab": {
          "base_uri": "https://localhost:8080/"
        },
        "id": "m3fFJZF_dkuF",
        "outputId": "6126e0e7-7366-48cb-99dd-781b96f7e886"
      },
      "execution_count": 20,
      "outputs": [
        {
          "output_type": "stream",
          "name": "stdout",
          "text": [
            "apple\n",
            "banana\n"
          ]
        }
      ]
    },
    {
      "cell_type": "markdown",
      "source": [
        "**Using a While Loop**\n",
        "\n",
        "You can also use a while loop to iterate through list items. Control with a counter variable."
      ],
      "metadata": {
        "id": "TRFAMC6ldnBf"
      }
    },
    {
      "cell_type": "code",
      "source": [
        "my_list = [\"apple\", \"banana\"]\n",
        "i = 0\n",
        "while i < len(my_list):\n",
        "    print(my_list[i])\n",
        "    i += 1"
      ],
      "metadata": {
        "colab": {
          "base_uri": "https://localhost:8080/"
        },
        "id": "FhK0eUUJdpRb",
        "outputId": "629fbce7-8280-4a8e-e77e-0ff527f34979"
      },
      "execution_count": 21,
      "outputs": [
        {
          "output_type": "stream",
          "name": "stdout",
          "text": [
            "apple\n",
            "banana\n"
          ]
        }
      ]
    },
    {
      "cell_type": "markdown",
      "source": [
        "**Looping Using List Comprehension**\n",
        "\n",
        "List comprehension offers a shorter syntax for looping through a list. You can also add conditions."
      ],
      "metadata": {
        "id": "H-_R9KJXdrvK"
      }
    },
    {
      "cell_type": "code",
      "source": [
        "my_list = [\"apple\", \"banana\"]\n",
        "[print(item) for item in my_list]"
      ],
      "metadata": {
        "colab": {
          "base_uri": "https://localhost:8080/"
        },
        "id": "hYsm3qHqdwWH",
        "outputId": "ced6c94f-cae8-435f-c253-a383c50b73ad"
      },
      "execution_count": 22,
      "outputs": [
        {
          "output_type": "stream",
          "name": "stdout",
          "text": [
            "apple\n",
            "banana\n"
          ]
        },
        {
          "output_type": "execute_result",
          "data": {
            "text/plain": [
              "[None, None]"
            ]
          },
          "metadata": {},
          "execution_count": 22
        }
      ]
    },
    {
      "cell_type": "markdown",
      "source": [
        "**List Comprehension**\n",
        "\n",
        "List comprehension is a concise way to create lists. Use it to apply expressions and conditions"
      ],
      "metadata": {
        "id": "vdll2PLHd1OS"
      }
    },
    {
      "cell_type": "code",
      "source": [
        "fruits = [\"apple\", \"banana\", \"cherry\"]\n",
        "new_list = [fruit.upper() for fruit in fruits if \"a\" in fruit]\n",
        "print(new_list)"
      ],
      "metadata": {
        "colab": {
          "base_uri": "https://localhost:8080/"
        },
        "id": "-RVq_JnGd4_p",
        "outputId": "7018afa0-27a3-4466-83c8-c17c255fdf40"
      },
      "execution_count": 23,
      "outputs": [
        {
          "output_type": "stream",
          "name": "stdout",
          "text": [
            "['APPLE', 'BANANA']\n"
          ]
        }
      ]
    },
    {
      "cell_type": "markdown",
      "source": [
        "**Sort Lists**\n",
        "\n",
        "Use sort() to sort a list. You can sort alphabetically, reverse, or using a custom function."
      ],
      "metadata": {
        "id": "R8XaR24Rd9jm"
      }
    },
    {
      "cell_type": "code",
      "source": [
        "my_list = [\"banana\", \"apple\", \"cherry\"]\n",
        "my_list.sort()\n",
        "print(my_list)\n",
        "\n",
        "my_list.sort(reverse=True)\n",
        "print(my_list)\n",
        "\n",
        "my_list.sort(key=str.lower)\n",
        "print(my_list)"
      ],
      "metadata": {
        "colab": {
          "base_uri": "https://localhost:8080/"
        },
        "id": "-hIUaZtLeAZi",
        "outputId": "bcec7500-f03f-4c60-96d5-c5f2f44f8d10"
      },
      "execution_count": 24,
      "outputs": [
        {
          "output_type": "stream",
          "name": "stdout",
          "text": [
            "['apple', 'banana', 'cherry']\n",
            "['cherry', 'banana', 'apple']\n",
            "['apple', 'banana', 'cherry']\n"
          ]
        }
      ]
    },
    {
      "cell_type": "markdown",
      "source": [
        "**Copy Lists**\n",
        "\n",
        "Use copy(), list(), or slicing to copy a list. Avoid using =, which just creates a reference."
      ],
      "metadata": {
        "id": "2IZWyAK7eDSu"
      }
    },
    {
      "cell_type": "code",
      "source": [
        "original = [\"apple\", \"banana\"]\n",
        "copy1 = original.copy()\n",
        "copy2 = list(original)\n",
        "copy3 = original[:]\n",
        "print(copy1, copy2, copy3)"
      ],
      "metadata": {
        "colab": {
          "base_uri": "https://localhost:8080/"
        },
        "id": "j4DbBEZZeH9y",
        "outputId": "f520b52a-b809-4d9d-e3a0-f1e7b1969cb2"
      },
      "execution_count": 25,
      "outputs": [
        {
          "output_type": "stream",
          "name": "stdout",
          "text": [
            "['apple', 'banana'] ['apple', 'banana'] ['apple', 'banana']\n"
          ]
        }
      ]
    },
    {
      "cell_type": "markdown",
      "source": [
        "**Join Lists**\n",
        "\n",
        "Use + to join lists, or extend() to add one list to another. Both create a single combined list."
      ],
      "metadata": {
        "id": "ADd3NPfaeKcw"
      }
    },
    {
      "cell_type": "markdown",
      "source": [
        "**List Methods**\n",
        "\n",
        "Python provides many built-in methods like `append(), remove(), sort(),` etc. These make list manipulation easy.\n",
        "\n",
        "| Method         | Description                                               | Example                                 |\n",
        "|----------------|-----------------------------------------------------------|-----------------------------------------|\n",
        "| `append()`     | Adds an element at the end of the list                    | `my_list.append(10)`                    |\n",
        "| `extend()`     | Adds all elements of an iterable to the list              | `my_list.extend([11, 12])`              |\n",
        "| `insert()`     | Inserts an element at a specified position                | `my_list.insert(1, 5)`                  |\n",
        "| `remove()`     | Removes the first occurrence of the specified element     | `my_list.remove(10)`                    |\n",
        "| `pop()`        | Removes and returns element at specified index (last by default) | `my_list.pop()`                 |\n",
        "| `clear()`      | Removes all elements from the list                        | `my_list.clear()`                       |\n",
        "| `index()`      | Returns the index of the first element with the specified value | `my_list.index(5)`              |\n",
        "| `count()`      | Returns the number of elements with the specified value   | `my_list.count(10)`                     |\n",
        "| `sort()`       | Sorts the list in ascending order                         | `my_list.sort()`                        |\n",
        "| `reverse()`    | Reverses the elements of the list                         | `my_list.reverse()`                     |\n",
        "| `copy()`       | Returns a shallow copy of the list                        | `new_list = my_list.copy()`             |\n",
        "\n"
      ],
      "metadata": {
        "id": "JJleLn3uePsY"
      }
    },
    {
      "cell_type": "markdown",
      "source": [
        "**Real-Time Problem Statements (Python Lists)**\n",
        "\n",
        "**1.To-Do List App**\n",
        "\n",
        "Create a list to store tasks. Allow the user to add, remove, and view tasks.\n",
        "\n",
        "**2.Grocery List Checker**\n",
        "\n",
        "Ask for an item and check if it exists in your shopping list.\n",
        "\n",
        "**3.Top 3 Scores**\n",
        "\n",
        "Store scores of a game, sort them in descending order, and print the top 3.\n",
        "\n",
        "**4.Guest List Manager**\n",
        "\n",
        "Add names of guests, remove someone who canceled, and insert a VIP at the top.\n",
        "\n",
        "**5.Movie Organizer**\n",
        "\n",
        "Store a list of favorite movies. Allow user to sort them alphabetically or reverse order.\n",
        "\n",
        "**6.Even Number Extractor**\n",
        "\n",
        "From a list of numbers, create a new list of only even numbers using list comprehension.\n",
        "\n",
        "**7.Simple Survey Collector**\n",
        "\n",
        "Take multiple user inputs and store them in a list until the user types \"exit\".\n",
        "\n",
        "**8.Student Grades**\n",
        "\n",
        "Maintain a list of student scores. Print highest, lowest, and average score.\n",
        "\n",
        "**9.Merge Contact Lists**\n",
        "\n",
        "Merge two lists of contacts from different sources without duplicates.\n",
        "\n",
        "**10.Dynamic Menu System**\n",
        "\n",
        "Create a menu-driven list app: Add, Delete, View, Clear options using a loop."
      ],
      "metadata": {
        "id": "PrRy1xPnem6D"
      }
    }
  ]
}