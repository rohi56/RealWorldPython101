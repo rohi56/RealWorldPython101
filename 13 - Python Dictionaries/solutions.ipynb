{
  "nbformat": 4,
  "nbformat_minor": 0,
  "metadata": {
    "colab": {
      "provenance": []
    },
    "kernelspec": {
      "name": "python3",
      "display_name": "Python 3"
    },
    "language_info": {
      "name": "python"
    }
  },
  "cells": [
    {
      "cell_type": "markdown",
      "source": [
        "**Real-Time Problem Statements Solutions**\n",
        "\n"
      ],
      "metadata": {
        "id": "fvzE_99UuyWE"
      }
    },
    {
      "cell_type": "markdown",
      "source": [
        "**1.User Profile Manager**\n",
        "\n",
        "Store and update user info such as name, age, and email using dictionaries.\n",
        "\n"
      ],
      "metadata": {
        "id": "QwBK8LzXvBlB"
      }
    },
    {
      "cell_type": "code",
      "source": [
        "user_profile = {\"name\": \"Alice\", \"age\": 30, \"email\": \"alice@example.com\"}\n",
        "user_profile[\"age\"] = 31\n",
        "user_profile[\"email\"] = \"new_email@example.com\"\n"
      ],
      "metadata": {
        "id": "WtezGMkxvch_"
      },
      "execution_count": 1,
      "outputs": []
    },
    {
      "cell_type": "markdown",
      "source": [
        "**2.Login System**\n",
        "\n",
        "Store usernames and passwords (hashed) and check user credentials during login.\n",
        "\n"
      ],
      "metadata": {
        "id": "yjV7ZXoSvDak"
      }
    },
    {
      "cell_type": "code",
      "source": [
        "import hashlib\n",
        "\n",
        "def hash_password(password):\n",
        "    return hashlib.sha256(password.encode()).hexdigest()\n",
        "\n",
        "users = {\n",
        "    \"john_doe\": hash_password(\"pass123\"),\n",
        "    \"jane_doe\": hash_password(\"secure456\")\n",
        "}\n",
        "\n",
        "username = \"john_doe\"\n",
        "password = \"pass123\"\n",
        "\n",
        "if users.get(username) == hash_password(password):\n",
        "    print(\"Login successful\")\n",
        "else:\n",
        "    print(\"Invalid credentials\")\n"
      ],
      "metadata": {
        "colab": {
          "base_uri": "https://localhost:8080/"
        },
        "id": "cOyPpOusw3vc",
        "outputId": "be76ca3a-3474-4139-bb82-b3a69951ca31"
      },
      "execution_count": 2,
      "outputs": [
        {
          "output_type": "stream",
          "name": "stdout",
          "text": [
            "Login successful\n"
          ]
        }
      ]
    },
    {
      "cell_type": "markdown",
      "source": [
        "**3.Student Grades Record**\n",
        "\n",
        "Maintain a dictionary of student names and their corresponding marks.\n",
        "\n"
      ],
      "metadata": {
        "id": "VTXf8IWHvFKb"
      }
    },
    {
      "cell_type": "code",
      "source": [
        "grades = {\"Alice\": 85, \"Bob\": 90, \"Charlie\": 78}\n",
        "grades[\"Bob\"] = 92  # Update Bob's marks\n",
        "print(grades[\"Alice\"])  # Access Alice's marks\n"
      ],
      "metadata": {
        "colab": {
          "base_uri": "https://localhost:8080/"
        },
        "id": "Aut8zkflxAcy",
        "outputId": "2f9e01f5-7496-436f-e0d0-0e1ac8931b4e"
      },
      "execution_count": 3,
      "outputs": [
        {
          "output_type": "stream",
          "name": "stdout",
          "text": [
            "85\n"
          ]
        }
      ]
    },
    {
      "cell_type": "markdown",
      "source": [
        "**4.Inventory System**\n",
        "Track product names as keys and quantities as values in a store inventory.\n",
        "\n"
      ],
      "metadata": {
        "id": "ITcyOBQ4vHJN"
      }
    },
    {
      "cell_type": "code",
      "source": [
        "inventory = {\"apple\": 50, \"banana\": 30, \"orange\": 20}\n",
        "inventory[\"banana\"] -= 5  # Sold 5 bananas\n",
        "inventory[\"grape\"] = 15   # New item\n"
      ],
      "metadata": {
        "id": "ZodYOP4-xFBU"
      },
      "execution_count": 5,
      "outputs": []
    },
    {
      "cell_type": "markdown",
      "source": [
        "**5.Translation Dictionary**\n",
        "Map words from one language to another using key-value pairs.\n",
        "\n"
      ],
      "metadata": {
        "id": "KZUgJdrWvJR1"
      }
    },
    {
      "cell_type": "code",
      "source": [
        "translations = {\"hello\": \"bonjour\", \"thank you\": \"merci\", \"goodbye\": \"au revoir\"}\n",
        "print(translations[\"hello\"])  # Output: bonjour\n"
      ],
      "metadata": {
        "colab": {
          "base_uri": "https://localhost:8080/"
        },
        "id": "__BIZnmQxQlk",
        "outputId": "b4b91478-976b-4d96-bebe-742b0e38c7b1"
      },
      "execution_count": 6,
      "outputs": [
        {
          "output_type": "stream",
          "name": "stdout",
          "text": [
            "bonjour\n"
          ]
        }
      ]
    },
    {
      "cell_type": "markdown",
      "source": [
        "**6.API Response Parsing**\n",
        "\n",
        "Process JSON responses from an API using nested dictionaries.\n",
        "\n"
      ],
      "metadata": {
        "id": "bGOANV43vLp6"
      }
    },
    {
      "cell_type": "code",
      "source": [
        "api_response = {\n",
        "    \"status\": 200,\n",
        "    \"data\": {\n",
        "        \"user\": {\"id\": 1, \"name\": \"Alice\", \"email\": \"alice@example.com\"}\n",
        "    }\n",
        "}\n",
        "print(api_response[\"data\"][\"user\"][\"email\"])\n"
      ],
      "metadata": {
        "colab": {
          "base_uri": "https://localhost:8080/"
        },
        "id": "ANvNoF3axWyD",
        "outputId": "4f913790-e996-44b2-f6e6-13dd8fae450f"
      },
      "execution_count": 7,
      "outputs": [
        {
          "output_type": "stream",
          "name": "stdout",
          "text": [
            "alice@example.com\n"
          ]
        }
      ]
    },
    {
      "cell_type": "markdown",
      "source": [
        "**7.Poll Results Tracker**\n",
        "\n",
        "Count and update votes for each candidate in an election poll using dictionary values.\n",
        "\n"
      ],
      "metadata": {
        "id": "Q-KCg4hCvOQ2"
      }
    },
    {
      "cell_type": "code",
      "source": [
        "votes = {\"Alice\": 3, \"Bob\": 5}\n",
        "votes[\"Alice\"] += 1  # Alice gets a new vote\n",
        "votes\n"
      ],
      "metadata": {
        "colab": {
          "base_uri": "https://localhost:8080/"
        },
        "id": "m9aIvk2JxYLl",
        "outputId": "896306e7-7be2-40e9-d889-6039c951d3e3"
      },
      "execution_count": 9,
      "outputs": [
        {
          "output_type": "execute_result",
          "data": {
            "text/plain": [
              "{'Alice': 4, 'Bob': 5}"
            ]
          },
          "metadata": {},
          "execution_count": 9
        }
      ]
    },
    {
      "cell_type": "markdown",
      "source": [
        "**8.Book Catalog**\n",
        "\n",
        "Store details like title, author, price, and availability status.\n",
        "\n"
      ],
      "metadata": {
        "id": "FWiizJ2svQC2"
      }
    },
    {
      "cell_type": "code",
      "source": [
        "book = {\n",
        "    \"title\": \"Atomic Habits\",\n",
        "    \"author\": \"James Clear\",\n",
        "    \"price\": 450,\n",
        "    \"available\": True\n",
        "}\n",
        "book"
      ],
      "metadata": {
        "colab": {
          "base_uri": "https://localhost:8080/"
        },
        "id": "ewLoaX2Sxisd",
        "outputId": "08bbf072-0054-47a9-f0a2-0e8fd0543768"
      },
      "execution_count": 11,
      "outputs": [
        {
          "output_type": "execute_result",
          "data": {
            "text/plain": [
              "{'title': 'Atomic Habits',\n",
              " 'author': 'James Clear',\n",
              " 'price': 450,\n",
              " 'available': True}"
            ]
          },
          "metadata": {},
          "execution_count": 11
        }
      ]
    },
    {
      "cell_type": "markdown",
      "source": [
        "**9.E-Commerce Cart System**\n",
        "\n",
        "Manage items in a user's cart, mapping product IDs to quantity and price.\n",
        "\n"
      ],
      "metadata": {
        "id": "-vGoCw5fvR48"
      }
    },
    {
      "cell_type": "code",
      "source": [
        "cart = {\n",
        "    101: {\"quantity\": 2, \"price\": 499},\n",
        "    102: {\"quantity\": 1, \"price\": 999}\n",
        "}\n",
        "cart[101][\"quantity\"] += 1  # Add one more item with ID 101\n",
        "cart\n"
      ],
      "metadata": {
        "colab": {
          "base_uri": "https://localhost:8080/"
        },
        "id": "cF97U15lxmeM",
        "outputId": "f062ee84-a8b3-4ccf-ab6a-14b5a4b9430c"
      },
      "execution_count": 13,
      "outputs": [
        {
          "output_type": "execute_result",
          "data": {
            "text/plain": [
              "{101: {'quantity': 3, 'price': 499}, 102: {'quantity': 1, 'price': 999}}"
            ]
          },
          "metadata": {},
          "execution_count": 13
        }
      ]
    },
    {
      "cell_type": "markdown",
      "source": [
        "**10.Employee Directory**\n",
        "\n",
        "Store employee ID as key and details like name, role, and department as values."
      ],
      "metadata": {
        "id": "fPgI0e7WvTn5"
      }
    },
    {
      "cell_type": "code",
      "source": [
        "employees = {\n",
        "    1001: {\"name\": \"Rohit\", \"role\": \"Manager\", \"department\": \"Sales\"},\n",
        "    1002: {\"name\": \"Sneha\", \"role\": \"Developer\", \"department\": \"IT\"}\n",
        "}\n",
        "print(employees[1002][\"role\"])  # Output: Developer\n"
      ],
      "metadata": {
        "colab": {
          "base_uri": "https://localhost:8080/"
        },
        "id": "_WJ1KoVKxsvg",
        "outputId": "119e5145-00c6-4d6a-d119-3a11363f8b61"
      },
      "execution_count": 14,
      "outputs": [
        {
          "output_type": "stream",
          "name": "stdout",
          "text": [
            "Developer\n"
          ]
        }
      ]
    }
  ]
}