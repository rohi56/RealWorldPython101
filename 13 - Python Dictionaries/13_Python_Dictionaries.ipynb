{
  "nbformat": 4,
  "nbformat_minor": 0,
  "metadata": {
    "colab": {
      "provenance": []
    },
    "kernelspec": {
      "name": "python3",
      "display_name": "Python 3"
    },
    "language_info": {
      "name": "python"
    }
  },
  "cells": [
    {
      "cell_type": "markdown",
      "source": [
        "**Python Dictionaries**"
      ],
      "metadata": {
        "id": "TF01VcvNr8lw"
      }
    },
    {
      "cell_type": "markdown",
      "source": [
        "**Dictionary**\n",
        "\n",
        "A dictionary is a collection of key-value pairs. Keys must be unique and are used to access their associated values. Dictionaries are defined using curly braces."
      ],
      "metadata": {
        "id": "KJbetgkVsBsx"
      }
    },
    {
      "cell_type": "code",
      "source": [
        "person = {\"name\": \"Alice\", \"age\": 30}\n",
        "person"
      ],
      "metadata": {
        "colab": {
          "base_uri": "https://localhost:8080/"
        },
        "id": "gGQ5YetisFZr",
        "outputId": "f1c2e6af-f388-4f82-f895-6f274d93b0b2"
      },
      "execution_count": 1,
      "outputs": [
        {
          "output_type": "execute_result",
          "data": {
            "text/plain": [
              "{'name': 'Alice', 'age': 30}"
            ]
          },
          "metadata": {},
          "execution_count": 1
        }
      ]
    },
    {
      "cell_type": "markdown",
      "source": [
        "**Dictionary Items**\n",
        "\n",
        "Each item in a dictionary is a key-value pair. Keys are used to access their respective values."
      ],
      "metadata": {
        "id": "4e9K13IqsJqV"
      }
    },
    {
      "cell_type": "code",
      "source": [
        "print(person[\"name\"])  # Output: Alice\n"
      ],
      "metadata": {
        "colab": {
          "base_uri": "https://localhost:8080/"
        },
        "id": "RZhAtITfsOG2",
        "outputId": "67fe6757-7382-4fa9-a2d9-d574aa016a40"
      },
      "execution_count": 2,
      "outputs": [
        {
          "output_type": "stream",
          "name": "stdout",
          "text": [
            "Alice\n"
          ]
        }
      ]
    },
    {
      "cell_type": "markdown",
      "source": [
        "**Ordered or Unordered?**\n",
        "\n",
        "Dictionaries preserve insertion order from Python 3.7 onward."
      ],
      "metadata": {
        "id": "cbSM1fRlsRjb"
      }
    },
    {
      "cell_type": "markdown",
      "source": [
        "**4. Changeable**\n",
        "\n",
        "Dictionaries are mutable, so values can be updated."
      ],
      "metadata": {
        "id": "iNP_53B5sWC1"
      }
    },
    {
      "cell_type": "code",
      "source": [
        "person[\"age\"] = 35\n",
        "person"
      ],
      "metadata": {
        "colab": {
          "base_uri": "https://localhost:8080/"
        },
        "id": "GuzJ8VipsZF0",
        "outputId": "b3a0fb46-3ccb-4156-e7be-d3b5373a400f"
      },
      "execution_count": 3,
      "outputs": [
        {
          "output_type": "execute_result",
          "data": {
            "text/plain": [
              "{'name': 'Alice', 'age': 35}"
            ]
          },
          "metadata": {},
          "execution_count": 3
        }
      ]
    },
    {
      "cell_type": "markdown",
      "source": [
        "**Duplicates Not Allowed**\n",
        "\n",
        "Dictionary keys must be unique. Duplicate keys will overwrite previous values."
      ],
      "metadata": {
        "id": "gRlwYC8tsd04"
      }
    },
    {
      "cell_type": "markdown",
      "source": [
        "**Dictionary Length**\n",
        "\n",
        "Use len() to find how many key-value pairs are in the dictionary."
      ],
      "metadata": {
        "id": "F43Ka3WdshFg"
      }
    },
    {
      "cell_type": "code",
      "source": [
        "print(len(person))\n"
      ],
      "metadata": {
        "colab": {
          "base_uri": "https://localhost:8080/"
        },
        "id": "8IvNqHNZskzU",
        "outputId": "46c15cc2-33ad-4d8f-9e97-cff649a251ec"
      },
      "execution_count": 4,
      "outputs": [
        {
          "output_type": "stream",
          "name": "stdout",
          "text": [
            "2\n"
          ]
        }
      ]
    },
    {
      "cell_type": "markdown",
      "source": [
        "**Dictionary Items - Data Types**\n",
        "\n",
        "Dictionaries can contain values of any data type. You can also use the dict() constructor."
      ],
      "metadata": {
        "id": "iVnbdzonsomQ"
      }
    },
    {
      "cell_type": "code",
      "source": [
        "info = dict(name=\"John\", age=25)\n",
        "print(type(info))  # <class 'dict'>\n"
      ],
      "metadata": {
        "colab": {
          "base_uri": "https://localhost:8080/"
        },
        "id": "l-HXydDVsrY6",
        "outputId": "b4c2ef35-4b37-46f9-aa0e-76fe1be76ea8"
      },
      "execution_count": 5,
      "outputs": [
        {
          "output_type": "stream",
          "name": "stdout",
          "text": [
            "<class 'dict'>\n"
          ]
        }
      ]
    },
    {
      "cell_type": "markdown",
      "source": [
        "**Access Dictionary Items**\n",
        "\n",
        "You can access values using:\n",
        "\n",
        "* dict[key]\n",
        "\n",
        "* .get()\n",
        "\n",
        "* .keys(), .values(), .items()\n",
        "\n",
        "* in keyword to check key presence"
      ],
      "metadata": {
        "id": "tTyrnXpSsu7a"
      }
    },
    {
      "cell_type": "code",
      "source": [
        "print(person.get(\"name\"))\n",
        "print(\"name\" in person)\n"
      ],
      "metadata": {
        "colab": {
          "base_uri": "https://localhost:8080/"
        },
        "id": "lRI1fkRBs3fW",
        "outputId": "3120e346-a51f-4865-f4eb-2d58b0751b2a"
      },
      "execution_count": 6,
      "outputs": [
        {
          "output_type": "stream",
          "name": "stdout",
          "text": [
            "Alice\n",
            "True\n"
          ]
        }
      ]
    },
    {
      "cell_type": "markdown",
      "source": [
        "**Change Dictionary Items**\n",
        "\n",
        "Update values using direct assignment or .update()."
      ],
      "metadata": {
        "id": "e42EbcmDs8YP"
      }
    },
    {
      "cell_type": "code",
      "source": [
        "person[\"age\"] = 40\n",
        "person.update({\"email\": \"a@example.com\"})\n",
        "person"
      ],
      "metadata": {
        "colab": {
          "base_uri": "https://localhost:8080/"
        },
        "id": "nX3ByWHNtChM",
        "outputId": "0e082d61-ddc7-445e-e48a-83378aba1d57"
      },
      "execution_count": 14,
      "outputs": [
        {
          "output_type": "execute_result",
          "data": {
            "text/plain": [
              "{'name': 'Alice', 'email': 'a@example.com', 'age': 40}"
            ]
          },
          "metadata": {},
          "execution_count": 14
        }
      ]
    },
    {
      "cell_type": "markdown",
      "source": [
        "**Add Dictionary Items**\n",
        "\n",
        "Add new key-value pairs by assigning a value or using .update()."
      ],
      "metadata": {
        "id": "NDZzsYbXtG9Y"
      }
    },
    {
      "cell_type": "code",
      "source": [
        "person[\"city\"] = \"Pune\"\n",
        "person\n",
        "person.update({\"city\":\"Mumbai\"})\n",
        "person"
      ],
      "metadata": {
        "colab": {
          "base_uri": "https://localhost:8080/"
        },
        "id": "kFtpbc-6tKoa",
        "outputId": "6f34001a-a7e3-414b-d92f-a8f932bccd3e"
      },
      "execution_count": 15,
      "outputs": [
        {
          "output_type": "execute_result",
          "data": {
            "text/plain": [
              "{'name': 'Alice', 'email': 'a@example.com', 'age': 40, 'city': 'Mumbai'}"
            ]
          },
          "metadata": {},
          "execution_count": 15
        }
      ]
    },
    {
      "cell_type": "markdown",
      "source": [
        "**Remove Dictionary Items**\n",
        "\n",
        "You can remove items with `pop(), popitem(), del, or clear().`"
      ],
      "metadata": {
        "id": "WL3Q0ti2tki0"
      }
    },
    {
      "cell_type": "code",
      "source": [
        "person.pop(\"age\")\n",
        "del person[\"city\"]\n",
        "person\n"
      ],
      "metadata": {
        "colab": {
          "base_uri": "https://localhost:8080/"
        },
        "id": "q5GhZjuXtpfx",
        "outputId": "f4e45f03-5145-4235-c9e3-8004ecea74bf"
      },
      "execution_count": 16,
      "outputs": [
        {
          "output_type": "execute_result",
          "data": {
            "text/plain": [
              "{'name': 'Alice', 'email': 'a@example.com'}"
            ]
          },
          "metadata": {},
          "execution_count": 16
        }
      ]
    },
    {
      "cell_type": "markdown",
      "source": [
        "**Loop Dictionaries**\n",
        "\n",
        "You can loop through .keys(), .values(), or .items()."
      ],
      "metadata": {
        "id": "bUF4DTXVtyVd"
      }
    },
    {
      "cell_type": "code",
      "source": [
        "for key, value in person.items():\n",
        "    print(key, value)\n"
      ],
      "metadata": {
        "colab": {
          "base_uri": "https://localhost:8080/"
        },
        "id": "QaS0aqLot1El",
        "outputId": "d8200ffd-a798-40ab-b72c-de0822cb25fb"
      },
      "execution_count": 17,
      "outputs": [
        {
          "output_type": "stream",
          "name": "stdout",
          "text": [
            "name Alice\n",
            "email a@example.com\n"
          ]
        }
      ]
    },
    {
      "cell_type": "markdown",
      "source": [
        "**Copy Dictionaries**\n",
        "\n",
        "Use .copy() or dict() to make a copy."
      ],
      "metadata": {
        "id": "7qZ50LcLt358"
      }
    },
    {
      "cell_type": "code",
      "source": [
        "copy_person = person.copy()\n",
        "copy_person"
      ],
      "metadata": {
        "colab": {
          "base_uri": "https://localhost:8080/"
        },
        "id": "3J7lkU6Ct6uz",
        "outputId": "9ed09f3a-e774-4088-e5a2-ba48a4c06ef5"
      },
      "execution_count": 18,
      "outputs": [
        {
          "output_type": "execute_result",
          "data": {
            "text/plain": [
              "{'name': 'Alice', 'email': 'a@example.com'}"
            ]
          },
          "metadata": {},
          "execution_count": 18
        }
      ]
    },
    {
      "cell_type": "markdown",
      "source": [
        "**Nested Dictionaries**\n",
        "\n",
        "A dictionary can contain other dictionaries."
      ],
      "metadata": {
        "id": "-ZIA4AH5uAYH"
      }
    },
    {
      "cell_type": "code",
      "source": [
        "family = {\n",
        "    \"child1\": {\"name\": \"Max\", \"age\": 5},\n",
        "    \"child2\": {\"name\": \"Lily\", \"age\": 7}\n",
        "}\n",
        "print(family[\"child1\"][\"name\"])\n"
      ],
      "metadata": {
        "colab": {
          "base_uri": "https://localhost:8080/"
        },
        "id": "fiCb0veeuC_V",
        "outputId": "42ac75ac-c417-421b-ae5a-3b8aa49ab4e2"
      },
      "execution_count": 19,
      "outputs": [
        {
          "output_type": "stream",
          "name": "stdout",
          "text": [
            "Max\n"
          ]
        }
      ]
    },
    {
      "cell_type": "markdown",
      "source": [
        "**Dictionary Methods**\n",
        "\n",
        "| Method         | Description                                              | Example                          |\n",
        "| -------------- | -------------------------------------------------------- | -------------------------------- |\n",
        "| `clear()`      | Removes all elements from the dictionary                 | `user.clear()`                   |\n",
        "| `copy()`       | Returns a shallow copy                                   | `user.copy()`                    |\n",
        "| `fromkeys()`   | Returns a new dictionary with given keys and a set value | `dict.fromkeys([\"a\", \"b\"], 0)`   |\n",
        "| `get()`        | Returns value for specified key                          | `user.get(\"name\")`               |\n",
        "| `items()`      | Returns a list of key-value pairs as tuples              | `user.items()`                   |\n",
        "| `keys()`       | Returns all keys                                         | `user.keys()`                    |\n",
        "| `pop()`        | Removes specified key and returns value                  | `user.pop(\"age\")`                |\n",
        "| `popitem()`    | Removes the last inserted key-value pair                 | `user.popitem()`                 |\n",
        "| `setdefault()` | Returns key value, inserts with default if not found     | `user.setdefault(\"lang\", \"en\")`  |\n",
        "| `update()`     | Updates dictionary with elements from another dictionary | `user.update({\"city\": \"Delhi\"})` |\n",
        "| `values()`     | Returns all values                                       | `user.values()`                  |\n"
      ],
      "metadata": {
        "id": "POtcUFbquGLg"
      }
    },
    {
      "cell_type": "markdown",
      "source": [
        "**Real-Time Problem Statements**\n",
        "\n",
        "**1.User Profile Manager**\n",
        "\n",
        "Store and update user info such as name, age, and email using dictionaries.\n",
        "\n",
        "**2.Login System**\n",
        "\n",
        "Store usernames and passwords (hashed) and check user credentials during login.\n",
        "\n",
        "**3.Student Grades Record**\n",
        "\n",
        "Maintain a dictionary of student names and their corresponding marks.\n",
        "\n",
        "**4.Inventory System**\n",
        "Track product names as keys and quantities as values in a store inventory.\n",
        "\n",
        "**5.Translation Dictionary**\n",
        "Map words from one language to another using key-value pairs.\n",
        "\n",
        "**6.API Response Parsing**\n",
        "\n",
        "Process JSON responses from an API using nested dictionaries.\n",
        "\n",
        "**7.Poll Results Tracker**\n",
        "\n",
        "Count and update votes for each candidate in an election poll using dictionary values.\n",
        "\n",
        "**8.Book Catalog**\n",
        "\n",
        "Store details like title, author, price, and availability status.\n",
        "\n",
        "**9.E-Commerce Cart System**\n",
        "\n",
        "Manage items in a user's cart, mapping product IDs to quantity and price.\n",
        "\n",
        "**10.Employee Directory**\n",
        "\n",
        "Store employee ID as key and details like name, role, and department as values."
      ],
      "metadata": {
        "id": "QtldjSz9uOfY"
      }
    }
  ]
}